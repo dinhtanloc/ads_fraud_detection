{
 "cells": [
  {
   "cell_type": "markdown",
   "metadata": {},
   "source": [
    "## Tabnet"
   ]
  },
  {
   "cell_type": "markdown",
   "metadata": {},
   "source": [
    "#### F1 Loss"
   ]
  },
  {
   "cell_type": "code",
   "execution_count": null,
   "metadata": {},
   "outputs": [],
   "source": [
    "%run \"C:\\Users\\Admin\\Data\\ads_fraud_detection\\src\\prj1\\5.deep_learning_model\\5.synthetic_gan\\Tabnet\\tabnet_f1.ipynb\""
   ]
  },
  {
   "cell_type": "code",
   "execution_count": null,
   "metadata": {},
   "outputs": [],
   "source": [
    "%run \"C:\\Users\\Admin\\Data\\ads_fraud_detection\\src\\prj1\\5.deep_learning_model\\5.synthetic_gan\\Tabnet\\tabnet_class_weight_f1.ipynb\""
   ]
  },
  {
   "cell_type": "markdown",
   "metadata": {},
   "source": [
    "#### Focal Loss"
   ]
  },
  {
   "cell_type": "code",
   "execution_count": null,
   "metadata": {},
   "outputs": [],
   "source": [
    "%run \"C:\\Users\\Admin\\Data\\ads_fraud_detection\\src\\prj1\\5.deep_learning_model\\5.synthetic_gan\\Tabnet\\tabnet_focal.ipynb\""
   ]
  },
  {
   "cell_type": "code",
   "execution_count": null,
   "metadata": {},
   "outputs": [],
   "source": [
    "%run \"C:\\Users\\Admin\\Data\\ads_fraud_detection\\src\\prj1\\5.deep_learning_model\\5.synthetic_gan\\Tabnet\\tabnet_class_weight_focal.ipynb\""
   ]
  },
  {
   "cell_type": "markdown",
   "metadata": {},
   "source": [
    "#### Dice Loss"
   ]
  },
  {
   "cell_type": "code",
   "execution_count": null,
   "metadata": {},
   "outputs": [],
   "source": [
    "%run \"C:\\Users\\Admin\\Data\\ads_fraud_detection\\src\\prj1\\5.deep_learning_model\\5.synthetic_gan\\Tabnet\\tabnet_dice.ipynb\""
   ]
  },
  {
   "cell_type": "code",
   "execution_count": null,
   "metadata": {},
   "outputs": [],
   "source": [
    "%run \"C:\\Users\\Admin\\Data\\ads_fraud_detection\\src\\prj1\\5.deep_learning_model\\5.synthetic_gan\\Tabnet\\tabnet_class_weight_dice.ipynb\""
   ]
  },
  {
   "cell_type": "markdown",
   "metadata": {},
   "source": [
    "#### F1 Loss"
   ]
  },
  {
   "cell_type": "code",
   "execution_count": null,
   "metadata": {},
   "outputs": [],
   "source": [
    "%run \"C:\\Users\\Admin\\Data\\ads_fraud_detection\\src\\prj1\\5.deep_learning_model\\5.synthetic_gan\\Tabnet\\tabnet_f1.ipynb\""
   ]
  },
  {
   "cell_type": "code",
   "execution_count": null,
   "metadata": {},
   "outputs": [],
   "source": [
    "%run \"C:\\Users\\Admin\\Data\\ads_fraud_detection\\src\\prj1\\5.deep_learning_model\\5.synthetic_gan\\Tabnet\\tabnet_class_weight_f1.ipynb\""
   ]
  },
  {
   "cell_type": "markdown",
   "metadata": {},
   "source": [
    "#### Focal Loss"
   ]
  },
  {
   "cell_type": "code",
   "execution_count": null,
   "metadata": {},
   "outputs": [],
   "source": [
    "%run \"C:\\Users\\Admin\\Data\\ads_fraud_detection\\src\\prj1\\5.deep_learning_model\\5.synthetic_gan\\Tabnet\\tabnet_focal.ipynb\""
   ]
  },
  {
   "cell_type": "code",
   "execution_count": null,
   "metadata": {},
   "outputs": [],
   "source": [
    "%run \"C:\\Users\\Admin\\Data\\ads_fraud_detection\\src\\prj1\\5.deep_learning_model\\5.synthetic_gan\\Tabnet\\tabnet_class_weight_focal.ipynb\""
   ]
  },
  {
   "cell_type": "markdown",
   "metadata": {},
   "source": [
    "#### Dice Loss"
   ]
  },
  {
   "cell_type": "code",
   "execution_count": null,
   "metadata": {},
   "outputs": [],
   "source": [
    "%run \"C:\\Users\\Admin\\Data\\ads_fraud_detection\\src\\prj1\\5.deep_learning_model\\5.synthetic_gan\\Tabnet\\tabnet_dice.ipynb\""
   ]
  },
  {
   "cell_type": "code",
   "execution_count": null,
   "metadata": {},
   "outputs": [],
   "source": [
    "%run \"C:\\Users\\Admin\\Data\\ads_fraud_detection\\src\\prj1\\5.deep_learning_model\\5.synthetic_gan\\Tabnet\\tabnet_class_weight_dice.ipynb\""
   ]
  },
  {
   "cell_type": "markdown",
   "metadata": {},
   "source": [
    "## Model2\n"
   ]
  },
  {
   "cell_type": "markdown",
   "metadata": {},
   "source": [
    "#### F1 Loss"
   ]
  },
  {
   "cell_type": "code",
   "execution_count": null,
   "metadata": {},
   "outputs": [],
   "source": [
    "%run \"C:\\Users\\Admin\\Data\\ads_fraud_detection\\src\\prj1\\5.deep_learning_model\\5.synthetic_gan\\VGG16\\vgg16_f1.ipynb\""
   ]
  },
  {
   "cell_type": "code",
   "execution_count": null,
   "metadata": {},
   "outputs": [],
   "source": [
    "%run \"C:\\Users\\Admin\\Data\\ads_fraud_detection\\src\\prj1\\5.deep_learning_model\\5.synthetic_gan\\VGG16\\vgg16_class_weight_f1.ipynb\""
   ]
  },
  {
   "cell_type": "markdown",
   "metadata": {},
   "source": [
    "#### Focal Loss"
   ]
  },
  {
   "cell_type": "code",
   "execution_count": null,
   "metadata": {},
   "outputs": [],
   "source": [
    "%run \"C:\\Users\\Admin\\Data\\ads_fraud_detection\\src\\prj1\\5.deep_learning_model\\5.synthetic_gan\\VGG16\\vgg16_focal.ipynb\""
   ]
  },
  {
   "cell_type": "code",
   "execution_count": null,
   "metadata": {},
   "outputs": [],
   "source": [
    "%run \"C:\\Users\\Admin\\Data\\ads_fraud_detection\\src\\prj1\\5.deep_learning_model\\5.synthetic_gan\\VGG16\\vgg16_class_weight_focal.ipynb\""
   ]
  },
  {
   "cell_type": "markdown",
   "metadata": {},
   "source": [
    "#### Dice Loss"
   ]
  },
  {
   "cell_type": "code",
   "execution_count": null,
   "metadata": {},
   "outputs": [],
   "source": [
    "%run \"C:\\Users\\Admin\\Data\\ads_fraud_detection\\src\\prj1\\5.deep_learning_model\\5.synthetic_gan\\VGG16\\vgg16_dice.ipynb\""
   ]
  },
  {
   "cell_type": "code",
   "execution_count": null,
   "metadata": {},
   "outputs": [],
   "source": [
    "%run \"C:\\Users\\Admin\\Data\\ads_fraud_detection\\src\\prj1\\5.deep_learning_model\\5.synthetic_gan\\VGG16\\vgg16_class_weight_dice.ipynb\""
   ]
  }
 ],
 "metadata": {
  "language_info": {
   "name": "python"
  }
 },
 "nbformat": 4,
 "nbformat_minor": 2
}
