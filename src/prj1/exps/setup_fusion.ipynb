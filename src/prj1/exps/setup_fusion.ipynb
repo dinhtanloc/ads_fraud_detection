{
 "cells": [
  {
   "cell_type": "markdown",
   "metadata": {},
   "source": [
    "#### Early fusion"
   ]
  },
  {
   "cell_type": "code",
   "execution_count": null,
   "metadata": {},
   "outputs": [],
   "source": [
    "%run \"C:\\Users\\PC\\Data\\ads_fraud_detection\\src\\prj1\\6.fusion_ensemble\\2.early_fusion\\base.ipynb\""
   ]
  },
  {
   "cell_type": "code",
   "execution_count": null,
   "metadata": {},
   "outputs": [],
   "source": [
    "%run \"C:\\Users\\PC\\Data\\ads_fraud_detection\\src\\prj1\\6.fusion_ensemble\\2.early_fusion\\base_classweight.ipynb\""
   ]
  },
  {
   "cell_type": "code",
   "execution_count": null,
   "metadata": {},
   "outputs": [],
   "source": [
    "%run \"C:\\Users\\PC\\Data\\ads_fraud_detection\\src\\prj1\\6.fusion_ensemble\\2.early_fusion\\base_f1.ipynb\""
   ]
  },
  {
   "cell_type": "code",
   "execution_count": null,
   "metadata": {},
   "outputs": [],
   "source": [
    "%run \"C:\\Users\\PC\\Data\\ads_fraud_detection\\src\\prj1\\6.fusion_ensemble\\2.early_fusion\\base_classweight_f1.ipynb\""
   ]
  },
  {
   "cell_type": "code",
   "execution_count": null,
   "metadata": {},
   "outputs": [],
   "source": [
    "%run \"C:\\Users\\PC\\Data\\ads_fraud_detection\\src\\prj1\\6.fusion_ensemble\\2.early_fusion\\base_focal.ipynb\""
   ]
  },
  {
   "cell_type": "code",
   "execution_count": null,
   "metadata": {},
   "outputs": [],
   "source": [
    "%run \"C:\\Users\\PC\\Data\\ads_fraud_detection\\src\\prj1\\6.fusion_ensemble\\2.early_fusion\\base_classweight_focal.ipynb\""
   ]
  },
  {
   "cell_type": "code",
   "execution_count": null,
   "metadata": {},
   "outputs": [],
   "source": [
    "%run \"C:\\Users\\PC\\Data\\ads_fraud_detection\\src\\prj1\\6.fusion_ensemble\\2.early_fusion\\base_dice.ipynb\""
   ]
  },
  {
   "cell_type": "code",
   "execution_count": null,
   "metadata": {},
   "outputs": [],
   "source": [
    "%run \"C:\\Users\\PC\\Data\\ads_fraud_detection\\src\\prj1\\6.fusion_ensemble\\2.early_fusion\\base_classweight_dice.ipynb\""
   ]
  },
  {
   "cell_type": "markdown",
   "metadata": {},
   "source": [
    "#### Late Fusion"
   ]
  },
  {
   "cell_type": "code",
   "execution_count": null,
   "metadata": {},
   "outputs": [],
   "source": [
    "%run \"C:\\Users\\PC\\Data\\ads_fraud_detection\\src\\prj1\\6.fusion_ensemble\\3.late_fusion\\base.ipynb\""
   ]
  },
  {
   "cell_type": "code",
   "execution_count": null,
   "metadata": {},
   "outputs": [],
   "source": [
    "%run \"C:\\Users\\PC\\Data\\ads_fraud_detection\\src\\prj1\\6.fusion_ensemble\\3.late_fusion\\base_classweight.ipynb\""
   ]
  },
  {
   "cell_type": "code",
   "execution_count": null,
   "metadata": {},
   "outputs": [],
   "source": [
    "%run \"C:\\Users\\PC\\Data\\ads_fraud_detection\\src\\prj1\\6.fusion_ensemble\\3.late_fusion\\base_f1.ipynb\""
   ]
  },
  {
   "cell_type": "code",
   "execution_count": null,
   "metadata": {},
   "outputs": [],
   "source": [
    "%run \"C:\\Users\\PC\\Data\\ads_fraud_detection\\src\\prj1\\6.fusion_ensemble\\3.late_fusion\\base_classweight_f1.ipynb\""
   ]
  },
  {
   "cell_type": "code",
   "execution_count": null,
   "metadata": {},
   "outputs": [],
   "source": [
    "%run \"C:\\Users\\PC\\Data\\ads_fraud_detection\\src\\prj1\\6.fusion_ensemble\\3.late_fusion\\base_focal.ipynb\""
   ]
  },
  {
   "cell_type": "code",
   "execution_count": null,
   "metadata": {},
   "outputs": [],
   "source": [
    "%run \"C:\\Users\\PC\\Data\\ads_fraud_detection\\src\\prj1\\6.fusion_ensemble\\3.late_fusion\\base_classweight_focal.ipynb\""
   ]
  },
  {
   "cell_type": "code",
   "execution_count": null,
   "metadata": {},
   "outputs": [],
   "source": [
    "%run \"C:\\Users\\PC\\Data\\ads_fraud_detection\\src\\prj1\\6.fusion_ensemble\\3.late_fusion\\base_dice.ipynb\""
   ]
  },
  {
   "cell_type": "code",
   "execution_count": null,
   "metadata": {},
   "outputs": [],
   "source": [
    "%run \"C:\\Users\\PC\\Data\\ads_fraud_detection\\src\\prj1\\6.fusion_ensemble\\3.late_fusion\\base_classweight_dice.ipynb\""
   ]
  },
  {
   "cell_type": "markdown",
   "metadata": {},
   "source": [
    "#### Joint-Late Fusion"
   ]
  },
  {
   "cell_type": "code",
   "execution_count": null,
   "metadata": {},
   "outputs": [],
   "source": [
    "%run \"C:\\Users\\PC\\Data\\ads_fraud_detection\\src\\prj1\\6.fusion_ensemble\\4.joint_late_fusion\\base.ipynb\""
   ]
  },
  {
   "cell_type": "code",
   "execution_count": null,
   "metadata": {},
   "outputs": [],
   "source": [
    "%run \"C:\\Users\\PC\\Data\\ads_fraud_detection\\src\\prj1\\6.fusion_ensemble\\4.joint_late_fusion\\base_classweight.ipynb\""
   ]
  },
  {
   "cell_type": "code",
   "execution_count": null,
   "metadata": {},
   "outputs": [],
   "source": [
    "%run \"C:\\Users\\PC\\Data\\ads_fraud_detection\\src\\prj1\\6.fusion_ensemble\\4.joint_late_fusion\\base_f1.ipynb\""
   ]
  },
  {
   "cell_type": "code",
   "execution_count": null,
   "metadata": {},
   "outputs": [],
   "source": [
    "%run \"C:\\Users\\PC\\Data\\ads_fraud_detection\\src\\prj1\\6.fusion_ensemble\\4.joint_late_fusion\\base_classweight_f1.ipynb\""
   ]
  },
  {
   "cell_type": "code",
   "execution_count": null,
   "metadata": {},
   "outputs": [],
   "source": [
    "%run \"C:\\Users\\PC\\Data\\ads_fraud_detection\\src\\prj1\\6.fusion_ensemble\\4.joint_late_fusion\\base_focal.ipynb\""
   ]
  },
  {
   "cell_type": "code",
   "execution_count": null,
   "metadata": {},
   "outputs": [],
   "source": [
    "%run \"C:\\Users\\PC\\Data\\ads_fraud_detection\\src\\prj1\\6.fusion_ensemble\\4.joint_late_fusion\\base_classweight_focal.ipynb\""
   ]
  },
  {
   "cell_type": "code",
   "execution_count": null,
   "metadata": {},
   "outputs": [],
   "source": [
    "%run \"C:\\Users\\PC\\Data\\ads_fraud_detection\\src\\prj1\\6.fusion_ensemble\\4.joint_late_fusion\\base_dice.ipynb\""
   ]
  },
  {
   "cell_type": "code",
   "execution_count": null,
   "metadata": {},
   "outputs": [],
   "source": [
    "%run \"C:\\Users\\PC\\Data\\ads_fraud_detection\\src\\prj1\\6.fusion_ensemble\\4.joint_late_fusion\\base_classweight_dice.ipynb\""
   ]
  },
  {
   "cell_type": "markdown",
   "metadata": {},
   "source": [
    "#### Attention Fusion"
   ]
  },
  {
   "cell_type": "code",
   "execution_count": null,
   "metadata": {},
   "outputs": [],
   "source": [
    "%run \"C:\\Users\\PC\\Data\\ads_fraud_detection\\src\\prj1\\6.fusion_ensemble\\5.attention_fusion\\base.ipynb\""
   ]
  },
  {
   "cell_type": "code",
   "execution_count": null,
   "metadata": {},
   "outputs": [],
   "source": [
    "%run \"C:\\Users\\PC\\Data\\ads_fraud_detection\\src\\prj1\\6.fusion_ensemble\\5.attention_fusion\\base_classweight.ipynb\""
   ]
  },
  {
   "cell_type": "code",
   "execution_count": null,
   "metadata": {},
   "outputs": [],
   "source": [
    "%run \"C:\\Users\\PC\\Data\\ads_fraud_detection\\src\\prj1\\6.fusion_ensemble\\5.attention_fusion\\base_f1.ipynb\""
   ]
  },
  {
   "cell_type": "code",
   "execution_count": null,
   "metadata": {},
   "outputs": [],
   "source": [
    "%run \"C:\\Users\\PC\\Data\\ads_fraud_detection\\src\\prj1\\6.fusion_ensemble\\5.attention_fusion\\base_classweight_f1.ipynb\""
   ]
  },
  {
   "cell_type": "code",
   "execution_count": null,
   "metadata": {},
   "outputs": [],
   "source": [
    "%run \"C:\\Users\\PC\\Data\\ads_fraud_detection\\src\\prj1\\6.fusion_ensemble\\5.attention_fusion\\base_focal.ipynb\""
   ]
  },
  {
   "cell_type": "code",
   "execution_count": null,
   "metadata": {},
   "outputs": [],
   "source": [
    "%run \"C:\\Users\\PC\\Data\\ads_fraud_detection\\src\\prj1\\6.fusion_ensemble\\5.attention_fusion\\base_classweight_focal.ipynb\""
   ]
  },
  {
   "cell_type": "code",
   "execution_count": null,
   "metadata": {},
   "outputs": [],
   "source": [
    "%run \"C:\\Users\\PC\\Data\\ads_fraud_detection\\src\\prj1\\6.fusion_ensemble\\5.attention_fusion\\base_dice.ipynb\""
   ]
  },
  {
   "cell_type": "code",
   "execution_count": null,
   "metadata": {},
   "outputs": [],
   "source": [
    "%run \"C:\\Users\\PC\\Data\\ads_fraud_detection\\src\\prj1\\6.fusion_ensemble\\5.attention_fusion\\base_classweight_dice.ipynb\""
   ]
  }
 ],
 "metadata": {
  "language_info": {
   "name": "python"
  }
 },
 "nbformat": 4,
 "nbformat_minor": 2
}
