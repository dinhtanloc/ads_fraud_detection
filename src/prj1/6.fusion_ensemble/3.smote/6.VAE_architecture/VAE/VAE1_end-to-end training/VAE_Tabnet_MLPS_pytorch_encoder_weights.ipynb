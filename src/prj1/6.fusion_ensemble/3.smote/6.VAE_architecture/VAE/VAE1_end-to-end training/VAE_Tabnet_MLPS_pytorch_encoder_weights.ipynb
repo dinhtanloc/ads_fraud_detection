{
 "cells": [
  {
   "cell_type": "code",
   "execution_count": 1,
   "metadata": {},
   "outputs": [
    {
     "name": "stdout",
     "output_type": "stream",
     "text": [
      "True\n",
      "0\n",
      "NVIDIA GeForce RTX 4060 Ti\n"
     ]
    }
   ],
   "source": [
    "import torch\n",
    "print(torch.cuda.is_available())  \n",
    "print(torch.cuda.current_device())  \n",
    "print(torch.cuda.get_device_name(torch.cuda.current_device())) "
   ]
  },
  {
   "cell_type": "code",
   "execution_count": 2,
   "metadata": {},
   "outputs": [
    {
     "name": "stdout",
     "output_type": "stream",
     "text": [
      "CUDA is available. Using GPU.\n"
     ]
    }
   ],
   "source": [
    "if torch.cuda.is_available():\n",
    "    device = torch.device(\"cuda\")\n",
    "    print(\"CUDA is available. Using GPU.\")\n",
    "else:\n",
    "    device = torch.device(\"cpu\")\n",
    "    print(\"CUDA is not available. Using CPU.\")"
   ]
  },
  {
   "cell_type": "code",
   "execution_count": 3,
   "metadata": {},
   "outputs": [],
   "source": [
    "import torch\n",
    "import torch.nn as nn\n",
    "import torch.nn.functional as F\n",
    "import torch\n",
    "import torch.nn as nn\n",
    "import torch.optim as optim\n",
    "import torch.nn.functional as F\n",
    "from pytorch_tabnet.pretraining import TabNetPretrainer\n",
    "import torch\n",
    "import pandas as pd\n",
    "from sklearn.model_selection import train_test_split\n",
    "from sklearn.preprocessing import StandardScaler, MinMaxScaler\n",
    "\n",
    "import numpy as np\n"
   ]
  },
  {
   "cell_type": "code",
   "execution_count": null,
   "metadata": {},
   "outputs": [],
   "source": []
  },
  {
   "cell_type": "code",
   "execution_count": 4,
   "metadata": {},
   "outputs": [
    {
     "name": "stdout",
     "output_type": "stream",
     "text": [
      "torch.Size([700, 42]) torch.Size([700]) torch.Size([300, 42]) torch.Size([300])\n"
     ]
    }
   ],
   "source": [
    "df_train = pd.DataFrame(np.random.rand(700, 42), columns=[f\"feature_{i}\" for i in range(42)])\n",
    "df_test = pd.DataFrame(np.random.rand(300, 42), columns=[f\"feature_{i}\" for i in range(42)])\n",
    "\n",
    "y_train = (np.random.rand(700) > 0.5).astype(np.float32)\n",
    "y_test = (np.random.rand(300) > 0.5).astype(np.float32)\n",
    "\n",
    "\n",
    "scaler = MinMaxScaler()\n",
    "X_train = scaler.fit_transform(df_train.values)\n",
    "X_test = scaler.transform(df_test.values)\n",
    "\n",
    "# y_train = y_train.values.astype(np.float32)\n",
    "# y_test = y_test.values.astype(np.float32)\n",
    "X_train = torch.tensor(X_train, dtype=torch.float32)\n",
    "y_train = torch.tensor(y_train, dtype=torch.float32)\n",
    "X_test = torch.tensor(X_test, dtype=torch.float32)\n",
    "y_test = torch.tensor(y_test, dtype=torch.float32)\n",
    "print(X_train.shape, y_train.shape, X_test.shape, y_test.shape)\n"
   ]
  },
  {
   "cell_type": "code",
   "execution_count": 5,
   "metadata": {},
   "outputs": [
    {
     "data": {
      "text/plain": [
       "tensor([0., 1., 1., 0., 0., 0., 1., 0., 0., 1., 0., 0., 1., 1., 1., 0., 1., 0.,\n",
       "        0., 1., 1., 0., 0., 0., 1., 0., 1., 0., 1., 1., 0., 1., 0., 1., 0., 0.,\n",
       "        0., 1., 0., 1., 0., 1., 1., 0., 0., 0., 0., 0., 1., 1., 0., 1., 0., 1.,\n",
       "        0., 1., 0., 1., 0., 1., 0., 0., 0., 0., 0., 0., 0., 1., 1., 1., 0., 0.,\n",
       "        0., 1., 1., 1., 1., 0., 1., 0., 0., 0., 1., 1., 1., 0., 1., 0., 1., 0.,\n",
       "        0., 1., 1., 1., 0., 0., 1., 0., 0., 0., 1., 0., 1., 0., 1., 1., 1., 1.,\n",
       "        1., 0., 0., 0., 0., 1., 0., 1., 0., 0., 1., 1., 0., 1., 0., 0., 1., 1.,\n",
       "        1., 1., 0., 0., 1., 1., 0., 1., 0., 0., 0., 1., 1., 1., 0., 0., 1., 1.,\n",
       "        0., 1., 0., 1., 0., 0., 1., 0., 1., 0., 1., 0., 0., 0., 1., 1., 0., 0.,\n",
       "        0., 0., 0., 1., 1., 1., 0., 0., 1., 1., 0., 1., 1., 0., 1., 0., 1., 1.,\n",
       "        0., 0., 0., 0., 1., 0., 1., 1., 0., 1., 0., 0., 0., 0., 0., 0., 0., 1.,\n",
       "        1., 0., 0., 0., 1., 1., 0., 1., 1., 1., 1., 0., 1., 1., 0., 0., 0., 0.,\n",
       "        0., 1., 0., 0., 0., 0., 0., 1., 0., 0., 1., 0., 1., 0., 1., 0., 0., 0.,\n",
       "        1., 0., 0., 1., 0., 0., 0., 0., 1., 0., 1., 1., 1., 0., 1., 1., 0., 1.,\n",
       "        1., 0., 1., 1., 1., 0., 1., 1., 1., 1., 0., 0., 0., 0., 1., 0., 1., 0.,\n",
       "        0., 0., 1., 1., 1., 0., 1., 0., 1., 0., 1., 1., 0., 1., 0., 1., 0., 1.,\n",
       "        0., 1., 0., 0., 0., 0., 0., 0., 0., 1., 0., 1., 1., 1., 0., 1., 0., 1.,\n",
       "        1., 0., 1., 0., 0., 1., 0., 1., 0., 1., 1., 1., 0., 0., 0., 1., 1., 0.,\n",
       "        0., 1., 0., 1., 0., 1., 0., 0., 1., 0., 1., 1., 1., 0., 1., 0., 0., 0.,\n",
       "        0., 0., 0., 1., 1., 1., 1., 0., 0., 0., 0., 0., 1., 0., 1., 0., 1., 1.,\n",
       "        1., 0., 1., 0., 1., 1., 0., 1., 1., 0., 0., 1., 0., 0., 0., 0., 0., 0.,\n",
       "        0., 1., 0., 1., 0., 1., 1., 1., 1., 1., 0., 0., 1., 0., 0., 0., 0., 0.,\n",
       "        1., 0., 0., 1., 1., 0., 1., 1., 0., 0., 0., 0., 0., 1., 1., 1., 0., 0.,\n",
       "        1., 0., 1., 1., 1., 1., 0., 1., 1., 0., 0., 0., 1., 0., 1., 0., 1., 1.,\n",
       "        1., 0., 0., 1., 0., 0., 0., 0., 1., 0., 1., 1., 0., 0., 0., 0., 1., 1.,\n",
       "        0., 1., 0., 1., 0., 0., 0., 1., 1., 1., 0., 1., 0., 0., 1., 1., 1., 0.,\n",
       "        0., 1., 0., 1., 0., 0., 0., 0., 1., 1., 1., 0., 0., 1., 1., 0., 0., 0.,\n",
       "        0., 0., 0., 0., 0., 0., 0., 0., 0., 0., 0., 1., 0., 0., 1., 1., 0., 0.,\n",
       "        0., 0., 1., 1., 1., 1., 0., 0., 0., 0., 1., 0., 1., 0., 0., 1., 0., 1.,\n",
       "        1., 0., 0., 0., 0., 0., 0., 1., 0., 1., 1., 1., 1., 0., 1., 1., 0., 1.,\n",
       "        1., 1., 1., 0., 1., 1., 1., 1., 0., 0., 1., 0., 0., 1., 0., 1., 1., 0.,\n",
       "        1., 1., 0., 0., 0., 0., 0., 1., 0., 0., 0., 0., 0., 1., 0., 0., 1., 1.,\n",
       "        1., 1., 1., 1., 1., 0., 1., 1., 1., 0., 1., 1., 0., 1., 1., 0., 0., 1.,\n",
       "        0., 1., 0., 0., 0., 1., 0., 1., 1., 0., 0., 0., 1., 0., 1., 0., 0., 1.,\n",
       "        0., 0., 1., 0., 0., 1., 1., 1., 0., 1., 1., 0., 1., 0., 1., 1., 0., 1.,\n",
       "        1., 1., 0., 0., 0., 1., 1., 1., 0., 0., 1., 0., 1., 1., 1., 0., 1., 0.,\n",
       "        0., 1., 1., 1., 1., 1., 1., 0., 0., 1., 0., 1., 0., 1., 0., 0., 0., 1.,\n",
       "        0., 0., 1., 1., 0., 1., 1., 0., 1., 0., 0., 0., 1., 1., 1., 1., 1., 0.,\n",
       "        1., 1., 1., 0., 1., 0., 0., 0., 0., 1., 1., 1., 1., 0., 0., 0.])"
      ]
     },
     "execution_count": 5,
     "metadata": {},
     "output_type": "execute_result"
    }
   ],
   "source": [
    "y_train"
   ]
  },
  {
   "cell_type": "code",
   "execution_count": 6,
   "metadata": {},
   "outputs": [],
   "source": [
    "from torch.utils.data import TensorDataset, DataLoader\n",
    "train_dataset = TensorDataset(X_train, y_train)\n",
    "test_dataset = TensorDataset(X_test, y_test)\n",
    "\n",
    "train_loader = DataLoader(train_dataset, batch_size=32, shuffle=True)\n",
    "test_loader = DataLoader(test_dataset, batch_size=32, shuffle=True)"
   ]
  },
  {
   "cell_type": "code",
   "execution_count": 7,
   "metadata": {},
   "outputs": [
    {
     "name": "stderr",
     "output_type": "stream",
     "text": [
      "c:\\ProgramData\\miniconda3\\envs\\pytorch_gpu\\lib\\site-packages\\pytorch_tabnet\\abstract_model.py:82: UserWarning: Device used : cuda\n",
      "  warnings.warn(f\"Device used : {self.device}\")\n"
     ]
    },
    {
     "name": "stdout",
     "output_type": "stream",
     "text": [
      "epoch 0  | loss: 64.1612 | val_0_unsup_loss_numpy: 9.325160026550293|  0:00:00s\n",
      "epoch 1  | loss: 41.10667| val_0_unsup_loss_numpy: 7.9453301429748535|  0:00:00s\n",
      "epoch 2  | loss: 31.009  | val_0_unsup_loss_numpy: 7.1497697830200195|  0:00:00s\n",
      "epoch 3  | loss: 23.7442 | val_0_unsup_loss_numpy: 5.790090084075928|  0:00:00s\n",
      "epoch 4  | loss: 18.06178| val_0_unsup_loss_numpy: 5.00786018371582|  0:00:00s\n",
      "epoch 5  | loss: 14.68712| val_0_unsup_loss_numpy: 3.7318100929260254|  0:00:00s\n",
      "epoch 6  | loss: 11.68176| val_0_unsup_loss_numpy: 3.9103100299835205|  0:00:00s\n",
      "epoch 7  | loss: 9.34684 | val_0_unsup_loss_numpy: 2.9967100620269775|  0:00:00s\n",
      "epoch 8  | loss: 7.58907 | val_0_unsup_loss_numpy: 2.839669942855835|  0:00:00s\n",
      "epoch 9  | loss: 6.18262 | val_0_unsup_loss_numpy: 2.5061099529266357|  0:00:00s\n",
      "epoch 10 | loss: 4.96568 | val_0_unsup_loss_numpy: 2.347790002822876|  0:00:00s\n",
      "epoch 11 | loss: 4.16995 | val_0_unsup_loss_numpy: 2.1099700927734375|  0:00:00s\n",
      "epoch 12 | loss: 3.41381 | val_0_unsup_loss_numpy: 1.7470099925994873|  0:00:00s\n",
      "epoch 13 | loss: 2.8496  | val_0_unsup_loss_numpy: 1.455530047416687|  0:00:00s\n",
      "epoch 14 | loss: 2.42853 | val_0_unsup_loss_numpy: 1.2002300024032593|  0:00:00s\n",
      "epoch 15 | loss: 2.06583 | val_0_unsup_loss_numpy: 1.2411999702453613|  0:00:00s\n",
      "epoch 16 | loss: 1.83927 | val_0_unsup_loss_numpy: 1.2791099548339844|  0:00:01s\n",
      "epoch 17 | loss: 1.69558 | val_0_unsup_loss_numpy: 1.2095400094985962|  0:00:01s\n",
      "epoch 18 | loss: 1.55676 | val_0_unsup_loss_numpy: 1.1688400506973267|  0:00:01s\n",
      "epoch 19 | loss: 1.48255 | val_0_unsup_loss_numpy: 1.1358400583267212|  0:00:01s\n",
      "epoch 20 | loss: 1.38917 | val_0_unsup_loss_numpy: 1.1457600593566895|  0:00:01s\n",
      "epoch 21 | loss: 1.30862 | val_0_unsup_loss_numpy: 1.0908600091934204|  0:00:01s\n",
      "epoch 22 | loss: 1.23903 | val_0_unsup_loss_numpy: 1.0664499998092651|  0:00:01s\n",
      "epoch 23 | loss: 1.21218 | val_0_unsup_loss_numpy: 1.0769699811935425|  0:00:01s\n",
      "epoch 24 | loss: 1.16054 | val_0_unsup_loss_numpy: 1.0616099834442139|  0:00:01s\n",
      "epoch 25 | loss: 1.15085 | val_0_unsup_loss_numpy: 1.0477499961853027|  0:00:01s\n",
      "epoch 26 | loss: 1.14644 | val_0_unsup_loss_numpy: 1.057960033416748|  0:00:01s\n",
      "epoch 27 | loss: 1.12798 | val_0_unsup_loss_numpy: 1.0393099784851074|  0:00:01s\n",
      "epoch 28 | loss: 1.1086  | val_0_unsup_loss_numpy: 1.0436099767684937|  0:00:01s\n",
      "epoch 29 | loss: 1.09627 | val_0_unsup_loss_numpy: 1.0324100255966187|  0:00:01s\n",
      "epoch 30 | loss: 1.08017 | val_0_unsup_loss_numpy: 1.039080023765564|  0:00:01s\n",
      "epoch 31 | loss: 1.07459 | val_0_unsup_loss_numpy: 1.0271799564361572|  0:00:01s\n",
      "epoch 32 | loss: 1.06533 | val_0_unsup_loss_numpy: 1.024839997291565|  0:00:01s\n",
      "epoch 33 | loss: 1.04886 | val_0_unsup_loss_numpy: 1.0216799974441528|  0:00:01s\n",
      "epoch 34 | loss: 1.05172 | val_0_unsup_loss_numpy: 1.0186699628829956|  0:00:01s\n",
      "epoch 35 | loss: 1.04597 | val_0_unsup_loss_numpy: 1.0111700296401978|  0:00:01s\n",
      "epoch 36 | loss: 1.0394  | val_0_unsup_loss_numpy: 1.0200200080871582|  0:00:01s\n",
      "epoch 37 | loss: 1.04222 | val_0_unsup_loss_numpy: 1.0183000564575195|  0:00:01s\n",
      "epoch 38 | loss: 1.02505 | val_0_unsup_loss_numpy: 1.0132100582122803|  0:00:01s\n",
      "epoch 39 | loss: 1.03924 | val_0_unsup_loss_numpy: 1.021690011024475|  0:00:02s\n",
      "epoch 40 | loss: 1.03382 | val_0_unsup_loss_numpy: 1.0338000059127808|  0:00:02s\n",
      "epoch 41 | loss: 1.02784 | val_0_unsup_loss_numpy: 1.0183500051498413|  0:00:02s\n",
      "epoch 42 | loss: 1.02705 | val_0_unsup_loss_numpy: 1.0151400566101074|  0:00:02s\n",
      "epoch 43 | loss: 1.01901 | val_0_unsup_loss_numpy: 1.0146600008010864|  0:00:02s\n",
      "epoch 44 | loss: 1.02278 | val_0_unsup_loss_numpy: 1.0113999843597412|  0:00:02s\n",
      "epoch 45 | loss: 1.02264 | val_0_unsup_loss_numpy: 1.0109000205993652|  0:00:02s\n",
      "epoch 46 | loss: 1.02421 | val_0_unsup_loss_numpy: 1.0127300024032593|  0:00:02s\n",
      "epoch 47 | loss: 1.01411 | val_0_unsup_loss_numpy: 1.0118600130081177|  0:00:02s\n",
      "epoch 48 | loss: 1.0213  | val_0_unsup_loss_numpy: 1.006369948387146|  0:00:02s\n",
      "epoch 49 | loss: 1.01555 | val_0_unsup_loss_numpy: 1.0075000524520874|  0:00:02s\n",
      "epoch 50 | loss: 1.01251 | val_0_unsup_loss_numpy: 1.0070099830627441|  0:00:02s\n",
      "epoch 51 | loss: 1.01053 | val_0_unsup_loss_numpy: 1.0111199617385864|  0:00:02s\n",
      "epoch 52 | loss: 1.01639 | val_0_unsup_loss_numpy: 1.0116900205612183|  0:00:02s\n",
      "epoch 53 | loss: 1.01577 | val_0_unsup_loss_numpy: 1.0119600296020508|  0:00:02s\n",
      "epoch 54 | loss: 1.01523 | val_0_unsup_loss_numpy: 1.0147500038146973|  0:00:02s\n",
      "epoch 55 | loss: 1.01491 | val_0_unsup_loss_numpy: 1.0117000341415405|  0:00:02s\n",
      "epoch 56 | loss: 1.00967 | val_0_unsup_loss_numpy: 1.0089199542999268|  0:00:02s\n",
      "epoch 57 | loss: 1.01013 | val_0_unsup_loss_numpy: 1.0089600086212158|  0:00:02s\n",
      "epoch 58 | loss: 1.01067 | val_0_unsup_loss_numpy: 1.0074700117111206|  0:00:02s\n",
      "\n",
      "Early stopping occurred at epoch 58 with best_epoch = 48 and best_val_0_unsup_loss_numpy = 1.006369948387146\n"
     ]
    },
    {
     "name": "stderr",
     "output_type": "stream",
     "text": [
      "c:\\ProgramData\\miniconda3\\envs\\pytorch_gpu\\lib\\site-packages\\pytorch_tabnet\\callbacks.py:172: UserWarning: Best weights from best epoch are automatically used!\n",
      "  warnings.warn(wrn_msg)\n"
     ]
    }
   ],
   "source": [
    "tabnet_params = {\n",
    "    \"n_d\": 16,\n",
    "    \"n_a\": 16,\n",
    "    \"n_steps\": 3,\n",
    "    \"n_shared\": 2,\n",
    "    \"n_independent\": 2,\n",
    "    \"gamma\": 1.3,\n",
    "    \"epsilon\": 1e-15,\n",
    "    \"momentum\": 0.98,\n",
    "    \"mask_type\": \"sparsemax\",\n",
    "    \"lambda_sparse\": 1e-3,\n",
    "    \"device_name\": \"cuda\" if torch.cuda.is_available() else \"cpu\"\n",
    "}\n",
    "\n",
    "\n",
    "unsupervised_model = TabNetPretrainer(\n",
    "    optimizer_fn=torch.optim.Adam,\n",
    "    optimizer_params=dict(lr=2e-2),\n",
    "    **tabnet_params\n",
    ")\n",
    " \n",
    "\n",
    "unsupervised_model.fit(\n",
    "    X_train,\n",
    "    eval_set=[X_test],  \n",
    "    pretraining_ratio=0.8,\n",
    "    max_epochs=101,\n",
    "    patience=10,\n",
    "    batch_size=1024,\n",
    "    virtual_batch_size=128,\n",
    "    num_workers=0,\n",
    "    drop_last=False\n",
    ")"
   ]
  },
  {
   "cell_type": "code",
   "execution_count": 8,
   "metadata": {},
   "outputs": [
    {
     "data": {
      "text/plain": [
       "==============================================================================================================\n",
       "Layer (type:depth-idx)                                       Output Shape              Param #\n",
       "==============================================================================================================\n",
       "TabNetPretraining                                            [700, 42]                 --\n",
       "├─EmbeddingGenerator: 1-1                                    [700, 42]                 --\n",
       "├─TabNetEncoder: 1-2                                         [700, 16]                 --\n",
       "│    └─BatchNorm1d: 2-1                                      [700, 42]                 84\n",
       "│    └─FeatTransformer: 2-2                                  [700, 32]                 4,352\n",
       "│    │    └─GLU_Block: 3-1                                   [700, 32]                 4,992\n",
       "│    └─ModuleList: 2-12                                      --                        (recursive)\n",
       "│    │    └─FeatTransformer: 3-17                            --                        (recursive)\n",
       "│    └─FeatTransformer: 2-6                                  --                        (recursive)\n",
       "│    │    └─GLU_Block: 3-5                                   --                        (recursive)\n",
       "│    └─ModuleList: 2-12                                      --                        (recursive)\n",
       "│    │    └─FeatTransformer: 3-17                            --                        (recursive)\n",
       "│    └─FeatTransformer: 2-6                                  --                        (recursive)\n",
       "│    │    └─GLU_Block: 3-5                                   --                        (recursive)\n",
       "│    │    └─GLU_Block: 3-6                                   [700, 32]                 4,352\n",
       "│    └─ModuleList: 2-11                                      --                        (recursive)\n",
       "│    │    └─AttentiveTransformer: 3-7                        [700, 42]                 756\n",
       "│    └─ModuleList: 2-12                                      --                        (recursive)\n",
       "│    │    └─FeatTransformer: 3-8                             [700, 32]                 9,344\n",
       "│    │    └─FeatTransformer: 3-17                            --                        (recursive)\n",
       "│    │    └─FeatTransformer: 3-12                            --                        (recursive)\n",
       "│    │    └─FeatTransformer: 3-17                            --                        (recursive)\n",
       "│    │    └─FeatTransformer: 3-12                            --                        (recursive)\n",
       "│    └─ModuleList: 2-11                                      --                        (recursive)\n",
       "│    │    └─AttentiveTransformer: 3-13                       [700, 42]                 756\n",
       "│    └─ModuleList: 2-12                                      --                        (recursive)\n",
       "│    │    └─FeatTransformer: 3-14                            [700, 32]                 9,344\n",
       "│    │    └─FeatTransformer: 3-17                            --                        (recursive)\n",
       "│    │    └─FeatTransformer: 3-18                            --                        (recursive)\n",
       "│    │    └─FeatTransformer: 3-17                            --                        (recursive)\n",
       "│    │    └─FeatTransformer: 3-18                            --                        (recursive)\n",
       "│    └─ModuleList: 2-11                                      --                        (recursive)\n",
       "│    │    └─AttentiveTransformer: 3-19                       [700, 42]                 756\n",
       "│    └─ModuleList: 2-12                                      --                        (recursive)\n",
       "│    │    └─FeatTransformer: 3-20                            [700, 32]                 9,344\n",
       "├─TabNetDecoder: 1-3                                         [700, 42]                 --\n",
       "│    └─ModuleList: 2-13                                      --                        --\n",
       "│    │    └─FeatTransformer: 3-21                            [700, 16]                 1,152\n",
       "│    │    └─FeatTransformer: 3-25                            --                        (recursive)\n",
       "│    │    └─FeatTransformer: 3-23                            --                        (recursive)\n",
       "│    │    └─FeatTransformer: 3-24                            [700, 16]                 1,152\n",
       "│    │    └─FeatTransformer: 3-25                            --                        (recursive)\n",
       "│    │    └─FeatTransformer: 3-26                            --                        (recursive)\n",
       "│    │    └─FeatTransformer: 3-27                            [700, 16]                 1,152\n",
       "│    └─Linear: 2-14                                          [700, 42]                 672\n",
       "==============================================================================================================\n",
       "Total params: 70,736\n",
       "Trainable params: 70,736\n",
       "Non-trainable params: 0\n",
       "Total mult-adds (M): 30.70\n",
       "==============================================================================================================\n",
       "Input size (MB): 0.12\n",
       "Forward/backward pass size (MB): 15.50\n",
       "Params size (MB): 0.11\n",
       "Estimated Total Size (MB): 15.73\n",
       "=============================================================================================================="
      ]
     },
     "execution_count": 8,
     "metadata": {},
     "output_type": "execute_result"
    }
   ],
   "source": [
    "# Truy cập vào mô hình TabNet bên trong\n",
    "from torchinfo import summary\n",
    "\n",
    "tabnet_model = unsupervised_model.network.to(device)\n",
    "\n",
    "summary(tabnet_model, input_size=X_train.shape) "
   ]
  },
  {
   "cell_type": "code",
   "execution_count": 9,
   "metadata": {},
   "outputs": [
    {
     "name": "stdout",
     "output_type": "stream",
     "text": [
      "\n",
      "Encoder Summary:\n",
      "TabNetEncoder(\n",
      "  (initial_bn): BatchNorm1d(42, eps=1e-05, momentum=0.01, affine=True, track_running_stats=True)\n",
      "  (initial_splitter): FeatTransformer(\n",
      "    (shared): GLU_Block(\n",
      "      (shared_layers): ModuleList(\n",
      "        (0): Linear(in_features=42, out_features=64, bias=False)\n",
      "        (1): Linear(in_features=32, out_features=64, bias=False)\n",
      "      )\n",
      "      (glu_layers): ModuleList(\n",
      "        (0): GLU_Layer(\n",
      "          (fc): Linear(in_features=42, out_features=64, bias=False)\n",
      "          (bn): GBN(\n",
      "            (bn): BatchNorm1d(64, eps=1e-05, momentum=0.98, affine=True, track_running_stats=True)\n",
      "          )\n",
      "        )\n",
      "        (1): GLU_Layer(\n",
      "          (fc): Linear(in_features=32, out_features=64, bias=False)\n",
      "          (bn): GBN(\n",
      "            (bn): BatchNorm1d(64, eps=1e-05, momentum=0.98, affine=True, track_running_stats=True)\n",
      "          )\n",
      "        )\n",
      "      )\n",
      "    )\n",
      "    (specifics): GLU_Block(\n",
      "      (glu_layers): ModuleList(\n",
      "        (0-1): 2 x GLU_Layer(\n",
      "          (fc): Linear(in_features=32, out_features=64, bias=False)\n",
      "          (bn): GBN(\n",
      "            (bn): BatchNorm1d(64, eps=1e-05, momentum=0.98, affine=True, track_running_stats=True)\n",
      "          )\n",
      "        )\n",
      "      )\n",
      "    )\n",
      "  )\n",
      "  (feat_transformers): ModuleList(\n",
      "    (0-2): 3 x FeatTransformer(\n",
      "      (shared): GLU_Block(\n",
      "        (shared_layers): ModuleList(\n",
      "          (0): Linear(in_features=42, out_features=64, bias=False)\n",
      "          (1): Linear(in_features=32, out_features=64, bias=False)\n",
      "        )\n",
      "        (glu_layers): ModuleList(\n",
      "          (0): GLU_Layer(\n",
      "            (fc): Linear(in_features=42, out_features=64, bias=False)\n",
      "            (bn): GBN(\n",
      "              (bn): BatchNorm1d(64, eps=1e-05, momentum=0.98, affine=True, track_running_stats=True)\n",
      "            )\n",
      "          )\n",
      "          (1): GLU_Layer(\n",
      "            (fc): Linear(in_features=32, out_features=64, bias=False)\n",
      "            (bn): GBN(\n",
      "              (bn): BatchNorm1d(64, eps=1e-05, momentum=0.98, affine=True, track_running_stats=True)\n",
      "            )\n",
      "          )\n",
      "        )\n",
      "      )\n",
      "      (specifics): GLU_Block(\n",
      "        (glu_layers): ModuleList(\n",
      "          (0-1): 2 x GLU_Layer(\n",
      "            (fc): Linear(in_features=32, out_features=64, bias=False)\n",
      "            (bn): GBN(\n",
      "              (bn): BatchNorm1d(64, eps=1e-05, momentum=0.98, affine=True, track_running_stats=True)\n",
      "            )\n",
      "          )\n",
      "        )\n",
      "      )\n",
      "    )\n",
      "  )\n",
      "  (att_transformers): ModuleList(\n",
      "    (0-2): 3 x AttentiveTransformer(\n",
      "      (fc): Linear(in_features=16, out_features=42, bias=False)\n",
      "      (bn): GBN(\n",
      "        (bn): BatchNorm1d(42, eps=1e-05, momentum=0.98, affine=True, track_running_stats=True)\n",
      "      )\n",
      "      (selector): Sparsemax()\n",
      "    )\n",
      "  )\n",
      ")\n"
     ]
    }
   ],
   "source": [
    "encoder = tabnet_model.encoder\n",
    "\n",
    "print(\"\\nEncoder Summary:\")\n",
    "print(encoder)\n",
    "\n"
   ]
  },
  {
   "cell_type": "code",
   "execution_count": 10,
   "metadata": {},
   "outputs": [
    {
     "name": "stdout",
     "output_type": "stream",
     "text": [
      "\n",
      "Decoder Summary:\n",
      "TabNetDecoder(\n",
      "  (feat_transformers): ModuleList(\n",
      "    (0-2): 3 x FeatTransformer(\n",
      "      (shared): GLU_Block(\n",
      "        (shared_layers): ModuleList(\n",
      "          (0): Linear(in_features=16, out_features=32, bias=False)\n",
      "        )\n",
      "        (glu_layers): ModuleList(\n",
      "          (0): GLU_Layer(\n",
      "            (fc): Linear(in_features=16, out_features=32, bias=False)\n",
      "            (bn): GBN(\n",
      "              (bn): BatchNorm1d(32, eps=1e-05, momentum=0.98, affine=True, track_running_stats=True)\n",
      "            )\n",
      "          )\n",
      "        )\n",
      "      )\n",
      "      (specifics): GLU_Block(\n",
      "        (glu_layers): ModuleList(\n",
      "          (0): GLU_Layer(\n",
      "            (fc): Linear(in_features=16, out_features=32, bias=False)\n",
      "            (bn): GBN(\n",
      "              (bn): BatchNorm1d(32, eps=1e-05, momentum=0.98, affine=True, track_running_stats=True)\n",
      "            )\n",
      "          )\n",
      "        )\n",
      "      )\n",
      "    )\n",
      "  )\n",
      "  (reconstruction_layer): Linear(in_features=16, out_features=42, bias=False)\n",
      ")\n"
     ]
    }
   ],
   "source": [
    "decoder = tabnet_model.decoder\n",
    "\n",
    "print(\"\\nDecoder Summary:\")\n",
    "print(decoder)"
   ]
  },
  {
   "cell_type": "code",
   "execution_count": 11,
   "metadata": {},
   "outputs": [
    {
     "name": "stdout",
     "output_type": "stream",
     "text": [
      "TabNet encoder trả về 2 giá trị.\n",
      "Đã xảy ra lỗi: 'list' object has no attribute 'shape'\n"
     ]
    },
    {
     "name": "stderr",
     "output_type": "stream",
     "text": [
      "C:\\Users\\PC\\AppData\\Local\\Temp\\ipykernel_1696\\3356785120.py:1: UserWarning: To copy construct from a tensor, it is recommended to use sourceTensor.clone().detach() or sourceTensor.clone().detach().requires_grad_(True), rather than torch.tensor(sourceTensor).\n",
      "  sample_input = torch.tensor(X_train[:5]).to(device)\n"
     ]
    }
   ],
   "source": [
    "sample_input = torch.tensor(X_train[:5]).to(device)  \n",
    "\n",
    "try:\n",
    "    result = tabnet_model.encoder(sample_input)\n",
    "    if isinstance(result, tuple):\n",
    "        print(f'TabNet encoder trả về {len(result)} giá trị.')\n",
    "        for i, res in enumerate(result):\n",
    "            print(f'Giá trị {i + 1} shape: {res.shape}')\n",
    "    else:\n",
    "        print('TabNet encoder chỉ trả về một giá trị.')\n",
    "        print(f'Giá trị shape: {result.shape}')\n",
    "except Exception as e:\n",
    "    print(f'Đã xảy ra lỗi: {e}')"
   ]
  },
  {
   "cell_type": "code",
   "execution_count": 12,
   "metadata": {},
   "outputs": [],
   "source": [
    "class Sampling(nn.Module):\n",
    "    def __init__(self, seed=1337):\n",
    "        super(Sampling, self).__init__()\n",
    "        self.seed = seed\n",
    "\n",
    "    def forward(self, inputs):\n",
    "        z_mean, z_log_var = inputs\n",
    "        batch = z_mean.size(0)\n",
    "        dim = z_mean.size(1)\n",
    "        # print(batch, dim)\n",
    "        epsilon = torch.randn(batch, dim, generator=torch.Generator().manual_seed(self.seed)).to(device)\n",
    "        return z_mean + torch.exp(0.5 * z_log_var) * epsilon"
   ]
  },
  {
   "cell_type": "code",
   "execution_count": 13,
   "metadata": {},
   "outputs": [],
   "source": [
    "class VAE_Encoder(nn.Module):\n",
    "    def __init__(self, latent_dim):\n",
    "        super(VAE_Encoder, self).__init__()\n",
    "        self.tabnet_encoder = tabnet_model.encoder\n",
    "        self.mlp = nn.Sequential(\n",
    "            nn.Linear(16, 128),  \n",
    "            nn.ReLU(),\n",
    "            nn.Linear(128, 128),\n",
    "            nn.ReLU(),\n",
    "            nn.Linear(128, 96),\n",
    "            nn.ReLU(),\n",
    "            nn.Linear(96, latent_dim)\n",
    "        ).to(device)\n",
    "        self.fc_mean = nn.Linear(latent_dim, latent_dim).to(device)\n",
    "        self.fc_log_var = nn.Linear(latent_dim, latent_dim).to(device)\n",
    "        self.sampling = Sampling().to(device)\n",
    "\n",
    "    def forward(self, x):\n",
    "        x = x.to(device)\n",
    "        steps_output, _ = self.tabnet_encoder(x)\n",
    "        encoded = steps_output[-1]\n",
    "        # print(\"Shape of encoded tensor:\", encoded.shape)\n",
    "        encoded = self.mlp(encoded)\n",
    "        z_mean = self.fc_mean(encoded)\n",
    "        z_log_var = self.fc_log_var(encoded)\n",
    "        z = self.sampling((z_mean, z_log_var))\n",
    "        # print(f'Shape of z: {z.shape} - {z_log_var.shape} -{z_log_var.shape}')\n",
    "        return z_mean, z_log_var, z\n"
   ]
  },
  {
   "cell_type": "code",
   "execution_count": 14,
   "metadata": {},
   "outputs": [],
   "source": [
    "class VAE_Decoder(nn.Module):\n",
    "    def __init__(self, latent_dim,encoded_dim, output_dim):\n",
    "        super(VAE_Decoder, self).__init__()\n",
    "        self.mlp = nn.Sequential(\n",
    "            nn.Linear(latent_dim, 32),   \n",
    "            nn.ReLU(),\n",
    "            nn.Linear(32, 96),\n",
    "            nn.ReLU(),\n",
    "            nn.Linear(96, 96),\n",
    "            nn.ReLU(),\n",
    "            nn.Linear(96, encoded_dim),  \n",
    "        )\n",
    "        self.tabnet_decoder = tabnet_model.decoder\n",
    "        self.reshape = nn.Unflatten(1, (encoded_dim,))\n",
    "        self.output_dim=output_dim\n",
    "\n",
    "\n",
    "    def forward(self, z):\n",
    "        x = F.relu(self.mlp(z))\n",
    "\n",
    "        # print(\"Shape before reshape:\", x.shape)\n",
    "        # x = self.reshape(x)\n",
    "        x = x[None, ...]\n",
    "\n",
    "        # print(\"Shape after reshape:\", x.shape)\n",
    "        # x = x.view(x.size(0), output_dim)\n",
    "        \n",
    "        output = self.tabnet_decoder(x)\n",
    "        # print(output.shape)\n",
    "        # print(\"Shape of output from tabnet_decoder:\", output.shape)\n",
    "        output = torch.sigmoid(output)\n",
    "        output = output.view(-1, self.output_dim)\n",
    "        return output"
   ]
  },
  {
   "cell_type": "code",
   "execution_count": 15,
   "metadata": {},
   "outputs": [],
   "source": [
    "def check_data_range(tensor, name):\n",
    "    if not torch.all((tensor >= 0) & (tensor <= 1)):\n",
    "        print(f\"{name} contains values outside the range [0, 1]\")\n",
    "        print(f\"{name} min: {tensor.min()}, max: {tensor.max()}\")"
   ]
  },
  {
   "cell_type": "code",
   "execution_count": 16,
   "metadata": {},
   "outputs": [],
   "source": [
    "class VAE_Tabnet_MLPS(nn.Module):\n",
    "    def __init__(self, encoder, decoder, classifier):\n",
    "        super(VAE_Tabnet_MLPS, self).__init__()\n",
    "        self.encoder = encoder\n",
    "        self.decoder = decoder\n",
    "        self.classifier = classifier\n",
    "        self.total_loss_tracker = []\n",
    "        self.reconstruction_loss_tracker = []\n",
    "        self.kl_loss_tracker = []\n",
    "        self.classification_loss_tracker = []\n",
    "        self.accuracy_tracker = []\n",
    "\n",
    "    def forward(self, x):\n",
    "        z_mean, z_log_var, z = self.encoder(x)\n",
    "        reconstruction = self.decoder(z)\n",
    "        classification_output = self.classifier(z)\n",
    "        return reconstruction, z_mean, z_log_var, classification_output\n",
    "\n",
    "    def train_step(self, data, labels, optimizer):\n",
    "        optimizer.zero_grad()\n",
    "        # z_mean, z_log_var, z = self.encoder(data)\n",
    "        # reconstruction = self.decoder(z)\n",
    "        reconstruction, z_mean, z_log_var, classification_output = self.forward(data)\n",
    "        # print('classifi',classification_output.shape)\n",
    "        # print(check_data_range(data, 'data'))\n",
    "        # print(check_data_range(reconstruction, 'reconstruction'))\n",
    "        # reconstruction_loss = torch.mean(\n",
    "        #     torch.sum(\n",
    "        #         F.binary_cross_entropy(reconstruction, data, reduction='none'),\n",
    "        #         dim=1\n",
    "        #     )\n",
    "        # )\n",
    "        reconstruction_loss = torch.mean(\n",
    "            torch.sum(\n",
    "                F.binary_cross_entropy_with_logits(reconstruction, data, reduction='none'),\n",
    "                dim=1\n",
    "                # dim=(1, 2)\n",
    "                )  \n",
    "        )\n",
    "        classification_loss = torch.mean(\n",
    "            torch.sum(\n",
    "                F.binary_cross_entropy_with_logits(classification_output, labels, reduction='none'),\n",
    "                # dim=1\n",
    "                # dim=(1, 2)\n",
    "                )  \n",
    "        )\n",
    "        kl_loss = -0.5 * torch.sum(1 + z_log_var - z_mean.pow(2) - z_log_var.exp(), dim=1)\n",
    "        kl_loss = torch.mean(torch.sum(kl_loss))\n",
    "        total_loss = reconstruction_loss + kl_loss + classification_loss\n",
    "        total_loss.backward()\n",
    "        optimizer.step()\n",
    "\n",
    "        self.total_loss_tracker.append(total_loss.item())\n",
    "        self.reconstruction_loss_tracker.append(reconstruction_loss.item())\n",
    "        self.kl_loss_tracker.append(kl_loss.item())\n",
    "        self.classification_loss_tracker.append(classification_loss.item())\n",
    "\n",
    "        preds = torch.sigmoid(classification_output)\n",
    "        correct = ((preds > 0.5) == labels).float().sum()\n",
    "        accuracy = correct / labels.size(0)\n",
    "        self.accuracy_tracker.append(accuracy.item())\n",
    "\n",
    "        return {\n",
    "            \"loss\": total_loss.item(),\n",
    "            \"reconstruction_loss\": reconstruction_loss.item(),\n",
    "            \"kl_loss\": kl_loss.item(),\n",
    "            \"classification_loss\": classification_loss.item(),\n",
    "            \"accuracy\": accuracy.item()\n",
    "        }"
   ]
  },
  {
   "cell_type": "code",
   "execution_count": 17,
   "metadata": {},
   "outputs": [
    {
     "name": "stdout",
     "output_type": "stream",
     "text": [
      "42\n"
     ]
    }
   ],
   "source": [
    "latent_dim = 64\n",
    "encoded_dim = 16\n",
    "output_dim = X_train.shape[1]\n",
    "input_dim = X_train.shape[1]\n",
    "print(input_dim)\n"
   ]
  },
  {
   "cell_type": "code",
   "execution_count": 18,
   "metadata": {},
   "outputs": [],
   "source": [
    "class SimpleClassifier(nn.Module):\n",
    "    def __init__(self, input_dim, output_dim):\n",
    "        super(SimpleClassifier, self).__init__()\n",
    "        self.fc = nn.Sequential(\n",
    "            nn.Linear(input_dim, 64),\n",
    "            nn.ReLU(),\n",
    "            nn.Linear(64, 32),\n",
    "            nn.ReLU(),\n",
    "            nn.Linear(32, output_dim),\n",
    "            nn.Sigmoid()  \n",
    "        )\n",
    "\n",
    "    def forward(self, x):\n",
    "        # print('input: ',x.shape)\n",
    "        output = self.fc(x)\n",
    "        output = output.view(-1)\n",
    "        # print('output',output.shape)\n",
    "        return output"
   ]
  },
  {
   "cell_type": "code",
   "execution_count": 19,
   "metadata": {},
   "outputs": [],
   "source": [
    "classifier = SimpleClassifier(latent_dim, output_dim=1).to(device)\n"
   ]
  },
  {
   "cell_type": "code",
   "execution_count": 20,
   "metadata": {},
   "outputs": [
    {
     "name": "stdout",
     "output_type": "stream",
     "text": [
      "Input size: torch.Size([32, 64])\n",
      "Output size: torch.Size([32])\n",
      "Output: tensor([0.4795, 0.4436, 0.4578, 0.5074, 0.4649, 0.4628, 0.4361, 0.4686, 0.4941,\n",
      "        0.4462, 0.4720, 0.4210, 0.4384, 0.4928, 0.4516, 0.4833, 0.4850, 0.4627,\n",
      "        0.4643, 0.4647, 0.4781, 0.4614, 0.4795, 0.4793, 0.4765, 0.4566, 0.4348,\n",
      "        0.4940, 0.4737, 0.4321, 0.4670, 0.4586])\n"
     ]
    }
   ],
   "source": [
    "def check_output(model, input_tensor):\n",
    "    with torch.no_grad():  \n",
    "        output = model(input_tensor)\n",
    "        print(f\"Input size: {input_tensor.size()}\")\n",
    "        print(f\"Output size: {output.size()}\")\n",
    "        print(f\"Output: {output}\")\n",
    "\n",
    "model = SimpleClassifier(latent_dim, output_dim=1)\n",
    "\n",
    "input_tensor = torch.randn(32,latent_dim)  \n",
    "\n",
    "check_output(model, input_tensor)"
   ]
  },
  {
   "cell_type": "code",
   "execution_count": 21,
   "metadata": {},
   "outputs": [
    {
     "name": "stdout",
     "output_type": "stream",
     "text": [
      "Encoder Summary:\n"
     ]
    },
    {
     "data": {
      "text/plain": [
       "==============================================================================================================\n",
       "Layer (type:depth-idx)                                       Output Shape              Param #\n",
       "==============================================================================================================\n",
       "VAE_Encoder                                                  [32, 64]                  --\n",
       "├─TabNetEncoder: 1-1                                         [32, 16]                  --\n",
       "│    └─BatchNorm1d: 2-1                                      [32, 42]                  84\n",
       "│    └─FeatTransformer: 2-2                                  [32, 32]                  4,352\n",
       "│    │    └─GLU_Block: 3-1                                   [32, 32]                  4,992\n",
       "│    └─ModuleList: 2-12                                      --                        (recursive)\n",
       "│    │    └─FeatTransformer: 3-17                            --                        (recursive)\n",
       "│    └─FeatTransformer: 2-6                                  --                        (recursive)\n",
       "│    │    └─GLU_Block: 3-5                                   --                        (recursive)\n",
       "│    └─ModuleList: 2-12                                      --                        (recursive)\n",
       "│    │    └─FeatTransformer: 3-17                            --                        (recursive)\n",
       "│    └─FeatTransformer: 2-6                                  --                        (recursive)\n",
       "│    │    └─GLU_Block: 3-5                                   --                        (recursive)\n",
       "│    │    └─GLU_Block: 3-6                                   [32, 32]                  4,352\n",
       "│    └─ModuleList: 2-11                                      --                        (recursive)\n",
       "│    │    └─AttentiveTransformer: 3-7                        [32, 42]                  756\n",
       "│    └─ModuleList: 2-12                                      --                        (recursive)\n",
       "│    │    └─FeatTransformer: 3-8                             [32, 32]                  9,344\n",
       "│    │    └─FeatTransformer: 3-17                            --                        (recursive)\n",
       "│    │    └─FeatTransformer: 3-12                            --                        (recursive)\n",
       "│    │    └─FeatTransformer: 3-17                            --                        (recursive)\n",
       "│    │    └─FeatTransformer: 3-12                            --                        (recursive)\n",
       "│    └─ModuleList: 2-11                                      --                        (recursive)\n",
       "│    │    └─AttentiveTransformer: 3-13                       [32, 42]                  756\n",
       "│    └─ModuleList: 2-12                                      --                        (recursive)\n",
       "│    │    └─FeatTransformer: 3-14                            [32, 32]                  9,344\n",
       "│    │    └─FeatTransformer: 3-17                            --                        (recursive)\n",
       "│    │    └─FeatTransformer: 3-18                            --                        (recursive)\n",
       "│    │    └─FeatTransformer: 3-17                            --                        (recursive)\n",
       "│    │    └─FeatTransformer: 3-18                            --                        (recursive)\n",
       "│    └─ModuleList: 2-11                                      --                        (recursive)\n",
       "│    │    └─AttentiveTransformer: 3-19                       [32, 42]                  756\n",
       "│    └─ModuleList: 2-12                                      --                        (recursive)\n",
       "│    │    └─FeatTransformer: 3-20                            [32, 32]                  9,344\n",
       "├─Sequential: 1-2                                            [32, 64]                  --\n",
       "│    └─Linear: 2-13                                          [32, 128]                 2,176\n",
       "│    └─ReLU: 2-14                                            [32, 128]                 --\n",
       "│    └─Linear: 2-15                                          [32, 128]                 16,512\n",
       "│    └─ReLU: 2-16                                            [32, 128]                 --\n",
       "│    └─Linear: 2-17                                          [32, 96]                  12,384\n",
       "│    └─ReLU: 2-18                                            [32, 96]                  --\n",
       "│    └─Linear: 2-19                                          [32, 64]                  6,208\n",
       "├─Linear: 1-3                                                [32, 64]                  4,160\n",
       "├─Linear: 1-4                                                [32, 64]                  4,160\n",
       "├─Sampling: 1-5                                              [32, 64]                  --\n",
       "==============================================================================================================\n",
       "Total params: 110,416\n",
       "Trainable params: 110,416\n",
       "Non-trainable params: 0\n",
       "Total mult-adds (M): 2.73\n",
       "==============================================================================================================\n",
       "Input size (MB): 0.01\n",
       "Forward/backward pass size (MB): 0.74\n",
       "Params size (MB): 0.28\n",
       "Estimated Total Size (MB): 1.03\n",
       "=============================================================================================================="
      ]
     },
     "execution_count": 21,
     "metadata": {},
     "output_type": "execute_result"
    }
   ],
   "source": [
    "vae_encoder = VAE_Encoder(latent_dim=latent_dim)\n",
    "print(\"Encoder Summary:\")\n",
    "# vae_encoder.to(device)\n",
    "\n",
    "summary(vae_encoder, input_size=(32, input_dim), device=device)"
   ]
  },
  {
   "cell_type": "code",
   "execution_count": 22,
   "metadata": {},
   "outputs": [
    {
     "name": "stdout",
     "output_type": "stream",
     "text": [
      "Encoded shape: torch.Size([800, 16])\n"
     ]
    }
   ],
   "source": [
    "x = torch.randn(800, 42).to(device)\n",
    "steps_output, _ = tabnet_model.encoder(x)\n",
    "encoded = steps_output[-1]\n",
    "print(f\"Encoded shape: {encoded.shape}\")"
   ]
  },
  {
   "cell_type": "code",
   "execution_count": 23,
   "metadata": {},
   "outputs": [
    {
     "name": "stdout",
     "output_type": "stream",
     "text": [
      "Shape of encoder output: [torch.Size([800, 16]), torch.Size([800, 16]), torch.Size([800, 16])]\n",
      "Decoder shape: torch.Size([800, 42])\n"
     ]
    }
   ],
   "source": [
    "import torch\n",
    "\n",
    "x = torch.randn(800, 42).to(device)  # Đầu vào có kích thước (batch_size, features)\n",
    "\n",
    "steps_output, _ = tabnet_model.encoder(x)\n",
    "print(\"Shape of encoder output:\", [output.shape for output in steps_output])\n",
    "\n",
    "decoder_input = steps_output[-1]  \n",
    "decoder_input = decoder_input[None, ...]\n",
    "try:\n",
    "    decoder_output = tabnet_model.decoder(decoder_input)\n",
    "    print(f\"Decoder shape: {decoder_output.shape}\")\n",
    "except ValueError as e:\n",
    "    print(f\"Error: {e}\")\n"
   ]
  },
  {
   "cell_type": "code",
   "execution_count": 24,
   "metadata": {},
   "outputs": [
    {
     "name": "stdout",
     "output_type": "stream",
     "text": [
      "Decoder Summary:\n"
     ]
    },
    {
     "data": {
      "text/plain": [
       "==============================================================================================================\n",
       "Layer (type:depth-idx)                                       Output Shape              Param #\n",
       "==============================================================================================================\n",
       "VAE_Decoder                                                  [32, 42]                  --\n",
       "├─Sequential: 1-1                                            [32, 16]                  --\n",
       "│    └─Linear: 2-1                                           [32, 32]                  2,080\n",
       "│    └─ReLU: 2-2                                             [32, 32]                  --\n",
       "│    └─Linear: 2-3                                           [32, 96]                  3,168\n",
       "│    └─ReLU: 2-4                                             [32, 96]                  --\n",
       "│    └─Linear: 2-5                                           [32, 96]                  9,312\n",
       "│    └─ReLU: 2-6                                             [32, 96]                  --\n",
       "│    └─Linear: 2-7                                           [32, 16]                  1,552\n",
       "├─TabNetDecoder: 1-2                                         [32, 42]                  --\n",
       "│    └─ModuleList: 2-8                                       --                        --\n",
       "│    │    └─FeatTransformer: 3-1                             [32, 16]                  1,152\n",
       "│    │    └─FeatTransformer: 3-2                             --                        1,152\n",
       "│    │    └─FeatTransformer: 3-3                             --                        (recursive)\n",
       "│    └─Linear: 2-9                                           [32, 42]                  672\n",
       "==============================================================================================================\n",
       "Total params: 19,728\n",
       "Trainable params: 19,728\n",
       "Non-trainable params: 0\n",
       "Total mult-adds (M): 0.57\n",
       "==============================================================================================================\n",
       "Input size (MB): 0.01\n",
       "Forward/backward pass size (MB): 0.10\n",
       "Params size (MB): 0.07\n",
       "Estimated Total Size (MB): 0.18\n",
       "=============================================================================================================="
      ]
     },
     "execution_count": 24,
     "metadata": {},
     "output_type": "execute_result"
    }
   ],
   "source": [
    "vae_decoder = VAE_Decoder(latent_dim=latent_dim, encoded_dim=encoded_dim, output_dim=output_dim).to(device)\n",
    "print(\"Decoder Summary:\")\n",
    "summary(vae_decoder, input_size=(32, latent_dim), device=device)"
   ]
  },
  {
   "cell_type": "code",
   "execution_count": 25,
   "metadata": {},
   "outputs": [
    {
     "data": {
      "text/plain": [
       "===================================================================================================================\n",
       "Layer (type:depth-idx)                                            Output Shape              Param #\n",
       "===================================================================================================================\n",
       "VAE_Tabnet_MLPS                                                   [32, 42]                  --\n",
       "├─VAE_Encoder: 1-1                                                [32, 64]                  --\n",
       "│    └─TabNetEncoder: 2-1                                         [32, 16]                  --\n",
       "│    │    └─BatchNorm1d: 3-1                                      [32, 42]                  84\n",
       "│    │    └─FeatTransformer: 3-2                                  [32, 32]                  9,344\n",
       "│    │    └─ModuleList: 3-12                                      --                        (recursive)\n",
       "│    │    └─FeatTransformer: 3-6                                  --                        (recursive)\n",
       "│    │    └─ModuleList: 3-12                                      --                        (recursive)\n",
       "│    │    └─FeatTransformer: 3-6                                  --                        (recursive)\n",
       "│    │    └─ModuleList: 3-11                                      --                        (recursive)\n",
       "│    │    └─ModuleList: 3-12                                      --                        (recursive)\n",
       "│    │    └─ModuleList: 3-11                                      --                        (recursive)\n",
       "│    │    └─ModuleList: 3-12                                      --                        (recursive)\n",
       "│    │    └─ModuleList: 3-11                                      --                        (recursive)\n",
       "│    │    └─ModuleList: 3-12                                      --                        (recursive)\n",
       "│    └─Sequential: 2-2                                            [32, 64]                  --\n",
       "│    │    └─Linear: 3-13                                          [32, 128]                 2,176\n",
       "│    │    └─ReLU: 3-14                                            [32, 128]                 --\n",
       "│    │    └─Linear: 3-15                                          [32, 128]                 16,512\n",
       "│    │    └─ReLU: 3-16                                            [32, 128]                 --\n",
       "│    │    └─Linear: 3-17                                          [32, 96]                  12,384\n",
       "│    │    └─ReLU: 3-18                                            [32, 96]                  --\n",
       "│    │    └─Linear: 3-19                                          [32, 64]                  6,208\n",
       "│    └─Linear: 2-3                                                [32, 64]                  4,160\n",
       "│    └─Linear: 2-4                                                [32, 64]                  4,160\n",
       "│    └─Sampling: 2-5                                              [32, 64]                  --\n",
       "├─VAE_Decoder: 1-2                                                [32, 42]                  --\n",
       "│    └─Sequential: 2-6                                            [32, 16]                  --\n",
       "│    │    └─Linear: 3-20                                          [32, 32]                  2,080\n",
       "│    │    └─ReLU: 3-21                                            [32, 32]                  --\n",
       "│    │    └─Linear: 3-22                                          [32, 96]                  3,168\n",
       "│    │    └─ReLU: 3-23                                            [32, 96]                  --\n",
       "│    │    └─Linear: 3-24                                          [32, 96]                  9,312\n",
       "│    │    └─ReLU: 3-25                                            [32, 96]                  --\n",
       "│    │    └─Linear: 3-26                                          [32, 16]                  1,552\n",
       "│    └─TabNetDecoder: 2-7                                         [32, 42]                  --\n",
       "│    │    └─ModuleList: 3-27                                      --                        2,432\n",
       "│    │    └─Linear: 3-28                                          [32, 42]                  672\n",
       "├─SimpleClassifier: 1-3                                           [32]                      --\n",
       "│    └─Sequential: 2-8                                            [32, 1]                   --\n",
       "│    │    └─Linear: 3-29                                          [32, 64]                  4,160\n",
       "│    │    └─ReLU: 3-30                                            [32, 64]                  --\n",
       "│    │    └─Linear: 3-31                                          [32, 32]                  2,080\n",
       "│    │    └─ReLU: 3-32                                            [32, 32]                  --\n",
       "│    │    └─Linear: 3-33                                          [32, 1]                   33\n",
       "│    │    └─Sigmoid: 3-34                                         [32, 1]                   --\n",
       "===================================================================================================================\n",
       "Total params: 136,417\n",
       "Trainable params: 136,417\n",
       "Non-trainable params: 0\n",
       "Total mult-adds (M): 3.51\n",
       "===================================================================================================================\n",
       "Input size (MB): 0.01\n",
       "Forward/backward pass size (MB): 0.87\n",
       "Params size (MB): 0.38\n",
       "Estimated Total Size (MB): 1.26\n",
       "==================================================================================================================="
      ]
     },
     "execution_count": 25,
     "metadata": {},
     "output_type": "execute_result"
    }
   ],
   "source": [
    "vae = VAE_Tabnet_MLPS(encoder=vae_encoder, decoder=vae_decoder,classifier=classifier).to(device)\n",
    "summary(vae, input_size=(32, input_dim), device=device)"
   ]
  },
  {
   "cell_type": "code",
   "execution_count": 26,
   "metadata": {},
   "outputs": [
    {
     "name": "stdout",
     "output_type": "stream",
     "text": [
      "Epoch 1/10, Loss: 63.6889, Reconstruction Loss: 30.5928, KL Loss: 9.3631, Classification Loss: 23.7330, Accuracy: 0.4671\n",
      "Epoch 2/10, Loss: 60.5128, Reconstruction Loss: 30.5244, KL Loss: 6.3084, Classification Loss: 23.6799, Accuracy: 0.4671\n",
      "Epoch 3/10, Loss: 58.1340, Reconstruction Loss: 30.4812, KL Loss: 4.0309, Classification Loss: 23.6218, Accuracy: 0.4667\n",
      "Epoch 4/10, Loss: 56.3323, Reconstruction Loss: 30.4581, KL Loss: 2.3185, Classification Loss: 23.5557, Accuracy: 0.4667\n",
      "Epoch 5/10, Loss: 55.0773, Reconstruction Loss: 30.4450, KL Loss: 1.1294, Classification Loss: 23.5029, Accuracy: 0.4673\n",
      "Epoch 6/10, Loss: 54.3684, Reconstruction Loss: 30.4337, KL Loss: 0.4995, Classification Loss: 23.4352, Accuracy: 0.4675\n",
      "Epoch 7/10, Loss: 53.9930, Reconstruction Loss: 30.4197, KL Loss: 0.2136, Classification Loss: 23.3597, Accuracy: 0.4663\n",
      "Epoch 8/10, Loss: 53.8803, Reconstruction Loss: 30.4105, KL Loss: 0.1207, Classification Loss: 23.3491, Accuracy: 0.4673\n",
      "Epoch 9/10, Loss: 53.7742, Reconstruction Loss: 30.4041, KL Loss: 0.0750, Classification Loss: 23.2951, Accuracy: 0.4681\n",
      "Epoch 10/10, Loss: 53.6971, Reconstruction Loss: 30.3938, KL Loss: 0.0549, Classification Loss: 23.2483, Accuracy: 0.4665\n"
     ]
    }
   ],
   "source": [
    "learning_rate = 0.0001\n",
    "optimizer = optim.Adam(vae.parameters(), lr=learning_rate)\n",
    "num_epochs = 10\n",
    "\n",
    "for epoch in range(num_epochs):\n",
    "    vae.train()\n",
    "    train_loss = 0\n",
    "    rec_loss = 0\n",
    "    kl_loss = 0\n",
    "    classification_loss = 0\n",
    "    accuracy = 0\n",
    "\n",
    "    for batch_data, batch_labels in train_loader:\n",
    "        batch_data = batch_data.to(device)\n",
    "        batch_labels = batch_labels.to(device)\n",
    "        results = vae.train_step(batch_data, batch_labels, optimizer)\n",
    "        \n",
    "        train_loss += results[\"loss\"]\n",
    "        rec_loss += results[\"reconstruction_loss\"]\n",
    "        kl_loss += results[\"kl_loss\"]\n",
    "        classification_loss += results[\"classification_loss\"]\n",
    "        accuracy += results[\"accuracy\"]\n",
    "\n",
    "    train_loss /= len(train_loader)\n",
    "    rec_loss /= len(train_loader)\n",
    "    kl_loss /= len(train_loader)\n",
    "    classification_loss /= len(train_loader)\n",
    "    accuracy /= len(train_loader)\n",
    "\n",
    "    print(f\"Epoch {epoch + 1}/{num_epochs}, Loss: {train_loss:.4f}, Reconstruction Loss: {rec_loss:.4f}, KL Loss: {kl_loss:.4f}, Classification Loss: {classification_loss:.4f}, Accuracy: {accuracy:.4f}\")\n"
   ]
  },
  {
   "cell_type": "code",
   "execution_count": 27,
   "metadata": {},
   "outputs": [],
   "source": [
    "for param in vae.encoder.parameters():\n",
    "    param.requires_grad = False"
   ]
  },
  {
   "cell_type": "code",
   "execution_count": 28,
   "metadata": {},
   "outputs": [
    {
     "name": "stdout",
     "output_type": "stream",
     "text": [
      "Epoch 1/10, Loss: 53.5817, Reconstruction Loss: 30.3817, KL Loss: 0.0512, Classification Loss: 23.1488, Accuracy: 0.4665\n",
      "Epoch 2/10, Loss: 53.5399, Reconstruction Loss: 30.3775, KL Loss: 0.0453, Classification Loss: 23.1172, Accuracy: 0.4661\n",
      "Epoch 3/10, Loss: 53.4683, Reconstruction Loss: 30.3697, KL Loss: 0.0500, Classification Loss: 23.0487, Accuracy: 0.4673\n",
      "Epoch 4/10, Loss: 53.3837, Reconstruction Loss: 30.3580, KL Loss: 0.0505, Classification Loss: 22.9752, Accuracy: 0.4675\n",
      "Epoch 5/10, Loss: 53.3449, Reconstruction Loss: 30.3524, KL Loss: 0.0469, Classification Loss: 22.9456, Accuracy: 0.4667\n",
      "Epoch 6/10, Loss: 53.2551, Reconstruction Loss: 30.3438, KL Loss: 0.0479, Classification Loss: 22.8634, Accuracy: 0.4673\n",
      "Epoch 7/10, Loss: 53.2091, Reconstruction Loss: 30.3362, KL Loss: 0.0500, Classification Loss: 22.8230, Accuracy: 0.4681\n",
      "Epoch 8/10, Loss: 53.1892, Reconstruction Loss: 30.3234, KL Loss: 0.0474, Classification Loss: 22.8185, Accuracy: 0.4671\n",
      "Epoch 9/10, Loss: 53.1073, Reconstruction Loss: 30.3192, KL Loss: 0.0535, Classification Loss: 22.7346, Accuracy: 0.4667\n",
      "Epoch 10/10, Loss: 53.0779, Reconstruction Loss: 30.3087, KL Loss: 0.0478, Classification Loss: 22.7214, Accuracy: 0.4667\n"
     ]
    }
   ],
   "source": [
    "vae_new = VAE_Tabnet_MLPS(vae.encoder, vae.decoder, vae.classifier).to(device)\n",
    "for param in vae_new.encoder.parameters():\n",
    "    param.requires_grad = False\n",
    "\n",
    "optimizer = optim.Adam(filter(lambda p: p.requires_grad, vae_new.parameters()), lr=learning_rate)\n",
    "for epoch in range(num_epochs):\n",
    "    vae_new.train()\n",
    "    train_loss = 0\n",
    "    rec_loss = 0\n",
    "    kl_loss = 0\n",
    "    classification_loss = 0\n",
    "    accuracy = 0\n",
    "\n",
    "    for batch_data, batch_labels in train_loader:\n",
    "        batch_data = batch_data.to(device)\n",
    "        batch_labels = batch_labels.to(device)\n",
    "        results = vae.train_step(batch_data, batch_labels, optimizer)\n",
    "        \n",
    "        train_loss += results[\"loss\"]\n",
    "        rec_loss += results[\"reconstruction_loss\"]\n",
    "        kl_loss += results[\"kl_loss\"]\n",
    "        classification_loss += results[\"classification_loss\"]\n",
    "        accuracy += results[\"accuracy\"]\n",
    "\n",
    "    train_loss /= len(train_loader)\n",
    "    rec_loss /= len(train_loader)\n",
    "    kl_loss /= len(train_loader)\n",
    "    classification_loss /= len(train_loader)\n",
    "    accuracy /= len(train_loader)\n",
    "\n",
    "    print(f\"Epoch {epoch + 1}/{num_epochs}, Loss: {train_loss:.4f}, Reconstruction Loss: {rec_loss:.4f}, KL Loss: {kl_loss:.4f}, Classification Loss: {classification_loss:.4f}, Accuracy: {accuracy:.4f}\")"
   ]
  },
  {
   "cell_type": "code",
   "execution_count": null,
   "metadata": {},
   "outputs": [],
   "source": []
  }
 ],
 "metadata": {
  "kernelspec": {
   "display_name": "Python 3",
   "language": "python",
   "name": "python3"
  },
  "language_info": {
   "codemirror_mode": {
    "name": "ipython",
    "version": 3
   },
   "file_extension": ".py",
   "mimetype": "text/x-python",
   "name": "python",
   "nbconvert_exporter": "python",
   "pygments_lexer": "ipython3",
   "version": "3.8.19"
  }
 },
 "nbformat": 4,
 "nbformat_minor": 2
}
