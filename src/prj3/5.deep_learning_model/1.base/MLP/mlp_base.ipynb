{
 "cells": [
  {
   "cell_type": "code",
   "execution_count": null,
   "id": "6f12cee6",
   "metadata": {},
   "outputs": [],
   "source": [
    "import tensorflow as tf\n",
    "import pandas as pd\n",
    "import numpy as np\n",
    "import os\n",
    "from tensorflow.keras.optimizers import Adam\n",
    "\n",
    "from sklearn.preprocessing import OneHotEncoder\n",
    "import matplotlib.pyplot as plt\n",
    "from tensorflow.keras import backend as K\n",
    "from tensorflow.keras.callbacks import ReduceLROnPlateau, EarlyStopping, ModelCheckpoint, LearningRateScheduler\n",
    "from tensorflow.keras.layers import Conv1D, MaxPooling1D, GlobalAveragePooling1D, GlobalMaxPooling1D, Dense, Flatten, Input\n",
    "from tensorflow.keras.models import Model\n",
    "import seaborn as sns\n",
    "from sklearn.metrics import accuracy_score\n",
    "from sklearn.metrics import roc_curve, auc\n",
    "from tabnet_keras import TabNetRegressor, TabNetClassifier\n",
    "\n",
    "\n",
    "\n"
   ]
  },
  {
   "cell_type": "code",
   "execution_count": 1,
   "id": "c1dd1c5b",
   "metadata": {},
   "outputs": [
    {
     "name": "stdout",
     "output_type": "stream",
     "text": [
      "c:\\Users\\PC\\Data\\ads_fraud_detection\n",
      "c:/Users/PC/Data/ads_fraud_detection\n"
     ]
    },
    {
     "data": {
      "text/html": [
       "        <script type=\"text/javascript\">\n",
       "        window.PlotlyConfig = {MathJaxConfig: 'local'};\n",
       "        if (window.MathJax && window.MathJax.Hub && window.MathJax.Hub.Config) {window.MathJax.Hub.Config({SVG: {font: \"STIX-Web\"}});}\n",
       "        if (typeof require !== 'undefined') {\n",
       "        require.undef(\"plotly\");\n",
       "        requirejs.config({\n",
       "            paths: {\n",
       "                'plotly': ['https://cdn.plot.ly/plotly-2.35.0.min']\n",
       "            }\n",
       "        });\n",
       "        require(['plotly'], function(Plotly) {\n",
       "            window._Plotly = Plotly;\n",
       "        });\n",
       "        }\n",
       "        </script>\n",
       "        "
      ]
     },
     "metadata": {},
     "output_type": "display_data"
    },
    {
     "data": {
      "text/html": [
       "        <script type=\"text/javascript\">\n",
       "        window.PlotlyConfig = {MathJaxConfig: 'local'};\n",
       "        if (window.MathJax && window.MathJax.Hub && window.MathJax.Hub.Config) {window.MathJax.Hub.Config({SVG: {font: \"STIX-Web\"}});}\n",
       "        if (typeof require !== 'undefined') {\n",
       "        require.undef(\"plotly\");\n",
       "        requirejs.config({\n",
       "            paths: {\n",
       "                'plotly': ['https://cdn.plot.ly/plotly-2.35.0.min']\n",
       "            }\n",
       "        });\n",
       "        require(['plotly'], function(Plotly) {\n",
       "            window._Plotly = Plotly;\n",
       "        });\n",
       "        }\n",
       "        </script>\n",
       "        "
      ]
     },
     "metadata": {},
     "output_type": "display_data"
    }
   ],
   "source": [
    "import sys,os\n",
    "__script_path=os.path.abspath(globals().get('__file__','.'))\n",
    "__script_dir = os.path.dirname(__script_path)\n",
    "root_dir = os.path.abspath(f'{__script_dir}/../../../..')\n",
    "print(root_dir)\n",
    "for lib in [root_dir][::-1]:\n",
    "    if lib in sys.path:\n",
    "        sys.path.remove(lib)\n",
    "    sys.path.insert(0,lib)\n",
    "from config.config import *\n",
    "# from libs.common import *"
   ]
  },
  {
   "cell_type": "code",
   "execution_count": null,
   "id": "9f50966a",
   "metadata": {},
   "outputs": [],
   "source": [
    "gpus = tf.config.experimental.list_physical_devices('GPU')\n",
    "if gpus:\n",
    "    print('Using GPU:', gpus[0])  # In ra tên của GPU\n",
    "    try:\n",
    "        tf.config.experimental.set_visible_devices(gpus[0], 'GPU')\n",
    "        tf.config.experimental.set_memory_growth(gpus[0], True)\n",
    "    except RuntimeError as e:\n",
    "        print(e)\n",
    "else:\n",
    "    print('No GPU found. Using CPU.')"
   ]
  },
  {
   "cell_type": "code",
   "execution_count": 2,
   "id": "622aee0d",
   "metadata": {},
   "outputs": [],
   "source": [
    "save_dir=f\"{exps_dir}/exp1/exp_base\"\n",
    "if os.path.exists(save_dir) == False: \n",
    "  os.makedirs(save_dir, exist_ok=True)\n",
    "\n",
    "\n",
    "\n",
    "test_size=0.33\n",
    "seed=42"
   ]
  },
  {
   "cell_type": "code",
   "execution_count": 3,
   "id": "ee0c5839",
   "metadata": {},
   "outputs": [],
   "source": [
    "# feature_selection=dict(np.load(f'{save_dir}/feature_model_selection.npz',allow_pickle=True))['feature_model_selection']\n",
    "# feature_selection = {key: value for key, value in feature_selection.item().items()}\n",
    "# feature_selection"
   ]
  },
  {
   "cell_type": "markdown",
   "id": "79d162d6",
   "metadata": {},
   "source": [
    "* kiểm tra và tạo các thư mục (nếu chưa có)\n",
    "* tập test 33%"
   ]
  },
  {
   "cell_type": "markdown",
   "id": "5cf7e092",
   "metadata": {},
   "source": [
    "# 5. Xây dựng và đánh giá mô hình học sâu Neutual Network"
   ]
  },
  {
   "cell_type": "code",
   "execution_count": 4,
   "id": "d84bdb3c",
   "metadata": {},
   "outputs": [],
   "source": [
    "# bg_model=joblib.load(f'{save_dir}/bg_model.joblib')\n",
    "# rf_model=joblib.load(f'{save_dir}/rf_model.joblib')\n",
    "# svm_model=joblib.load(f'{save_dir}/svm_model.joblib')"
   ]
  },
  {
   "cell_type": "code",
   "execution_count": 5,
   "id": "2e81211d",
   "metadata": {},
   "outputs": [
    {
     "data": {
      "text/plain": [
       "{0: 0.6555772994129159, 1: 2.106918238993711}"
      ]
     },
     "execution_count": 5,
     "metadata": {},
     "output_type": "execute_result"
    }
   ],
   "source": [
    "x_train=pd.read_excel(f'{save_dir}/x_train.xlsx')\n",
    "y_train=pd.read_excel(f'{save_dir}/y_train.xlsx')\n",
    "x_test=pd.read_excel(f'{save_dir}/x_test.xlsx')\n",
    "y_test=pd.read_excel(f'{save_dir}/y_test.xlsx')\n",
    "class_weights_dict=dict(np.load(f'{save_dir}/class_weights_dict.npz',allow_pickle=True))['class_weights_dict']\n",
    "class_weights_dict = {key: value for key, value in class_weights_dict.item().items()}\n",
    "class_weights_dict"
   ]
  },
  {
   "cell_type": "code",
   "execution_count": 6,
   "id": "9dd43638",
   "metadata": {},
   "outputs": [
    {
     "name": "stdout",
     "output_type": "stream",
     "text": [
      "(330, 2) (670, 2)\n"
     ]
    }
   ],
   "source": [
    "\n",
    "\n",
    "# Dữ liệu label đã được mã hóa\n",
    "def oneHot(arr):\n",
    "    labels = np.array(arr)\n",
    "    encoder = OneHotEncoder(sparse=False)\n",
    "    \n",
    "    labels_reshaped = labels.reshape(-1, 1)\n",
    "    \n",
    "    encoder.fit(labels_reshaped)\n",
    "    \n",
    "    onehot_labels = encoder.transform(labels_reshaped)\n",
    "    # onehot_labels=pd.DataFrame(onehot_labels)\n",
    "    return onehot_labels\n",
    "\n",
    "y_train_onehot=oneHot(y_train)\n",
    "y_test_onehot=oneHot(y_test)\n",
    "print(y_test_onehot.shape,y_train_onehot.shape)\n"
   ]
  },
  {
   "cell_type": "code",
   "execution_count": 7,
   "id": "9cf5d7b4",
   "metadata": {},
   "outputs": [
    {
     "name": "stdout",
     "output_type": "stream",
     "text": [
      "(330, 2)\n"
     ]
    }
   ],
   "source": [
    "y_test_onehot.reshape(-1, 1)\n",
    "print(y_test_onehot.shape)"
   ]
  },
  {
   "cell_type": "code",
   "execution_count": 8,
   "id": "6dda6290",
   "metadata": {},
   "outputs": [
    {
     "data": {
      "text/plain": [
       "(330, 39)"
      ]
     },
     "execution_count": 8,
     "metadata": {},
     "output_type": "execute_result"
    }
   ],
   "source": [
    "x_test.shape"
   ]
  },
  {
   "cell_type": "code",
   "execution_count": 9,
   "id": "f1c3ac7a",
   "metadata": {},
   "outputs": [
    {
     "data": {
      "text/plain": [
       "(670, 39)"
      ]
     },
     "execution_count": 9,
     "metadata": {},
     "output_type": "execute_result"
    }
   ],
   "source": [
    "x_train.shape"
   ]
  },
  {
   "cell_type": "code",
   "execution_count": 10,
   "id": "848e48fb",
   "metadata": {},
   "outputs": [],
   "source": [
    "def f1_score(y_true, y_pred):\n",
    "    \"\"\"\n",
    "    Macro F1 score metric.\n",
    "    \"\"\"\n",
    "    y_pred = K.round(y_pred)    \n",
    "    true_positives = K.sum(K.round(K.clip(y_true * y_pred, 0, 1)), axis=0)\n",
    "    false_positives = K.sum(K.round(K.clip(y_pred - y_true, 0, 1)), axis=0)\n",
    "    false_negatives = K.sum(K.round(K.clip(y_true - y_pred, 0, 1)), axis=0)    \n",
    "    precision = true_positives / (true_positives + false_positives + K.epsilon())\n",
    "    recall = true_positives / (true_positives + false_negatives + K.epsilon())    \n",
    "    f1_scores = 2 * (precision * recall) / (precision + recall + K.epsilon())    \n",
    "    macro_f1_score = K.mean(f1_scores)\n",
    "    \n",
    "    return macro_f1_score"
   ]
  },
  {
   "cell_type": "code",
   "execution_count": 11,
   "id": "01f5fcdf",
   "metadata": {},
   "outputs": [
    {
     "name": "stdout",
     "output_type": "stream",
     "text": [
      "39\n"
     ]
    }
   ],
   "source": [
    "print(x_train.shape[1])"
   ]
  },
  {
   "cell_type": "markdown",
   "id": "cb6de984",
   "metadata": {},
   "source": [
    "#### * Xây dựng model:"
   ]
  },
  {
   "cell_type": "markdown",
   "id": "5ec895de",
   "metadata": {},
   "source": [
    "#### * Xây dựng Stacked_model:"
   ]
  },
  {
   "cell_type": "code",
   "execution_count": 12,
   "id": "071a8a46",
   "metadata": {},
   "outputs": [],
   "source": [
    "def f1_loss(y_true, y_pred):\n",
    "    y_true = tf.cast(y_true, tf.float32)\n",
    "    y_pred = tf.cast(y_pred, tf.float32)\n",
    "    \n",
    "    # Calculate true positives, predicted positives, and possible positives for each class\n",
    "    tp = tf.reduce_sum(y_true * y_pred, axis=0)\n",
    "    predicted_positives = tf.reduce_sum(y_pred, axis=0)\n",
    "    possible_positives = tf.reduce_sum(y_true, axis=0)\n",
    "    \n",
    "    # Calculate precision and recall for each class\n",
    "    precision = tp / (predicted_positives + tf.keras.backend.epsilon())\n",
    "    recall = tp / (possible_positives + tf.keras.backend.epsilon())\n",
    "    \n",
    "    # Calculate F1 score for each class\n",
    "    f1 = 2 * (precision * recall) / (precision + recall + tf.keras.backend.epsilon())\n",
    "    \n",
    "    # Calculate the macro F1 score\n",
    "    f1_macro = tf.reduce_mean(f1)\n",
    "    \n",
    "    # Return the F1 loss\n",
    "    return 1 - f1_macro"
   ]
  },
  {
   "cell_type": "code",
   "execution_count": 13,
   "id": "08a670c5",
   "metadata": {},
   "outputs": [],
   "source": [
    "import numpy as np\n",
    "import tensorflow as tf\n",
    "from tensorflow.keras import backend as K\n",
    "\n",
    "def dice_coef(y_true, y_pred, smooth):\n",
    "    y_true_f = K.flatten(y_true)\n",
    "    y_pred_f = K.flatten(y_pred)\n",
    "    intersection = K.sum(y_true_f * y_pred_f)\n",
    "    dice = (2. * intersection + smooth) / (K.sum(y_true_f) + K.sum(y_pred_f) + smooth)\n",
    "    return dice\n",
    "\n",
    "def dice_coef_loss(y_true, y_pred, smooth=0.0001):\n",
    "    return 1 - dice_coef(y_true, y_pred, smooth)"
   ]
  },
  {
   "cell_type": "code",
   "execution_count": 14,
   "id": "a24e70d1",
   "metadata": {},
   "outputs": [],
   "source": [
    "# early_stopping = EarlyStopping(monitor='val_loss',\n",
    "#     min_delta=0.00005,\n",
    "#     patience=20,\n",
    "#     verbose=1,\n",
    "#     restore_best_weights=True,\n",
    "# )\n",
    "\n",
    "# lr_scheduler = ReduceLROnPlateau(\n",
    "#     monitor='val_loss',\n",
    "#     factor=0.5,\n",
    "#     patience=7,\n",
    "#     min_lr=0.000001,\n",
    "#     verbose=1,\n",
    "# )\n",
    "# checkpoint_callback = ModelCheckpoint(\n",
    "#     filepath='ResNet10.h5',  # Đường dẫn để lưu model\n",
    "#     monitor='val_loss',  # Theo dõi val_loss\n",
    "#     save_best_only=True,  # Lưu lại chỉ model có val_loss tốt nhất\n",
    "#     verbose=1  # Hiển thị thông báo khi lưu model\n",
    "# )\n",
    "\n",
    "early_stopping = EarlyStopping(monitor='val_f1_score',\n",
    "                                mode='max',\n",
    "    min_delta=0.00005,\n",
    "    patience=100,\n",
    "    verbose=1,\n",
    "    restore_best_weights=True,\n",
    ")\n",
    "\n",
    "lr_scheduler = ReduceLROnPlateau(\n",
    "    monitor='val_f1_score',\n",
    "    mode='max',\n",
    "    factor=0.5,\n",
    "    patience=20,\n",
    "    min_lr=0.000001,\n",
    "    verbose=1,\n",
    ")\n",
    "checkpoint_callback = ModelCheckpoint(\n",
    "    filepath='best_model.h5',  # Đường dẫn để lưu model\n",
    "    monitor='val_f1_score',  # Theo dõi val_loss\n",
    "    mode='max',\n",
    "    save_best_only=True,  # Lưu lại chỉ model có val_loss tốt nhất\n",
    "    verbose=1  # Hiển thị thông báo khi lưu model\n",
    ")"
   ]
  },
  {
   "cell_type": "code",
   "execution_count": 15,
   "id": "14004dd7",
   "metadata": {},
   "outputs": [],
   "source": [
    "from tensorflow.keras.optimizers import Adam\n",
    "from keras.layers import ZeroPadding1D, Conv1D, MaxPooling1D, GlobalAveragePooling1D, GlobalMaxPooling1D, Dense, Flatten\n",
    "from keras.models import Model\n",
    "from keras.layers import Input\n",
    "from sklearn.model_selection import GridSearchCV\n",
    "from sklearn.metrics import make_scorer\n",
    "# from scikeras.wrappers import KerasClassifier \n",
    "\n",
    "# lr=0.0001\n",
    "\n",
    "def build_model():\n",
    "    input_shape =(39,1)\n",
    "    learning_rate=0.0001\n",
    "\n",
    "    bn_axis = -1\n",
    "    step=32\n",
    "    model = Sequential()\n",
    "    model.add(Input(shape=(39,)))\n",
    "    model.add(Dense(512,activation='relu'))\n",
    "    model.add(BatchNormalization())\n",
    "    model.add(Dropout(0.5))\n",
    "\n",
    "    # Thêm các lớp ẩn\n",
    "    model.add(Dense(256, activation='relu'))\n",
    "    model.add(BatchNormalization())\n",
    "    model.add(Dropout(0.5))\n",
    "\n",
    "    model.add(Dense(128, activation='relu'))\n",
    "    model.add(BatchNormalization())\n",
    "    model.add(Dropout(0.5))\n",
    "\n",
    "    model.add(Dense(64, activation='relu'))\n",
    "    model.add(BatchNormalization())\n",
    "    model.add(Dropout(0.5))\n",
    "\n",
    "    model.add(Dense(32, activation='relu'))\n",
    "    model.add(BatchNormalization())\n",
    "    model.add(Dropout(0.5))\n",
    "\n",
    "    # Lớp đầu ra với activation function 'sigmoid' cho bài toán phân lớp nhị phân\n",
    "    model.add(Dense(2, activation='softmax'))\n",
    "   \n",
    "\n",
    "\n",
    "\n",
    "    model.compile(optimizer=Adam(lr=learning_rate), loss='categorical_crossentropy', metrics=['accuracy',f1_score])\n",
    "    # model.compile(optimizer=Adam(lr=learning_rate), loss=f1_loss, metrics=['accuracy',f1_score])\n",
    "    # model.compile(optimizer=Adam(lr=learning_rate), loss=multi_loss, metrics=['accuracy',f1_score])\n",
    "    \n",
    "    return model\n",
    "\n",
    "\n",
    "\n",
    "\n"
   ]
  },
  {
   "cell_type": "code",
   "execution_count": 16,
   "id": "b53234af",
   "metadata": {},
   "outputs": [
    {
     "name": "stderr",
     "output_type": "stream",
     "text": [
      "WARNING:absl:`lr` is deprecated in Keras optimizer, please use `learning_rate` or use the legacy optimizer, e.g.,tf.keras.optimizers.legacy.Adam.\n"
     ]
    },
    {
     "name": "stdout",
     "output_type": "stream",
     "text": [
      "Model: \"sequential\"\n",
      "_________________________________________________________________\n",
      " Layer (type)                Output Shape              Param #   \n",
      "=================================================================\n",
      " dense (Dense)               (None, 512)               20480     \n",
      "                                                                 \n",
      " batch_normalization (Batch  (None, 512)               2048      \n",
      " Normalization)                                                  \n",
      "                                                                 \n",
      " dropout (Dropout)           (None, 512)               0         \n",
      "                                                                 \n",
      " dense_1 (Dense)             (None, 256)               131328    \n",
      "                                                                 \n",
      " batch_normalization_1 (Bat  (None, 256)               1024      \n",
      " chNormalization)                                                \n",
      "                                                                 \n",
      " dropout_1 (Dropout)         (None, 256)               0         \n",
      "                                                                 \n",
      " dense_2 (Dense)             (None, 128)               32896     \n",
      "                                                                 \n",
      " batch_normalization_2 (Bat  (None, 128)               512       \n",
      " chNormalization)                                                \n",
      "                                                                 \n",
      " dropout_2 (Dropout)         (None, 128)               0         \n",
      "                                                                 \n",
      " dense_3 (Dense)             (None, 64)                8256      \n",
      "                                                                 \n",
      " batch_normalization_3 (Bat  (None, 64)                256       \n",
      " chNormalization)                                                \n",
      "                                                                 \n",
      " dropout_3 (Dropout)         (None, 64)                0         \n",
      "                                                                 \n",
      " dense_4 (Dense)             (None, 32)                2080      \n",
      "                                                                 \n",
      " batch_normalization_4 (Bat  (None, 32)                128       \n",
      " chNormalization)                                                \n",
      "                                                                 \n",
      " dropout_4 (Dropout)         (None, 32)                0         \n",
      "                                                                 \n",
      " dense_5 (Dense)             (None, 2)                 66        \n",
      "                                                                 \n",
      "=================================================================\n",
      "Total params: 199074 (777.63 KB)\n",
      "Trainable params: 197090 (769.88 KB)\n",
      "Non-trainable params: 1984 (7.75 KB)\n",
      "_________________________________________________________________\n"
     ]
    }
   ],
   "source": [
    "model=build_model()\n",
    "model.build(input_shape=(42,1))\n",
    "model.summary()"
   ]
  },
  {
   "cell_type": "code",
   "execution_count": 17,
   "id": "ec8b8320",
   "metadata": {},
   "outputs": [
    {
     "data": {
      "text/plain": [
       "{0: 0.6555772994129159, 1: 2.106918238993711}"
      ]
     },
     "execution_count": 17,
     "metadata": {},
     "output_type": "execute_result"
    }
   ],
   "source": [
    "class_weights_dict"
   ]
  },
  {
   "cell_type": "code",
   "execution_count": 18,
   "id": "567bba7a",
   "metadata": {},
   "outputs": [
    {
     "name": "stdout",
     "output_type": "stream",
     "text": [
      "Epoch 1/1200\n",
      "21/21 [==============================] - 1s 13ms/step - loss: 1.2967 - accuracy: 0.4866 - f1_score: 0.4325 - val_loss: 0.6014 - val_accuracy: 0.7333 - val_f1_score: 0.4193 - lr: 0.0010\n",
      "Epoch 2/1200\n",
      "21/21 [==============================] - 0s 4ms/step - loss: 1.0756 - accuracy: 0.5373 - f1_score: 0.4728 - val_loss: 0.5846 - val_accuracy: 0.7333 - val_f1_score: 0.4193 - lr: 0.0010\n",
      "Epoch 3/1200\n",
      "21/21 [==============================] - 0s 3ms/step - loss: 1.0890 - accuracy: 0.5299 - f1_score: 0.4596 - val_loss: 0.5872 - val_accuracy: 0.7333 - val_f1_score: 0.4193 - lr: 0.0010\n",
      "Epoch 4/1200\n",
      "21/21 [==============================] - 0s 3ms/step - loss: 0.9804 - accuracy: 0.5716 - f1_score: 0.4934 - val_loss: 0.5900 - val_accuracy: 0.7333 - val_f1_score: 0.4193 - lr: 0.0010\n",
      "Epoch 5/1200\n",
      "21/21 [==============================] - 0s 3ms/step - loss: 0.8633 - accuracy: 0.6284 - f1_score: 0.5418 - val_loss: 0.5899 - val_accuracy: 0.7333 - val_f1_score: 0.4193 - lr: 0.0010\n",
      "Epoch 6/1200\n",
      "21/21 [==============================] - 0s 4ms/step - loss: 0.7703 - accuracy: 0.6284 - f1_score: 0.5227 - val_loss: 0.5841 - val_accuracy: 0.7333 - val_f1_score: 0.4193 - lr: 0.0010\n",
      "Epoch 7/1200\n",
      "21/21 [==============================] - 0s 4ms/step - loss: 0.7610 - accuracy: 0.6313 - f1_score: 0.5111 - val_loss: 0.5926 - val_accuracy: 0.7333 - val_f1_score: 0.4193 - lr: 0.0010\n",
      "Epoch 8/1200\n",
      "21/21 [==============================] - 0s 3ms/step - loss: 0.7602 - accuracy: 0.6254 - f1_score: 0.4945 - val_loss: 0.5952 - val_accuracy: 0.7333 - val_f1_score: 0.4193 - lr: 0.0010\n",
      "Epoch 9/1200\n",
      "21/21 [==============================] - 0s 4ms/step - loss: 0.7806 - accuracy: 0.6343 - f1_score: 0.4843 - val_loss: 0.5924 - val_accuracy: 0.7333 - val_f1_score: 0.4193 - lr: 0.0010\n",
      "Epoch 10/1200\n",
      "21/21 [==============================] - 0s 4ms/step - loss: 0.7027 - accuracy: 0.6463 - f1_score: 0.4844 - val_loss: 0.5858 - val_accuracy: 0.7333 - val_f1_score: 0.4193 - lr: 0.0010\n",
      "Epoch 11/1200\n",
      "21/21 [==============================] - 0s 3ms/step - loss: 0.6587 - accuracy: 0.6701 - f1_score: 0.5063 - val_loss: 0.5811 - val_accuracy: 0.7333 - val_f1_score: 0.4193 - lr: 0.0010\n",
      "Epoch 12/1200\n",
      "21/21 [==============================] - 0s 4ms/step - loss: 0.6688 - accuracy: 0.6657 - f1_score: 0.4783 - val_loss: 0.5776 - val_accuracy: 0.7333 - val_f1_score: 0.4193 - lr: 0.0010\n",
      "Epoch 13/1200\n",
      "21/21 [==============================] - 0s 4ms/step - loss: 0.6910 - accuracy: 0.6791 - f1_score: 0.4939 - val_loss: 0.5769 - val_accuracy: 0.7333 - val_f1_score: 0.4193 - lr: 0.0010\n",
      "Epoch 14/1200\n",
      "21/21 [==============================] - 0s 3ms/step - loss: 0.6486 - accuracy: 0.6910 - f1_score: 0.5069 - val_loss: 0.5753 - val_accuracy: 0.7333 - val_f1_score: 0.4193 - lr: 0.0010\n",
      "Epoch 15/1200\n",
      "21/21 [==============================] - 0s 3ms/step - loss: 0.6590 - accuracy: 0.6866 - f1_score: 0.4871 - val_loss: 0.5768 - val_accuracy: 0.7333 - val_f1_score: 0.4193 - lr: 0.0010\n",
      "Epoch 16/1200\n",
      "21/21 [==============================] - 0s 3ms/step - loss: 0.6173 - accuracy: 0.6881 - f1_score: 0.4939 - val_loss: 0.5763 - val_accuracy: 0.7333 - val_f1_score: 0.4193 - lr: 0.0010\n",
      "Epoch 17/1200\n",
      "21/21 [==============================] - 0s 3ms/step - loss: 0.6168 - accuracy: 0.7030 - f1_score: 0.4882 - val_loss: 0.5779 - val_accuracy: 0.7333 - val_f1_score: 0.4193 - lr: 0.0010\n",
      "Epoch 18/1200\n",
      "21/21 [==============================] - 0s 4ms/step - loss: 0.6127 - accuracy: 0.7269 - f1_score: 0.5149 - val_loss: 0.5774 - val_accuracy: 0.7333 - val_f1_score: 0.4193 - lr: 0.0010\n",
      "Epoch 19/1200\n",
      "21/21 [==============================] - 0s 4ms/step - loss: 0.6055 - accuracy: 0.7284 - f1_score: 0.5132 - val_loss: 0.5771 - val_accuracy: 0.7333 - val_f1_score: 0.4193 - lr: 0.0010\n",
      "Epoch 20/1200\n",
      "21/21 [==============================] - 0s 3ms/step - loss: 0.5979 - accuracy: 0.7194 - f1_score: 0.4833 - val_loss: 0.5756 - val_accuracy: 0.7333 - val_f1_score: 0.4193 - lr: 0.0010\n",
      "Epoch 21/1200\n",
      " 1/21 [>.............................] - ETA: 0s - loss: 0.6310 - accuracy: 0.7188 - f1_score: 0.5060\n",
      "Epoch 21: ReduceLROnPlateau reducing learning rate to 0.0005000000237487257.\n",
      "21/21 [==============================] - 0s 3ms/step - loss: 0.5946 - accuracy: 0.7299 - f1_score: 0.4933 - val_loss: 0.5743 - val_accuracy: 0.7333 - val_f1_score: 0.4193 - lr: 0.0010\n",
      "Epoch 22/1200\n",
      "21/21 [==============================] - 0s 3ms/step - loss: 0.6053 - accuracy: 0.7149 - f1_score: 0.4797 - val_loss: 0.5737 - val_accuracy: 0.7333 - val_f1_score: 0.4193 - lr: 5.0000e-04\n",
      "Epoch 23/1200\n",
      "21/21 [==============================] - 0s 3ms/step - loss: 0.6124 - accuracy: 0.7104 - f1_score: 0.4639 - val_loss: 0.5731 - val_accuracy: 0.7333 - val_f1_score: 0.4193 - lr: 5.0000e-04\n",
      "Epoch 24/1200\n",
      "21/21 [==============================] - 0s 3ms/step - loss: 0.6010 - accuracy: 0.7373 - f1_score: 0.4898 - val_loss: 0.5739 - val_accuracy: 0.7333 - val_f1_score: 0.4193 - lr: 5.0000e-04\n",
      "Epoch 25/1200\n",
      "21/21 [==============================] - 0s 3ms/step - loss: 0.5815 - accuracy: 0.7299 - f1_score: 0.4888 - val_loss: 0.5732 - val_accuracy: 0.7333 - val_f1_score: 0.4193 - lr: 5.0000e-04\n",
      "Epoch 26/1200\n",
      "21/21 [==============================] - 0s 3ms/step - loss: 0.5877 - accuracy: 0.7418 - f1_score: 0.4732 - val_loss: 0.5724 - val_accuracy: 0.7333 - val_f1_score: 0.4193 - lr: 5.0000e-04\n",
      "Epoch 27/1200\n",
      "21/21 [==============================] - 0s 3ms/step - loss: 0.5894 - accuracy: 0.7284 - f1_score: 0.4664 - val_loss: 0.5722 - val_accuracy: 0.7333 - val_f1_score: 0.4193 - lr: 5.0000e-04\n",
      "Epoch 28/1200\n",
      "21/21 [==============================] - 0s 3ms/step - loss: 0.5925 - accuracy: 0.7313 - f1_score: 0.4454 - val_loss: 0.5715 - val_accuracy: 0.7333 - val_f1_score: 0.4193 - lr: 5.0000e-04\n",
      "Epoch 29/1200\n",
      "21/21 [==============================] - 0s 3ms/step - loss: 0.5796 - accuracy: 0.7478 - f1_score: 0.4854 - val_loss: 0.5712 - val_accuracy: 0.7333 - val_f1_score: 0.4193 - lr: 5.0000e-04\n",
      "Epoch 30/1200\n",
      "21/21 [==============================] - 0s 4ms/step - loss: 0.5773 - accuracy: 0.7448 - f1_score: 0.4601 - val_loss: 0.5715 - val_accuracy: 0.7333 - val_f1_score: 0.4193 - lr: 5.0000e-04\n",
      "Epoch 31/1200\n",
      "21/21 [==============================] - 0s 3ms/step - loss: 0.5626 - accuracy: 0.7403 - f1_score: 0.4504 - val_loss: 0.5725 - val_accuracy: 0.7333 - val_f1_score: 0.4193 - lr: 5.0000e-04\n",
      "Epoch 32/1200\n",
      "21/21 [==============================] - 0s 3ms/step - loss: 0.5640 - accuracy: 0.7433 - f1_score: 0.4907 - val_loss: 0.5722 - val_accuracy: 0.7333 - val_f1_score: 0.4193 - lr: 5.0000e-04\n",
      "Epoch 33/1200\n",
      "21/21 [==============================] - 0s 3ms/step - loss: 0.5497 - accuracy: 0.7567 - f1_score: 0.5114 - val_loss: 0.5731 - val_accuracy: 0.7333 - val_f1_score: 0.4193 - lr: 5.0000e-04\n",
      "Epoch 34/1200\n",
      "21/21 [==============================] - 0s 3ms/step - loss: 0.5904 - accuracy: 0.7388 - f1_score: 0.4663 - val_loss: 0.5735 - val_accuracy: 0.7333 - val_f1_score: 0.4193 - lr: 5.0000e-04\n",
      "Epoch 35/1200\n",
      "21/21 [==============================] - 0s 3ms/step - loss: 0.5840 - accuracy: 0.7507 - f1_score: 0.4692 - val_loss: 0.5737 - val_accuracy: 0.7333 - val_f1_score: 0.4193 - lr: 5.0000e-04\n",
      "Epoch 36/1200\n",
      "21/21 [==============================] - 0s 3ms/step - loss: 0.5663 - accuracy: 0.7463 - f1_score: 0.4742 - val_loss: 0.5744 - val_accuracy: 0.7333 - val_f1_score: 0.4193 - lr: 5.0000e-04\n",
      "Epoch 37/1200\n",
      "21/21 [==============================] - 0s 3ms/step - loss: 0.5568 - accuracy: 0.7612 - f1_score: 0.4918 - val_loss: 0.5741 - val_accuracy: 0.7333 - val_f1_score: 0.4193 - lr: 5.0000e-04\n",
      "Epoch 38/1200\n",
      "21/21 [==============================] - 0s 3ms/step - loss: 0.5756 - accuracy: 0.7478 - f1_score: 0.4842 - val_loss: 0.5739 - val_accuracy: 0.7333 - val_f1_score: 0.4193 - lr: 5.0000e-04\n",
      "Epoch 39/1200\n",
      "21/21 [==============================] - 0s 3ms/step - loss: 0.5657 - accuracy: 0.7493 - f1_score: 0.4669 - val_loss: 0.5744 - val_accuracy: 0.7333 - val_f1_score: 0.4193 - lr: 5.0000e-04\n",
      "Epoch 40/1200\n",
      "21/21 [==============================] - 0s 3ms/step - loss: 0.5549 - accuracy: 0.7448 - f1_score: 0.4527 - val_loss: 0.5743 - val_accuracy: 0.7333 - val_f1_score: 0.4193 - lr: 5.0000e-04\n",
      "Epoch 41/1200\n",
      " 1/21 [>.............................] - ETA: 0s - loss: 0.6287 - accuracy: 0.6875 - f1_score: 0.4872\n",
      "Epoch 41: ReduceLROnPlateau reducing learning rate to 0.0002500000118743628.\n",
      "21/21 [==============================] - 0s 3ms/step - loss: 0.5505 - accuracy: 0.7463 - f1_score: 0.4608 - val_loss: 0.5738 - val_accuracy: 0.7333 - val_f1_score: 0.4193 - lr: 5.0000e-04\n",
      "Epoch 42/1200\n",
      "21/21 [==============================] - 0s 3ms/step - loss: 0.5622 - accuracy: 0.7552 - f1_score: 0.4712 - val_loss: 0.5737 - val_accuracy: 0.7333 - val_f1_score: 0.4193 - lr: 2.5000e-04\n",
      "Epoch 43/1200\n",
      "21/21 [==============================] - 0s 3ms/step - loss: 0.5812 - accuracy: 0.7358 - f1_score: 0.4496 - val_loss: 0.5741 - val_accuracy: 0.7333 - val_f1_score: 0.4193 - lr: 2.5000e-04\n",
      "Epoch 44/1200\n",
      "21/21 [==============================] - 0s 3ms/step - loss: 0.5690 - accuracy: 0.7463 - f1_score: 0.4646 - val_loss: 0.5739 - val_accuracy: 0.7333 - val_f1_score: 0.4193 - lr: 2.5000e-04\n",
      "Epoch 45/1200\n",
      "21/21 [==============================] - 0s 3ms/step - loss: 0.5631 - accuracy: 0.7433 - f1_score: 0.4394 - val_loss: 0.5736 - val_accuracy: 0.7333 - val_f1_score: 0.4193 - lr: 2.5000e-04\n",
      "Epoch 46/1200\n",
      "21/21 [==============================] - 0s 4ms/step - loss: 0.5669 - accuracy: 0.7507 - f1_score: 0.4550 - val_loss: 0.5733 - val_accuracy: 0.7333 - val_f1_score: 0.4193 - lr: 2.5000e-04\n",
      "Epoch 47/1200\n",
      "21/21 [==============================] - 0s 4ms/step - loss: 0.5660 - accuracy: 0.7448 - f1_score: 0.4474 - val_loss: 0.5725 - val_accuracy: 0.7333 - val_f1_score: 0.4193 - lr: 2.5000e-04\n",
      "Epoch 48/1200\n",
      "21/21 [==============================] - 0s 5ms/step - loss: 0.5731 - accuracy: 0.7552 - f1_score: 0.4625 - val_loss: 0.5725 - val_accuracy: 0.7333 - val_f1_score: 0.4193 - lr: 2.5000e-04\n",
      "Epoch 49/1200\n",
      "21/21 [==============================] - 0s 4ms/step - loss: 0.5715 - accuracy: 0.7478 - f1_score: 0.4430 - val_loss: 0.5726 - val_accuracy: 0.7333 - val_f1_score: 0.4193 - lr: 2.5000e-04\n",
      "Epoch 50/1200\n",
      "21/21 [==============================] - 0s 3ms/step - loss: 0.5503 - accuracy: 0.7522 - f1_score: 0.4518 - val_loss: 0.5725 - val_accuracy: 0.7333 - val_f1_score: 0.4193 - lr: 2.5000e-04\n",
      "Epoch 51/1200\n",
      "21/21 [==============================] - 0s 3ms/step - loss: 0.5344 - accuracy: 0.7627 - f1_score: 0.4793 - val_loss: 0.5726 - val_accuracy: 0.7333 - val_f1_score: 0.4193 - lr: 2.5000e-04\n",
      "Epoch 52/1200\n",
      "21/21 [==============================] - 0s 3ms/step - loss: 0.5564 - accuracy: 0.7612 - f1_score: 0.4730 - val_loss: 0.5731 - val_accuracy: 0.7333 - val_f1_score: 0.4193 - lr: 2.5000e-04\n",
      "Epoch 53/1200\n",
      "21/21 [==============================] - 0s 3ms/step - loss: 0.5524 - accuracy: 0.7582 - f1_score: 0.4767 - val_loss: 0.5729 - val_accuracy: 0.7333 - val_f1_score: 0.4193 - lr: 2.5000e-04\n",
      "Epoch 54/1200\n",
      "21/21 [==============================] - 0s 3ms/step - loss: 0.5560 - accuracy: 0.7582 - f1_score: 0.4532 - val_loss: 0.5727 - val_accuracy: 0.7333 - val_f1_score: 0.4193 - lr: 2.5000e-04\n",
      "Epoch 55/1200\n",
      "21/21 [==============================] - 0s 3ms/step - loss: 0.5534 - accuracy: 0.7552 - f1_score: 0.4559 - val_loss: 0.5721 - val_accuracy: 0.7333 - val_f1_score: 0.4193 - lr: 2.5000e-04\n",
      "Epoch 56/1200\n",
      "21/21 [==============================] - 0s 3ms/step - loss: 0.5459 - accuracy: 0.7448 - f1_score: 0.4497 - val_loss: 0.5718 - val_accuracy: 0.7333 - val_f1_score: 0.4193 - lr: 2.5000e-04\n",
      "Epoch 57/1200\n",
      "21/21 [==============================] - 0s 3ms/step - loss: 0.5645 - accuracy: 0.7507 - f1_score: 0.4461 - val_loss: 0.5725 - val_accuracy: 0.7333 - val_f1_score: 0.4193 - lr: 2.5000e-04\n",
      "Epoch 58/1200\n",
      "21/21 [==============================] - 0s 3ms/step - loss: 0.5450 - accuracy: 0.7537 - f1_score: 0.4509 - val_loss: 0.5722 - val_accuracy: 0.7333 - val_f1_score: 0.4193 - lr: 2.5000e-04\n",
      "Epoch 59/1200\n",
      "21/21 [==============================] - 0s 3ms/step - loss: 0.5455 - accuracy: 0.7612 - f1_score: 0.4741 - val_loss: 0.5720 - val_accuracy: 0.7333 - val_f1_score: 0.4193 - lr: 2.5000e-04\n",
      "Epoch 60/1200\n",
      "21/21 [==============================] - 0s 3ms/step - loss: 0.5375 - accuracy: 0.7716 - f1_score: 0.4909 - val_loss: 0.5722 - val_accuracy: 0.7333 - val_f1_score: 0.4193 - lr: 2.5000e-04\n",
      "Epoch 61/1200\n",
      " 1/21 [>.............................] - ETA: 0s - loss: 0.4735 - accuracy: 0.8438 - f1_score: 0.5990\n",
      "Epoch 61: ReduceLROnPlateau reducing learning rate to 0.0001250000059371814.\n",
      "21/21 [==============================] - 0s 3ms/step - loss: 0.5455 - accuracy: 0.7627 - f1_score: 0.4747 - val_loss: 0.5723 - val_accuracy: 0.7333 - val_f1_score: 0.4193 - lr: 2.5000e-04\n",
      "Epoch 62/1200\n",
      "21/21 [==============================] - 0s 3ms/step - loss: 0.5407 - accuracy: 0.7627 - f1_score: 0.4467 - val_loss: 0.5724 - val_accuracy: 0.7333 - val_f1_score: 0.4193 - lr: 1.2500e-04\n",
      "Epoch 63/1200\n",
      "21/21 [==============================] - 0s 3ms/step - loss: 0.5488 - accuracy: 0.7567 - f1_score: 0.4774 - val_loss: 0.5726 - val_accuracy: 0.7333 - val_f1_score: 0.4193 - lr: 1.2500e-04\n",
      "Epoch 64/1200\n",
      "21/21 [==============================] - 0s 3ms/step - loss: 0.5484 - accuracy: 0.7612 - f1_score: 0.4763 - val_loss: 0.5725 - val_accuracy: 0.7333 - val_f1_score: 0.4193 - lr: 1.2500e-04\n",
      "Epoch 65/1200\n",
      "21/21 [==============================] - 0s 3ms/step - loss: 0.5361 - accuracy: 0.7597 - f1_score: 0.4737 - val_loss: 0.5723 - val_accuracy: 0.7333 - val_f1_score: 0.4193 - lr: 1.2500e-04\n",
      "Epoch 66/1200\n",
      "21/21 [==============================] - 0s 3ms/step - loss: 0.5386 - accuracy: 0.7612 - f1_score: 0.4802 - val_loss: 0.5723 - val_accuracy: 0.7333 - val_f1_score: 0.4193 - lr: 1.2500e-04\n",
      "Epoch 67/1200\n",
      "21/21 [==============================] - 0s 3ms/step - loss: 0.5464 - accuracy: 0.7418 - f1_score: 0.4470 - val_loss: 0.5724 - val_accuracy: 0.7333 - val_f1_score: 0.4193 - lr: 1.2500e-04\n",
      "Epoch 68/1200\n",
      "21/21 [==============================] - 0s 3ms/step - loss: 0.5405 - accuracy: 0.7642 - f1_score: 0.4665 - val_loss: 0.5721 - val_accuracy: 0.7333 - val_f1_score: 0.4193 - lr: 1.2500e-04\n",
      "Epoch 69/1200\n",
      "21/21 [==============================] - 0s 3ms/step - loss: 0.5496 - accuracy: 0.7567 - f1_score: 0.4582 - val_loss: 0.5722 - val_accuracy: 0.7333 - val_f1_score: 0.4193 - lr: 1.2500e-04\n",
      "Epoch 70/1200\n",
      "21/21 [==============================] - 0s 3ms/step - loss: 0.5243 - accuracy: 0.7627 - f1_score: 0.4699 - val_loss: 0.5722 - val_accuracy: 0.7333 - val_f1_score: 0.4193 - lr: 1.2500e-04\n",
      "Epoch 71/1200\n",
      "21/21 [==============================] - 0s 3ms/step - loss: 0.5489 - accuracy: 0.7657 - f1_score: 0.4822 - val_loss: 0.5720 - val_accuracy: 0.7333 - val_f1_score: 0.4193 - lr: 1.2500e-04\n",
      "Epoch 72/1200\n",
      "21/21 [==============================] - 0s 3ms/step - loss: 0.5479 - accuracy: 0.7642 - f1_score: 0.4785 - val_loss: 0.5722 - val_accuracy: 0.7333 - val_f1_score: 0.4193 - lr: 1.2500e-04\n",
      "Epoch 73/1200\n",
      "21/21 [==============================] - 0s 3ms/step - loss: 0.5325 - accuracy: 0.7537 - f1_score: 0.4532 - val_loss: 0.5721 - val_accuracy: 0.7333 - val_f1_score: 0.4193 - lr: 1.2500e-04\n",
      "Epoch 74/1200\n",
      "21/21 [==============================] - 0s 3ms/step - loss: 0.5506 - accuracy: 0.7567 - f1_score: 0.4501 - val_loss: 0.5719 - val_accuracy: 0.7333 - val_f1_score: 0.4193 - lr: 1.2500e-04\n",
      "Epoch 75/1200\n",
      "21/21 [==============================] - 0s 3ms/step - loss: 0.5509 - accuracy: 0.7537 - f1_score: 0.4559 - val_loss: 0.5715 - val_accuracy: 0.7333 - val_f1_score: 0.4193 - lr: 1.2500e-04\n",
      "Epoch 76/1200\n",
      "21/21 [==============================] - 0s 3ms/step - loss: 0.5391 - accuracy: 0.7612 - f1_score: 0.4726 - val_loss: 0.5714 - val_accuracy: 0.7333 - val_f1_score: 0.4193 - lr: 1.2500e-04\n",
      "Epoch 77/1200\n",
      "21/21 [==============================] - 0s 4ms/step - loss: 0.5459 - accuracy: 0.7612 - f1_score: 0.4784 - val_loss: 0.5716 - val_accuracy: 0.7333 - val_f1_score: 0.4193 - lr: 1.2500e-04\n",
      "Epoch 78/1200\n",
      "21/21 [==============================] - 0s 3ms/step - loss: 0.5364 - accuracy: 0.7687 - f1_score: 0.4680 - val_loss: 0.5717 - val_accuracy: 0.7333 - val_f1_score: 0.4193 - lr: 1.2500e-04\n",
      "Epoch 79/1200\n",
      "21/21 [==============================] - 0s 3ms/step - loss: 0.5200 - accuracy: 0.7642 - f1_score: 0.4902 - val_loss: 0.5716 - val_accuracy: 0.7333 - val_f1_score: 0.4193 - lr: 1.2500e-04\n",
      "Epoch 80/1200\n",
      "21/21 [==============================] - 0s 3ms/step - loss: 0.5352 - accuracy: 0.7597 - f1_score: 0.4685 - val_loss: 0.5717 - val_accuracy: 0.7333 - val_f1_score: 0.4193 - lr: 1.2500e-04\n",
      "Epoch 81/1200\n",
      " 1/21 [>.............................] - ETA: 0s - loss: 0.5689 - accuracy: 0.6875 - f1_score: 0.4074\n",
      "Epoch 81: ReduceLROnPlateau reducing learning rate to 6.25000029685907e-05.\n",
      "21/21 [==============================] - 0s 3ms/step - loss: 0.5345 - accuracy: 0.7552 - f1_score: 0.4342 - val_loss: 0.5717 - val_accuracy: 0.7333 - val_f1_score: 0.4193 - lr: 1.2500e-04\n",
      "Epoch 82/1200\n",
      "21/21 [==============================] - 0s 3ms/step - loss: 0.5342 - accuracy: 0.7522 - f1_score: 0.4680 - val_loss: 0.5718 - val_accuracy: 0.7333 - val_f1_score: 0.4193 - lr: 6.2500e-05\n",
      "Epoch 83/1200\n",
      "21/21 [==============================] - 0s 3ms/step - loss: 0.5380 - accuracy: 0.7552 - f1_score: 0.4770 - val_loss: 0.5717 - val_accuracy: 0.7333 - val_f1_score: 0.4193 - lr: 6.2500e-05\n",
      "Epoch 84/1200\n",
      "21/21 [==============================] - 0s 3ms/step - loss: 0.5376 - accuracy: 0.7612 - f1_score: 0.4540 - val_loss: 0.5718 - val_accuracy: 0.7333 - val_f1_score: 0.4193 - lr: 6.2500e-05\n",
      "Epoch 85/1200\n",
      "21/21 [==============================] - 0s 3ms/step - loss: 0.5281 - accuracy: 0.7657 - f1_score: 0.4769 - val_loss: 0.5719 - val_accuracy: 0.7333 - val_f1_score: 0.4193 - lr: 6.2500e-05\n",
      "Epoch 86/1200\n",
      "21/21 [==============================] - 0s 3ms/step - loss: 0.5334 - accuracy: 0.7597 - f1_score: 0.4742 - val_loss: 0.5718 - val_accuracy: 0.7333 - val_f1_score: 0.4193 - lr: 6.2500e-05\n",
      "Epoch 87/1200\n",
      "21/21 [==============================] - 0s 3ms/step - loss: 0.5343 - accuracy: 0.7597 - f1_score: 0.4727 - val_loss: 0.5719 - val_accuracy: 0.7333 - val_f1_score: 0.4193 - lr: 6.2500e-05\n",
      "Epoch 88/1200\n",
      "21/21 [==============================] - 0s 3ms/step - loss: 0.5448 - accuracy: 0.7552 - f1_score: 0.4632 - val_loss: 0.5720 - val_accuracy: 0.7333 - val_f1_score: 0.4193 - lr: 6.2500e-05\n",
      "Epoch 89/1200\n",
      "21/21 [==============================] - 0s 3ms/step - loss: 0.5284 - accuracy: 0.7701 - f1_score: 0.5000 - val_loss: 0.5718 - val_accuracy: 0.7333 - val_f1_score: 0.4193 - lr: 6.2500e-05\n",
      "Epoch 90/1200\n",
      "21/21 [==============================] - 0s 3ms/step - loss: 0.5378 - accuracy: 0.7448 - f1_score: 0.4505 - val_loss: 0.5718 - val_accuracy: 0.7333 - val_f1_score: 0.4193 - lr: 6.2500e-05\n",
      "Epoch 91/1200\n",
      "21/21 [==============================] - 0s 3ms/step - loss: 0.5233 - accuracy: 0.7642 - f1_score: 0.4660 - val_loss: 0.5717 - val_accuracy: 0.7333 - val_f1_score: 0.4193 - lr: 6.2500e-05\n",
      "Epoch 92/1200\n",
      "21/21 [==============================] - 0s 4ms/step - loss: 0.5369 - accuracy: 0.7552 - f1_score: 0.4789 - val_loss: 0.5714 - val_accuracy: 0.7333 - val_f1_score: 0.4193 - lr: 6.2500e-05\n",
      "Epoch 93/1200\n",
      "21/21 [==============================] - 0s 3ms/step - loss: 0.5268 - accuracy: 0.7612 - f1_score: 0.4749 - val_loss: 0.5714 - val_accuracy: 0.7333 - val_f1_score: 0.4193 - lr: 6.2500e-05\n",
      "Epoch 94/1200\n",
      "21/21 [==============================] - 0s 3ms/step - loss: 0.5297 - accuracy: 0.7627 - f1_score: 0.4921 - val_loss: 0.5711 - val_accuracy: 0.7333 - val_f1_score: 0.4193 - lr: 6.2500e-05\n",
      "Epoch 95/1200\n",
      "21/21 [==============================] - 0s 3ms/step - loss: 0.5336 - accuracy: 0.7612 - f1_score: 0.4853 - val_loss: 0.5712 - val_accuracy: 0.7333 - val_f1_score: 0.4193 - lr: 6.2500e-05\n",
      "Epoch 96/1200\n",
      "21/21 [==============================] - 0s 3ms/step - loss: 0.5199 - accuracy: 0.7642 - f1_score: 0.4840 - val_loss: 0.5713 - val_accuracy: 0.7333 - val_f1_score: 0.4193 - lr: 6.2500e-05\n",
      "Epoch 97/1200\n",
      "21/21 [==============================] - 0s 3ms/step - loss: 0.5297 - accuracy: 0.7657 - f1_score: 0.4907 - val_loss: 0.5712 - val_accuracy: 0.7333 - val_f1_score: 0.4193 - lr: 6.2500e-05\n",
      "Epoch 98/1200\n",
      "21/21 [==============================] - 0s 3ms/step - loss: 0.5360 - accuracy: 0.7627 - f1_score: 0.4864 - val_loss: 0.5711 - val_accuracy: 0.7333 - val_f1_score: 0.4193 - lr: 6.2500e-05\n",
      "Epoch 99/1200\n",
      "21/21 [==============================] - 0s 3ms/step - loss: 0.5291 - accuracy: 0.7687 - f1_score: 0.4966 - val_loss: 0.5708 - val_accuracy: 0.7333 - val_f1_score: 0.4193 - lr: 6.2500e-05\n",
      "Epoch 100/1200\n",
      "21/21 [==============================] - 0s 4ms/step - loss: 0.5305 - accuracy: 0.7642 - f1_score: 0.4793 - val_loss: 0.5708 - val_accuracy: 0.7333 - val_f1_score: 0.4193 - lr: 6.2500e-05\n",
      "Epoch 101/1200\n",
      " 1/21 [>.............................] - ETA: 0s - loss: 0.7132 - accuracy: 0.5938 - f1_score: 0.3725Restoring model weights from the end of the best epoch: 1.\n",
      "\n",
      "Epoch 101: ReduceLROnPlateau reducing learning rate to 3.125000148429535e-05.\n",
      "21/21 [==============================] - 0s 4ms/step - loss: 0.5382 - accuracy: 0.7463 - f1_score: 0.4790 - val_loss: 0.5707 - val_accuracy: 0.7333 - val_f1_score: 0.4193 - lr: 6.2500e-05\n",
      "Epoch 101: early stopping\n"
     ]
    },
    {
     "data": {
      "text/plain": [
       "<keras.src.callbacks.History at 0x24dd68e5310>"
      ]
     },
     "execution_count": 18,
     "metadata": {},
     "output_type": "execute_result"
    }
   ],
   "source": [
    "model.fit(x=x_train, y=y_train_onehot,\n",
    "          validation_data=(x_test, y_test_onehot),\n",
    "          batch_size=32,\n",
    "          epochs=1200,\n",
    "          callbacks=[early_stopping, lr_scheduler])"
   ]
  },
  {
   "cell_type": "code",
   "execution_count": 19,
   "id": "dff75e76",
   "metadata": {},
   "outputs": [
    {
     "name": "stdout",
     "output_type": "stream",
     "text": [
      "Model: \"sequential\"\n",
      "_________________________________________________________________\n",
      " Layer (type)                Output Shape              Param #   \n",
      "=================================================================\n",
      " dense (Dense)               (None, 512)               20480     \n",
      "                                                                 \n",
      " batch_normalization (Batch  (None, 512)               2048      \n",
      " Normalization)                                                  \n",
      "                                                                 \n",
      " dropout (Dropout)           (None, 512)               0         \n",
      "                                                                 \n",
      " dense_1 (Dense)             (None, 256)               131328    \n",
      "                                                                 \n",
      " batch_normalization_1 (Bat  (None, 256)               1024      \n",
      " chNormalization)                                                \n",
      "                                                                 \n",
      " dropout_1 (Dropout)         (None, 256)               0         \n",
      "                                                                 \n",
      " dense_2 (Dense)             (None, 128)               32896     \n",
      "                                                                 \n",
      " batch_normalization_2 (Bat  (None, 128)               512       \n",
      " chNormalization)                                                \n",
      "                                                                 \n",
      " dropout_2 (Dropout)         (None, 128)               0         \n",
      "                                                                 \n",
      " dense_3 (Dense)             (None, 64)                8256      \n",
      "                                                                 \n",
      " batch_normalization_3 (Bat  (None, 64)                256       \n",
      " chNormalization)                                                \n",
      "                                                                 \n",
      " dropout_3 (Dropout)         (None, 64)                0         \n",
      "                                                                 \n",
      " dense_4 (Dense)             (None, 32)                2080      \n",
      "                                                                 \n",
      " batch_normalization_4 (Bat  (None, 32)                128       \n",
      " chNormalization)                                                \n",
      "                                                                 \n",
      " dropout_4 (Dropout)         (None, 32)                0         \n",
      "                                                                 \n",
      " dense_5 (Dense)             (None, 2)                 66        \n",
      "                                                                 \n",
      "=================================================================\n",
      "Total params: 199074 (777.63 KB)\n",
      "Trainable params: 197090 (769.88 KB)\n",
      "Non-trainable params: 1984 (7.75 KB)\n",
      "_________________________________________________________________\n"
     ]
    }
   ],
   "source": [
    "model.summary()"
   ]
  },
  {
   "cell_type": "markdown",
   "id": "0b2cb867",
   "metadata": {},
   "source": [
    "#### * Kết quả đánh giá mô hình:"
   ]
  },
  {
   "cell_type": "code",
   "execution_count": 20,
   "id": "07132b7e",
   "metadata": {},
   "outputs": [
    {
     "name": "stdout",
     "output_type": "stream",
     "text": [
      "Model: \"sequential\"\n",
      "_________________________________________________________________\n",
      " Layer (type)                Output Shape              Param #   \n",
      "=================================================================\n",
      " dense (Dense)               (None, 512)               20480     \n",
      "                                                                 \n",
      " batch_normalization (Batch  (None, 512)               2048      \n",
      " Normalization)                                                  \n",
      "                                                                 \n",
      " dropout (Dropout)           (None, 512)               0         \n",
      "                                                                 \n",
      " dense_1 (Dense)             (None, 256)               131328    \n",
      "                                                                 \n",
      " batch_normalization_1 (Bat  (None, 256)               1024      \n",
      " chNormalization)                                                \n",
      "                                                                 \n",
      " dropout_1 (Dropout)         (None, 256)               0         \n",
      "                                                                 \n",
      " dense_2 (Dense)             (None, 128)               32896     \n",
      "                                                                 \n",
      " batch_normalization_2 (Bat  (None, 128)               512       \n",
      " chNormalization)                                                \n",
      "                                                                 \n",
      " dropout_2 (Dropout)         (None, 128)               0         \n",
      "                                                                 \n",
      " dense_3 (Dense)             (None, 64)                8256      \n",
      "                                                                 \n",
      " batch_normalization_3 (Bat  (None, 64)                256       \n",
      " chNormalization)                                                \n",
      "                                                                 \n",
      " dropout_3 (Dropout)         (None, 64)                0         \n",
      "                                                                 \n",
      " dense_4 (Dense)             (None, 32)                2080      \n",
      "                                                                 \n",
      " batch_normalization_4 (Bat  (None, 32)                128       \n",
      " chNormalization)                                                \n",
      "                                                                 \n",
      " dropout_4 (Dropout)         (None, 32)                0         \n",
      "                                                                 \n",
      " dense_5 (Dense)             (None, 2)                 66        \n",
      "                                                                 \n",
      "=================================================================\n",
      "Total params: 199074 (777.63 KB)\n",
      "Trainable params: 197090 (769.88 KB)\n",
      "Non-trainable params: 1984 (7.75 KB)\n",
      "_________________________________________________________________\n"
     ]
    }
   ],
   "source": [
    "model.summary()"
   ]
  },
  {
   "cell_type": "code",
   "execution_count": 21,
   "id": "875136d2",
   "metadata": {},
   "outputs": [
    {
     "data": {
      "image/png": "[encoded data removed]",
      "text/plain": [
       "<Figure size 1500x800 with 2 Axes>"
      ]
     },
     "metadata": {},
     "output_type": "display_data"
    },
    {
     "data": {
      "text/plain": [
       "<Figure size 640x480 with 0 Axes>"
      ]
     },
     "metadata": {},
     "output_type": "display_data"
    }
   ],
   "source": [
    "history=model.history.history\n",
    "fig,axes=plt.subplots(1,2, figsize=(15,8))\n",
    "axes[0].plot(pd.DataFrame(history['val_accuracy']))\n",
    "axes[0].set_title('Training Process')\n",
    "axes[1].plot(pd.DataFrame(history))\n",
    "axes[1].set_title('Training Process')\n",
    "plt.show()\n",
    "plt.savefig('train.png')"
   ]
  },
  {
   "cell_type": "code",
   "execution_count": 22,
   "id": "b5a05cd8",
   "metadata": {},
   "outputs": [
    {
     "name": "stdout",
     "output_type": "stream",
     "text": [
      "11/11 [==============================] - 0s 800us/step\n"
     ]
    },
    {
     "data": {
      "text/plain": [
       "0.7333333333333333"
      ]
     },
     "execution_count": 22,
     "metadata": {},
     "output_type": "execute_result"
    }
   ],
   "source": [
    "y_test_labels = np.argmax(y_test_onehot, axis=1)\n",
    "predictions = model.predict(x_test)\n",
    "predictions = np.argmax(predictions, axis=1)\n",
    "accuracy = accuracy_score(y_test_labels, predictions)\n",
    "accuracy\n"
   ]
  },
  {
   "cell_type": "code",
   "execution_count": 23,
   "id": "7f1d8560",
   "metadata": {},
   "outputs": [
    {
     "name": "stdout",
     "output_type": "stream",
     "text": [
      "Accuracy: 0.7333333333333333\n",
      "Classification Report:\n",
      "              precision    recall  f1-score   support\n",
      "\n",
      "           0       0.73      1.00      0.85       242\n",
      "           1       0.00      0.00      0.00        88\n",
      "\n",
      "    accuracy                           0.73       330\n",
      "   macro avg       0.37      0.50      0.42       330\n",
      "weighted avg       0.54      0.73      0.62       330\n",
      "\n",
      "Confusion Matrix:\n",
      "[[242   0]\n",
      " [ 88   0]]\n"
     ]
    }
   ],
   "source": [
    "from sklearn.metrics import accuracy_score, classification_report, confusion_matrix\n",
    "import numpy as np\n",
    "\n",
    "y_test_labels = np.argmax(y_test_onehot, axis=1)\n",
    "\n",
    "accuracy = accuracy_score(y_test_labels, predictions)\n",
    "print(\"Accuracy:\", accuracy)\n",
    "print(\"Classification Report:\")\n",
    "print(classification_report(y_test_labels, predictions))\n",
    "\n",
    "print(\"Confusion Matrix:\")\n",
    "print(confusion_matrix(y_test_labels, predictions))\n"
   ]
  },
  {
   "cell_type": "code",
   "execution_count": 24,
   "id": "6f218b86",
   "metadata": {},
   "outputs": [
    {
     "data": {
      "image/png": "[encoded data removed]",
      "text/plain": [
       "<Figure size 800x600 with 2 Axes>"
      ]
     },
     "metadata": {},
     "output_type": "display_data"
    }
   ],
   "source": [
    "# Dự đoán\n",
    "\n",
    "\n",
    "# Tính ma trận nhầm lẫn\n",
    "cm = confusion_matrix(y_test, predictions,labels=[1,0])\n",
    "plt.figure(figsize=(8, 6))\n",
    "sns.heatmap(cm, annot=True, fmt='g', cmap='Blues', xticklabels=[1,0], yticklabels=[1,0])\n",
    "plt.title('Confusion Matrix')\n",
    "plt.xlabel('Predicted')\n",
    "plt.ylabel('Actual')\n",
    "plt.show()"
   ]
  },
  {
   "cell_type": "code",
   "execution_count": 25,
   "id": "e744c8a6",
   "metadata": {},
   "outputs": [
    {
     "data": {
      "image/png": "[encoded data removed]",
      "text/plain": [
       "<Figure size 1500x1500 with 1 Axes>"
      ]
     },
     "metadata": {},
     "output_type": "display_data"
    }
   ],
   "source": [
    "fig, ax = plt.subplots(1, 1, figsize=(15, 15))\n",
    "\n",
    "fpr, tpr, _ = roc_curve(y_test, predictions)\n",
    "    \n",
    "roc_auc = auc(fpr, tpr)\n",
    "\n",
    "ax.plot(fpr, tpr, lw=4, color='blue', label='ROC curve (AUC = %0.2f)' % roc_auc)\n",
    "ax.plot([0, 1], [0, 1], color='red', lw=2, linestyle='--')\n",
    "ax.set_xlim([0.0, 1.0])\n",
    "ax.set_ylim([0.0, 1.05])\n",
    "ax.set_xlabel('False Positive Rate', fontsize=12, weight='bold')  \n",
    "ax.set_ylabel('True Positive Rate', fontsize=12, weight='bold')   \n",
    "ax.set_title(f'ROC of Voting',fontsize=20, weight='bold')  \n",
    "ax.legend(loc=\"lower right\", prop={'size': 12, 'weight': 'bold'}) \n",
    "plt.show()"
   ]
  },
  {
   "cell_type": "code",
   "execution_count": 26,
   "id": "ffe10617",
   "metadata": {},
   "outputs": [],
   "source": [
    "def check_result(prediction):\n",
    "    prediction = (prediction > 0.2).astype(int)\n",
    "    if isinstance(prediction, (np.ndarray, pd.Series)):\n",
    "        prediction = prediction.item()  # Hoặc sử dụng prediction[0] hoặc prediction.iloc[0]\n",
    "    if prediction==1:\n",
    "        return \"Y\"\n",
    "    else:\n",
    "        return \"N\""
   ]
  },
  {
   "cell_type": "code",
   "execution_count": 27,
   "id": "8e3eefa4",
   "metadata": {},
   "outputs": [],
   "source": [
    "# solandung=0\n",
    "# hopdonggianlan=0\n",
    "# for indx in range(len(x_test)):\n",
    "#     y_predict = stacked_model.predict(stacked_input)\n",
    "#     stacked_pred_labels = y_predict.argmax(axis=1)\n",
    "\n",
    "#     #print(y_predict[0][0])\n",
    "#     Y_check = check_result(y_test.iloc[indx])\n",
    "#     print('True:', Y_check)\n",
    "#     print('Predicted:', check_result(stacked_pred_labels[indx]))\n",
    "#     print(\"----------------------------\")\n",
    "#     if Y_check==check_result(stacked_pred_labels[indx]):\n",
    "#         solandung+=1\n",
    "#         if Y_check=='Y':\n",
    "#             hopdonggianlan+=1\n",
    "    "
   ]
  },
  {
   "cell_type": "code",
   "execution_count": null,
   "id": "c31643d6",
   "metadata": {},
   "outputs": [],
   "source": []
  },
  {
   "cell_type": "code",
   "execution_count": null,
   "id": "33e3467b",
   "metadata": {},
   "outputs": [],
   "source": []
  }
 ],
 "metadata": {
  "kernelspec": {
   "display_name": "Python 3",
   "language": "python",
   "name": "python3"
  },
  "language_info": {
   "codemirror_mode": {
    "name": "ipython",
    "version": 3
   },
   "file_extension": ".py",
   "mimetype": "text/x-python",
   "name": "python",
   "nbconvert_exporter": "python",
   "pygments_lexer": "ipython3",
   "version": "3.8.19"
  }
 },
 "nbformat": 4,
 "nbformat_minor": 5
}
