{
 "cells": [
  {
   "cell_type": "code",
   "execution_count": null,
   "metadata": {
    "_cell_guid": "b1076dfc-b9ad-4769-8c92-a6c4dae69d19",
    "_uuid": "8f2839f25d086af736a60e9eeb907d3b93b6e0e5",
    "execution": {
     "iopub.execute_input": "2025-05-05T14:28:19.515248Z",
     "iopub.status.busy": "2025-05-05T14:28:19.514957Z",
     "iopub.status.idle": "2025-05-05T14:28:40.217177Z",
     "shell.execute_reply": "2025-05-05T14:28:40.216275Z",
     "shell.execute_reply.started": "2025-05-05T14:28:19.515222Z"
    },
    "trusted": true
   },
   "outputs": [],
   "source": [
    "# !git clone https://github.com/dinhtanloc/ads_fraud_detection.git"
   ]
  },
  {
   "cell_type": "code",
   "execution_count": null,
   "metadata": {
    "execution": {
     "iopub.execute_input": "2025-05-05T14:28:40.219200Z",
     "iopub.status.busy": "2025-05-05T14:28:40.218979Z",
     "iopub.status.idle": "2025-05-05T14:28:40.222469Z",
     "shell.execute_reply": "2025-05-05T14:28:40.221941Z",
     "shell.execute_reply.started": "2025-05-05T14:28:40.219180Z"
    },
    "trusted": true
   },
   "outputs": [],
   "source": [
    "# pip install kaggle==1.5.0"
   ]
  },
  {
   "cell_type": "code",
   "execution_count": null,
   "metadata": {
    "execution": {
     "iopub.execute_input": "2025-05-05T14:28:40.223779Z",
     "iopub.status.busy": "2025-05-05T14:28:40.223272Z",
     "iopub.status.idle": "2025-05-05T14:28:40.239522Z",
     "shell.execute_reply": "2025-05-05T14:28:40.238910Z",
     "shell.execute_reply.started": "2025-05-05T14:28:40.223759Z"
    },
    "trusted": true
   },
   "outputs": [],
   "source": [
    "# pip install tensorflow==2.12.0\n",
    "# # "
   ]
  },
  {
   "cell_type": "code",
   "execution_count": null,
   "metadata": {
    "execution": {
     "iopub.execute_input": "2025-05-05T14:28:40.241001Z",
     "iopub.status.busy": "2025-05-05T14:28:40.240784Z",
     "iopub.status.idle": "2025-05-05T14:30:03.931236Z",
     "shell.execute_reply": "2025-05-05T14:30:03.930118Z",
     "shell.execute_reply.started": "2025-05-05T14:28:40.240982Z"
    },
    "trusted": true
   },
   "outputs": [],
   "source": [
    "# pip install joblib cufflinks pydantic-settings mlxtend keras-tuner wandb shap lime tabnet-keras imbalanced-learn scikit-learn-extra xgboost lightgbm faker sdv"
   ]
  },
  {
   "cell_type": "code",
   "execution_count": null,
   "metadata": {
    "execution": {
     "iopub.execute_input": "2025-05-05T14:30:03.932637Z",
     "iopub.status.busy": "2025-05-05T14:30:03.932393Z",
     "iopub.status.idle": "2025-05-05T14:30:04.808114Z",
     "shell.execute_reply": "2025-05-05T14:30:04.807353Z",
     "shell.execute_reply.started": "2025-05-05T14:30:03.932613Z"
    },
    "trusted": true
   },
   "outputs": [],
   "source": [
    "# from kaggle_secrets import UserSecretsClient\n",
    "# import os\n",
    "# user_secrets = UserSecretsClient()\n",
    "# KAGGLE_KEY = user_secrets.get_secret(\"KAGGLE_KEY\")\n",
    "# KAGGLE_USERNAME = user_secrets.get_secret(\"KAGGLE_USERNAME\")\n",
    "# os.environ['KAGGLE_USERNAME'] = KAGGLE_USERNAME\n",
    "# os.environ['KAGGLE_KEY'] = KAGGLE_KEY\n",
    "\n",
    "# from kaggle.api.kaggle_api_extended import KaggleApi\n",
    "\n",
    "# api = KaggleApi()\n",
    "# api.authenticate()\n",
    "\n",
    "# print(\"Kaggle API authenticated successfully!\")"
   ]
  },
  {
   "cell_type": "code",
   "execution_count": null,
   "metadata": {
    "execution": {
     "iopub.execute_input": "2025-05-05T14:30:04.809433Z",
     "iopub.status.busy": "2025-05-05T14:30:04.808862Z",
     "iopub.status.idle": "2025-05-05T14:30:05.169377Z",
     "shell.execute_reply": "2025-05-05T14:30:05.168438Z",
     "shell.execute_reply.started": "2025-05-05T14:30:04.809411Z"
    },
    "trusted": true
   },
   "outputs": [],
   "source": [
    "# import os\n",
    "# os.system(\"kaggle command\")"
   ]
  },
  {
   "cell_type": "code",
   "execution_count": null,
   "metadata": {
    "execution": {
     "iopub.execute_input": "2025-05-05T14:30:05.170549Z",
     "iopub.status.busy": "2025-05-05T14:30:05.170266Z",
     "iopub.status.idle": "2025-05-05T14:31:00.824068Z",
     "shell.execute_reply": "2025-05-05T14:31:00.821648Z",
     "shell.execute_reply.started": "2025-05-05T14:30:05.170506Z"
    },
    "trusted": true
   },
   "outputs": [],
   "source": [
    "# %run C:/Users/PC/Data/ads_fraud_detection/src/prj3/1.EDA/EDA_mainbaseline_kaggle.ipynb"
   ]
  },
  {
   "cell_type": "markdown",
   "metadata": {},
   "source": [
    "smote"
   ]
  },
  {
   "cell_type": "code",
   "execution_count": null,
   "metadata": {
    "execution": {
     "iopub.status.busy": "2025-05-05T14:31:00.824581Z",
     "iopub.status.idle": "2025-05-05T14:31:00.824843Z",
     "shell.execute_reply": "2025-05-05T14:31:00.824748Z",
     "shell.execute_reply.started": "2025-05-05T14:31:00.824736Z"
    },
    "trusted": true
   },
   "outputs": [],
   "source": [
    "# %run C:/Users/PC/Data/ads_fraud_detection/src/prj3/2.preprocessing/3.smote/pre-processing-mainbaseline_SMOTE_kaggle.ipynb"
   ]
  },
  {
   "cell_type": "code",
   "execution_count": null,
   "metadata": {
    "execution": {
     "iopub.status.busy": "2025-05-05T14:31:00.826235Z",
     "iopub.status.idle": "2025-05-05T14:31:00.826466Z",
     "shell.execute_reply": "2025-05-05T14:31:00.826363Z",
     "shell.execute_reply.started": "2025-05-05T14:31:00.826353Z"
    },
    "trusted": true
   },
   "outputs": [],
   "source": [
    "%run C:/Users/PC/Data/ads_fraud_detection/src/prj3/5.deep_learning_model/3.smote/VGG16/vgg16_kaggle.ipynb"
   ]
  },
  {
   "cell_type": "code",
   "execution_count": null,
   "metadata": {
    "execution": {
     "iopub.status.busy": "2025-05-05T14:31:00.827524Z",
     "iopub.status.idle": "2025-05-05T14:31:00.827743Z",
     "shell.execute_reply": "2025-05-05T14:31:00.827647Z",
     "shell.execute_reply.started": "2025-05-05T14:31:00.827637Z"
    },
    "trusted": true
   },
   "outputs": [],
   "source": [
    "%run C:/Users/PC/Data/ads_fraud_detection/src/prj3/5.deep_learning_model/3.smote/VGG16/vgg16_class_weight_kaggle.ipynb"
   ]
  },
  {
   "cell_type": "code",
   "execution_count": null,
   "metadata": {
    "execution": {
     "iopub.status.busy": "2025-05-05T14:31:00.829080Z",
     "iopub.status.idle": "2025-05-05T14:31:00.829288Z",
     "shell.execute_reply": "2025-05-05T14:31:00.829199Z",
     "shell.execute_reply.started": "2025-05-05T14:31:00.829189Z"
    },
    "trusted": true
   },
   "outputs": [],
   "source": [
    "%run C:/Users/PC/Data/ads_fraud_detection/src/prj3/5.deep_learning_model/3.smote/VGG19/vgg19_kaggle.ipynb"
   ]
  },
  {
   "cell_type": "code",
   "execution_count": null,
   "metadata": {
    "execution": {
     "iopub.status.busy": "2025-05-05T14:31:00.830557Z",
     "iopub.status.idle": "2025-05-05T14:31:00.830838Z",
     "shell.execute_reply": "2025-05-05T14:31:00.830690Z",
     "shell.execute_reply.started": "2025-05-05T14:31:00.830677Z"
    },
    "trusted": true
   },
   "outputs": [],
   "source": [
    "%run C:/Users/PC/Data/ads_fraud_detection/src/prj3/5.deep_learning_model/3.smote/VGG19/vgg19_class_weight_kaggle.ipynb"
   ]
  },
  {
   "cell_type": "markdown",
   "metadata": {},
   "source": [
    "gau"
   ]
  },
  {
   "cell_type": "code",
   "execution_count": null,
   "metadata": {
    "execution": {
     "iopub.status.busy": "2025-05-05T14:31:00.836457Z",
     "iopub.status.idle": "2025-05-05T14:31:00.836672Z",
     "shell.execute_reply": "2025-05-05T14:31:00.836584Z",
     "shell.execute_reply.started": "2025-05-05T14:31:00.836574Z"
    },
    "trusted": true
   },
   "outputs": [],
   "source": [
    "# %run C:/Users/PC/Data/ads_fraud_detection/src/prj3/2.preprocessing/4.synthetic_gau/pre-processing-mainbaseline_GAU_kaggle.ipynb"
   ]
  },
  {
   "cell_type": "code",
   "execution_count": null,
   "metadata": {
    "execution": {
     "iopub.status.busy": "2025-05-05T14:31:00.837320Z",
     "iopub.status.idle": "2025-05-05T14:31:00.837528Z",
     "shell.execute_reply": "2025-05-05T14:31:00.837428Z",
     "shell.execute_reply.started": "2025-05-05T14:31:00.837419Z"
    },
    "trusted": true
   },
   "outputs": [],
   "source": [
    "%run C:/Users/PC/Data/ads_fraud_detection/src/prj3/5.deep_learning_model/4.synthetic_gau/VGG16/vgg16_kaggle.ipynb"
   ]
  },
  {
   "cell_type": "code",
   "execution_count": null,
   "metadata": {
    "execution": {
     "iopub.status.busy": "2025-05-05T14:31:00.838490Z",
     "iopub.status.idle": "2025-05-05T14:31:00.838733Z",
     "shell.execute_reply": "2025-05-05T14:31:00.838634Z",
     "shell.execute_reply.started": "2025-05-05T14:31:00.838621Z"
    },
    "trusted": true
   },
   "outputs": [],
   "source": [
    "%run C:/Users/PC/Data/ads_fraud_detection/src/prj3/5.deep_learning_model/4.synthetic_gau/VGG16/vgg16_class_weight_kaggle.ipynb"
   ]
  },
  {
   "cell_type": "code",
   "execution_count": null,
   "metadata": {
    "execution": {
     "iopub.status.busy": "2025-05-05T14:31:00.840510Z",
     "iopub.status.idle": "2025-05-05T14:31:00.840816Z",
     "shell.execute_reply": "2025-05-05T14:31:00.840674Z",
     "shell.execute_reply.started": "2025-05-05T14:31:00.840660Z"
    },
    "trusted": true
   },
   "outputs": [],
   "source": [
    "%run C:/Users/PC/Data/ads_fraud_detection/src/prj3/5.deep_learning_model/4.synthetic_gau/InceptionV2/inceptionv2_kaggle.ipynb"
   ]
  },
  {
   "cell_type": "code",
   "execution_count": null,
   "metadata": {
    "execution": {
     "iopub.status.busy": "2025-05-05T14:31:00.841903Z",
     "iopub.status.idle": "2025-05-05T14:31:00.842213Z",
     "shell.execute_reply": "2025-05-05T14:31:00.842071Z",
     "shell.execute_reply.started": "2025-05-05T14:31:00.842057Z"
    },
    "trusted": true
   },
   "outputs": [],
   "source": [
    "%run C:/Users/PC/Data/ads_fraud_detection/src/prj3/5.deep_learning_model/4.synthetic_gau/InceptionV2/inceptionv2_class_weight_kaggle.ipynb"
   ]
  },
  {
   "cell_type": "code",
   "execution_count": null,
   "metadata": {
    "execution": {
     "iopub.status.busy": "2025-05-05T14:31:00.842935Z",
     "iopub.status.idle": "2025-05-05T14:31:00.843228Z",
     "shell.execute_reply": "2025-05-05T14:31:00.843091Z",
     "shell.execute_reply.started": "2025-05-05T14:31:00.843078Z"
    },
    "trusted": true
   },
   "outputs": [],
   "source": [
    "%run C:/Users/PC/Data/ads_fraud_detection/src/prj3/5.deep_learning_model/4.synthetic_gau/InceptionV3/inceptionv3_kaggle.ipynb"
   ]
  },
  {
   "cell_type": "code",
   "execution_count": null,
   "metadata": {
    "execution": {
     "iopub.status.busy": "2025-05-05T14:31:00.844628Z",
     "iopub.status.idle": "2025-05-05T14:31:00.844956Z",
     "shell.execute_reply": "2025-05-05T14:31:00.844794Z",
     "shell.execute_reply.started": "2025-05-05T14:31:00.844780Z"
    },
    "trusted": true
   },
   "outputs": [],
   "source": [
    "%run C:/Users/PC/Data/ads_fraud_detection/src/prj3/5.deep_learning_model/4.synthetic_gau/InceptionV3/inceptionv3_class_weight_kaggle.ipynb"
   ]
  },
  {
   "cell_type": "markdown",
   "metadata": {},
   "source": [
    "gan"
   ]
  },
  {
   "cell_type": "code",
   "execution_count": null,
   "metadata": {
    "execution": {
     "iopub.status.busy": "2025-05-05T14:31:00.845925Z",
     "iopub.status.idle": "2025-05-05T14:31:00.846137Z",
     "shell.execute_reply": "2025-05-05T14:31:00.846049Z",
     "shell.execute_reply.started": "2025-05-05T14:31:00.846040Z"
    },
    "trusted": true
   },
   "outputs": [],
   "source": [
    "# %run C:/Users/PC/Data/ads_fraud_detection/src/prj3/2.preprocessing/5.synthetic_gan/pre-processing-mainbaseline_GAN_kaggle.ipynb"
   ]
  },
  {
   "cell_type": "code",
   "execution_count": null,
   "metadata": {
    "execution": {
     "iopub.status.busy": "2025-05-05T14:31:00.846971Z",
     "iopub.status.idle": "2025-05-05T14:31:00.847265Z",
     "shell.execute_reply": "2025-05-05T14:31:00.847130Z",
     "shell.execute_reply.started": "2025-05-05T14:31:00.847117Z"
    },
    "trusted": true
   },
   "outputs": [],
   "source": [
    "%run C:/Users/PC/Data/ads_fraud_detection/src/prj3/5.deep_learning_model/5.synthetic_gan/InceptionV3/inceptionv3_kaggle.ipynb"
   ]
  },
  {
   "cell_type": "code",
   "execution_count": null,
   "metadata": {
    "execution": {
     "iopub.status.busy": "2025-05-05T14:31:00.848297Z",
     "iopub.status.idle": "2025-05-05T14:31:00.848496Z",
     "shell.execute_reply": "2025-05-05T14:31:00.848408Z",
     "shell.execute_reply.started": "2025-05-05T14:31:00.848399Z"
    },
    "trusted": true
   },
   "outputs": [],
   "source": [
    "%run C:/Users/PC/Data/ads_fraud_detection/src/prj3/5.deep_learning_model/5.synthetic_gan/InceptionV3/inceptionv3_class_weight_kaggle.ipynb"
   ]
  },
  {
   "cell_type": "code",
   "execution_count": null,
   "metadata": {
    "execution": {
     "iopub.status.busy": "2025-05-05T14:31:00.849200Z",
     "iopub.status.idle": "2025-05-05T14:31:00.849408Z",
     "shell.execute_reply": "2025-05-05T14:31:00.849316Z",
     "shell.execute_reply.started": "2025-05-05T14:31:00.849307Z"
    },
    "trusted": true
   },
   "outputs": [],
   "source": [
    "%run C:/Users/PC/Data/ads_fraud_detection/src/prj3/5.deep_learning_model/5.synthetic_gan/VGG16/vgg16_class_weight_kaggle.ipynb"
   ]
  },
  {
   "cell_type": "code",
   "execution_count": null,
   "metadata": {
    "execution": {
     "iopub.status.busy": "2025-05-05T14:31:00.852134Z",
     "iopub.status.idle": "2025-05-05T14:31:00.852681Z",
     "shell.execute_reply": "2025-05-05T14:31:00.852562Z",
     "shell.execute_reply.started": "2025-05-05T14:31:00.852522Z"
    },
    "trusted": true
   },
   "outputs": [],
   "source": [
    "%run C:/Users/PC/Data/ads_fraud_detection/src/prj3/5.deep_learning_model/5.synthetic_gan/VGG16/vgg16_kaggle.ipynb"
   ]
  },
  {
   "cell_type": "code",
   "execution_count": null,
   "metadata": {
    "execution": {
     "iopub.status.busy": "2025-05-05T14:31:00.853461Z",
     "iopub.status.idle": "2025-05-05T14:31:00.853716Z",
     "shell.execute_reply": "2025-05-05T14:31:00.853591Z",
     "shell.execute_reply.started": "2025-05-05T14:31:00.853578Z"
    },
    "trusted": true
   },
   "outputs": [],
   "source": [
    "%run C:/Users/PC/Data/ads_fraud_detection/src/prj3/5.deep_learning_model/5.synthetic_gan/InceptionV2/inceptionv2_kaggle.ipynb"
   ]
  },
  {
   "cell_type": "code",
   "execution_count": null,
   "metadata": {
    "execution": {
     "iopub.status.busy": "2025-05-05T14:31:00.854839Z",
     "iopub.status.idle": "2025-05-05T14:31:00.855148Z",
     "shell.execute_reply": "2025-05-05T14:31:00.855010Z",
     "shell.execute_reply.started": "2025-05-05T14:31:00.854994Z"
    },
    "trusted": true
   },
   "outputs": [],
   "source": [
    "%run C:/Users/PC/Data/ads_fraud_detection/src/prj3/5.deep_learning_model/5.synthetic_gan/InceptionV2/inceptionv2_class_weight_kaggle.ipynb"
   ]
  },
  {
   "cell_type": "markdown",
   "metadata": {},
   "source": [
    "gancopula"
   ]
  },
  {
   "cell_type": "code",
   "execution_count": null,
   "metadata": {
    "execution": {
     "iopub.status.busy": "2025-05-05T14:31:00.856096Z",
     "iopub.status.idle": "2025-05-05T14:31:00.856380Z",
     "shell.execute_reply": "2025-05-05T14:31:00.856264Z",
     "shell.execute_reply.started": "2025-05-05T14:31:00.856248Z"
    },
    "trusted": true
   },
   "outputs": [],
   "source": [
    "# %run C:/Users/PC/Data/ads_fraud_detection/src/prj3/2.preprocessing/6.synthetic_gancopula/pre-processing-mainbaseline_noSMOTE_kaggle.ipynb"
   ]
  },
  {
   "cell_type": "code",
   "execution_count": null,
   "metadata": {
    "execution": {
     "iopub.status.busy": "2025-05-05T14:31:00.857148Z",
     "iopub.status.idle": "2025-05-05T14:31:00.857380Z",
     "shell.execute_reply": "2025-05-05T14:31:00.857284Z",
     "shell.execute_reply.started": "2025-05-05T14:31:00.857267Z"
    },
    "trusted": true
   },
   "outputs": [],
   "source": [
    "%run C:/Users/PC/Data/ads_fraud_detection/src/prj3/5.deep_learning_model/6.synthetic_gancopula/InceptionV3/inceptionv3_kaggle.ipynb"
   ]
  },
  {
   "cell_type": "code",
   "execution_count": null,
   "metadata": {
    "execution": {
     "iopub.status.busy": "2025-05-05T14:31:00.858551Z",
     "iopub.status.idle": "2025-05-05T14:31:00.858849Z",
     "shell.execute_reply": "2025-05-05T14:31:00.858712Z",
     "shell.execute_reply.started": "2025-05-05T14:31:00.858699Z"
    },
    "trusted": true
   },
   "outputs": [],
   "source": [
    "%run C:/Users/PC/Data/ads_fraud_detection/src/prj3/5.deep_learning_model/6.synthetic_gancopula/InceptionV3/inceptionv3_class_weight_kaggle.ipynb"
   ]
  },
  {
   "cell_type": "code",
   "execution_count": null,
   "metadata": {
    "execution": {
     "iopub.status.busy": "2025-05-05T14:31:00.859597Z",
     "iopub.status.idle": "2025-05-05T14:31:00.859818Z",
     "shell.execute_reply": "2025-05-05T14:31:00.859724Z",
     "shell.execute_reply.started": "2025-05-05T14:31:00.859713Z"
    },
    "trusted": true
   },
   "outputs": [],
   "source": [
    "%run C:/Users/PC/Data/ads_fraud_detection/src/prj3/5.deep_learning_model/6.synthetic_gancopula/VGG16/vgg16_kaggle.ipynb"
   ]
  },
  {
   "cell_type": "code",
   "execution_count": null,
   "metadata": {
    "execution": {
     "iopub.status.busy": "2025-05-05T14:31:00.860615Z",
     "iopub.status.idle": "2025-05-05T14:31:00.860827Z",
     "shell.execute_reply": "2025-05-05T14:31:00.860739Z",
     "shell.execute_reply.started": "2025-05-05T14:31:00.860729Z"
    },
    "trusted": true
   },
   "outputs": [],
   "source": [
    "%run C:/Users/PC/Data/ads_fraud_detection/src/prj3/5.deep_learning_model/6.synthetic_gancopula/VGG16/vgg16_class_weight_kaggle.ipynb"
   ]
  },
  {
   "cell_type": "code",
   "execution_count": null,
   "metadata": {
    "execution": {
     "iopub.status.busy": "2025-05-05T14:31:00.861439Z",
     "iopub.status.idle": "2025-05-05T14:31:00.861711Z",
     "shell.execute_reply": "2025-05-05T14:31:00.861581Z",
     "shell.execute_reply.started": "2025-05-05T14:31:00.861572Z"
    },
    "trusted": true
   },
   "outputs": [],
   "source": [
    "%run C:/Users/PC/Data/ads_fraud_detection/src/prj3/5.deep_learning_model/6.synthetic_gancopula/InceptionV2/inceptionv2_kaggle.ipynb"
   ]
  },
  {
   "cell_type": "code",
   "execution_count": null,
   "metadata": {
    "execution": {
     "iopub.status.busy": "2025-05-05T14:31:00.863056Z",
     "iopub.status.idle": "2025-05-05T14:31:00.863320Z",
     "shell.execute_reply": "2025-05-05T14:31:00.863221Z",
     "shell.execute_reply.started": "2025-05-05T14:31:00.863209Z"
    },
    "trusted": true
   },
   "outputs": [],
   "source": [
    "%run C:/Users/PC/Data/ads_fraud_detection/src/prj3/5.deep_learning_model/6.synthetic_gancopula/InceptionV2/inceptionv2_class_weight_kaggle.ipynb"
   ]
  },
  {
   "cell_type": "markdown",
   "metadata": {},
   "source": [
    "vae"
   ]
  },
  {
   "cell_type": "code",
   "execution_count": null,
   "metadata": {
    "execution": {
     "iopub.status.busy": "2025-05-05T14:31:00.863999Z",
     "iopub.status.idle": "2025-05-05T14:31:00.864279Z",
     "shell.execute_reply": "2025-05-05T14:31:00.864136Z",
     "shell.execute_reply.started": "2025-05-05T14:31:00.864122Z"
    },
    "trusted": true
   },
   "outputs": [],
   "source": [
    "%run C:/Users/PC/Data/ads_fraud_detection/src/prj3/2.preprocessing/7.synthetic_vae/pre-processing-mainbaseline_VAE_kaggle.ipynb"
   ]
  },
  {
   "cell_type": "code",
   "execution_count": null,
   "metadata": {
    "execution": {
     "iopub.status.busy": "2025-05-05T14:31:00.865553Z",
     "iopub.status.idle": "2025-05-05T14:31:00.865749Z",
     "shell.execute_reply": "2025-05-05T14:31:00.865666Z",
     "shell.execute_reply.started": "2025-05-05T14:31:00.865658Z"
    },
    "trusted": true
   },
   "outputs": [],
   "source": [
    "%run C:/Users/PC/Data/ads_fraud_detection/src/prj3/5.deep_learning_model/7.synthetic_vae/InceptionV3/inceptionv3_kaggle.ipynb"
   ]
  },
  {
   "cell_type": "code",
   "execution_count": null,
   "metadata": {
    "execution": {
     "iopub.status.busy": "2025-05-05T14:31:00.867123Z",
     "iopub.status.idle": "2025-05-05T14:31:00.867451Z",
     "shell.execute_reply": "2025-05-05T14:31:00.867299Z",
     "shell.execute_reply.started": "2025-05-05T14:31:00.867286Z"
    },
    "trusted": true
   },
   "outputs": [],
   "source": [
    "%run C:/Users/PC/Data/ads_fraud_detection/src/prj3/5.deep_learning_model/7.synthetic_vae/InceptionV3/inceptionv3_class_weight_kaggle.ipynb"
   ]
  },
  {
   "cell_type": "code",
   "execution_count": null,
   "metadata": {
    "execution": {
     "iopub.status.busy": "2025-05-05T14:31:00.868150Z",
     "iopub.status.idle": "2025-05-05T14:31:00.868432Z",
     "shell.execute_reply": "2025-05-05T14:31:00.868315Z",
     "shell.execute_reply.started": "2025-05-05T14:31:00.868299Z"
    },
    "trusted": true
   },
   "outputs": [],
   "source": [
    "%run C:/Users/PC/Data/ads_fraud_detection/src/prj3/5.deep_learning_model/7.synthetic_vae/InceptionV2/inceptionv2_kaggle.ipynb"
   ]
  },
  {
   "cell_type": "code",
   "execution_count": null,
   "metadata": {
    "execution": {
     "iopub.status.busy": "2025-05-05T14:31:00.871239Z",
     "iopub.status.idle": "2025-05-05T14:31:00.871532Z",
     "shell.execute_reply": "2025-05-05T14:31:00.871388Z",
     "shell.execute_reply.started": "2025-05-05T14:31:00.871373Z"
    },
    "trusted": true
   },
   "outputs": [],
   "source": [
    "%run C:/Users/PC/Data/ads_fraud_detection/src/prj3/5.deep_learning_model/7.synthetic_vae/InceptionV2/inceptionv2_class_weight_kaggle.ipynb"
   ]
  },
  {
   "cell_type": "code",
   "execution_count": null,
   "metadata": {
    "execution": {
     "iopub.status.busy": "2025-05-05T14:31:00.872506Z",
     "iopub.status.idle": "2025-05-05T14:31:00.872920Z",
     "shell.execute_reply": "2025-05-05T14:31:00.872718Z",
     "shell.execute_reply.started": "2025-05-05T14:31:00.872701Z"
    },
    "trusted": true
   },
   "outputs": [],
   "source": [
    "%run C:/Users/PC/Data/ads_fraud_detection/src/prj3/5.deep_learning_model/7.synthetic_vae/VGG16/vgg16_kaggle.ipynb"
   ]
  },
  {
   "cell_type": "code",
   "execution_count": null,
   "metadata": {
    "execution": {
     "iopub.status.busy": "2025-05-05T14:31:00.874228Z",
     "iopub.status.idle": "2025-05-05T14:31:00.874479Z",
     "shell.execute_reply": "2025-05-05T14:31:00.874378Z",
     "shell.execute_reply.started": "2025-05-05T14:31:00.874365Z"
    },
    "trusted": true
   },
   "outputs": [],
   "source": [
    "%run C:/Users/PC/Data/ads_fraud_detection/src/prj3/5.deep_learning_model/7.synthetic_vae/VGG16/vgg16_class_weight_kaggle.ipynb"
   ]
  },
  {
   "cell_type": "code",
   "execution_count": null,
   "metadata": {
    "trusted": true
   },
   "outputs": [],
   "source": []
  },
  {
   "cell_type": "code",
   "execution_count": null,
   "metadata": {
    "trusted": true
   },
   "outputs": [],
   "source": []
  },
  {
   "cell_type": "code",
   "execution_count": null,
   "metadata": {
    "trusted": true
   },
   "outputs": [],
   "source": []
  }
 ],
 "metadata": {
  "kaggle": {
   "accelerator": "gpu",
   "dataSources": [],
   "isGpuEnabled": true,
   "isInternetEnabled": true,
   "language": "python",
   "sourceType": "notebook"
  },
  "kernelspec": {
   "display_name": "Python 3",
   "language": "python",
   "name": "python3"
  },
  "language_info": {
   "codemirror_mode": {
    "name": "ipython",
    "version": 3
   },
   "file_extension": ".py",
   "mimetype": "text/x-python",
   "name": "python",
   "nbconvert_exporter": "python",
   "pygments_lexer": "ipython3",
   "version": "3.8.20"
  }
 },
 "nbformat": 4,
 "nbformat_minor": 4
}
