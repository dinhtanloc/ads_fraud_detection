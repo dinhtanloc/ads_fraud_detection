{
 "cells": [
  {
   "cell_type": "code",
   "execution_count": null,
   "metadata": {},
   "outputs": [],
   "source": [
    "%run \"C:\\Users\\PC\\Data\\ads_fraud_detection\\src\\prj3\\5.deep_learning_model\\3.smote\\Tabnet\\tabnet_class_weight.ipynb\""
   ]
  },
  {
   "cell_type": "code",
   "execution_count": null,
   "metadata": {},
   "outputs": [],
   "source": [
    "%run \"C:\\Users\\PC\\Data\\ads_fraud_detection\\src\\prj3\\5.deep_learning_model\\3.smote\\Tabnet\\tabnet_base.ipynb\""
   ]
  }
 ],
 "metadata": {
  "language_info": {
   "name": "python"
  }
 },
 "nbformat": 4,
 "nbformat_minor": 2
}
