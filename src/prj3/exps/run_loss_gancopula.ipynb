{
 "cells": [
  {
   "cell_type": "markdown",
   "metadata": {},
   "source": [
    "#### GAU"
   ]
  },
  {
   "cell_type": "code",
   "execution_count": null,
   "metadata": {},
   "outputs": [],
   "source": [
    "%run \"C:\\Users\\Admin\\Data\\ads_fraud_detection\\src\\prj3\\5.deep_learning_model\\6.synthetic_gancopula\\InceptionV2\\inceptionv2_class_weight_dice.ipynb\""
   ]
  },
  {
   "cell_type": "code",
   "execution_count": null,
   "metadata": {},
   "outputs": [],
   "source": [
    "%run \"C:\\Users\\Admin\\Data\\ads_fraud_detection\\src\\prj3\\5.deep_learning_model\\6.synthetic_gancopula\\InceptionV2\\inceptionv2_class_weight_focal.ipynb\""
   ]
  },
  {
   "cell_type": "code",
   "execution_count": null,
   "metadata": {},
   "outputs": [],
   "source": [
    "%run \"C:\\Users\\Admin\\Data\\ads_fraud_detection\\src\\prj3\\5.deep_learning_model\\6.synthetic_gancopula\\InceptionV2\\inceptionv2_class_weight_f1.ipynb\""
   ]
  },
  {
   "cell_type": "code",
   "execution_count": null,
   "metadata": {},
   "outputs": [],
   "source": [
    "%run \"C:\\Users\\Admin\\Data\\ads_fraud_detection\\src\\prj3\\5.deep_learning_model\\6.synthetic_gancopula\\InceptionV3\\inceptionv3_class_weight_dice.ipynb\""
   ]
  },
  {
   "cell_type": "code",
   "execution_count": null,
   "metadata": {},
   "outputs": [],
   "source": [
    "%run \"C:\\Users\\Admin\\Data\\ads_fraud_detection\\src\\prj3\\5.deep_learning_model\\6.synthetic_gancopula\\InceptionV3\\inceptionv3_class_weight_focal.ipynb\""
   ]
  },
  {
   "cell_type": "code",
   "execution_count": null,
   "metadata": {},
   "outputs": [],
   "source": [
    "%run \"C:\\Users\\Admin\\Data\\ads_fraud_detection\\src\\prj3\\5.deep_learning_model\\6.synthetic_gancopula\\InceptionV3\\inceptionv3_class_weight_f1.ipynb\""
   ]
  },
  {
   "cell_type": "code",
   "execution_count": null,
   "metadata": {},
   "outputs": [],
   "source": [
    "#"
   ]
  }
 ],
 "metadata": {
  "kernelspec": {
   "display_name": "Python 3",
   "language": "python",
   "name": "python3"
  },
  "language_info": {
   "codemirror_mode": {
    "name": "ipython",
    "version": 3
   },
   "file_extension": ".py",
   "mimetype": "text/x-python",
   "name": "python",
   "nbconvert_exporter": "python",
   "pygments_lexer": "ipython3",
   "version": "3.8.19"
  }
 },
 "nbformat": 4,
 "nbformat_minor": 2
}
