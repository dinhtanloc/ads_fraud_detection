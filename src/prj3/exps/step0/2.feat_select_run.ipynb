{
 "cells": [
  {
   "cell_type": "code",
   "execution_count": null,
   "metadata": {},
   "outputs": [],
   "source": [
    "%run C:/Users/Admin/Data/ads_fraud_detection/src/prj3/3.feature-selection/1.base/feature_selection5_1.ipynb"
   ]
  },
  {
   "cell_type": "code",
   "execution_count": null,
   "metadata": {},
   "outputs": [],
   "source": [
    "%run C:/Users/Admin/Data/ads_fraud_detection/src/prj3/3.feature-selection/2.adasyn/feature_selection5_1.ipynb"
   ]
  },
  {
   "cell_type": "code",
   "execution_count": null,
   "metadata": {},
   "outputs": [],
   "source": [
    "%run C:/Users/Admin/Data/ads_fraud_detection/src/prj3/3.feature-selection/3.smote/feature_selection5_1.ipynb"
   ]
  },
  {
   "cell_type": "code",
   "execution_count": null,
   "metadata": {},
   "outputs": [],
   "source": [
    "%run C:/Users/Admin/Data/ads_fraud_detection/src/prj3/3.feature-selection/4.synthetic_gau/feature_selection5_1.ipynb"
   ]
  },
  {
   "cell_type": "code",
   "execution_count": null,
   "metadata": {},
   "outputs": [],
   "source": [
    "%run C:/Users/Admin/Data/ads_fraud_detection/src/prj3/3.feature-selection/5.synthetic_gan/feature_selection_gancopula"
   ]
  },
  {
   "cell_type": "code",
   "execution_count": null,
   "metadata": {},
   "outputs": [],
   "source": [
    "%run C:/Users/Admin/Data/ads_fraud_detection/src/prj3/3.feature-selection/5.synthetic_gan/feature_selection_gan"
   ]
  },
  {
   "cell_type": "code",
   "execution_count": null,
   "metadata": {},
   "outputs": [],
   "source": [
    "%run C:/Users/Admin/Data/ads_fraud_detection/src/prj3/3.feature-selection/6.synthetic_vae/feature_selection5_1.ipynb"
   ]
  }
 ],
 "metadata": {
  "language_info": {
   "name": "python"
  }
 },
 "nbformat": 4,
 "nbformat_minor": 2
}
