{
 "cells": [
  {
   "cell_type": "code",
   "execution_count": 2,
   "id": "54f8344d",
   "metadata": {},
   "outputs": [
    {
     "name": "stdout",
     "output_type": "stream",
     "text": [
      "c:\\Users\\Admin\\Data\\ads_fraud_detection\n",
      "c:/Users/Admin/Data/ads_fraud_detection\n"
     ]
    }
   ],
   "source": [
    "import sys,os\n",
    "__script_path=os.path.abspath(globals().get('__file__','.'))\n",
    "__script_dir = os.path.dirname(__script_path)\n",
    "root_dir = os.path.abspath(f'{__script_dir}/../../../..')\n",
    "print(root_dir)\n",
    "for lib in [root_dir][::-1]:\n",
    "    if lib in sys.path:\n",
    "        sys.path.remove(lib)\n",
    "    sys.path.insert(0,lib)\n",
    "\n",
    "from libs.common import *\n",
    "from config.config import *"
   ]
  },
  {
   "cell_type": "markdown",
   "id": "88a7ba29",
   "metadata": {},
   "source": [
    "# 3. Tiền xử lí dữ liệu"
   ]
  },
  {
   "cell_type": "code",
   "execution_count": 3,
   "id": "d5973ea8",
   "metadata": {},
   "outputs": [],
   "source": [
    "save_dir=f\"{exps_dir}/exp3/exp_base\"\n",
    "\n",
    "save_dir = f\"{save_dir}\"\n",
    "os.makedirs(save_dir, exist_ok=True)\n",
    "test_size=0.33\n",
    "seed=42"
   ]
  },
  {
   "cell_type": "code",
   "execution_count": 4,
   "id": "7fdb47b9",
   "metadata": {},
   "outputs": [
    {
     "data": {
      "text/html": [
       "<div>\n",
       "<style scoped>\n",
       "    .dataframe tbody tr th:only-of-type {\n",
       "        vertical-align: middle;\n",
       "    }\n",
       "\n",
       "    .dataframe tbody tr th {\n",
       "        vertical-align: top;\n",
       "    }\n",
       "\n",
       "    .dataframe thead th {\n",
       "        text-align: right;\n",
       "    }\n",
       "</style>\n",
       "<table border=\"1\" class=\"dataframe\">\n",
       "  <thead>\n",
       "    <tr style=\"text-align: right;\">\n",
       "      <th></th>\n",
       "      <th>isFraud</th>\n",
       "      <th>transactionamt</th>\n",
       "      <th>productcd</th>\n",
       "      <th>card1</th>\n",
       "      <th>card2</th>\n",
       "      <th>card3</th>\n",
       "      <th>card5</th>\n",
       "      <th>card6</th>\n",
       "      <th>addr1</th>\n",
       "      <th>dist1</th>\n",
       "      <th>...</th>\n",
       "      <th>id_02_to_mean_card5</th>\n",
       "      <th>id_02_to_std_card5</th>\n",
       "      <th>id_02_to_mean_card6</th>\n",
       "      <th>id_02_to_std_card6</th>\n",
       "      <th>P_emaildomain_1</th>\n",
       "      <th>P_emaildomain_2</th>\n",
       "      <th>P_emaildomain_3</th>\n",
       "      <th>R_emaildomain_1</th>\n",
       "      <th>R_emaildomain_2</th>\n",
       "      <th>R_emaildomain_3</th>\n",
       "    </tr>\n",
       "  </thead>\n",
       "  <tbody>\n",
       "    <tr>\n",
       "      <th>0</th>\n",
       "      <td>0</td>\n",
       "      <td>68.5</td>\n",
       "      <td>W</td>\n",
       "      <td>13926.0</td>\n",
       "      <td>NaN</td>\n",
       "      <td>150.0</td>\n",
       "      <td>142.0</td>\n",
       "      <td>credit</td>\n",
       "      <td>315.0</td>\n",
       "      <td>19.0</td>\n",
       "      <td>...</td>\n",
       "      <td>NaN</td>\n",
       "      <td>NaN</td>\n",
       "      <td>NaN</td>\n",
       "      <td>NaN</td>\n",
       "      <td>NaN</td>\n",
       "      <td>NaN</td>\n",
       "      <td>NaN</td>\n",
       "      <td>NaN</td>\n",
       "      <td>NaN</td>\n",
       "      <td>NaN</td>\n",
       "    </tr>\n",
       "    <tr>\n",
       "      <th>1</th>\n",
       "      <td>0</td>\n",
       "      <td>29.0</td>\n",
       "      <td>W</td>\n",
       "      <td>2755.0</td>\n",
       "      <td>404.0</td>\n",
       "      <td>150.0</td>\n",
       "      <td>102.0</td>\n",
       "      <td>credit</td>\n",
       "      <td>325.0</td>\n",
       "      <td>NaN</td>\n",
       "      <td>...</td>\n",
       "      <td>NaN</td>\n",
       "      <td>NaN</td>\n",
       "      <td>NaN</td>\n",
       "      <td>NaN</td>\n",
       "      <td>gmail</td>\n",
       "      <td>com</td>\n",
       "      <td>NaN</td>\n",
       "      <td>NaN</td>\n",
       "      <td>NaN</td>\n",
       "      <td>NaN</td>\n",
       "    </tr>\n",
       "    <tr>\n",
       "      <th>2</th>\n",
       "      <td>0</td>\n",
       "      <td>59.0</td>\n",
       "      <td>W</td>\n",
       "      <td>4663.0</td>\n",
       "      <td>490.0</td>\n",
       "      <td>150.0</td>\n",
       "      <td>166.0</td>\n",
       "      <td>debit</td>\n",
       "      <td>330.0</td>\n",
       "      <td>287.0</td>\n",
       "      <td>...</td>\n",
       "      <td>NaN</td>\n",
       "      <td>NaN</td>\n",
       "      <td>NaN</td>\n",
       "      <td>NaN</td>\n",
       "      <td>outlook</td>\n",
       "      <td>com</td>\n",
       "      <td>NaN</td>\n",
       "      <td>NaN</td>\n",
       "      <td>NaN</td>\n",
       "      <td>NaN</td>\n",
       "    </tr>\n",
       "    <tr>\n",
       "      <th>3</th>\n",
       "      <td>0</td>\n",
       "      <td>50.0</td>\n",
       "      <td>W</td>\n",
       "      <td>18132.0</td>\n",
       "      <td>567.0</td>\n",
       "      <td>150.0</td>\n",
       "      <td>117.0</td>\n",
       "      <td>debit</td>\n",
       "      <td>476.0</td>\n",
       "      <td>NaN</td>\n",
       "      <td>...</td>\n",
       "      <td>NaN</td>\n",
       "      <td>NaN</td>\n",
       "      <td>NaN</td>\n",
       "      <td>NaN</td>\n",
       "      <td>yahoo</td>\n",
       "      <td>com</td>\n",
       "      <td>NaN</td>\n",
       "      <td>NaN</td>\n",
       "      <td>NaN</td>\n",
       "      <td>NaN</td>\n",
       "    </tr>\n",
       "    <tr>\n",
       "      <th>4</th>\n",
       "      <td>0</td>\n",
       "      <td>50.0</td>\n",
       "      <td>H</td>\n",
       "      <td>4497.0</td>\n",
       "      <td>514.0</td>\n",
       "      <td>150.0</td>\n",
       "      <td>102.0</td>\n",
       "      <td>credit</td>\n",
       "      <td>420.0</td>\n",
       "      <td>NaN</td>\n",
       "      <td>...</td>\n",
       "      <td>0.50153</td>\n",
       "      <td>0.487971</td>\n",
       "      <td>0.442759</td>\n",
       "      <td>0.470755</td>\n",
       "      <td>gmail</td>\n",
       "      <td>com</td>\n",
       "      <td>NaN</td>\n",
       "      <td>NaN</td>\n",
       "      <td>NaN</td>\n",
       "      <td>NaN</td>\n",
       "    </tr>\n",
       "  </tbody>\n",
       "</table>\n",
       "<p>5 rows × 98 columns</p>\n",
       "</div>"
      ],
      "text/plain": [
       "   isFraud  transactionamt productcd    card1  card2  card3  card5   card6  \\\n",
       "0        0            68.5         W  13926.0    NaN  150.0  142.0  credit   \n",
       "1        0            29.0         W   2755.0  404.0  150.0  102.0  credit   \n",
       "2        0            59.0         W   4663.0  490.0  150.0  166.0   debit   \n",
       "3        0            50.0         W  18132.0  567.0  150.0  117.0   debit   \n",
       "4        0            50.0         H   4497.0  514.0  150.0  102.0  credit   \n",
       "\n",
       "   addr1  dist1  ... id_02_to_mean_card5 id_02_to_std_card5  \\\n",
       "0  315.0   19.0  ...                 NaN                NaN   \n",
       "1  325.0    NaN  ...                 NaN                NaN   \n",
       "2  330.0  287.0  ...                 NaN                NaN   \n",
       "3  476.0    NaN  ...                 NaN                NaN   \n",
       "4  420.0    NaN  ...             0.50153           0.487971   \n",
       "\n",
       "   id_02_to_mean_card6  id_02_to_std_card6  P_emaildomain_1  P_emaildomain_2  \\\n",
       "0                  NaN                 NaN              NaN              NaN   \n",
       "1                  NaN                 NaN            gmail              com   \n",
       "2                  NaN                 NaN          outlook              com   \n",
       "3                  NaN                 NaN            yahoo              com   \n",
       "4             0.442759            0.470755            gmail              com   \n",
       "\n",
       "   P_emaildomain_3  R_emaildomain_1  R_emaildomain_2  R_emaildomain_3  \n",
       "0              NaN              NaN              NaN              NaN  \n",
       "1              NaN              NaN              NaN              NaN  \n",
       "2              NaN              NaN              NaN              NaN  \n",
       "3              NaN              NaN              NaN              NaN  \n",
       "4              NaN              NaN              NaN              NaN  \n",
       "\n",
       "[5 rows x 98 columns]"
      ]
     },
     "execution_count": 4,
     "metadata": {},
     "output_type": "execute_result"
    }
   ],
   "source": [
    "test_size=0.33\n",
    "seed=42\n",
    "train=pd.read_csv(f'{exps_dir}/exp3/train_EDA.csv')\n",
    "test=pd.read_csv(f'{exps_dir}/exp3/test_EDA.csv')\n",
    "train.head()"
   ]
  },
  {
   "cell_type": "code",
   "execution_count": 5,
   "id": "a0aca400",
   "metadata": {},
   "outputs": [
    {
     "data": {
      "text/plain": [
       "True"
      ]
     },
     "execution_count": 5,
     "metadata": {},
     "output_type": "execute_result"
    }
   ],
   "source": [
    "one_value_cols = [col for col in train.columns if train[col].nunique() <= 1]\n",
    "one_value_cols_test = [col for col in test.columns if test[col].nunique() <= 1]\n",
    "one_value_cols == one_value_cols_test"
   ]
  },
  {
   "cell_type": "code",
   "execution_count": 6,
   "id": "cdc6040d",
   "metadata": {},
   "outputs": [],
   "source": [
    "many_null_cols = [col for col in train.columns if train[col].isnull().sum() / train.shape[0] > 0.9]\n",
    "many_null_cols_test = [col for col in test.columns if test[col].isnull().sum() / test.shape[0] > 0.9]"
   ]
  },
  {
   "cell_type": "code",
   "execution_count": 7,
   "id": "7a92ff52",
   "metadata": {},
   "outputs": [],
   "source": [
    "big_top_value_cols = [col for col in train.columns if train[col].value_counts(dropna=False, normalize=True).values[0] > 0.9]\n",
    "big_top_value_cols_test = [col for col in test.columns if test[col].value_counts(dropna=False, normalize=True).values[0] > 0.9]"
   ]
  },
  {
   "cell_type": "code",
   "execution_count": 8,
   "id": "7c7dfd51",
   "metadata": {},
   "outputs": [
    {
     "name": "stdout",
     "output_type": "stream",
     "text": [
      "['card3', 'c7', 'P_emaildomain_3', 'ENTITY_TYPE', 'R_emaildomain_3', 'isFraud']\n"
     ]
    },
    {
     "data": {
      "text/plain": [
       "5"
      ]
     },
     "execution_count": 8,
     "metadata": {},
     "output_type": "execute_result"
    }
   ],
   "source": [
    "cols_to_drop = list(set(many_null_cols + many_null_cols_test + big_top_value_cols + big_top_value_cols_test + one_value_cols+ one_value_cols_test))\n",
    "print(cols_to_drop)\n",
    "cols_to_drop.remove('isFraud')\n",
    "len(cols_to_drop)"
   ]
  },
  {
   "cell_type": "code",
   "execution_count": 9,
   "id": "3a421aa1",
   "metadata": {},
   "outputs": [
    {
     "data": {
      "text/plain": [
       "((561013, 98), (29527, 99))"
      ]
     },
     "execution_count": 9,
     "metadata": {},
     "output_type": "execute_result"
    }
   ],
   "source": [
    "train.shape, test.shape"
   ]
  },
  {
   "cell_type": "code",
   "execution_count": 10,
   "id": "a0416f43",
   "metadata": {},
   "outputs": [],
   "source": [
    "train.replace([np.inf, -np.inf], np.nan, inplace=True)\n",
    "test.replace([np.inf, -np.inf], np.nan, inplace=True)"
   ]
  },
  {
   "cell_type": "code",
   "execution_count": 11,
   "id": "31f77098",
   "metadata": {},
   "outputs": [
    {
     "data": {
      "text/html": [
       "<div>\n",
       "<style scoped>\n",
       "    .dataframe tbody tr th:only-of-type {\n",
       "        vertical-align: middle;\n",
       "    }\n",
       "\n",
       "    .dataframe tbody tr th {\n",
       "        vertical-align: top;\n",
       "    }\n",
       "\n",
       "    .dataframe thead th {\n",
       "        text-align: right;\n",
       "    }\n",
       "</style>\n",
       "<table border=\"1\" class=\"dataframe\">\n",
       "  <thead>\n",
       "    <tr style=\"text-align: right;\">\n",
       "      <th></th>\n",
       "      <th>isFraud</th>\n",
       "      <th>transactionamt</th>\n",
       "      <th>productcd</th>\n",
       "      <th>card1</th>\n",
       "      <th>card2</th>\n",
       "      <th>card3</th>\n",
       "      <th>card5</th>\n",
       "      <th>card6</th>\n",
       "      <th>addr1</th>\n",
       "      <th>dist1</th>\n",
       "      <th>...</th>\n",
       "      <th>id_02_to_mean_card5</th>\n",
       "      <th>id_02_to_std_card5</th>\n",
       "      <th>id_02_to_mean_card6</th>\n",
       "      <th>id_02_to_std_card6</th>\n",
       "      <th>P_emaildomain_1</th>\n",
       "      <th>P_emaildomain_2</th>\n",
       "      <th>P_emaildomain_3</th>\n",
       "      <th>R_emaildomain_1</th>\n",
       "      <th>R_emaildomain_2</th>\n",
       "      <th>R_emaildomain_3</th>\n",
       "    </tr>\n",
       "  </thead>\n",
       "  <tbody>\n",
       "    <tr>\n",
       "      <th>0</th>\n",
       "      <td>0</td>\n",
       "      <td>68.5</td>\n",
       "      <td>W</td>\n",
       "      <td>13926.0</td>\n",
       "      <td>NaN</td>\n",
       "      <td>150.0</td>\n",
       "      <td>142.0</td>\n",
       "      <td>credit</td>\n",
       "      <td>315.0</td>\n",
       "      <td>19.0</td>\n",
       "      <td>...</td>\n",
       "      <td>NaN</td>\n",
       "      <td>NaN</td>\n",
       "      <td>NaN</td>\n",
       "      <td>NaN</td>\n",
       "      <td>NaN</td>\n",
       "      <td>NaN</td>\n",
       "      <td>NaN</td>\n",
       "      <td>NaN</td>\n",
       "      <td>NaN</td>\n",
       "      <td>NaN</td>\n",
       "    </tr>\n",
       "    <tr>\n",
       "      <th>1</th>\n",
       "      <td>0</td>\n",
       "      <td>29.0</td>\n",
       "      <td>W</td>\n",
       "      <td>2755.0</td>\n",
       "      <td>404.0</td>\n",
       "      <td>150.0</td>\n",
       "      <td>102.0</td>\n",
       "      <td>credit</td>\n",
       "      <td>325.0</td>\n",
       "      <td>NaN</td>\n",
       "      <td>...</td>\n",
       "      <td>NaN</td>\n",
       "      <td>NaN</td>\n",
       "      <td>NaN</td>\n",
       "      <td>NaN</td>\n",
       "      <td>gmail</td>\n",
       "      <td>com</td>\n",
       "      <td>NaN</td>\n",
       "      <td>NaN</td>\n",
       "      <td>NaN</td>\n",
       "      <td>NaN</td>\n",
       "    </tr>\n",
       "    <tr>\n",
       "      <th>2</th>\n",
       "      <td>0</td>\n",
       "      <td>59.0</td>\n",
       "      <td>W</td>\n",
       "      <td>4663.0</td>\n",
       "      <td>490.0</td>\n",
       "      <td>150.0</td>\n",
       "      <td>166.0</td>\n",
       "      <td>debit</td>\n",
       "      <td>330.0</td>\n",
       "      <td>287.0</td>\n",
       "      <td>...</td>\n",
       "      <td>NaN</td>\n",
       "      <td>NaN</td>\n",
       "      <td>NaN</td>\n",
       "      <td>NaN</td>\n",
       "      <td>outlook</td>\n",
       "      <td>com</td>\n",
       "      <td>NaN</td>\n",
       "      <td>NaN</td>\n",
       "      <td>NaN</td>\n",
       "      <td>NaN</td>\n",
       "    </tr>\n",
       "    <tr>\n",
       "      <th>3</th>\n",
       "      <td>0</td>\n",
       "      <td>50.0</td>\n",
       "      <td>W</td>\n",
       "      <td>18132.0</td>\n",
       "      <td>567.0</td>\n",
       "      <td>150.0</td>\n",
       "      <td>117.0</td>\n",
       "      <td>debit</td>\n",
       "      <td>476.0</td>\n",
       "      <td>NaN</td>\n",
       "      <td>...</td>\n",
       "      <td>NaN</td>\n",
       "      <td>NaN</td>\n",
       "      <td>NaN</td>\n",
       "      <td>NaN</td>\n",
       "      <td>yahoo</td>\n",
       "      <td>com</td>\n",
       "      <td>NaN</td>\n",
       "      <td>NaN</td>\n",
       "      <td>NaN</td>\n",
       "      <td>NaN</td>\n",
       "    </tr>\n",
       "    <tr>\n",
       "      <th>4</th>\n",
       "      <td>0</td>\n",
       "      <td>50.0</td>\n",
       "      <td>H</td>\n",
       "      <td>4497.0</td>\n",
       "      <td>514.0</td>\n",
       "      <td>150.0</td>\n",
       "      <td>102.0</td>\n",
       "      <td>credit</td>\n",
       "      <td>420.0</td>\n",
       "      <td>NaN</td>\n",
       "      <td>...</td>\n",
       "      <td>0.50153</td>\n",
       "      <td>0.487971</td>\n",
       "      <td>0.442759</td>\n",
       "      <td>0.470755</td>\n",
       "      <td>gmail</td>\n",
       "      <td>com</td>\n",
       "      <td>NaN</td>\n",
       "      <td>NaN</td>\n",
       "      <td>NaN</td>\n",
       "      <td>NaN</td>\n",
       "    </tr>\n",
       "  </tbody>\n",
       "</table>\n",
       "<p>5 rows × 98 columns</p>\n",
       "</div>"
      ],
      "text/plain": [
       "   isFraud  transactionamt productcd    card1  card2  card3  card5   card6  \\\n",
       "0        0            68.5         W  13926.0    NaN  150.0  142.0  credit   \n",
       "1        0            29.0         W   2755.0  404.0  150.0  102.0  credit   \n",
       "2        0            59.0         W   4663.0  490.0  150.0  166.0   debit   \n",
       "3        0            50.0         W  18132.0  567.0  150.0  117.0   debit   \n",
       "4        0            50.0         H   4497.0  514.0  150.0  102.0  credit   \n",
       "\n",
       "   addr1  dist1  ... id_02_to_mean_card5 id_02_to_std_card5  \\\n",
       "0  315.0   19.0  ...                 NaN                NaN   \n",
       "1  325.0    NaN  ...                 NaN                NaN   \n",
       "2  330.0  287.0  ...                 NaN                NaN   \n",
       "3  476.0    NaN  ...                 NaN                NaN   \n",
       "4  420.0    NaN  ...             0.50153           0.487971   \n",
       "\n",
       "   id_02_to_mean_card6  id_02_to_std_card6  P_emaildomain_1  P_emaildomain_2  \\\n",
       "0                  NaN                 NaN              NaN              NaN   \n",
       "1                  NaN                 NaN            gmail              com   \n",
       "2                  NaN                 NaN          outlook              com   \n",
       "3                  NaN                 NaN            yahoo              com   \n",
       "4             0.442759            0.470755            gmail              com   \n",
       "\n",
       "   P_emaildomain_3  R_emaildomain_1  R_emaildomain_2  R_emaildomain_3  \n",
       "0              NaN              NaN              NaN              NaN  \n",
       "1              NaN              NaN              NaN              NaN  \n",
       "2              NaN              NaN              NaN              NaN  \n",
       "3              NaN              NaN              NaN              NaN  \n",
       "4              NaN              NaN              NaN              NaN  \n",
       "\n",
       "[5 rows x 98 columns]"
      ]
     },
     "execution_count": 11,
     "metadata": {},
     "output_type": "execute_result"
    }
   ],
   "source": [
    "train.head()"
   ]
  },
  {
   "cell_type": "code",
   "execution_count": 12,
   "id": "35785937",
   "metadata": {},
   "outputs": [
    {
     "data": {
      "text/plain": [
       "isFraud                 0\n",
       "transactionamt          0\n",
       "productcd               0\n",
       "card1                   0\n",
       "card2                8604\n",
       "                    ...  \n",
       "P_emaildomain_2     89737\n",
       "P_emaildomain_3    558111\n",
       "R_emaildomain_1    429350\n",
       "R_emaildomain_2    429443\n",
       "R_emaildomain_3    558436\n",
       "Length: 98, dtype: int64"
      ]
     },
     "execution_count": 12,
     "metadata": {},
     "output_type": "execute_result"
    }
   ],
   "source": [
    "train.isnull().sum()"
   ]
  },
  {
   "cell_type": "code",
   "execution_count": 13,
   "id": "19fb8193",
   "metadata": {},
   "outputs": [],
   "source": [
    "train = train.drop(cols_to_drop, axis=1)\n",
    "test = test.drop(cols_to_drop, axis=1)"
   ]
  },
  {
   "cell_type": "code",
   "execution_count": 14,
   "id": "a3de4504",
   "metadata": {},
   "outputs": [
    {
     "data": {
      "text/plain": [
       "Index(['productcd', 'card6', 'p_emaildomain', 'r_emaildomain', 'devicetype',\n",
       "       'deviceinfo', 'EVENT_ID', 'ENTITY_ID', 'EVENT_TIMESTAMP',\n",
       "       'P_emaildomain_1', 'P_emaildomain_2', 'R_emaildomain_1',\n",
       "       'R_emaildomain_2'],\n",
       "      dtype='object')"
      ]
     },
     "execution_count": 14,
     "metadata": {},
     "output_type": "execute_result"
    }
   ],
   "source": [
    "continuous_cols = train.select_dtypes(include=['float64', 'int64']).columns\n",
    "categorical_cols = train.select_dtypes(include=['object']).columns\n",
    "categorical_cols"
   ]
  },
  {
   "cell_type": "code",
   "execution_count": 15,
   "id": "8ddddf95",
   "metadata": {},
   "outputs": [
    {
     "data": {
      "text/plain": [
       "isFraud               0\n",
       "transactionamt        0\n",
       "productcd             0\n",
       "card1                 0\n",
       "card2                 1\n",
       "                     ..\n",
       "id_02_to_std_card6    4\n",
       "P_emaildomain_1       0\n",
       "P_emaildomain_2       0\n",
       "R_emaildomain_1       0\n",
       "R_emaildomain_2       0\n",
       "Length: 93, dtype: int64"
      ]
     },
     "execution_count": 15,
     "metadata": {},
     "output_type": "execute_result"
    }
   ],
   "source": [
    "continuous_cols = train.select_dtypes(include=['float64', 'int64']).columns\n",
    "categorical_cols = train.select_dtypes(include=['object']).columns\n",
    "\n",
    "for col in continuous_cols:\n",
    "    train[col].interpolate(method='linear', inplace=True)\n",
    "\n",
    "for col in categorical_cols:\n",
    "    train[col].fillna(train[col].mode()[0], inplace=True)\n",
    "\n",
    "train.isnull().sum()"
   ]
  },
  {
   "cell_type": "code",
   "execution_count": 16,
   "id": "aae948ce",
   "metadata": {},
   "outputs": [],
   "source": [
    "train = train.drop(['EVENT_ID', 'EVENT_TIMESTAMP', 'ENTITY_ID'], axis=1)\n",
    "test = test.drop(['EVENT_ID', 'EVENT_TIMESTAMP', 'ENTITY_ID'], axis=1)"
   ]
  },
  {
   "cell_type": "code",
   "execution_count": 17,
   "id": "324a020e",
   "metadata": {},
   "outputs": [],
   "source": [
    "train=train.dropna()"
   ]
  },
  {
   "cell_type": "code",
   "execution_count": 18,
   "id": "5e3fd56b",
   "metadata": {},
   "outputs": [
    {
     "name": "stdout",
     "output_type": "stream",
     "text": [
      "Column id_12 not found in train/test data. Skipping Label Encoding for this column.\n",
      "Column id_14 not found in train/test data. Skipping Label Encoding for this column.\n",
      "Column id_15 not found in train/test data. Skipping Label Encoding for this column.\n",
      "Column id_16 not found in train/test data. Skipping Label Encoding for this column.\n",
      "Column id_18 not found in train/test data. Skipping Label Encoding for this column.\n",
      "Column id_21 not found in train/test data. Skipping Label Encoding for this column.\n",
      "Column id_22 not found in train/test data. Skipping Label Encoding for this column.\n",
      "Column id_23 not found in train/test data. Skipping Label Encoding for this column.\n",
      "Column id_24 not found in train/test data. Skipping Label Encoding for this column.\n",
      "Column id_25 not found in train/test data. Skipping Label Encoding for this column.\n",
      "Column id_26 not found in train/test data. Skipping Label Encoding for this column.\n",
      "Column id_27 not found in train/test data. Skipping Label Encoding for this column.\n",
      "Column id_28 not found in train/test data. Skipping Label Encoding for this column.\n",
      "Column id_29 not found in train/test data. Skipping Label Encoding for this column.\n",
      "Column id_30 not found in train/test data. Skipping Label Encoding for this column.\n",
      "Column id_31 not found in train/test data. Skipping Label Encoding for this column.\n",
      "Column id_32 not found in train/test data. Skipping Label Encoding for this column.\n",
      "Column id_33 not found in train/test data. Skipping Label Encoding for this column.\n",
      "Column id_34 not found in train/test data. Skipping Label Encoding for this column.\n",
      "Column id_35 not found in train/test data. Skipping Label Encoding for this column.\n",
      "Column id_36 not found in train/test data. Skipping Label Encoding for this column.\n",
      "Column id_37 not found in train/test data. Skipping Label Encoding for this column.\n",
      "Column id_38 not found in train/test data. Skipping Label Encoding for this column.\n",
      "Column card4 not found in train/test data. Skipping Label Encoding for this column.\n",
      "Column M4 not found in train/test data. Skipping Label Encoding for this column.\n",
      "Column card3 not found in train/test data. Skipping Label Encoding for this column.\n",
      "Column addr2 not found in train/test data. Skipping Label Encoding for this column.\n",
      "Column M1 not found in train/test data. Skipping Label Encoding for this column.\n",
      "Column M2 not found in train/test data. Skipping Label Encoding for this column.\n",
      "Column M3 not found in train/test data. Skipping Label Encoding for this column.\n",
      "Column M5 not found in train/test data. Skipping Label Encoding for this column.\n",
      "Column M6 not found in train/test data. Skipping Label Encoding for this column.\n",
      "Column M7 not found in train/test data. Skipping Label Encoding for this column.\n",
      "Column M8 not found in train/test data. Skipping Label Encoding for this column.\n",
      "Column M9 not found in train/test data. Skipping Label Encoding for this column.\n",
      "Column P_emaildomain_3 not found in train/test data. Skipping Label Encoding for this column.\n",
      "Column R_emaildomain_3 not found in train/test data. Skipping Label Encoding for this column.\n"
     ]
    }
   ],
   "source": [
    "cat_cols = ['id_12', 'id_13', 'id_14', 'id_15', 'id_16', 'id_17', 'id_18', 'id_19', 'id_20', 'id_21', 'id_22', 'id_23', 'id_24', 'id_25', 'id_26', 'id_27', 'id_28', 'id_29',\n",
    "            'id_30', 'id_31', 'id_32', 'id_33', 'id_34', 'id_35', 'id_36', 'id_37', 'id_38', 'devicetype', 'deviceinfo', 'productcd', 'card4', 'card6', 'M4','p_emaildomain',\n",
    "            'r_emaildomain', 'card1', 'card2', 'card3',  'card5', 'addr1', 'addr2', 'M1', 'M2', 'M3', 'M5', 'M6', 'M7', 'M8', 'M9',\n",
    "            'P_emaildomain_1', 'P_emaildomain_2', 'P_emaildomain_3', 'R_emaildomain_1', 'R_emaildomain_2', 'R_emaildomain_3']\n",
    "for col in cat_cols:\n",
    "    if col in train.columns:\n",
    "        le = LabelEncoder()\n",
    "        le.fit(list(train[col].astype(str).values) + list(test[col].astype(str).values))\n",
    "        train[col] = le.transform(list(train[col].astype(str).values))\n",
    "        test[col] = le.transform(list(test[col].astype(str).values))\n",
    "    else:\n",
    "        print(f\"Column {col} not found in train/test data. Skipping Label Encoding for this column.\")   "
   ]
  },
  {
   "cell_type": "code",
   "execution_count": 19,
   "id": "91cae733",
   "metadata": {},
   "outputs": [
    {
     "data": {
      "text/plain": [
       "Index(['isFraud', 'transactionamt', 'productcd', 'card1', 'card2', 'card5',\n",
       "       'card6', 'addr1', 'dist1', 'p_emaildomain', 'r_emaildomain', 'c1', 'c2',\n",
       "       'c4', 'c5', 'c6', 'c8', 'c9', 'c10', 'c11', 'c12', 'c13', 'c14', 'v62',\n",
       "       'v70', 'v76', 'v78', 'v82', 'v91', 'v127', 'v130', 'v139', 'v160',\n",
       "       'v165', 'v187', 'v203', 'v207', 'v209', 'v210', 'v221', 'v234', 'v257',\n",
       "       'v258', 'v261', 'v264', 'v266', 'v267', 'v271', 'v274', 'v277', 'v283',\n",
       "       'v285', 'v289', 'v291', 'v294', 'id_01', 'id_02', 'id_05', 'id_06',\n",
       "       'id_09', 'id_13', 'id_17', 'id_19', 'id_20', 'devicetype', 'deviceinfo',\n",
       "       'transactionamt_to_mean_card1', 'transactionamt_to_mean_card2',\n",
       "       'transactionamt_to_std_card1', 'transactionamt_to_mean_card3',\n",
       "       'transactionamt_to_std_card3', 'transactionamt_to_mean_card5',\n",
       "       'transactionamt_to_std_card5', 'transactionamt_to_mean_card6',\n",
       "       'transactionamt_to_std_card6', 'transactionamt_to_std_card2',\n",
       "       'id_02_to_mean_card1', 'id_02_to_std_card1', 'id_02_to_mean_card2',\n",
       "       'id_02_to_std_card2', 'id_02_to_mean_card3', 'id_02_to_std_card3',\n",
       "       'id_02_to_mean_card5', 'id_02_to_std_card5', 'id_02_to_mean_card6',\n",
       "       'id_02_to_std_card6', 'P_emaildomain_1', 'P_emaildomain_2',\n",
       "       'R_emaildomain_1', 'R_emaildomain_2'],\n",
       "      dtype='object')"
      ]
     },
     "execution_count": 19,
     "metadata": {},
     "output_type": "execute_result"
    }
   ],
   "source": [
    "train.columns"
   ]
  },
  {
   "cell_type": "code",
   "execution_count": 20,
   "id": "32818e55",
   "metadata": {},
   "outputs": [],
   "source": [
    "X_train = train.drop(['isFraud'], axis=1)\n",
    "y_train = train['isFraud']\n",
    "\n",
    "\n",
    "# del train\n",
    "# test = test[[\"TransactionDT\", 'TransactionID']]"
   ]
  },
  {
   "cell_type": "code",
   "execution_count": 21,
   "id": "f0a41822",
   "metadata": {},
   "outputs": [],
   "source": [
    "from sklearn.model_selection import train_test_split\n",
    "# x_train, x_valid, y_train, y_valid = train_test_split(X, y, test_size = 0.20, random_state = 101)\n",
    "X_train.to_csv(f'{save_dir}/x_train.csv', index=False)\n",
    "y_train.to_csv(f'{save_dir}/y_train.csv', index=False)\n",
    "# x_valid.to_csv(f'{save_dir}/x_valid.csv', index=False)\n",
    "# y_valid.to_csv(f'{save_dir}/y_valid.csv', index=False)"
   ]
  },
  {
   "cell_type": "code",
   "execution_count": 22,
   "id": "3ed715e9",
   "metadata": {},
   "outputs": [
    {
     "data": {
      "text/plain": [
       "array([0, 0, 0, ..., 0, 0, 0], dtype=int64)"
      ]
     },
     "execution_count": 22,
     "metadata": {},
     "output_type": "execute_result"
    }
   ],
   "source": [
    "y_train.values"
   ]
  },
  {
   "cell_type": "code",
   "execution_count": 23,
   "id": "cc40e767",
   "metadata": {},
   "outputs": [
    {
     "data": {
      "text/plain": [
       "{0: 0.5179997008359972, 1: 14.38911972914743}"
      ]
     },
     "execution_count": 23,
     "metadata": {},
     "output_type": "execute_result"
    }
   ],
   "source": [
    "class_weights = compute_class_weight(class_weight='balanced', classes=np.unique(y_train), y=y_train)\n",
    "class_weights_dict = {i : class_weights[i] for i in range(len(class_weights))}\n",
    "np.savez(f'{save_dir}/class_weights_dict.npz', class_weights_dict = class_weights_dict)\n",
    "class_weights_dict"
   ]
  },
  {
   "cell_type": "code",
   "execution_count": 24,
   "id": "c7011ba2",
   "metadata": {},
   "outputs": [],
   "source": [
    "# from imblearn.over_sampling import SMOTE\n",
    "# x_train, y_train = SMOTE().fit_resample(x_train, y_train)\n"
   ]
  },
  {
   "cell_type": "code",
   "execution_count": 25,
   "id": "72198f43",
   "metadata": {},
   "outputs": [],
   "source": [
    "test = test.drop(['EVENT_ID.1'], axis=1)\n",
    "for col in continuous_cols:\n",
    "    if col in ['EVENT_ID', 'EVENT_TIMESTAMP', 'ENTITY_ID']:\n",
    "        continue\n",
    "    test[col].interpolate(method='linear', inplace=True)\n",
    "\n",
    "for col in categorical_cols:\n",
    "    if col in ['EVENT_ID', 'EVENT_TIMESTAMP', 'ENTITY_ID']:\n",
    "        continue\n",
    "    test[col].fillna(test[col].mode()[0], inplace=True)\n",
    "test=test.dropna()\n",
    "x_test = test.drop(['isFraud'], axis=1)\n",
    "y_test = test['isFraud']\n",
    "\n",
    "x_test.to_csv(f'{save_dir}/x_test.csv', index=False)\n",
    "y_test.to_csv(f'{save_dir}/y_test.csv', index=False)"
   ]
  }
 ],
 "metadata": {
  "kernelspec": {
   "display_name": "Python 3",
   "language": "python",
   "name": "python3"
  },
  "language_info": {
   "codemirror_mode": {
    "name": "ipython",
    "version": 3
   },
   "file_extension": ".py",
   "mimetype": "text/x-python",
   "name": "python",
   "nbconvert_exporter": "python",
   "pygments_lexer": "ipython3",
   "version": "3.8.19"
  }
 },
 "nbformat": 4,
 "nbformat_minor": 5
}
