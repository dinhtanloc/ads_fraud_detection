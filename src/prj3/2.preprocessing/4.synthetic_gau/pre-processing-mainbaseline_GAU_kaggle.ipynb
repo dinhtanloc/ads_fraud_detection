{
 "cells": [
  {
   "cell_type": "code",
   "execution_count": 2,
   "id": "54f8344d",
   "metadata": {},
   "outputs": [
    {
     "name": "stdout",
     "output_type": "stream",
     "text": [
      "c:\\Users\\PC\\Data\\ads_fraud_detection\n"
     ]
    },
    {
     "name": "stderr",
     "output_type": "stream",
     "text": [
      "c:\\Users\\PC\\Data\\ads_fraud_detection\\.conda\\lib\\site-packages\\numpy\\_distributor_init.py:30: UserWarning: loaded more than 1 DLL from .libs:\n",
      "c:\\Users\\PC\\Data\\ads_fraud_detection\\.conda\\lib\\site-packages\\numpy\\.libs\\libopenblas.FB5AE2TYXYH2IJRDKGDGQ3XBKLKTF43H.gfortran-win_amd64.dll\n",
      "c:\\Users\\PC\\Data\\ads_fraud_detection\\.conda\\lib\\site-packages\\numpy\\.libs\\libopenblas64__v0.3.21-gcc_10_3_0.dll\n",
      "  warnings.warn(\"loaded more than 1 DLL from .libs:\"\n"
     ]
    },
    {
     "name": "stdout",
     "output_type": "stream",
     "text": [
      "c:/Users/PC/Data/ads_fraud_detection\n"
     ]
    }
   ],
   "source": [
    "import sys,os\n",
    "__script_path=os.path.abspath(globals().get('__file__','.'))\n",
    "__script_dir = os.path.dirname(__script_path)\n",
    "root_dir = os.path.abspath(f'{__script_dir}/../../..')\n",
    "print(root_dir)\n",
    "for lib in [root_dir][::-1]:\n",
    "    if lib in sys.path:\n",
    "        sys.path.remove(lib)\n",
    "    sys.path.insert(0,lib)\n",
    "\n",
    "from libs.common import *\n",
    "from config.config import *"
   ]
  },
  {
   "cell_type": "markdown",
   "id": "88a7ba29",
   "metadata": {},
   "source": [
    "# 3. Tiền xử lí dữ liệu"
   ]
  },
  {
   "cell_type": "code",
   "execution_count": 3,
   "id": "d5973ea8",
   "metadata": {},
   "outputs": [],
   "source": [
    "save_dir=f\"{exps_dir}/exp3/exp_gau\"\n",
    "\n",
    "save_dir = f\"{save_dir}\"\n",
    "os.makedirs(save_dir, exist_ok=True)\n",
    "test_size=0.33\n",
    "seed=42"
   ]
  },
  {
   "cell_type": "code",
   "execution_count": 4,
   "id": "7fdb47b9",
   "metadata": {},
   "outputs": [
    {
     "data": {
      "text/html": [
       "<div>\n",
       "<style scoped>\n",
       "    .dataframe tbody tr th:only-of-type {\n",
       "        vertical-align: middle;\n",
       "    }\n",
       "\n",
       "    .dataframe tbody tr th {\n",
       "        vertical-align: top;\n",
       "    }\n",
       "\n",
       "    .dataframe thead th {\n",
       "        text-align: right;\n",
       "    }\n",
       "</style>\n",
       "<table border=\"1\" class=\"dataframe\">\n",
       "  <thead>\n",
       "    <tr style=\"text-align: right;\">\n",
       "      <th></th>\n",
       "      <th>isFraud</th>\n",
       "      <th>transactionamt</th>\n",
       "      <th>productcd</th>\n",
       "      <th>card1</th>\n",
       "      <th>card2</th>\n",
       "      <th>card3</th>\n",
       "      <th>card5</th>\n",
       "      <th>card6</th>\n",
       "      <th>addr1</th>\n",
       "      <th>dist1</th>\n",
       "      <th>...</th>\n",
       "      <th>id_02_to_mean_card5</th>\n",
       "      <th>id_02_to_std_card5</th>\n",
       "      <th>id_02_to_mean_card6</th>\n",
       "      <th>id_02_to_std_card6</th>\n",
       "      <th>P_emaildomain_1</th>\n",
       "      <th>P_emaildomain_2</th>\n",
       "      <th>P_emaildomain_3</th>\n",
       "      <th>R_emaildomain_1</th>\n",
       "      <th>R_emaildomain_2</th>\n",
       "      <th>R_emaildomain_3</th>\n",
       "    </tr>\n",
       "  </thead>\n",
       "  <tbody>\n",
       "    <tr>\n",
       "      <th>0</th>\n",
       "      <td>0</td>\n",
       "      <td>68.5</td>\n",
       "      <td>W</td>\n",
       "      <td>13926.0</td>\n",
       "      <td>NaN</td>\n",
       "      <td>150.0</td>\n",
       "      <td>142.0</td>\n",
       "      <td>credit</td>\n",
       "      <td>315.0</td>\n",
       "      <td>19.0</td>\n",
       "      <td>...</td>\n",
       "      <td>NaN</td>\n",
       "      <td>NaN</td>\n",
       "      <td>NaN</td>\n",
       "      <td>NaN</td>\n",
       "      <td>NaN</td>\n",
       "      <td>NaN</td>\n",
       "      <td>NaN</td>\n",
       "      <td>NaN</td>\n",
       "      <td>NaN</td>\n",
       "      <td>NaN</td>\n",
       "    </tr>\n",
       "    <tr>\n",
       "      <th>1</th>\n",
       "      <td>0</td>\n",
       "      <td>29.0</td>\n",
       "      <td>W</td>\n",
       "      <td>2755.0</td>\n",
       "      <td>404.0</td>\n",
       "      <td>150.0</td>\n",
       "      <td>102.0</td>\n",
       "      <td>credit</td>\n",
       "      <td>325.0</td>\n",
       "      <td>NaN</td>\n",
       "      <td>...</td>\n",
       "      <td>NaN</td>\n",
       "      <td>NaN</td>\n",
       "      <td>NaN</td>\n",
       "      <td>NaN</td>\n",
       "      <td>gmail</td>\n",
       "      <td>com</td>\n",
       "      <td>NaN</td>\n",
       "      <td>NaN</td>\n",
       "      <td>NaN</td>\n",
       "      <td>NaN</td>\n",
       "    </tr>\n",
       "    <tr>\n",
       "      <th>2</th>\n",
       "      <td>0</td>\n",
       "      <td>59.0</td>\n",
       "      <td>W</td>\n",
       "      <td>4663.0</td>\n",
       "      <td>490.0</td>\n",
       "      <td>150.0</td>\n",
       "      <td>166.0</td>\n",
       "      <td>debit</td>\n",
       "      <td>330.0</td>\n",
       "      <td>287.0</td>\n",
       "      <td>...</td>\n",
       "      <td>NaN</td>\n",
       "      <td>NaN</td>\n",
       "      <td>NaN</td>\n",
       "      <td>NaN</td>\n",
       "      <td>outlook</td>\n",
       "      <td>com</td>\n",
       "      <td>NaN</td>\n",
       "      <td>NaN</td>\n",
       "      <td>NaN</td>\n",
       "      <td>NaN</td>\n",
       "    </tr>\n",
       "    <tr>\n",
       "      <th>3</th>\n",
       "      <td>0</td>\n",
       "      <td>50.0</td>\n",
       "      <td>W</td>\n",
       "      <td>18132.0</td>\n",
       "      <td>567.0</td>\n",
       "      <td>150.0</td>\n",
       "      <td>117.0</td>\n",
       "      <td>debit</td>\n",
       "      <td>476.0</td>\n",
       "      <td>NaN</td>\n",
       "      <td>...</td>\n",
       "      <td>NaN</td>\n",
       "      <td>NaN</td>\n",
       "      <td>NaN</td>\n",
       "      <td>NaN</td>\n",
       "      <td>yahoo</td>\n",
       "      <td>com</td>\n",
       "      <td>NaN</td>\n",
       "      <td>NaN</td>\n",
       "      <td>NaN</td>\n",
       "      <td>NaN</td>\n",
       "    </tr>\n",
       "    <tr>\n",
       "      <th>4</th>\n",
       "      <td>0</td>\n",
       "      <td>50.0</td>\n",
       "      <td>H</td>\n",
       "      <td>4497.0</td>\n",
       "      <td>514.0</td>\n",
       "      <td>150.0</td>\n",
       "      <td>102.0</td>\n",
       "      <td>credit</td>\n",
       "      <td>420.0</td>\n",
       "      <td>NaN</td>\n",
       "      <td>...</td>\n",
       "      <td>0.50153</td>\n",
       "      <td>0.487971</td>\n",
       "      <td>0.442759</td>\n",
       "      <td>0.470755</td>\n",
       "      <td>gmail</td>\n",
       "      <td>com</td>\n",
       "      <td>NaN</td>\n",
       "      <td>NaN</td>\n",
       "      <td>NaN</td>\n",
       "      <td>NaN</td>\n",
       "    </tr>\n",
       "  </tbody>\n",
       "</table>\n",
       "<p>5 rows × 98 columns</p>\n",
       "</div>"
      ],
      "text/plain": [
       "   isFraud  transactionamt productcd    card1  card2  card3  card5   card6  \\\n",
       "0        0            68.5         W  13926.0    NaN  150.0  142.0  credit   \n",
       "1        0            29.0         W   2755.0  404.0  150.0  102.0  credit   \n",
       "2        0            59.0         W   4663.0  490.0  150.0  166.0   debit   \n",
       "3        0            50.0         W  18132.0  567.0  150.0  117.0   debit   \n",
       "4        0            50.0         H   4497.0  514.0  150.0  102.0  credit   \n",
       "\n",
       "   addr1  dist1  ... id_02_to_mean_card5 id_02_to_std_card5  \\\n",
       "0  315.0   19.0  ...                 NaN                NaN   \n",
       "1  325.0    NaN  ...                 NaN                NaN   \n",
       "2  330.0  287.0  ...                 NaN                NaN   \n",
       "3  476.0    NaN  ...                 NaN                NaN   \n",
       "4  420.0    NaN  ...             0.50153           0.487971   \n",
       "\n",
       "   id_02_to_mean_card6  id_02_to_std_card6  P_emaildomain_1  P_emaildomain_2  \\\n",
       "0                  NaN                 NaN              NaN              NaN   \n",
       "1                  NaN                 NaN            gmail              com   \n",
       "2                  NaN                 NaN          outlook              com   \n",
       "3                  NaN                 NaN            yahoo              com   \n",
       "4             0.442759            0.470755            gmail              com   \n",
       "\n",
       "   P_emaildomain_3  R_emaildomain_1  R_emaildomain_2  R_emaildomain_3  \n",
       "0              NaN              NaN              NaN              NaN  \n",
       "1              NaN              NaN              NaN              NaN  \n",
       "2              NaN              NaN              NaN              NaN  \n",
       "3              NaN              NaN              NaN              NaN  \n",
       "4              NaN              NaN              NaN              NaN  \n",
       "\n",
       "[5 rows x 98 columns]"
      ]
     },
     "execution_count": 4,
     "metadata": {},
     "output_type": "execute_result"
    }
   ],
   "source": [
    "test_size=0.33\n",
    "seed=42\n",
    "train=pd.read_csv(f'{exps_dir}/exp3/train_EDA.csv')\n",
    "test=pd.read_csv(f'{exps_dir}/exp3/test_EDA.csv')\n",
    "train.head()"
   ]
  },
  {
   "cell_type": "code",
   "execution_count": 5,
   "id": "a0aca400",
   "metadata": {},
   "outputs": [
    {
     "data": {
      "text/plain": [
       "True"
      ]
     },
     "execution_count": 5,
     "metadata": {},
     "output_type": "execute_result"
    }
   ],
   "source": [
    "one_value_cols = [col for col in train.columns if train[col].nunique() <= 1]\n",
    "one_value_cols_test = [col for col in test.columns if test[col].nunique() <= 1]\n",
    "one_value_cols == one_value_cols_test"
   ]
  },
  {
   "cell_type": "code",
   "execution_count": 6,
   "id": "cdc6040d",
   "metadata": {},
   "outputs": [],
   "source": [
    "many_null_cols = [col for col in train.columns if train[col].isnull().sum() / train.shape[0] > 0.9]\n",
    "many_null_cols_test = [col for col in test.columns if test[col].isnull().sum() / test.shape[0] > 0.9]"
   ]
  },
  {
   "cell_type": "code",
   "execution_count": 7,
   "id": "7a92ff52",
   "metadata": {},
   "outputs": [],
   "source": [
    "big_top_value_cols = [col for col in train.columns if train[col].value_counts(dropna=False, normalize=True).values[0] > 0.9]\n",
    "big_top_value_cols_test = [col for col in test.columns if test[col].value_counts(dropna=False, normalize=True).values[0] > 0.9]"
   ]
  },
  {
   "cell_type": "code",
   "execution_count": 8,
   "id": "7c7dfd51",
   "metadata": {},
   "outputs": [
    {
     "name": "stdout",
     "output_type": "stream",
     "text": [
      "['isFraud', 'c7', 'P_emaildomain_3', 'card3', 'R_emaildomain_3', 'ENTITY_TYPE']\n"
     ]
    },
    {
     "data": {
      "text/plain": [
       "5"
      ]
     },
     "execution_count": 8,
     "metadata": {},
     "output_type": "execute_result"
    }
   ],
   "source": [
    "cols_to_drop = list(set(many_null_cols + many_null_cols_test + big_top_value_cols + big_top_value_cols_test + one_value_cols+ one_value_cols_test))\n",
    "print(cols_to_drop)\n",
    "cols_to_drop.remove('isFraud')\n",
    "len(cols_to_drop)"
   ]
  },
  {
   "cell_type": "code",
   "execution_count": 9,
   "id": "3a421aa1",
   "metadata": {},
   "outputs": [
    {
     "data": {
      "text/plain": [
       "((561013, 98), (29527, 99))"
      ]
     },
     "execution_count": 9,
     "metadata": {},
     "output_type": "execute_result"
    }
   ],
   "source": [
    "train.shape, test.shape"
   ]
  },
  {
   "cell_type": "code",
   "execution_count": 10,
   "id": "a0416f43",
   "metadata": {},
   "outputs": [],
   "source": [
    "train.replace([np.inf, -np.inf], np.nan, inplace=True)\n",
    "test.replace([np.inf, -np.inf], np.nan, inplace=True)"
   ]
  },
  {
   "cell_type": "code",
   "execution_count": 11,
   "id": "31f77098",
   "metadata": {},
   "outputs": [
    {
     "data": {
      "text/html": [
       "<div>\n",
       "<style scoped>\n",
       "    .dataframe tbody tr th:only-of-type {\n",
       "        vertical-align: middle;\n",
       "    }\n",
       "\n",
       "    .dataframe tbody tr th {\n",
       "        vertical-align: top;\n",
       "    }\n",
       "\n",
       "    .dataframe thead th {\n",
       "        text-align: right;\n",
       "    }\n",
       "</style>\n",
       "<table border=\"1\" class=\"dataframe\">\n",
       "  <thead>\n",
       "    <tr style=\"text-align: right;\">\n",
       "      <th></th>\n",
       "      <th>isFraud</th>\n",
       "      <th>transactionamt</th>\n",
       "      <th>productcd</th>\n",
       "      <th>card1</th>\n",
       "      <th>card2</th>\n",
       "      <th>card3</th>\n",
       "      <th>card5</th>\n",
       "      <th>card6</th>\n",
       "      <th>addr1</th>\n",
       "      <th>dist1</th>\n",
       "      <th>...</th>\n",
       "      <th>id_02_to_mean_card5</th>\n",
       "      <th>id_02_to_std_card5</th>\n",
       "      <th>id_02_to_mean_card6</th>\n",
       "      <th>id_02_to_std_card6</th>\n",
       "      <th>P_emaildomain_1</th>\n",
       "      <th>P_emaildomain_2</th>\n",
       "      <th>P_emaildomain_3</th>\n",
       "      <th>R_emaildomain_1</th>\n",
       "      <th>R_emaildomain_2</th>\n",
       "      <th>R_emaildomain_3</th>\n",
       "    </tr>\n",
       "  </thead>\n",
       "  <tbody>\n",
       "    <tr>\n",
       "      <th>0</th>\n",
       "      <td>0</td>\n",
       "      <td>68.5</td>\n",
       "      <td>W</td>\n",
       "      <td>13926.0</td>\n",
       "      <td>NaN</td>\n",
       "      <td>150.0</td>\n",
       "      <td>142.0</td>\n",
       "      <td>credit</td>\n",
       "      <td>315.0</td>\n",
       "      <td>19.0</td>\n",
       "      <td>...</td>\n",
       "      <td>NaN</td>\n",
       "      <td>NaN</td>\n",
       "      <td>NaN</td>\n",
       "      <td>NaN</td>\n",
       "      <td>NaN</td>\n",
       "      <td>NaN</td>\n",
       "      <td>NaN</td>\n",
       "      <td>NaN</td>\n",
       "      <td>NaN</td>\n",
       "      <td>NaN</td>\n",
       "    </tr>\n",
       "    <tr>\n",
       "      <th>1</th>\n",
       "      <td>0</td>\n",
       "      <td>29.0</td>\n",
       "      <td>W</td>\n",
       "      <td>2755.0</td>\n",
       "      <td>404.0</td>\n",
       "      <td>150.0</td>\n",
       "      <td>102.0</td>\n",
       "      <td>credit</td>\n",
       "      <td>325.0</td>\n",
       "      <td>NaN</td>\n",
       "      <td>...</td>\n",
       "      <td>NaN</td>\n",
       "      <td>NaN</td>\n",
       "      <td>NaN</td>\n",
       "      <td>NaN</td>\n",
       "      <td>gmail</td>\n",
       "      <td>com</td>\n",
       "      <td>NaN</td>\n",
       "      <td>NaN</td>\n",
       "      <td>NaN</td>\n",
       "      <td>NaN</td>\n",
       "    </tr>\n",
       "    <tr>\n",
       "      <th>2</th>\n",
       "      <td>0</td>\n",
       "      <td>59.0</td>\n",
       "      <td>W</td>\n",
       "      <td>4663.0</td>\n",
       "      <td>490.0</td>\n",
       "      <td>150.0</td>\n",
       "      <td>166.0</td>\n",
       "      <td>debit</td>\n",
       "      <td>330.0</td>\n",
       "      <td>287.0</td>\n",
       "      <td>...</td>\n",
       "      <td>NaN</td>\n",
       "      <td>NaN</td>\n",
       "      <td>NaN</td>\n",
       "      <td>NaN</td>\n",
       "      <td>outlook</td>\n",
       "      <td>com</td>\n",
       "      <td>NaN</td>\n",
       "      <td>NaN</td>\n",
       "      <td>NaN</td>\n",
       "      <td>NaN</td>\n",
       "    </tr>\n",
       "    <tr>\n",
       "      <th>3</th>\n",
       "      <td>0</td>\n",
       "      <td>50.0</td>\n",
       "      <td>W</td>\n",
       "      <td>18132.0</td>\n",
       "      <td>567.0</td>\n",
       "      <td>150.0</td>\n",
       "      <td>117.0</td>\n",
       "      <td>debit</td>\n",
       "      <td>476.0</td>\n",
       "      <td>NaN</td>\n",
       "      <td>...</td>\n",
       "      <td>NaN</td>\n",
       "      <td>NaN</td>\n",
       "      <td>NaN</td>\n",
       "      <td>NaN</td>\n",
       "      <td>yahoo</td>\n",
       "      <td>com</td>\n",
       "      <td>NaN</td>\n",
       "      <td>NaN</td>\n",
       "      <td>NaN</td>\n",
       "      <td>NaN</td>\n",
       "    </tr>\n",
       "    <tr>\n",
       "      <th>4</th>\n",
       "      <td>0</td>\n",
       "      <td>50.0</td>\n",
       "      <td>H</td>\n",
       "      <td>4497.0</td>\n",
       "      <td>514.0</td>\n",
       "      <td>150.0</td>\n",
       "      <td>102.0</td>\n",
       "      <td>credit</td>\n",
       "      <td>420.0</td>\n",
       "      <td>NaN</td>\n",
       "      <td>...</td>\n",
       "      <td>0.50153</td>\n",
       "      <td>0.487971</td>\n",
       "      <td>0.442759</td>\n",
       "      <td>0.470755</td>\n",
       "      <td>gmail</td>\n",
       "      <td>com</td>\n",
       "      <td>NaN</td>\n",
       "      <td>NaN</td>\n",
       "      <td>NaN</td>\n",
       "      <td>NaN</td>\n",
       "    </tr>\n",
       "  </tbody>\n",
       "</table>\n",
       "<p>5 rows × 98 columns</p>\n",
       "</div>"
      ],
      "text/plain": [
       "   isFraud  transactionamt productcd    card1  card2  card3  card5   card6  \\\n",
       "0        0            68.5         W  13926.0    NaN  150.0  142.0  credit   \n",
       "1        0            29.0         W   2755.0  404.0  150.0  102.0  credit   \n",
       "2        0            59.0         W   4663.0  490.0  150.0  166.0   debit   \n",
       "3        0            50.0         W  18132.0  567.0  150.0  117.0   debit   \n",
       "4        0            50.0         H   4497.0  514.0  150.0  102.0  credit   \n",
       "\n",
       "   addr1  dist1  ... id_02_to_mean_card5 id_02_to_std_card5  \\\n",
       "0  315.0   19.0  ...                 NaN                NaN   \n",
       "1  325.0    NaN  ...                 NaN                NaN   \n",
       "2  330.0  287.0  ...                 NaN                NaN   \n",
       "3  476.0    NaN  ...                 NaN                NaN   \n",
       "4  420.0    NaN  ...             0.50153           0.487971   \n",
       "\n",
       "   id_02_to_mean_card6  id_02_to_std_card6  P_emaildomain_1  P_emaildomain_2  \\\n",
       "0                  NaN                 NaN              NaN              NaN   \n",
       "1                  NaN                 NaN            gmail              com   \n",
       "2                  NaN                 NaN          outlook              com   \n",
       "3                  NaN                 NaN            yahoo              com   \n",
       "4             0.442759            0.470755            gmail              com   \n",
       "\n",
       "   P_emaildomain_3  R_emaildomain_1  R_emaildomain_2  R_emaildomain_3  \n",
       "0              NaN              NaN              NaN              NaN  \n",
       "1              NaN              NaN              NaN              NaN  \n",
       "2              NaN              NaN              NaN              NaN  \n",
       "3              NaN              NaN              NaN              NaN  \n",
       "4              NaN              NaN              NaN              NaN  \n",
       "\n",
       "[5 rows x 98 columns]"
      ]
     },
     "execution_count": 11,
     "metadata": {},
     "output_type": "execute_result"
    }
   ],
   "source": [
    "train.head()"
   ]
  },
  {
   "cell_type": "code",
   "execution_count": 12,
   "id": "35785937",
   "metadata": {},
   "outputs": [
    {
     "data": {
      "text/plain": [
       "isFraud                 0\n",
       "transactionamt          0\n",
       "productcd               0\n",
       "card1                   0\n",
       "card2                8604\n",
       "                    ...  \n",
       "P_emaildomain_2     89737\n",
       "P_emaildomain_3    558111\n",
       "R_emaildomain_1    429350\n",
       "R_emaildomain_2    429443\n",
       "R_emaildomain_3    558436\n",
       "Length: 98, dtype: int64"
      ]
     },
     "execution_count": 12,
     "metadata": {},
     "output_type": "execute_result"
    }
   ],
   "source": [
    "train.isnull().sum()"
   ]
  },
  {
   "cell_type": "code",
   "execution_count": 13,
   "id": "db2b920f",
   "metadata": {},
   "outputs": [
    {
     "data": {
      "text/plain": [
       "Index(['productcd', 'card6', 'p_emaildomain', 'r_emaildomain', 'devicetype',\n",
       "       'deviceinfo', 'EVENT_ID', 'ENTITY_ID', 'EVENT_TIMESTAMP', 'ENTITY_TYPE',\n",
       "       'P_emaildomain_1', 'P_emaildomain_2', 'P_emaildomain_3',\n",
       "       'R_emaildomain_1', 'R_emaildomain_2', 'R_emaildomain_3'],\n",
       "      dtype='object')"
      ]
     },
     "execution_count": 13,
     "metadata": {},
     "output_type": "execute_result"
    }
   ],
   "source": [
    "continuous_cols = train.select_dtypes(include=['float64', 'int64']).columns\n",
    "categorical_cols = train.select_dtypes(include=['object']).columns\n",
    "categorical_cols"
   ]
  },
  {
   "cell_type": "code",
   "execution_count": 14,
   "id": "8ddddf95",
   "metadata": {},
   "outputs": [
    {
     "data": {
      "text/plain": [
       "isFraud            0\n",
       "transactionamt     0\n",
       "productcd          0\n",
       "card1              0\n",
       "card2              1\n",
       "                  ..\n",
       "P_emaildomain_2    0\n",
       "P_emaildomain_3    0\n",
       "R_emaildomain_1    0\n",
       "R_emaildomain_2    0\n",
       "R_emaildomain_3    0\n",
       "Length: 98, dtype: int64"
      ]
     },
     "execution_count": 14,
     "metadata": {},
     "output_type": "execute_result"
    }
   ],
   "source": [
    "continuous_cols = train.select_dtypes(include=['float64', 'int64']).columns\n",
    "categorical_cols = train.select_dtypes(include=['object']).columns\n",
    "\n",
    "for col in continuous_cols:\n",
    "    train[col].interpolate(method='linear', inplace=True)\n",
    "\n",
    "for col in categorical_cols:\n",
    "    train[col].fillna(train[col].mode()[0], inplace=True)\n",
    "\n",
    "train.isnull().sum()"
   ]
  },
  {
   "cell_type": "code",
   "execution_count": 15,
   "id": "aae948ce",
   "metadata": {},
   "outputs": [],
   "source": [
    "train = train.drop(cols_to_drop, axis=1)\n",
    "test = test.drop(cols_to_drop, axis=1)"
   ]
  },
  {
   "cell_type": "code",
   "execution_count": null,
   "id": "324a020e",
   "metadata": {},
   "outputs": [],
   "source": []
  },
  {
   "cell_type": "code",
   "execution_count": null,
   "id": "5e3fd56b",
   "metadata": {},
   "outputs": [],
   "source": []
  },
  {
   "cell_type": "code",
   "execution_count": 17,
   "id": "91cae733",
   "metadata": {},
   "outputs": [
    {
     "data": {
      "text/plain": [
       "Index(['isFraud', 'transactionamt', 'productcd', 'card1', 'card2', 'card5',\n",
       "       'card6', 'addr1', 'dist1', 'p_emaildomain', 'r_emaildomain', 'c1', 'c2',\n",
       "       'c4', 'c5', 'c6', 'c8', 'c9', 'c10', 'c11', 'c12', 'c13', 'c14', 'v62',\n",
       "       'v70', 'v76', 'v78', 'v82', 'v91', 'v127', 'v130', 'v139', 'v160',\n",
       "       'v165', 'v187', 'v203', 'v207', 'v209', 'v210', 'v221', 'v234', 'v257',\n",
       "       'v258', 'v261', 'v264', 'v266', 'v267', 'v271', 'v274', 'v277', 'v283',\n",
       "       'v285', 'v289', 'v291', 'v294', 'id_01', 'id_02', 'id_05', 'id_06',\n",
       "       'id_09', 'id_13', 'id_17', 'id_19', 'id_20', 'devicetype', 'deviceinfo',\n",
       "       'EVENT_ID', 'ENTITY_ID', 'EVENT_TIMESTAMP',\n",
       "       'transactionamt_to_mean_card1', 'transactionamt_to_mean_card2',\n",
       "       'transactionamt_to_std_card1', 'transactionamt_to_mean_card3',\n",
       "       'transactionamt_to_std_card3', 'transactionamt_to_mean_card5',\n",
       "       'transactionamt_to_std_card5', 'transactionamt_to_mean_card6',\n",
       "       'transactionamt_to_std_card6', 'transactionamt_to_std_card2',\n",
       "       'id_02_to_mean_card1', 'id_02_to_std_card1', 'id_02_to_mean_card2',\n",
       "       'id_02_to_std_card2', 'id_02_to_mean_card3', 'id_02_to_std_card3',\n",
       "       'id_02_to_mean_card5', 'id_02_to_std_card5', 'id_02_to_mean_card6',\n",
       "       'id_02_to_std_card6', 'P_emaildomain_1', 'P_emaildomain_2',\n",
       "       'R_emaildomain_1', 'R_emaildomain_2'],\n",
       "      dtype='object')"
      ]
     },
     "execution_count": 17,
     "metadata": {},
     "output_type": "execute_result"
    }
   ],
   "source": [
    "train.columns"
   ]
  },
  {
   "cell_type": "code",
   "execution_count": 18,
   "id": "32818e55",
   "metadata": {},
   "outputs": [],
   "source": [
    "X_train = train.drop(['isFraud'], axis=1)\n",
    "y_train = train['isFraud']\n",
    "\n",
    "\n",
    "# del train\n",
    "# test = test[[\"TransactionDT\", 'TransactionID']]"
   ]
  },
  {
   "cell_type": "code",
   "execution_count": 19,
   "id": "141dd77c",
   "metadata": {},
   "outputs": [
    {
     "data": {
      "text/plain": [
       "0         0\n",
       "1         0\n",
       "2         0\n",
       "3         0\n",
       "4         0\n",
       "         ..\n",
       "561008    0\n",
       "561009    0\n",
       "561010    0\n",
       "561011    0\n",
       "561012    0\n",
       "Name: isFraud, Length: 561013, dtype: int64"
      ]
     },
     "execution_count": 19,
     "metadata": {},
     "output_type": "execute_result"
    }
   ],
   "source": [
    "y_train"
   ]
  },
  {
   "cell_type": "code",
   "execution_count": 20,
   "id": "3ed715e9",
   "metadata": {},
   "outputs": [
    {
     "data": {
      "text/plain": [
       "array([0, 0, 0, ..., 0, 0, 0], dtype=int64)"
      ]
     },
     "execution_count": 20,
     "metadata": {},
     "output_type": "execute_result"
    }
   ],
   "source": [
    "y_train.values"
   ]
  },
  {
   "cell_type": "code",
   "execution_count": 21,
   "id": "cc40e767",
   "metadata": {},
   "outputs": [
    {
     "data": {
      "text/plain": [
       "{0: 0.5179993684432125, 1: 14.389376218323587}"
      ]
     },
     "execution_count": 21,
     "metadata": {},
     "output_type": "execute_result"
    }
   ],
   "source": [
    "class_weights = compute_class_weight(class_weight='balanced', classes=np.unique(y_train), y=y_train)\n",
    "class_weights_dict = {i : class_weights[i] for i in range(len(class_weights))}\n",
    "np.savez(f'{save_dir}/class_weights_dict.npz', class_weights_dict = class_weights_dict)\n",
    "class_weights_dict"
   ]
  },
  {
   "cell_type": "code",
   "execution_count": 22,
   "id": "c7011ba2",
   "metadata": {},
   "outputs": [],
   "source": [
    "from imblearn.over_sampling import RandomOverSampler\n",
    "ros = RandomOverSampler(random_state=42)\n",
    "X_rosampled, y_rosampled = ros.fit_resample(train.drop(columns=['isFraud']), train['isFraud'])\n",
    "X_rosampled = pd.DataFrame(X_rosampled)\n",
    "y_rosampled = pd.DataFrame(y_rosampled)\n",
    "oversampling_sample=pd.concat([X_rosampled, y_rosampled], axis=1)    "
   ]
  },
  {
   "cell_type": "code",
   "execution_count": 23,
   "id": "bcd78a64",
   "metadata": {},
   "outputs": [],
   "source": [
    "from sdv.metadata import SingleTableMetadata\n",
    "metadata_sync = SingleTableMetadata()\n",
    "metadata_sync.detect_from_dataframe(data=oversampling_sample)"
   ]
  },
  {
   "cell_type": "code",
   "execution_count": 24,
   "id": "6072cb6e",
   "metadata": {},
   "outputs": [
    {
     "name": "stderr",
     "output_type": "stream",
     "text": [
      "c:\\Users\\PC\\Data\\ads_fraud_detection\\.conda\\lib\\site-packages\\sdv\\single_table\\base.py:120: FutureWarning:\n",
      "\n",
      "The 'SingleTableMetadata' is deprecated. Please use the new 'Metadata' class for synthesizers.\n",
      "\n",
      "c:\\Users\\PC\\Data\\ads_fraud_detection\\.conda\\lib\\site-packages\\sdv\\single_table\\base.py:105: UserWarning:\n",
      "\n",
      "We strongly recommend saving the metadata using 'save_to_json' for replicability in future SDV versions.\n",
      "\n"
     ]
    }
   ],
   "source": [
    "from sdv.single_table import GaussianCopulaSynthesizer\n",
    "\n",
    "\n",
    "\n",
    "gau_synthesizer = GaussianCopulaSynthesizer(metadata_sync,\n",
    "                                            enforce_min_max_values=True,  \n",
    "                                            enforce_rounding=True,\n",
    "                                            default_distribution='gamma') \n",
    "\n",
    "gau_synthesizer.fit(oversampling_sample)\n",
    "gau_synthesizer.save(\n",
    "    filepath=f'{save_dir}/gau_synthesizer.pkl'\n",
    ")"
   ]
  },
  {
   "cell_type": "code",
   "execution_count": 25,
   "id": "d402b499",
   "metadata": {},
   "outputs": [
    {
     "data": {
      "text/html": [
       "<div>\n",
       "<style scoped>\n",
       "    .dataframe tbody tr th:only-of-type {\n",
       "        vertical-align: middle;\n",
       "    }\n",
       "\n",
       "    .dataframe tbody tr th {\n",
       "        vertical-align: top;\n",
       "    }\n",
       "\n",
       "    .dataframe thead th {\n",
       "        text-align: right;\n",
       "    }\n",
       "</style>\n",
       "<table border=\"1\" class=\"dataframe\">\n",
       "  <thead>\n",
       "    <tr style=\"text-align: right;\">\n",
       "      <th></th>\n",
       "      <th>transactionamt</th>\n",
       "      <th>productcd</th>\n",
       "      <th>card1</th>\n",
       "      <th>card2</th>\n",
       "      <th>card5</th>\n",
       "      <th>card6</th>\n",
       "      <th>addr1</th>\n",
       "      <th>dist1</th>\n",
       "      <th>p_emaildomain</th>\n",
       "      <th>r_emaildomain</th>\n",
       "      <th>...</th>\n",
       "      <th>id_02_to_std_card3</th>\n",
       "      <th>id_02_to_mean_card5</th>\n",
       "      <th>id_02_to_std_card5</th>\n",
       "      <th>id_02_to_mean_card6</th>\n",
       "      <th>id_02_to_std_card6</th>\n",
       "      <th>P_emaildomain_1</th>\n",
       "      <th>P_emaildomain_2</th>\n",
       "      <th>R_emaildomain_1</th>\n",
       "      <th>R_emaildomain_2</th>\n",
       "      <th>isFraud</th>\n",
       "    </tr>\n",
       "  </thead>\n",
       "  <tbody>\n",
       "    <tr>\n",
       "      <th>0</th>\n",
       "      <td>0.251</td>\n",
       "      <td>C</td>\n",
       "      <td>10379</td>\n",
       "      <td>1567</td>\n",
       "      <td>793</td>\n",
       "      <td>2</td>\n",
       "      <td>2456</td>\n",
       "      <td>0.937947</td>\n",
       "      <td>ustewart@example.net</td>\n",
       "      <td>lynn17@example.net</td>\n",
       "      <td>...</td>\n",
       "      <td>2.658321</td>\n",
       "      <td>2.245877</td>\n",
       "      <td>0.000566</td>\n",
       "      <td>2.222846</td>\n",
       "      <td>2.425723</td>\n",
       "      <td>moodykathleen@example.org</td>\n",
       "      <td>angelabell@example.net</td>\n",
       "      <td>david62@example.net</td>\n",
       "      <td>uwright@example.org</td>\n",
       "      <td>1</td>\n",
       "    </tr>\n",
       "    <tr>\n",
       "      <th>1</th>\n",
       "      <td>0.251</td>\n",
       "      <td>W</td>\n",
       "      <td>13552</td>\n",
       "      <td>408</td>\n",
       "      <td>596</td>\n",
       "      <td>1</td>\n",
       "      <td>0</td>\n",
       "      <td>620.035746</td>\n",
       "      <td>mbowen@example.net</td>\n",
       "      <td>jessica66@example.com</td>\n",
       "      <td>...</td>\n",
       "      <td>1.001658</td>\n",
       "      <td>0.830985</td>\n",
       "      <td>0.000011</td>\n",
       "      <td>0.864802</td>\n",
       "      <td>0.935059</td>\n",
       "      <td>pgamble@example.org</td>\n",
       "      <td>david54@example.org</td>\n",
       "      <td>burchcrystal@example.net</td>\n",
       "      <td>matthewmendoza@example.org</td>\n",
       "      <td>0</td>\n",
       "    </tr>\n",
       "    <tr>\n",
       "      <th>2</th>\n",
       "      <td>0.251</td>\n",
       "      <td>R</td>\n",
       "      <td>2723</td>\n",
       "      <td>1122</td>\n",
       "      <td>486</td>\n",
       "      <td>2</td>\n",
       "      <td>2567</td>\n",
       "      <td>0.580808</td>\n",
       "      <td>iwalker@example.org</td>\n",
       "      <td>joel03@example.org</td>\n",
       "      <td>...</td>\n",
       "      <td>0.791038</td>\n",
       "      <td>0.774131</td>\n",
       "      <td>0.000011</td>\n",
       "      <td>0.605593</td>\n",
       "      <td>0.671258</td>\n",
       "      <td>wallsjoseph@example.org</td>\n",
       "      <td>douglas76@example.com</td>\n",
       "      <td>terrance46@example.com</td>\n",
       "      <td>lfrye@example.net</td>\n",
       "      <td>0</td>\n",
       "    </tr>\n",
       "    <tr>\n",
       "      <th>3</th>\n",
       "      <td>0.251</td>\n",
       "      <td>C</td>\n",
       "      <td>3373</td>\n",
       "      <td>1530</td>\n",
       "      <td>762</td>\n",
       "      <td>1</td>\n",
       "      <td>1293</td>\n",
       "      <td>0.308398</td>\n",
       "      <td>scottmcdaniel@example.com</td>\n",
       "      <td>rodgerssheryl@example.net</td>\n",
       "      <td>...</td>\n",
       "      <td>1.709565</td>\n",
       "      <td>1.533707</td>\n",
       "      <td>0.000011</td>\n",
       "      <td>1.460910</td>\n",
       "      <td>1.603135</td>\n",
       "      <td>harold46@example.com</td>\n",
       "      <td>craig56@example.com</td>\n",
       "      <td>laura56@example.net</td>\n",
       "      <td>xrivas@example.org</td>\n",
       "      <td>0</td>\n",
       "    </tr>\n",
       "    <tr>\n",
       "      <th>4</th>\n",
       "      <td>0.251</td>\n",
       "      <td>W</td>\n",
       "      <td>5498</td>\n",
       "      <td>638</td>\n",
       "      <td>355</td>\n",
       "      <td>2</td>\n",
       "      <td>283</td>\n",
       "      <td>238.289087</td>\n",
       "      <td>morgan74@example.net</td>\n",
       "      <td>davisjoseph@example.com</td>\n",
       "      <td>...</td>\n",
       "      <td>0.864057</td>\n",
       "      <td>0.831410</td>\n",
       "      <td>0.000011</td>\n",
       "      <td>0.813342</td>\n",
       "      <td>0.832720</td>\n",
       "      <td>carlsonsteven@example.net</td>\n",
       "      <td>sjimenez@example.net</td>\n",
       "      <td>whitekari@example.com</td>\n",
       "      <td>eileengreen@example.org</td>\n",
       "      <td>1</td>\n",
       "    </tr>\n",
       "  </tbody>\n",
       "</table>\n",
       "<p>5 rows × 93 columns</p>\n",
       "</div>"
      ],
      "text/plain": [
       "   transactionamt productcd  card1  card2  card5  card6  addr1       dist1  \\\n",
       "0           0.251         C  10379   1567    793      2   2456    0.937947   \n",
       "1           0.251         W  13552    408    596      1      0  620.035746   \n",
       "2           0.251         R   2723   1122    486      2   2567    0.580808   \n",
       "3           0.251         C   3373   1530    762      1   1293    0.308398   \n",
       "4           0.251         W   5498    638    355      2    283  238.289087   \n",
       "\n",
       "               p_emaildomain              r_emaildomain  ...  \\\n",
       "0       ustewart@example.net         lynn17@example.net  ...   \n",
       "1         mbowen@example.net      jessica66@example.com  ...   \n",
       "2        iwalker@example.org         joel03@example.org  ...   \n",
       "3  scottmcdaniel@example.com  rodgerssheryl@example.net  ...   \n",
       "4       morgan74@example.net    davisjoseph@example.com  ...   \n",
       "\n",
       "   id_02_to_std_card3  id_02_to_mean_card5  id_02_to_std_card5  \\\n",
       "0            2.658321             2.245877            0.000566   \n",
       "1            1.001658             0.830985            0.000011   \n",
       "2            0.791038             0.774131            0.000011   \n",
       "3            1.709565             1.533707            0.000011   \n",
       "4            0.864057             0.831410            0.000011   \n",
       "\n",
       "   id_02_to_mean_card6  id_02_to_std_card6            P_emaildomain_1  \\\n",
       "0             2.222846            2.425723  moodykathleen@example.org   \n",
       "1             0.864802            0.935059        pgamble@example.org   \n",
       "2             0.605593            0.671258    wallsjoseph@example.org   \n",
       "3             1.460910            1.603135       harold46@example.com   \n",
       "4             0.813342            0.832720  carlsonsteven@example.net   \n",
       "\n",
       "          P_emaildomain_2           R_emaildomain_1  \\\n",
       "0  angelabell@example.net       david62@example.net   \n",
       "1     david54@example.org  burchcrystal@example.net   \n",
       "2   douglas76@example.com    terrance46@example.com   \n",
       "3     craig56@example.com       laura56@example.net   \n",
       "4    sjimenez@example.net     whitekari@example.com   \n",
       "\n",
       "              R_emaildomain_2  isFraud  \n",
       "0         uwright@example.org        1  \n",
       "1  matthewmendoza@example.org        0  \n",
       "2           lfrye@example.net        0  \n",
       "3          xrivas@example.org        0  \n",
       "4     eileengreen@example.org        1  \n",
       "\n",
       "[5 rows x 93 columns]"
      ]
     },
     "execution_count": 25,
     "metadata": {},
     "output_type": "execute_result"
    }
   ],
   "source": [
    "gau_synthetic_data = gau_synthesizer.sample(num_rows=len(train))\n",
    "gau_synthetic_data.head()"
   ]
  },
  {
   "cell_type": "code",
   "execution_count": 26,
   "id": "70c1ea85",
   "metadata": {},
   "outputs": [
    {
     "name": "stdout",
     "output_type": "stream",
     "text": [
      "Generating report ...\n",
      "\n",
      "(1/2) Evaluating Data Validity: |██████████| 93/93 [00:03<00:00, 27.28it/s]|\n",
      "Data Validity Score: 99.95%\n",
      "\n",
      "(2/2) Evaluating Data Structure: |██████████| 1/1 [00:00<00:00, 333.28it/s]|\n",
      "Data Structure Score: 91.75%\n",
      "\n",
      "Overall Score (Average): 95.85%\n",
      "\n"
     ]
    }
   ],
   "source": [
    "from sdv.evaluation.single_table import run_diagnostic\n",
    "\n",
    "\n",
    "\n",
    "diagnostic_gau = run_diagnostic(\n",
    "    real_data=oversampling_sample,\n",
    "    synthetic_data=gau_synthetic_data,\n",
    "    metadata=metadata_sync\n",
    ")\n",
    "\n",
    "\n"
   ]
  },
  {
   "cell_type": "code",
   "execution_count": 27,
   "id": "30ceb9f5",
   "metadata": {},
   "outputs": [
    {
     "name": "stdout",
     "output_type": "stream",
     "text": [
      "Generating report ...\n",
      "\n",
      "(1/2) Evaluating Column Shapes: |██████████| 93/93 [06:51<00:00,  4.42s/it]|\n",
      "Column Shapes Score: 55.9%\n",
      "\n",
      "(2/2) Evaluating Column Pair Trends: |██████████| 4278/4278 [09:10<00:00,  7.77it/s]|\n",
      "Column Pair Trends Score: 95.48%\n",
      "\n",
      "Overall Score (Average): 75.69%\n",
      "\n"
     ]
    }
   ],
   "source": [
    "from sdv.evaluation.single_table import evaluate_quality\n",
    "\n",
    "\n",
    "\n",
    "diagnostic_gau = evaluate_quality(\n",
    "    real_data=oversampling_sample,\n",
    "    synthetic_data=gau_synthetic_data,\n",
    "    metadata=metadata_sync\n",
    ")\n",
    "\n",
    "\n"
   ]
  },
  {
   "cell_type": "code",
   "execution_count": 28,
   "id": "bc1c8fa1",
   "metadata": {},
   "outputs": [
    {
     "name": "stdout",
     "output_type": "stream",
     "text": [
      "isFraud\n",
      "1    299835\n",
      "0    299835\n",
      "Name: count, dtype: int64\n"
     ]
    }
   ],
   "source": [
    "from sklearn.utils import shuffle\n",
    "from imblearn.under_sampling import RandomUnderSampler\n",
    "\n",
    "rus = RandomUnderSampler(random_state=42)\n",
    "\n",
    "## Gau data\n",
    "gau_data=gau_synthetic_data[gau_synthetic_data.isFraud==1]\n",
    "gau_sample=pd.concat([train, gau_data] , axis=0, ignore_index=True)\n",
    "X_gausampled, y_gausampled = rus.fit_resample(gau_sample.drop(columns=['isFraud']), gau_sample['isFraud'])\n",
    "X_gausampled = pd.DataFrame(X_gausampled)\n",
    "y_gausampled = pd.DataFrame(y_gausampled)\n",
    "gau_sample=pd.concat([X_gausampled, y_gausampled], axis=1)    \n",
    "gau_sample = shuffle(gau_sample, random_state=42)\n",
    "print(gau_sample.isFraud.value_counts())"
   ]
  },
  {
   "cell_type": "code",
   "execution_count": null,
   "id": "ff52f012",
   "metadata": {},
   "outputs": [],
   "source": [
    "cat_cols = ['id_12', 'id_13', 'id_14', 'id_15', 'id_16', 'id_17', 'id_18', 'id_19', 'id_20', 'id_21', 'id_22', 'id_23', 'id_24', 'id_25', 'id_26', 'id_27', 'id_28', 'id_29',\n",
    "            'id_30', 'id_31', 'id_32', 'id_33', 'id_34', 'id_35', 'id_36', 'id_37', 'id_38', 'DeviceType', 'DeviceInfo', 'ProductCD', 'card4', 'card6', 'M4','P_emaildomain',\n",
    "            'R_emaildomain', 'card1', 'card2', 'card3',  'card5', 'addr1', 'addr2', 'M1', 'M2', 'M3', 'M5', 'M6', 'M7', 'M8', 'M9',\n",
    "            'P_emaildomain_1', 'P_emaildomain_2', 'P_emaildomain_3', 'R_emaildomain_1', 'R_emaildomain_2', 'R_emaildomain_3']\n",
    "for col in cat_cols:\n",
    "    if col in gau_sample.columns:\n",
    "        le = LabelEncoder()\n",
    "        le.fit(list(gau_sample[col].astype(str).values) + list(test[col].astype(str).values))\n",
    "        gau_sample[col] = le.transform(list(gau_sample[col].astype(str).values))\n",
    "        test[col] = le.transform(list(test[col].astype(str).values))   "
   ]
  },
  {
   "cell_type": "code",
   "execution_count": 29,
   "id": "7835d58f",
   "metadata": {},
   "outputs": [],
   "source": [
    "X_train = gau_sample.drop(columns=['isFraud'])\n",
    "y_train = gau_sample['isFraud']"
   ]
  },
  {
   "cell_type": "code",
   "execution_count": 30,
   "id": "1880fd04",
   "metadata": {},
   "outputs": [],
   "source": [
    "from sklearn.model_selection import train_test_split\n",
    "# x_train, x_valid, y_train, y_valid = train_test_split(X, y, test_size = 0.20, random_state = 101)\n",
    "X_train.to_csv(f'{save_dir}/x_train.csv', index=False)\n",
    "y_train.to_csv(f'{save_dir}/y_train.csv', index=False)\n",
    "# x_valid.to_csv(f'{save_dir}/x_valid.csv', index=False)\n",
    "# y_valid.to_csv(f'{save_dir}/y_valid.csv', index=False)"
   ]
  },
  {
   "cell_type": "code",
   "execution_count": 31,
   "id": "72198f43",
   "metadata": {},
   "outputs": [
    {
     "ename": "KeyError",
     "evalue": "'card3'",
     "output_type": "error",
     "traceback": [
      "\u001b[1;31m---------------------------------------------------------------------------\u001b[0m",
      "\u001b[1;31mKeyError\u001b[0m                                  Traceback (most recent call last)",
      "File \u001b[1;32mc:\\Users\\PC\\Data\\ads_fraud_detection\\.conda\\lib\\site-packages\\pandas\\core\\indexes\\base.py:3653\u001b[0m, in \u001b[0;36mIndex.get_loc\u001b[1;34m(self, key)\u001b[0m\n\u001b[0;32m   3652\u001b[0m \u001b[38;5;28;01mtry\u001b[39;00m:\n\u001b[1;32m-> 3653\u001b[0m     \u001b[38;5;28;01mreturn\u001b[39;00m \u001b[38;5;28;43mself\u001b[39;49m\u001b[38;5;241;43m.\u001b[39;49m\u001b[43m_engine\u001b[49m\u001b[38;5;241;43m.\u001b[39;49m\u001b[43mget_loc\u001b[49m\u001b[43m(\u001b[49m\u001b[43mcasted_key\u001b[49m\u001b[43m)\u001b[49m\n\u001b[0;32m   3654\u001b[0m \u001b[38;5;28;01mexcept\u001b[39;00m \u001b[38;5;167;01mKeyError\u001b[39;00m \u001b[38;5;28;01mas\u001b[39;00m err:\n",
      "File \u001b[1;32mc:\\Users\\PC\\Data\\ads_fraud_detection\\.conda\\lib\\site-packages\\pandas\\_libs\\index.pyx:147\u001b[0m, in \u001b[0;36mpandas._libs.index.IndexEngine.get_loc\u001b[1;34m()\u001b[0m\n",
      "File \u001b[1;32mc:\\Users\\PC\\Data\\ads_fraud_detection\\.conda\\lib\\site-packages\\pandas\\_libs\\index.pyx:176\u001b[0m, in \u001b[0;36mpandas._libs.index.IndexEngine.get_loc\u001b[1;34m()\u001b[0m\n",
      "File \u001b[1;32mpandas\\_libs\\hashtable_class_helper.pxi:7080\u001b[0m, in \u001b[0;36mpandas._libs.hashtable.PyObjectHashTable.get_item\u001b[1;34m()\u001b[0m\n",
      "File \u001b[1;32mpandas\\_libs\\hashtable_class_helper.pxi:7088\u001b[0m, in \u001b[0;36mpandas._libs.hashtable.PyObjectHashTable.get_item\u001b[1;34m()\u001b[0m\n",
      "\u001b[1;31mKeyError\u001b[0m: 'card3'",
      "\nThe above exception was the direct cause of the following exception:\n",
      "\u001b[1;31mKeyError\u001b[0m                                  Traceback (most recent call last)",
      "Cell \u001b[1;32mIn[31], line 2\u001b[0m\n\u001b[0;32m      1\u001b[0m \u001b[38;5;28;01mfor\u001b[39;00m col \u001b[38;5;129;01min\u001b[39;00m continuous_cols:\n\u001b[1;32m----> 2\u001b[0m     \u001b[43mtest\u001b[49m\u001b[43m[\u001b[49m\u001b[43mcol\u001b[49m\u001b[43m]\u001b[49m\u001b[38;5;241m.\u001b[39minterpolate(method\u001b[38;5;241m=\u001b[39m\u001b[38;5;124m'\u001b[39m\u001b[38;5;124mlinear\u001b[39m\u001b[38;5;124m'\u001b[39m, inplace\u001b[38;5;241m=\u001b[39m\u001b[38;5;28;01mTrue\u001b[39;00m)\n\u001b[0;32m      4\u001b[0m \u001b[38;5;28;01mfor\u001b[39;00m col \u001b[38;5;129;01min\u001b[39;00m categorical_cols:\n\u001b[0;32m      5\u001b[0m     test[col]\u001b[38;5;241m.\u001b[39mfillna(test[col]\u001b[38;5;241m.\u001b[39mmode()[\u001b[38;5;241m0\u001b[39m], inplace\u001b[38;5;241m=\u001b[39m\u001b[38;5;28;01mTrue\u001b[39;00m)\n",
      "File \u001b[1;32mc:\\Users\\PC\\Data\\ads_fraud_detection\\.conda\\lib\\site-packages\\pandas\\core\\frame.py:3761\u001b[0m, in \u001b[0;36mDataFrame.__getitem__\u001b[1;34m(self, key)\u001b[0m\n\u001b[0;32m   3759\u001b[0m \u001b[38;5;28;01mif\u001b[39;00m \u001b[38;5;28mself\u001b[39m\u001b[38;5;241m.\u001b[39mcolumns\u001b[38;5;241m.\u001b[39mnlevels \u001b[38;5;241m>\u001b[39m \u001b[38;5;241m1\u001b[39m:\n\u001b[0;32m   3760\u001b[0m     \u001b[38;5;28;01mreturn\u001b[39;00m \u001b[38;5;28mself\u001b[39m\u001b[38;5;241m.\u001b[39m_getitem_multilevel(key)\n\u001b[1;32m-> 3761\u001b[0m indexer \u001b[38;5;241m=\u001b[39m \u001b[38;5;28;43mself\u001b[39;49m\u001b[38;5;241;43m.\u001b[39;49m\u001b[43mcolumns\u001b[49m\u001b[38;5;241;43m.\u001b[39;49m\u001b[43mget_loc\u001b[49m\u001b[43m(\u001b[49m\u001b[43mkey\u001b[49m\u001b[43m)\u001b[49m\n\u001b[0;32m   3762\u001b[0m \u001b[38;5;28;01mif\u001b[39;00m is_integer(indexer):\n\u001b[0;32m   3763\u001b[0m     indexer \u001b[38;5;241m=\u001b[39m [indexer]\n",
      "File \u001b[1;32mc:\\Users\\PC\\Data\\ads_fraud_detection\\.conda\\lib\\site-packages\\pandas\\core\\indexes\\base.py:3655\u001b[0m, in \u001b[0;36mIndex.get_loc\u001b[1;34m(self, key)\u001b[0m\n\u001b[0;32m   3653\u001b[0m     \u001b[38;5;28;01mreturn\u001b[39;00m \u001b[38;5;28mself\u001b[39m\u001b[38;5;241m.\u001b[39m_engine\u001b[38;5;241m.\u001b[39mget_loc(casted_key)\n\u001b[0;32m   3654\u001b[0m \u001b[38;5;28;01mexcept\u001b[39;00m \u001b[38;5;167;01mKeyError\u001b[39;00m \u001b[38;5;28;01mas\u001b[39;00m err:\n\u001b[1;32m-> 3655\u001b[0m     \u001b[38;5;28;01mraise\u001b[39;00m \u001b[38;5;167;01mKeyError\u001b[39;00m(key) \u001b[38;5;28;01mfrom\u001b[39;00m \u001b[38;5;21;01merr\u001b[39;00m\n\u001b[0;32m   3656\u001b[0m \u001b[38;5;28;01mexcept\u001b[39;00m \u001b[38;5;167;01mTypeError\u001b[39;00m:\n\u001b[0;32m   3657\u001b[0m     \u001b[38;5;66;03m# If we have a listlike key, _check_indexing_error will raise\u001b[39;00m\n\u001b[0;32m   3658\u001b[0m     \u001b[38;5;66;03m#  InvalidIndexError. Otherwise we fall through and re-raise\u001b[39;00m\n\u001b[0;32m   3659\u001b[0m     \u001b[38;5;66;03m#  the TypeError.\u001b[39;00m\n\u001b[0;32m   3660\u001b[0m     \u001b[38;5;28mself\u001b[39m\u001b[38;5;241m.\u001b[39m_check_indexing_error(key)\n",
      "\u001b[1;31mKeyError\u001b[0m: 'card3'"
     ]
    }
   ],
   "source": [
    "\n",
    "for col in continuous_cols:\n",
    "    test[col].interpolate(method='linear', inplace=True)\n",
    "\n",
    "for col in categorical_cols:\n",
    "    test[col].fillna(test[col].mode()[0], inplace=True)\n",
    "\n",
    "x_test = test.drop(['isFraud'], axis=1)\n",
    "y_test = test['isFraud']\n",
    "\n",
    "x_test.to_csv(f'{save_dir}/x_test.csv', index=False)\n",
    "y_test.to_csv(f'{save_dir}/y_test.csv', index=False)"
   ]
  },
  {
   "cell_type": "code",
   "execution_count": null,
   "id": "49aefbe9",
   "metadata": {},
   "outputs": [],
   "source": []
  },
  {
   "cell_type": "code",
   "execution_count": null,
   "id": "0f06bd62",
   "metadata": {},
   "outputs": [],
   "source": []
  }
 ],
 "metadata": {
  "kernelspec": {
   "display_name": "Python 3",
   "language": "python",
   "name": "python3"
  },
  "language_info": {
   "codemirror_mode": {
    "name": "ipython",
    "version": 3
   },
   "file_extension": ".py",
   "mimetype": "text/x-python",
   "name": "python",
   "nbconvert_exporter": "python",
   "pygments_lexer": "ipython3",
   "version": "3.8.19"
  }
 },
 "nbformat": 4,
 "nbformat_minor": 5
}
