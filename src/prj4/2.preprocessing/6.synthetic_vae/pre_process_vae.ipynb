{
 "cells": [
  {
   "cell_type": "code",
   "execution_count": null,
   "id": "54f8344d",
   "metadata": {},
   "outputs": [],
   "source": [
    "import sys,os\n",
    "__script_path=os.path.abspath(globals().get('__file__','.'))\n",
    "__script_dir = os.path.dirname(__script_path)\n",
    "root_dir = os.path.abspath(f'{__script_dir}/../../..')\n",
    "print(root_dir)\n",
    "for lib in [root_dir][::-1]:\n",
    "    if lib in sys.path:\n",
    "        sys.path.remove(lib)\n",
    "    sys.path.insert(0,lib)\n",
    "\n",
    "from libs.common import *\n",
    "from config.config import *"
   ]
  },
  {
   "cell_type": "markdown",
   "id": "88a7ba29",
   "metadata": {},
   "source": [
    "# 3. Tiền xử lí dữ liệu"
   ]
  },
  {
   "cell_type": "code",
   "execution_count": null,
   "id": "d5973ea8",
   "metadata": {},
   "outputs": [],
   "source": [
    "save_dir=f\"{exps_dir}/exp3/exp_vae\"\n",
    "\n",
    "save_dir = f\"{save_dir}\"\n",
    "os.makedirs(save_dir, exist_ok=True)\n",
    "test_size=0.33\n",
    "seed=42"
   ]
  },
  {
   "cell_type": "code",
   "execution_count": null,
   "id": "7fdb47b9",
   "metadata": {},
   "outputs": [],
   "source": [
    "test_size=0.33\n",
    "seed=42\n",
    "data=pd.read_excel(f'{exps_dir}/exp3/data_EDA.xlsx')\n",
    "data"
   ]
  },
  {
   "cell_type": "code",
   "execution_count": null,
   "id": "26a81f1b",
   "metadata": {},
   "outputs": [],
   "source": [
    "data_train, data_test = train_test_split(data, test_size = 0.33, random_state=seed)\n",
    "print(data_train.shape,data_test.shape)\n",
    "data_train.to_excel(f'{save_dir}/datatrain.xlsx', index=None)\n",
    "data_test.to_excel(f'{save_dir}/datatest.xlsx', index=None)"
   ]
  },
  {
   "cell_type": "code",
   "execution_count": null,
   "id": "66f2fc7c",
   "metadata": {
    "scrolled": true
   },
   "outputs": [],
   "source": [
    "data_train"
   ]
  },
  {
   "cell_type": "code",
   "execution_count": null,
   "id": "b3cecbb5",
   "metadata": {},
   "outputs": [],
   "source": [
    "# outliers_list=dict(np.load(f'{save_dir}/outliers.npz'))['outliers']\n",
    "# def remove_outliers_iqr(data, column):\n",
    "#     Q1 = data[column].quantile(0.25)\n",
    "#     Q3 = data[column].quantile(0.75)\n",
    "#     IQR = Q3 - Q1\n",
    "#     lower_bound = Q1 - 1.5 * IQR\n",
    "#     upper_bound = Q3 + 1.5 * IQR\n",
    "#     return data[(data[column] >= lower_bound) & (data[column] <= upper_bound)]\n",
    "\n",
    "# # Áp dụng hàm cho các cột chứa dữ liệu cần loại bỏ ngoại lệ\n",
    "# for column in outliers_list:\n",
    "#     data_train = remove_outliers_iqr(data_train, column)\n",
    "# data_train"
   ]
  },
  {
   "cell_type": "code",
   "execution_count": null,
   "id": "4659097c",
   "metadata": {},
   "outputs": [],
   "source": [
    "data.isnull().sum()"
   ]
  },
  {
   "cell_type": "code",
   "execution_count": null,
   "id": "8a9d9270",
   "metadata": {},
   "outputs": [],
   "source": [
    "# data_train['collision_type']=data_train['collision_type'].replace('?',np.nan)\n",
    "# data_train['collision_type'].fillna(method='ffill',inplace=True)\n",
    "# data_train[['property_damage','police_report_available']]=data_train[['property_damage','police_report_available']].replace('?','Unknow')\n",
    "# (data_train=='?').sum()"
   ]
  },
  {
   "cell_type": "markdown",
   "id": "cb73058e",
   "metadata": {},
   "source": [
    "# 4.Chuẩn hóa dữ liệu"
   ]
  },
  {
   "cell_type": "code",
   "execution_count": null,
   "id": "841ce28f",
   "metadata": {},
   "outputs": [],
   "source": [
    "numeric_columns=dict(np.load(f'{exps_dir}/exp3/columns_dtype.npz',allow_pickle=True))['numeric_columns']\n",
    "numeric_columns"
   ]
  },
  {
   "cell_type": "code",
   "execution_count": null,
   "id": "a2c39a06",
   "metadata": {},
   "outputs": [],
   "source": [
    "category_columns=dict(np.load(f'{exps_dir}/exp3/columns_dtype.npz',allow_pickle=True))['category_columns']\n",
    "category_columns"
   ]
  },
  {
   "cell_type": "code",
   "execution_count": null,
   "id": "37b47ff9",
   "metadata": {},
   "outputs": [],
   "source": [
    "label_encoders = {}\n",
    "for column in category_columns:\n",
    "    label_encoder = LabelEncoder()\n",
    "    data_train[column] = label_encoder.fit_transform(data_train[column])\n",
    "    label_encoders[column] = label_encoder  # Lưu trữ label encoder nếu cần sau này\n",
    "\n",
    "scaler = StandardScaler()\n",
    "data_train[numeric_columns] = scaler.fit_transform(data_train[numeric_columns])\n",
    "data_train"
   ]
  },
  {
   "cell_type": "code",
   "execution_count": null,
   "id": "b284bb46",
   "metadata": {},
   "outputs": [],
   "source": [
    "x_train=data_train.drop('CLAIM_STATUS',axis=1)\n",
    "y_train=data_train['CLAIM_STATUS']\n",
    "x_train.to_excel(f'{save_dir}/x_train.xlsx', index=False)\n",
    "y_train.to_excel(f'{save_dir}/y_train.xlsx', index=False)"
   ]
  },
  {
   "cell_type": "code",
   "execution_count": null,
   "id": "cc40e767",
   "metadata": {},
   "outputs": [],
   "source": [
    "class_weights = compute_class_weight(class_weight='balanced', classes=np.unique(y_train), y=y_train)\n",
    "class_weights_dict = {i : class_weights[i] for i in range(len(class_weights))}\n",
    "np.savez(f'{save_dir}/class_weights_dict.npz', class_weights_dict = class_weights_dict)\n",
    "class_weights_dict"
   ]
  },
  {
   "cell_type": "code",
   "execution_count": null,
   "id": "c7011ba2",
   "metadata": {},
   "outputs": [],
   "source": [
    "# from imblearn.over_sampling import SMOTE\n",
    "# x_train, y_train = SMOTE().fit_resample(x_train, y_train)\n",
    "# x_train.to_excel(f'{save_dir}/x_train.xlsx', index=False)\n",
    "# y_train.to_excel(f'{save_dir}/y_train.xlsx', index=False)"
   ]
  },
  {
   "cell_type": "code",
   "execution_count": null,
   "id": "75a54f68",
   "metadata": {},
   "outputs": [],
   "source": [
    "from imblearn.over_sampling import RandomOverSampler\n",
    "ros = RandomOverSampler(random_state=42)\n",
    "X_rosampled, y_rosampled = ros.fit_resample(data_train.drop(columns=['CLAIM_STATUS']), data_train['CLAIM_STATUS'])\n",
    "X_rosampled = pd.DataFrame(X_rosampled)\n",
    "y_rosampled = pd.DataFrame(y_rosampled)\n",
    "oversampling_sample=pd.concat([X_rosampled, y_rosampled], axis=1)    "
   ]
  },
  {
   "cell_type": "code",
   "execution_count": null,
   "id": "35a144fa",
   "metadata": {},
   "outputs": [],
   "source": [
    "from sdv.metadata import SingleTableMetadata\n",
    "metadata_sync = SingleTableMetadata()\n",
    "metadata_sync.detect_from_dataframe(data=oversampling_sample)"
   ]
  },
  {
   "cell_type": "code",
   "execution_count": null,
   "id": "11488fef",
   "metadata": {},
   "outputs": [],
   "source": [
    "from sdv.single_table import CopulaGANSynthesizer\n",
    "\n",
    "\n",
    "gan_synthesizer = CopulaGANSynthesizer(metadata_sync,\n",
    "                                            enforce_min_max_values=True,  \n",
    "                                            enforce_rounding=True,\n",
    "                                            default_distribution='gamma') \n",
    "\n",
    "gan_synthesizer.fit(oversampling_sample)\n",
    "gan_synthesizer.save(\n",
    "    filepath=f'{save_dir}/gan_copula_synthesizer.pkl'\n",
    ")"
   ]
  },
  {
   "cell_type": "code",
   "execution_count": null,
   "id": "0f32002b",
   "metadata": {},
   "outputs": [],
   "source": [
    "gan_synthetic_data = gan_synthesizer.sample(num_rows=len(data_train))\n",
    "gan_synthetic_data.head()"
   ]
  },
  {
   "cell_type": "code",
   "execution_count": null,
   "id": "6ec56572",
   "metadata": {},
   "outputs": [],
   "source": [
    "label_encoders = {}\n",
    "for column in category_columns:\n",
    "    label_encoder = LabelEncoder()\n",
    "    gan_synthetic_data[column] = label_encoder.fit_transform(gan_synthetic_data[column])\n",
    "    label_encoders[column] = label_encoder  # Lưu trữ label encoder nếu cần sau này\n",
    "\n",
    "scaler = StandardScaler()\n",
    "gan_synthetic_data[numeric_columns] = scaler.fit_transform(gan_synthetic_data[numeric_columns])\n"
   ]
  },
  {
   "cell_type": "code",
   "execution_count": null,
   "id": "983c6895",
   "metadata": {},
   "outputs": [],
   "source": [
    "from sdv.evaluation.single_table import run_diagnostic\n",
    "\n",
    "\n",
    "\n",
    "diagnostic_gan = run_diagnostic(\n",
    "    real_data=oversampling_sample,\n",
    "    synthetic_data=gan_synthetic_data,\n",
    "    metadata=metadata_sync\n",
    ")\n",
    "\n",
    "\n"
   ]
  },
  {
   "cell_type": "code",
   "execution_count": null,
   "id": "416b9000",
   "metadata": {},
   "outputs": [],
   "source": [
    "from sdv.evaluation.single_table import evaluate_quality\n",
    "\n",
    "\n",
    "\n",
    "diagnostic_gan = evaluate_quality(\n",
    "    real_data=oversampling_sample,\n",
    "    synthetic_data=gan_synthetic_data,\n",
    "    metadata=metadata_sync\n",
    ")\n",
    "\n",
    "\n"
   ]
  },
  {
   "cell_type": "code",
   "execution_count": null,
   "id": "9dcd928d",
   "metadata": {},
   "outputs": [],
   "source": [
    "from sklearn.utils import shuffle\n",
    "from imblearn.under_sampling import RandomUnderSampler\n",
    "\n",
    "rus = RandomUnderSampler(random_state=42)\n",
    "\n",
    "## gan data\n",
    "gan_data=gan_synthetic_data[gan_synthetic_data.CLAIM_STATUS==1]\n",
    "gan_sample=pd.concat([data_train, gan_data] , axis=0, ignore_index=True)\n",
    "X_gansampled, y_gansampled = rus.fit_resample(gan_sample.drop(columns=['CLAIM_STATUS']), gan_sample['CLAIM_STATUS'])\n",
    "X_gansampled = pd.DataFrame(X_gansampled)\n",
    "y_gansampled = pd.DataFrame(y_gansampled)\n",
    "gan_sample=pd.concat([X_gansampled, y_gansampled], axis=1)    \n",
    "gan_sample = shuffle(gan_sample, random_state=42)\n",
    "print(gan_sample.CLAIM_STATUS.value_counts())"
   ]
  },
  {
   "cell_type": "code",
   "execution_count": null,
   "id": "6b1d7091",
   "metadata": {},
   "outputs": [],
   "source": [
    "gan_sample.to_excel(f'{save_dir}/data_train.xlsx', index=False)"
   ]
  },
  {
   "cell_type": "code",
   "execution_count": null,
   "id": "8dc6d6f5",
   "metadata": {},
   "outputs": [],
   "source": [
    "feat_gan = gan_sample.drop(columns=['CLAIM_STATUS'])\n",
    "target_gan = gan_sample['CLAIM_STATUS']"
   ]
  },
  {
   "cell_type": "code",
   "execution_count": null,
   "id": "7d33f255",
   "metadata": {},
   "outputs": [],
   "source": [
    "feat_gan.to_excel(f'{save_dir}/x_train.xlsx', index=False)\n",
    "target_gan.to_excel(f'{save_dir}/y_train.xlsx', index=False)"
   ]
  },
  {
   "cell_type": "code",
   "execution_count": null,
   "id": "72198f43",
   "metadata": {},
   "outputs": [],
   "source": [
    "object_cols_test=dict(np.load(f'{exps_dir}/exp3/columns_dtype.npz',allow_pickle=True))['category_columns']\n",
    "numeric_cols_test=dict(np.load(f'{exps_dir}/exp3/columns_dtype.npz',allow_pickle=True))['numeric_columns']\n",
    "# for column in outliers_list:\n",
    "#     data_test = remove_outliers_iqr(data_test, column)\n",
    "# data_test['collision_type'].replace('?',np.nan,inplace=True)\n",
    "# data_test['collision_type'].fillna(method='ffill',inplace=True)\n",
    "# data_test[['property_damage','police_report_available']].replace('?','Unknow',inplace=True)\n",
    "# (data_test=='?').sum()\n",
    "label_encoders = {}\n",
    "for column in object_cols_test:\n",
    "    label_encoder = LabelEncoder()\n",
    "    data_test[column] = label_encoder.fit_transform(data_test[column])\n",
    "    label_encoders[column] = label_encoder  # Lưu trữ label encoder nếu cần sau này\n",
    "\n",
    "scaler = StandardScaler()\n",
    "data_test[numeric_cols_test] = scaler.fit_transform(data_test[numeric_cols_test])\n",
    "\n",
    "x_test=data_test.drop('CLAIM_STATUS',axis=1)\n",
    "y_test=data_test['CLAIM_STATUS']\n",
    "data_test.to_excel(f'{save_dir}/df_test_minmax.xlsx', index=False)\n",
    "x_test.to_excel(f'{save_dir}/x_test.xlsx', index=False)\n",
    "y_test.to_excel(f'{save_dir}/y_test.xlsx', index=False)"
   ]
  },
  {
   "cell_type": "code",
   "execution_count": null,
   "id": "49aefbe9",
   "metadata": {},
   "outputs": [],
   "source": []
  },
  {
   "cell_type": "code",
   "execution_count": null,
   "id": "0f06bd62",
   "metadata": {},
   "outputs": [],
   "source": []
  }
 ],
 "metadata": {
  "kernelspec": {
   "display_name": "Python 3",
   "language": "python",
   "name": "python3"
  },
  "language_info": {
   "codemirror_mode": {
    "name": "ipython",
    "version": 3
   },
   "file_extension": ".py",
   "mimetype": "text/x-python",
   "name": "python",
   "nbconvert_exporter": "python",
   "pygments_lexer": "ipython3",
   "version": "3.8.19"
  }
 },
 "nbformat": 4,
 "nbformat_minor": 5
}
