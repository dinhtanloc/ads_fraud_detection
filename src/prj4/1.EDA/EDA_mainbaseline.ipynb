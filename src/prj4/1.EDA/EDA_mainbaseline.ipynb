{
 "cells": [
  {
   "cell_type": "markdown",
   "metadata": {},
   "source": [
    "## Description project\n",
    "\n",
    "We work here for a company specialised in E-commerce who exclusively sells handmade clothes. Management would like us to developp a tool that identifies fraudulent activities in a timely manner to prevent any theft.\n",
    "\n",
    "\n",
    "#### Scope of work\n",
    "\n",
    "- Determine user's country from his IP address\n",
    "- Build a Machine Learning prediction model allowing to categorise a transaction as fraudulent or safe.\n",
    "- Elaborate on how the model works for a non technical audience who wants to be comfortable using the model\n",
    "\n",
    "\n",
    "To complete the work, we were provided with two datasets :\n",
    "- Fraud_data, containing a sample of users with information such as sex, age, signup_time, ip_address ... and wether they commited fraud or not\n",
    "- One table indicating country from a combination of the lower bound and upper bound of an IP address.\n",
    "\n",
    "----- \n"
   ]
  },
  {
   "cell_type": "code",
   "execution_count": 1,
   "metadata": {},
   "outputs": [
    {
     "name": "stdout",
     "output_type": "stream",
     "text": [
      "c:\\Users\\Admin\\Data\\ads_fraud_detection\n"
     ]
    }
   ],
   "source": [
    "import sys,os\n",
    "__script_path=os.path.abspath(globals().get('__file__','.'))\n",
    "__script_dir = os.path.dirname(__script_path)\n",
    "root_dir = os.path.abspath(f'{__script_dir}/../..')\n",
    "print(root_dir)\n",
    "for lib in [root_dir][::-1]:\n",
    "    if lib in sys.path:\n",
    "        sys.path.remove(lib)\n",
    "    sys.path.insert(0,lib)\n"
   ]
  },
  {
   "cell_type": "code",
   "execution_count": 2,
   "metadata": {},
   "outputs": [
    {
     "name": "stdout",
     "output_type": "stream",
     "text": [
      "c:/Users/Admin/Data/ads_fraud_detection\n"
     ]
    },
    {
     "data": {
      "text/html": [
       "        <script type=\"text/javascript\">\n",
       "        window.PlotlyConfig = {MathJaxConfig: 'local'};\n",
       "        if (window.MathJax && window.MathJax.Hub && window.MathJax.Hub.Config) {window.MathJax.Hub.Config({SVG: {font: \"STIX-Web\"}});}\n",
       "        if (typeof require !== 'undefined') {\n",
       "        require.undef(\"plotly\");\n",
       "        requirejs.config({\n",
       "            paths: {\n",
       "                'plotly': ['https://cdn.plot.ly/plotly-2.35.0.min']\n",
       "            }\n",
       "        });\n",
       "        require(['plotly'], function(Plotly) {\n",
       "            window._Plotly = Plotly;\n",
       "        });\n",
       "        }\n",
       "        </script>\n",
       "        "
      ]
     },
     "metadata": {},
     "output_type": "display_data"
    },
    {
     "data": {
      "text/html": [
       "        <script type=\"text/javascript\">\n",
       "        window.PlotlyConfig = {MathJaxConfig: 'local'};\n",
       "        if (window.MathJax && window.MathJax.Hub && window.MathJax.Hub.Config) {window.MathJax.Hub.Config({SVG: {font: \"STIX-Web\"}});}\n",
       "        if (typeof require !== 'undefined') {\n",
       "        require.undef(\"plotly\");\n",
       "        requirejs.config({\n",
       "            paths: {\n",
       "                'plotly': ['https://cdn.plot.ly/plotly-2.35.0.min']\n",
       "            }\n",
       "        });\n",
       "        require(['plotly'], function(Plotly) {\n",
       "            window._Plotly = Plotly;\n",
       "        });\n",
       "        }\n",
       "        </script>\n",
       "        "
      ]
     },
     "metadata": {},
     "output_type": "display_data"
    },
    {
     "data": {
      "text/html": [
       "        <script type=\"text/javascript\">\n",
       "        window.PlotlyConfig = {MathJaxConfig: 'local'};\n",
       "        if (window.MathJax && window.MathJax.Hub && window.MathJax.Hub.Config) {window.MathJax.Hub.Config({SVG: {font: \"STIX-Web\"}});}\n",
       "        if (typeof require !== 'undefined') {\n",
       "        require.undef(\"plotly\");\n",
       "        requirejs.config({\n",
       "            paths: {\n",
       "                'plotly': ['https://cdn.plot.ly/plotly-2.35.0.min']\n",
       "            }\n",
       "        });\n",
       "        require(['plotly'], function(Plotly) {\n",
       "            window._Plotly = Plotly;\n",
       "        });\n",
       "        }\n",
       "        </script>\n",
       "        "
      ]
     },
     "metadata": {},
     "output_type": "display_data"
    },
    {
     "name": "stdout",
     "output_type": "stream",
     "text": [
      "2.13.0\n"
     ]
    }
   ],
   "source": [
    "from config.config import *\n",
    "from libs.common import *\n",
    "init_notebook_mode(connected=True)\n",
    "print(tf.__version__) # requires version >= 1.9.0"
   ]
  },
  {
   "cell_type": "code",
   "execution_count": 3,
   "metadata": {},
   "outputs": [],
   "source": [
    "save_dir=f\"{exps_dir}/exp4\"\n",
    "if os.path.exists(save_dir) == False: \n",
    "  os.makedirs(save_dir, exist_ok=True)\n",
    "\n"
   ]
  },
  {
   "cell_type": "code",
   "execution_count": 4,
   "metadata": {},
   "outputs": [],
   "source": [
    "import numpy as np  \n",
    "import pandas as pd  \n",
    "import matplotlib.pyplot as plt \n",
    "import seaborn as sns\n",
    "import sklearn\n",
    "import datetime\n",
    "import calendar\n",
    "import warnings\n",
    "warnings.filterwarnings('ignore')\n",
    "\n",
    "# Options\n",
    "\n",
    "pd.set_option('display.max_columns', 500)\n",
    "\n",
    "\n",
    "# Function for when we want to drop a column but still keep it in memory in an other dataframe\n",
    "\n",
    "def to_recycle_bin(column) :\n",
    "    recycle_ds[column] = dataset[column]\n",
    "    dataset.drop(column, axis=1, inplace = True)\n",
    "    \n",
    "# Function to get a column back from recycle_ds\n",
    "\n",
    "def restore_from_bin(column) :\n",
    "    dataset[column] = dataset[column]\n",
    "    recycle_ds.drop(column, axis=1, inplace = True)\n",
    "\n",
    "# First we import the data\n",
    "\n",
    "dataset = pd.read_csv(f\"{data_dir}/fraud_ecommerce/Fraud_Data.csv\")              # Users information\n",
    "IP_table = pd.read_csv(f\"{data_dir}/fraud_ecommerce/IpAddress_to_Country.csv\")   # Country from IP information\n",
    "recycle_ds = pd.DataFrame()"
   ]
  },
  {
   "cell_type": "markdown",
   "metadata": {},
   "source": [
    "### Getting information from IP_table"
   ]
  },
  {
   "cell_type": "code",
   "execution_count": null,
   "metadata": {},
   "outputs": [],
   "source": [
    "# We want to get country related to each IP address\n",
    "\n",
    "IP_table.upper_bound_ip_address.astype(\"float\")\n",
    "IP_table.lower_bound_ip_address.astype(\"float\")\n",
    "dataset.ip_address.astype(\"float\")\n",
    "\n",
    "# function that takes an IP address as argument and returns country associated based on IP_table\n",
    "\n",
    "def IP_to_country(ip) :\n",
    "    try :\n",
    "        return IP_table.country[(IP_table.lower_bound_ip_address < ip)                            \n",
    "                                & \n",
    "                                (IP_table.upper_bound_ip_address > ip)].iloc[0]\n",
    "    except IndexError :\n",
    "        return \"Unknown\"     \n",
    "    \n",
    "# To affect a country to each IP :\n",
    "dataset[\"IP_country\"] = dataset.ip_address.apply(IP_to_country)\n",
    "\n",
    "# Since this code is time consuming to run, we have saved the result in a file with the following line of code :\n",
    "dataset.to_csv(f\"{save_dir}/Fraud_data_with_country.csv\", index=False)\n",
    "\n",
    "#which allows us to simply import the data if we need to restart the kernel\n",
    "# dataset = pd.read_csv(\"../input/datasets-fraud/Fraud_data_with_country.csv\")"
   ]
  },
  {
   "cell_type": "code",
   "execution_count": null,
   "metadata": {},
   "outputs": [],
   "source": [
    "dataset.head()"
   ]
  },
  {
   "cell_type": "markdown",
   "metadata": {},
   "source": [
    "### Understanding the data"
   ]
  },
  {
   "cell_type": "code",
   "execution_count": 6,
   "metadata": {},
   "outputs": [
    {
     "data": {
      "text/html": [
       "<div>\n",
       "<style scoped>\n",
       "    .dataframe tbody tr th:only-of-type {\n",
       "        vertical-align: middle;\n",
       "    }\n",
       "\n",
       "    .dataframe tbody tr th {\n",
       "        vertical-align: top;\n",
       "    }\n",
       "\n",
       "    .dataframe thead th {\n",
       "        text-align: right;\n",
       "    }\n",
       "</style>\n",
       "<table border=\"1\" class=\"dataframe\">\n",
       "  <thead>\n",
       "    <tr style=\"text-align: right;\">\n",
       "      <th></th>\n",
       "      <th>user_id</th>\n",
       "      <th>signup_time</th>\n",
       "      <th>purchase_time</th>\n",
       "      <th>purchase_value</th>\n",
       "      <th>device_id</th>\n",
       "      <th>source</th>\n",
       "      <th>browser</th>\n",
       "      <th>sex</th>\n",
       "      <th>age</th>\n",
       "      <th>ip_address</th>\n",
       "      <th>class</th>\n",
       "      <th>IP_country</th>\n",
       "    </tr>\n",
       "  </thead>\n",
       "  <tbody>\n",
       "    <tr>\n",
       "      <th>0</th>\n",
       "      <td>22058</td>\n",
       "      <td>2015-02-24 22:55:49</td>\n",
       "      <td>2015-04-18 02:47:11</td>\n",
       "      <td>34</td>\n",
       "      <td>QVPSPJUOCKZAR</td>\n",
       "      <td>SEO</td>\n",
       "      <td>Chrome</td>\n",
       "      <td>M</td>\n",
       "      <td>39</td>\n",
       "      <td>7.327584e+08</td>\n",
       "      <td>0</td>\n",
       "      <td>Japan</td>\n",
       "    </tr>\n",
       "    <tr>\n",
       "      <th>1</th>\n",
       "      <td>333320</td>\n",
       "      <td>2015-06-07 20:39:50</td>\n",
       "      <td>2015-06-08 01:38:54</td>\n",
       "      <td>16</td>\n",
       "      <td>EOGFQPIZPYXFZ</td>\n",
       "      <td>Ads</td>\n",
       "      <td>Chrome</td>\n",
       "      <td>F</td>\n",
       "      <td>53</td>\n",
       "      <td>3.503114e+08</td>\n",
       "      <td>0</td>\n",
       "      <td>United States</td>\n",
       "    </tr>\n",
       "    <tr>\n",
       "      <th>2</th>\n",
       "      <td>1359</td>\n",
       "      <td>2015-01-01 18:52:44</td>\n",
       "      <td>2015-01-01 18:52:45</td>\n",
       "      <td>15</td>\n",
       "      <td>YSSKYOSJHPPLJ</td>\n",
       "      <td>SEO</td>\n",
       "      <td>Opera</td>\n",
       "      <td>M</td>\n",
       "      <td>53</td>\n",
       "      <td>2.621474e+09</td>\n",
       "      <td>1</td>\n",
       "      <td>United States</td>\n",
       "    </tr>\n",
       "    <tr>\n",
       "      <th>3</th>\n",
       "      <td>150084</td>\n",
       "      <td>2015-04-28 21:13:25</td>\n",
       "      <td>2015-05-04 13:54:50</td>\n",
       "      <td>44</td>\n",
       "      <td>ATGTXKYKUDUQN</td>\n",
       "      <td>SEO</td>\n",
       "      <td>Safari</td>\n",
       "      <td>M</td>\n",
       "      <td>41</td>\n",
       "      <td>3.840542e+09</td>\n",
       "      <td>0</td>\n",
       "      <td>Unknown</td>\n",
       "    </tr>\n",
       "    <tr>\n",
       "      <th>4</th>\n",
       "      <td>221365</td>\n",
       "      <td>2015-07-21 07:09:52</td>\n",
       "      <td>2015-09-09 18:40:53</td>\n",
       "      <td>39</td>\n",
       "      <td>NAUITBZFJKHWW</td>\n",
       "      <td>Ads</td>\n",
       "      <td>Safari</td>\n",
       "      <td>M</td>\n",
       "      <td>45</td>\n",
       "      <td>4.155831e+08</td>\n",
       "      <td>0</td>\n",
       "      <td>United States</td>\n",
       "    </tr>\n",
       "  </tbody>\n",
       "</table>\n",
       "</div>"
      ],
      "text/plain": [
       "   user_id          signup_time        purchase_time  purchase_value      device_id source browser sex  age    ip_address  class     IP_country\n",
       "0    22058  2015-02-24 22:55:49  2015-04-18 02:47:11              34  QVPSPJUOCKZAR    SEO  Chrome   M   39  7.327584e+08      0          Japan\n",
       "1   333320  2015-06-07 20:39:50  2015-06-08 01:38:54              16  EOGFQPIZPYXFZ    Ads  Chrome   F   53  3.503114e+08      0  United States\n",
       "2     1359  2015-01-01 18:52:44  2015-01-01 18:52:45              15  YSSKYOSJHPPLJ    SEO   Opera   M   53  2.621474e+09      1  United States\n",
       "3   150084  2015-04-28 21:13:25  2015-05-04 13:54:50              44  ATGTXKYKUDUQN    SEO  Safari   M   41  3.840542e+09      0        Unknown\n",
       "4   221365  2015-07-21 07:09:52  2015-09-09 18:40:53              39  NAUITBZFJKHWW    Ads  Safari   M   45  4.155831e+08      0  United States"
      ]
     },
     "execution_count": 6,
     "metadata": {},
     "output_type": "execute_result"
    }
   ],
   "source": [
    "# We look at what our dataset looks like\n",
    "dataset.head()"
   ]
  },
  {
   "cell_type": "code",
   "execution_count": 7,
   "metadata": {},
   "outputs": [
    {
     "name": "stdout",
     "output_type": "stream",
     "text": [
      "('purchase_value : [ 34  16  15  44  39  42  11  27  30  62  13  58  18  50  '\n",
      " '57  55  40  46\\n'\n",
      " '  24  47  25  52  31  37  54  12  48  56  72  38  33  53  35  60  91  26\\n'\n",
      " '  75  51  81  69  36  10  14  29  21  61  41  19  28  65   9  79  23  73\\n'\n",
      " '  45  20  78  22  32  68  43  82  59  70  63  86  80  66  49  17  64 107\\n'\n",
      " '  87  67  76  90  88  92  77  85  71  74 101  96  93  98 123  89  84  94\\n'\n",
      " '  83  99 118 103 112 105  97 120 100 109  95 106 110 102 115 119 111 108\\n'\n",
      " ' 129 154 116 104 113 117 121 128 127 122 114 132 140 125]')\n",
      "\"source : ['SEO' 'Ads' 'Direct']\"\n",
      "\"browser : ['Chrome' 'Opera' 'Safari' 'IE' 'FireFox']\"\n",
      "\"sex : ['M' 'F']\"\n",
      "('age : [39 53 41 45 18 19 34 43 31 35 32 33 38 24 23 28 36 27 56 21 22 30 57 '\n",
      " '44\\n'\n",
      " ' 40 55 37 20 48 25 46 29 26 47 60 52 42 49 50 58 51 59 62 54 68 64 61 63\\n'\n",
      " ' 72 67 65 69 66 73 70 71 74 76]')\n"
     ]
    }
   ],
   "source": [
    "# We look at the unique values for the relevant\n",
    "import pprint\n",
    "for colonne in [\"purchase_value\",\"source\",\"browser\",\"sex\",\"age\" ] :\n",
    "    pprint.pprint(\"{} : {}\".format(colonne, dataset[colonne].unique()))"
   ]
  },
  {
   "cell_type": "code",
   "execution_count": 8,
   "metadata": {},
   "outputs": [
    {
     "name": "stdout",
     "output_type": "stream",
     "text": [
      "The user_id column includes 0 duplicates\n"
     ]
    }
   ],
   "source": [
    "# Are there multiple lines with the same user_id ?\n",
    "print(\"The user_id column includes {} duplicates\".format(dataset.duplicated(subset = \"user_id\", keep =False).sum()))"
   ]
  },
  {
   "cell_type": "markdown",
   "metadata": {},
   "source": [
    "Conclusion : each row in the table has a unique user_id"
   ]
  },
  {
   "cell_type": "code",
   "execution_count": 9,
   "metadata": {},
   "outputs": [
    {
     "name": "stdout",
     "output_type": "stream",
     "text": [
      "8.7% of the dataset is comprised of transactions from a device_id that had been previously used\n"
     ]
    }
   ],
   "source": [
    "# Let's see if the same device_id is sometimes used several times\n",
    "\n",
    "dup_table = pd.DataFrame(dataset.duplicated(subset = \"device_id\"))\n",
    "dup_rate = dup_table.mean()\n",
    "print(\"{}% of the dataset is comprised of transactions from a device_id that had been previously used\".format(int(dup_rate*1000)/10))"
   ]
  },
  {
   "cell_type": "code",
   "execution_count": 10,
   "metadata": {},
   "outputs": [
    {
     "name": "stdout",
     "output_type": "stream",
     "text": [
      "On average, when a device is used more than once it is used {mean} times, and the most used machine was used {maxi} times\n",
      "On average, when a device is used more than twice it is used {mean} times\n"
     ]
    }
   ],
   "source": [
    "# Since we know the same machine_id can be used for several transaction we will \n",
    "# look at how many times on average devices with duplicates are used and their distribution\n",
    "\n",
    "# dataset = pd.read_csv(\"../input/datasets-fraud/Fraud_data_with_country.csv\")\n",
    "\n",
    "device_duplicates = pd.DataFrame(dataset.groupby(by = \"device_id\").device_id.count())  # at this moment, index column name and first column name both are equal to \"device_id\"\n",
    "device_duplicates.rename(columns={\"device_id\": \"freq_device\"}, inplace=True)           # hence we need to replace the \"device_id\" column name\n",
    "device_duplicates.reset_index(level=0, inplace= True)                                  # and then we turn device_id from index to column\n",
    "\n",
    "dupli = device_duplicates[device_duplicates.freq_device >1]\n",
    "print(\"On average, when a device is used more than once it is used {mean} times, and the most used machine was used {maxi} times\")\n",
    "      # .format(mean = int(dupli.mean()*10)/10, maxi = int(dupli.freq_device.max()*10)/10))\n",
    "\n",
    "dupli = device_duplicates[device_duplicates.freq_device >2]\n",
    "print(\"On average, when a device is used more than twice it is used {mean} times\")\n",
    "      # .format(mean = int(dupli.mean()*10)/10, maxi = int(dupli.freq_device.max()*10)/10))\n",
    "\n",
    "# finally we merge with dataset\n",
    "dataset = dataset.merge(device_duplicates, on= \"device_id\")\n"
   ]
  },
  {
   "cell_type": "markdown",
   "metadata": {},
   "source": [
    "### Data exploration"
   ]
  },
  {
   "cell_type": "code",
   "execution_count": 11,
   "metadata": {},
   "outputs": [
    {
     "name": "stdout",
     "output_type": "stream",
     "text": [
      "proportion of fraud in the dataset : 9.3 %\n"
     ]
    }
   ],
   "source": [
    "# What is the proportion of fraud in the dataset\n",
    "print(\"proportion of fraud in the dataset :\" , int(dataset[\"class\"].mean()*1000)/10,\"%\")"
   ]
  },
  {
   "cell_type": "code",
   "execution_count": 12,
   "metadata": {},
   "outputs": [
    {
     "data": {
      "text/plain": [
       "[[<matplotlib.axis.XTick at 0x204b63a3af0>,\n",
       "  <matplotlib.axis.XTick at 0x204b63a3ac0>,\n",
       "  <matplotlib.axis.XTick at 0x204b6466100>,\n",
       "  <matplotlib.axis.XTick at 0x204b678df40>,\n",
       "  <matplotlib.axis.XTick at 0x204b67a7a30>,\n",
       "  <matplotlib.axis.XTick at 0x204b67a7fa0>,\n",
       "  <matplotlib.axis.XTick at 0x204b67a07f0>,\n",
       "  <matplotlib.axis.XTick at 0x204b679a2e0>,\n",
       "  <matplotlib.axis.XTick at 0x204b679ad90>,\n",
       "  <matplotlib.axis.XTick at 0x204b6797880>,\n",
       "  <matplotlib.axis.XTick at 0x204b679a580>]]"
      ]
     },
     "execution_count": 12,
     "metadata": {},
     "output_type": "execute_result"
    },
    {
     "data": {
      "image/png": "[encoded data removed]",
      "text/plain": [
       "<Figure size 1200x600 with 2 Axes>"
      ]
     },
     "metadata": {},
     "output_type": "display_data"
    }
   ],
   "source": [
    "# Let's look at the device frequency distribution to confirm our intuition\n",
    "\n",
    "f, ax = plt.subplots(1,2,figsize=(12,6))\n",
    "g1 =sns.distplot(dataset.freq_device[dataset.freq_device <4], ax=ax[0])\n",
    "g1.set(xticks=[1,2,3])\n",
    "\n",
    "g2 =sns.distplot(dataset.freq_device[dataset.freq_device >2], ax=ax[1])\n",
    "g2.set(xticks = range(0,21,2))"
   ]
  },
  {
   "cell_type": "code",
   "execution_count": 13,
   "metadata": {},
   "outputs": [
    {
     "data": {
      "text/plain": [
       "0         0\n",
       "1         0\n",
       "2         1\n",
       "3         1\n",
       "4         1\n",
       "         ..\n",
       "151107    0\n",
       "151108    0\n",
       "151109    0\n",
       "151110    0\n",
       "151111    0\n",
       "Name: class, Length: 151112, dtype: int64"
      ]
     },
     "execution_count": 13,
     "metadata": {},
     "output_type": "execute_result"
    }
   ],
   "source": [
    "dataset['class']"
   ]
  },
  {
   "cell_type": "code",
   "execution_count": 14,
   "metadata": {
    "scrolled": false
   },
   "outputs": [],
   "source": [
    "# # We look at the likelihood of fraud per category\n",
    "\n",
    "# f, ax = plt.subplots(1,3, figsize =(18,6))\n",
    "# f2,ax2 = plt.subplots(3,1, figsize =(24,18))\n",
    "# dataset[\"source\"] = pd.to_datetime(dataset[\"source\"], errors=\"coerce\")\n",
    "\n",
    "# sns.barplot(dataset.groupby(by = \"source\").mean()[\"class\"].index, dataset.groupby(by = \"source\").mean()[\"class\"], ax=ax[0])\n",
    "# sns.barplot(dataset.groupby(by = \"browser\").mean()[\"class\"].index, dataset.groupby(by = \"browser\").mean()[\"class\"], ax =ax[1])\n",
    "# sns.barplot(dataset.groupby(by = \"sex\").mean()[\"class\"].index, dataset.groupby(by = \"sex\").mean()[\"class\"], ax = ax[2])\n",
    "\n",
    "# sns.pointplot(x = \"purchase_value\", y= \"class\", data = dataset, logistic=True, ci=None, ax =ax2[0])\n",
    "# sns.pointplot(x = \"age\", y= \"class\", data = dataset, logistic=True, ci=None, ax = ax2[1])\n",
    "# sns.pointplot(x = \"freq_device\", y= \"class\", data = dataset, logistic=True, ci=None, ax=ax2[2])"
   ]
  },
  {
   "cell_type": "code",
   "execution_count": 15,
   "metadata": {},
   "outputs": [
    {
     "data": {
      "text/plain": [
       "<Axes: xlabel='IP_country'>"
      ]
     },
     "execution_count": 15,
     "metadata": {},
     "output_type": "execute_result"
    },
    {
     "data": {
      "image/png": "[encoded data removed]",
      "text/plain": [
       "<Figure size 640x480 with 1 Axes>"
      ]
     },
     "metadata": {},
     "output_type": "display_data"
    }
   ],
   "source": [
    "# Overview of distribution by country of origin\n",
    "\n",
    "dataset.IP_country.value_counts()[dataset.IP_country.value_counts() >1000].plot(kind=\"bar\")\n",
    "\n",
    "# We note that we have a non negligible amount of Unknown. We keep this as an information as IP that cannot be traced back to a \n",
    "# country may be an indication of a fraudulent activity"
   ]
  },
  {
   "cell_type": "code",
   "execution_count": 16,
   "metadata": {},
   "outputs": [],
   "source": [
    "# dataset.to_excel(f'{save_dir}/dataset_EDA.xlsx', index=None)\n",
    "object_columns = list(dataset.select_dtypes(['object']).columns)\n",
    "dataset[object_columns]=dataset[object_columns].astype('category')\n",
    "category_columns = list(dataset.select_dtypes(['category']).columns)\n",
    "numeric_columns = list(dataset.select_dtypes(['number']).columns)\n",
    "\n",
    "np.savez(f'{save_dir}/columns_dtype.npz', category_columns = category_columns, numeric_columns = numeric_columns)\n",
    "dataset.to_csv(f'{save_dir}/data_EDA.csv',index=None)"
   ]
  },
  {
   "cell_type": "code",
   "execution_count": null,
   "metadata": {},
   "outputs": [],
   "source": []
  }
 ],
 "metadata": {
  "kernelspec": {
   "display_name": "Python 3",
   "language": "python",
   "name": "python3"
  },
  "language_info": {
   "codemirror_mode": {
    "name": "ipython",
    "version": 3
   },
   "file_extension": ".py",
   "mimetype": "text/x-python",
   "name": "python",
   "nbconvert_exporter": "python",
   "pygments_lexer": "ipython3",
   "version": "3.8.19"
  }
 },
 "nbformat": 4,
 "nbformat_minor": 1
}
