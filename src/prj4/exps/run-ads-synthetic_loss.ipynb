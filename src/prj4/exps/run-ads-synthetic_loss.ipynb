{
 "cells": [
  {
   "cell_type": "code",
   "execution_count": null,
   "metadata": {
    "_cell_guid": "b1076dfc-b9ad-4769-8c92-a6c4dae69d19",
    "_uuid": "8f2839f25d086af736a60e9eeb907d3b93b6e0e5",
    "execution": {
     "iopub.execute_input": "2025-05-05T14:28:19.515248Z",
     "iopub.status.busy": "2025-05-05T14:28:19.514957Z",
     "iopub.status.idle": "2025-05-05T14:28:40.217177Z",
     "shell.execute_reply": "2025-05-05T14:28:40.216275Z",
     "shell.execute_reply.started": "2025-05-05T14:28:19.515222Z"
    },
    "trusted": true
   },
   "outputs": [],
   "source": [
    "# !git clone https://github.com/dinhtanloc/ads_fraud_detection.git"
   ]
  },
  {
   "cell_type": "code",
   "execution_count": null,
   "metadata": {
    "execution": {
     "iopub.execute_input": "2025-05-05T14:28:40.219200Z",
     "iopub.status.busy": "2025-05-05T14:28:40.218979Z",
     "iopub.status.idle": "2025-05-05T14:28:40.222469Z",
     "shell.execute_reply": "2025-05-05T14:28:40.221941Z",
     "shell.execute_reply.started": "2025-05-05T14:28:40.219180Z"
    },
    "trusted": true
   },
   "outputs": [],
   "source": [
    "# pip install kaggle==1.5.0"
   ]
  },
  {
   "cell_type": "code",
   "execution_count": null,
   "metadata": {
    "execution": {
     "iopub.execute_input": "2025-05-05T14:28:40.223779Z",
     "iopub.status.busy": "2025-05-05T14:28:40.223272Z",
     "iopub.status.idle": "2025-05-05T14:28:40.239522Z",
     "shell.execute_reply": "2025-05-05T14:28:40.238910Z",
     "shell.execute_reply.started": "2025-05-05T14:28:40.223759Z"
    },
    "trusted": true
   },
   "outputs": [],
   "source": [
    "# pip install tensorflow==2.12.0\n",
    "# # "
   ]
  },
  {
   "cell_type": "code",
   "execution_count": null,
   "metadata": {
    "execution": {
     "iopub.execute_input": "2025-05-05T14:28:40.241001Z",
     "iopub.status.busy": "2025-05-05T14:28:40.240784Z",
     "iopub.status.idle": "2025-05-05T14:30:03.931236Z",
     "shell.execute_reply": "2025-05-05T14:30:03.930118Z",
     "shell.execute_reply.started": "2025-05-05T14:28:40.240982Z"
    },
    "trusted": true
   },
   "outputs": [],
   "source": [
    "# pip install joblib cufflinks pydantic-settings mlxtend keras-tuner wandb shap lime tabnet-keras imbalanced-learn scikit-learn-extra xgboost lightgbm faker sdv"
   ]
  },
  {
   "cell_type": "code",
   "execution_count": null,
   "metadata": {
    "execution": {
     "iopub.execute_input": "2025-05-05T14:30:03.932637Z",
     "iopub.status.busy": "2025-05-05T14:30:03.932393Z",
     "iopub.status.idle": "2025-05-05T14:30:04.808114Z",
     "shell.execute_reply": "2025-05-05T14:30:04.807353Z",
     "shell.execute_reply.started": "2025-05-05T14:30:03.932613Z"
    },
    "trusted": true
   },
   "outputs": [],
   "source": [
    "# from kaggle_secrets import UserSecretsClient\n",
    "# import os\n",
    "# user_secrets = UserSecretsClient()\n",
    "# KAGGLE_KEY = user_secrets.get_secret(\"KAGGLE_KEY\")\n",
    "# KAGGLE_USERNAME = user_secrets.get_secret(\"KAGGLE_USERNAME\")\n",
    "# os.environ['KAGGLE_USERNAME'] = KAGGLE_USERNAME\n",
    "# os.environ['KAGGLE_KEY'] = KAGGLE_KEY\n",
    "\n",
    "# from kaggle.api.kaggle_api_extended import KaggleApi\n",
    "\n",
    "# api = KaggleApi()\n",
    "# api.authenticate()\n",
    "\n",
    "# print(\"Kaggle API authenticated successfully!\")"
   ]
  },
  {
   "cell_type": "code",
   "execution_count": null,
   "metadata": {
    "execution": {
     "iopub.execute_input": "2025-05-05T14:30:04.809433Z",
     "iopub.status.busy": "2025-05-05T14:30:04.808862Z",
     "iopub.status.idle": "2025-05-05T14:30:05.169377Z",
     "shell.execute_reply": "2025-05-05T14:30:05.168438Z",
     "shell.execute_reply.started": "2025-05-05T14:30:04.809411Z"
    },
    "trusted": true
   },
   "outputs": [],
   "source": [
    "# import os\n",
    "# os.system(\"kaggle command\")"
   ]
  },
  {
   "cell_type": "code",
   "execution_count": null,
   "metadata": {
    "execution": {
     "iopub.execute_input": "2025-05-05T14:30:05.170549Z",
     "iopub.status.busy": "2025-05-05T14:30:05.170266Z",
     "iopub.status.idle": "2025-05-05T14:31:00.824068Z",
     "shell.execute_reply": "2025-05-05T14:31:00.821648Z",
     "shell.execute_reply.started": "2025-05-05T14:30:05.170506Z"
    },
    "trusted": true
   },
   "outputs": [],
   "source": [
    "# %run C:/Users/PC/Data/ads_fraud_detection/src/prj4/1.EDA/EDA_mainbaseline_kaggle.ipynb"
   ]
  },
  {
   "cell_type": "markdown",
   "metadata": {},
   "source": [
    "smote"
   ]
  },
  {
   "cell_type": "code",
   "execution_count": null,
   "metadata": {
    "execution": {
     "iopub.status.busy": "2025-05-05T14:31:00.824581Z",
     "iopub.status.idle": "2025-05-05T14:31:00.824843Z",
     "shell.execute_reply": "2025-05-05T14:31:00.824748Z",
     "shell.execute_reply.started": "2025-05-05T14:31:00.824736Z"
    },
    "trusted": true
   },
   "outputs": [],
   "source": [
    "# %run C:/Users/PC/Data/ads_fraud_detection/src/prj4/2.preprocessing/3.smote/pre-processing-mainbaseline_SMOTE_kaggle.ipynb"
   ]
  },
  {
   "cell_type": "code",
   "execution_count": null,
   "metadata": {
    "execution": {
     "iopub.status.busy": "2025-05-05T14:31:00.826235Z",
     "iopub.status.idle": "2025-05-05T14:31:00.826466Z",
     "shell.execute_reply": "2025-05-05T14:31:00.826363Z",
     "shell.execute_reply.started": "2025-05-05T14:31:00.826353Z"
    },
    "trusted": true
   },
   "outputs": [],
   "source": [
    "%run C:/Users/Admin/Data/ads_fraud_detection/src/prj4/5.deep_learning_model/3.smote/InceptionV2/inceptionv2_class_weight_kaggle_diceloss.ipynb"
   ]
  },
  {
   "cell_type": "code",
   "execution_count": null,
   "metadata": {
    "execution": {
     "iopub.status.busy": "2025-05-05T14:31:00.827524Z",
     "iopub.status.idle": "2025-05-05T14:31:00.827743Z",
     "shell.execute_reply": "2025-05-05T14:31:00.827647Z",
     "shell.execute_reply.started": "2025-05-05T14:31:00.827637Z"
    },
    "trusted": true
   },
   "outputs": [],
   "source": [
    "%run C:/Users/PC/Data/ads_fraud_detection/src/prj4/5.deep_learning_model/3.smote/VGG16/vgg16_class_weight_kaggle_diceloss.ipynb"
   ]
  },
  {
   "cell_type": "code",
   "execution_count": null,
   "metadata": {},
   "outputs": [],
   "source": [
    "%run C:/Users/PC/Data/ads_fraud_detection/src/prj4/5.deep_learning_model/3.smote/VGG19/vgg19_class_weight_kaggle_diceloss.ipynb"
   ]
  }
 ],
 "metadata": {
  "kaggle": {
   "accelerator": "gpu",
   "dataSources": [],
   "isGpuEnabled": true,
   "isInternetEnabled": true,
   "language": "python",
   "sourceType": "notebook"
  },
  "kernelspec": {
   "display_name": "tensorflow_gpu",
   "language": "python",
   "name": "python3"
  },
  "language_info": {
   "codemirror_mode": {
    "name": "ipython",
    "version": 3
   },
   "file_extension": ".py",
   "mimetype": "text/x-python",
   "name": "python",
   "nbconvert_exporter": "python",
   "pygments_lexer": "ipython3",
   "version": "3.9.19"
  }
 },
 "nbformat": 4,
 "nbformat_minor": 4
}
