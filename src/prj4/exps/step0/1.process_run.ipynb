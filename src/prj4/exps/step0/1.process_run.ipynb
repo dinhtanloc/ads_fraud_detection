{
 "cells": [
  {
   "cell_type": "code",
   "execution_count": null,
   "metadata": {},
   "outputs": [],
   "source": [
    "%run \"C:\\Users\\Admin\\Data\\ads_fraud_detection\\src\\prj4\\2.preprocessing\\1.base\\pre-processing-mainbaseline_noSMOTE.ipynb\""
   ]
  },
  {
   "cell_type": "code",
   "execution_count": null,
   "metadata": {},
   "outputs": [],
   "source": [
    "%run 'C:\\Users\\Admin\\Data\\ads_fraud_detection\\src\\prj4\\2.preprocessing\\2.adasyn\\pre-processing-mainbaseline_adasyn.ipynb'"
   ]
  },
  {
   "cell_type": "code",
   "execution_count": null,
   "metadata": {},
   "outputs": [],
   "source": [
    "%run 'C:\\Users\\Admin\\Data\\ads_fraud_detection\\src\\prj4\\2.preprocessing\\3.smote\\pre-processing-mainbaseline_smote.ipynb'"
   ]
  },
  {
   "cell_type": "code",
   "execution_count": null,
   "metadata": {},
   "outputs": [],
   "source": [
    "%run 'C:\\Users\\Admin\\Data\\ads_fraud_detection\\src\\prj4\\2.preprocessing\\4.synthetic_gau\\pre-processing-mainbaseline_GAU.ipynb'"
   ]
  },
  {
   "cell_type": "code",
   "execution_count": null,
   "metadata": {},
   "outputs": [],
   "source": [
    "%run 'C:\\Users\\Admin\\Data\\ads_fraud_detection\\src\\prj4\\2.preprocessing\\5.synthetic_gan\\pre-processing-mainbaseline_GAN.ipynb'"
   ]
  },
  {
   "cell_type": "code",
   "execution_count": null,
   "metadata": {},
   "outputs": [],
   "source": [
    "%run 'C:\\Users\\Admin\\Data\\ads_fraud_detection\\src\\prj4\\2.preprocessing\\5.synthetic_gan\\pre-processing-mainbaseline_GANCopula.ipynb'"
   ]
  },
  {
   "cell_type": "code",
   "execution_count": null,
   "metadata": {},
   "outputs": [],
   "source": [
    "%run 'C:\\Users\\Admin\\Data\\ads_fraud_detection\\src\\prj4\\2.preprocessing\\6.synthetic_vae\\pre-processing-mainbaseline_VAE.ipynb'"
   ]
  }
 ],
 "metadata": {
  "language_info": {
   "name": "python"
  }
 },
 "nbformat": 4,
 "nbformat_minor": 2
}
