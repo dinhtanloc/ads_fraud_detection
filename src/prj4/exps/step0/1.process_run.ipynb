{
 "cells": [
  {
   "cell_type": "code",
   "execution_count": null,
   "metadata": {},
   "outputs": [],
   "source": [
    "%run C:/Users/Admin/Data/ads_fraud_detection/src/prj4/2.preprocessing/1.base/pre-processing-mainbaseline_noSMOTE.ipynb\n"
   ]
  },
  {
   "cell_type": "code",
   "execution_count": null,
   "metadata": {},
   "outputs": [],
   "source": [
    "%run C:/Users/Admin/Data/ads_fraud_detection/src/prj4/exps/step1/model_selection.ipynb"
   ]
  },
  {
   "cell_type": "code",
   "execution_count": null,
   "metadata": {},
   "outputs": [],
   "source": [
    "%run C:/Users/Admin/Data/ads_fraud_detection/src/prj4/2.preprocessing/3.smote/pre-processing-mainbaseline_smote.ipynb"
   ]
  },
  {
   "cell_type": "code",
   "execution_count": null,
   "metadata": {},
   "outputs": [],
   "source": [
    "%run C:/Users/Admin/Data/ads_fraud_detection/src/prj4/2.preprocessing/4.synthetic_gau/pre-processing-mainbaseline_GAU.ipynb"
   ]
  },
  {
   "cell_type": "code",
   "execution_count": null,
   "metadata": {},
   "outputs": [],
   "source": [
    "%run C:/Users/Admin/Data/ads_fraud_detection/src/prj4/2.preprocessing/5.synthetic_gan/pre-processing-mainbaseline_GAN.ipynb"
   ]
  },
  {
   "cell_type": "code",
   "execution_count": null,
   "metadata": {},
   "outputs": [],
   "source": [
    "%run C:/Users/Admin/Data/ads_fraud_detection/src/prj4/2.preprocessing/5.synthetic_gan/pre-processing-mainbaseline_GANCopula.ipynb"
   ]
  },
  {
   "cell_type": "code",
   "execution_count": null,
   "metadata": {},
   "outputs": [],
   "source": [
    "%run C:/Users/Admin/Data/ads_fraud_detection/src/prj4/2.preprocessing/6.synthetic_vae/pre-processing-mainbaseline_VAE.ipynb"
   ]
  }
 ],
 "metadata": {
  "kernelspec": {
   "display_name": "Python 3",
   "language": "python",
   "name": "python3"
  },
  "language_info": {
   "codemirror_mode": {
    "name": "ipython",
    "version": 3
   },
   "file_extension": ".py",
   "mimetype": "text/x-python",
   "name": "python",
   "nbconvert_exporter": "python",
   "pygments_lexer": "ipython3",
   "version": "3.8.19"
  }
 },
 "nbformat": 4,
 "nbformat_minor": 2
}
