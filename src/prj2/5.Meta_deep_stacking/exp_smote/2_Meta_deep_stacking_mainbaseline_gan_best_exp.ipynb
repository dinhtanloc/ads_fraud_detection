{
 "cells": [
  {
   "cell_type": "code",
   "execution_count": 1,
   "id": "c1dd1c5b",
   "metadata": {
    "id": "c1dd1c5b",
    "outputId": "09170fb9-8be1-475b-8a18-39640a3620b7"
   },
   "outputs": [
    {
     "name": "stdout",
     "output_type": "stream",
     "text": [
      "c:\\Users\\Admin\\Data\\ads_fraud_detection\n",
      "c:/Users/Admin/Data/ads_fraud_detection\n"
     ]
    },
    {
     "data": {
      "text/html": [
       "        <script type=\"text/javascript\">\n",
       "        window.PlotlyConfig = {MathJaxConfig: 'local'};\n",
       "        if (window.MathJax && window.MathJax.Hub && window.MathJax.Hub.Config) {window.MathJax.Hub.Config({SVG: {font: \"STIX-Web\"}});}\n",
       "        if (typeof require !== 'undefined') {\n",
       "        require.undef(\"plotly\");\n",
       "        requirejs.config({\n",
       "            paths: {\n",
       "                'plotly': ['https://cdn.plot.ly/plotly-2.35.0.min']\n",
       "            }\n",
       "        });\n",
       "        require(['plotly'], function(Plotly) {\n",
       "            window._Plotly = Plotly;\n",
       "        });\n",
       "        }\n",
       "        </script>\n",
       "        "
      ]
     },
     "metadata": {},
     "output_type": "display_data"
    },
    {
     "data": {
      "text/html": [
       "        <script type=\"text/javascript\">\n",
       "        window.PlotlyConfig = {MathJaxConfig: 'local'};\n",
       "        if (window.MathJax && window.MathJax.Hub && window.MathJax.Hub.Config) {window.MathJax.Hub.Config({SVG: {font: \"STIX-Web\"}});}\n",
       "        if (typeof require !== 'undefined') {\n",
       "        require.undef(\"plotly\");\n",
       "        requirejs.config({\n",
       "            paths: {\n",
       "                'plotly': ['https://cdn.plot.ly/plotly-2.35.0.min']\n",
       "            }\n",
       "        });\n",
       "        require(['plotly'], function(Plotly) {\n",
       "            window._Plotly = Plotly;\n",
       "        });\n",
       "        }\n",
       "        </script>\n",
       "        "
      ]
     },
     "metadata": {},
     "output_type": "display_data"
    }
   ],
   "source": [
    "import sys,os\n",
    "__script_path=os.path.abspath(globals().get('__file__','.'))\n",
    "__script_dir = os.path.dirname(__script_path)\n",
    "root_dir = os.path.abspath(f'{__script_dir}/../../..')\n",
    "print(root_dir)\n",
    "for lib in [root_dir][::-1]:\n",
    "    if lib in sys.path:\n",
    "        sys.path.remove(lib)\n",
    "    sys.path.insert(0,lib)\n",
    "from config.config import *\n",
    "from libs.common import *"
   ]
  },
  {
   "cell_type": "code",
   "execution_count": 2,
   "id": "622aee0d",
   "metadata": {
    "id": "622aee0d"
   },
   "outputs": [],
   "source": [
    "save_dir=f\"{exps_dir}/exp2/exp_smote\"\n",
    "if os.path.exists(save_dir) == False:\n",
    "  os.makedirs(save_dir, exist_ok=True)\n",
    "\n",
    "\n",
    "\n",
    "test_size=0.33\n",
    "seed=42"
   ]
  },
  {
   "cell_type": "code",
   "execution_count": 3,
   "id": "ee0c5839",
   "metadata": {
    "id": "ee0c5839",
    "outputId": "884cf8cb-6205-4a6a-b127-4095bf3f5fda"
   },
   "outputs": [
    {
     "data": {
      "text/plain": [
       "{'LR': ['Age',\n",
       "  'AgeOfPolicyHolder',\n",
       "  'AgentType',\n",
       "  'BasePolicy',\n",
       "  'Fault',\n",
       "  'MaritalStatus',\n",
       "  'PoliceReportFiled',\n",
       "  'PolicyType',\n",
       "  'VehicleCategory',\n",
       "  'WitnessPresent'],\n",
       " 'LDA': ['AccidentArea',\n",
       "  'AddressChange_Claim',\n",
       "  'Age',\n",
       "  'AgeOfPolicyHolder',\n",
       "  'BasePolicy',\n",
       "  'Fault',\n",
       "  'MaritalStatus',\n",
       "  'NumberOfCars',\n",
       "  'PoliceReportFiled',\n",
       "  'VehicleCategory'],\n",
       " 'DTC': ['Age',\n",
       "  'AgeOfVehicle',\n",
       "  'BasePolicy',\n",
       "  'Fault',\n",
       "  'Make',\n",
       "  'PastNumberOfClaims',\n",
       "  'PolicyNumber',\n",
       "  'RepNumber',\n",
       "  'week_claimed',\n",
       "  'week_incident'],\n",
       " 'RD': ['Age',\n",
       "  'AgeOfVehicle',\n",
       "  'BasePolicy',\n",
       "  'Fault',\n",
       "  'Make',\n",
       "  'PolicyNumber',\n",
       "  'PolicyType',\n",
       "  'VehicleCategory',\n",
       "  'week_claimed',\n",
       "  'week_incident'],\n",
       " 'LGBM': ['Age',\n",
       "  'AgeOfPolicyHolder',\n",
       "  'AgeOfVehicle',\n",
       "  'Make',\n",
       "  'Month',\n",
       "  'PolicyNumber',\n",
       "  'RepNumber',\n",
       "  'VehiclePrice',\n",
       "  'week_claimed',\n",
       "  'week_incident'],\n",
       " 'XGB': ['Age',\n",
       "  'AgeOfPolicyHolder',\n",
       "  'AgeOfVehicle',\n",
       "  'BasePolicy',\n",
       "  'Deductible',\n",
       "  'Fault',\n",
       "  'Make',\n",
       "  'MaritalStatus',\n",
       "  'PoliceReportFiled',\n",
       "  'VehicleCategory'],\n",
       " 'KNC': ['DayOfWeek',\n",
       "  'AccidentArea',\n",
       "  'MaritalStatus',\n",
       "  'Fault',\n",
       "  'PolicyType',\n",
       "  'VehicleCategory',\n",
       "  'DriverRating',\n",
       "  'AgeOfVehicle',\n",
       "  'AgeOfPolicyHolder',\n",
       "  'AddressChange_Claim',\n",
       "  'BasePolicy'],\n",
       " 'GNB': ['DayOfWeek',\n",
       "  'AccidentArea',\n",
       "  'MaritalStatus',\n",
       "  'Fault',\n",
       "  'PolicyType',\n",
       "  'VehicleCategory',\n",
       "  'DriverRating',\n",
       "  'AgeOfVehicle',\n",
       "  'AgeOfPolicyHolder',\n",
       "  'AddressChange_Claim',\n",
       "  'BasePolicy'],\n",
       " 'NN': ['DayOfWeek',\n",
       "  'AccidentArea',\n",
       "  'MaritalStatus',\n",
       "  'Fault',\n",
       "  'PolicyType',\n",
       "  'VehicleCategory',\n",
       "  'DriverRating',\n",
       "  'AgeOfVehicle',\n",
       "  'AgeOfPolicyHolder',\n",
       "  'AddressChange_Claim',\n",
       "  'BasePolicy'],\n",
       " 'BG': ['DayOfWeek',\n",
       "  'AccidentArea',\n",
       "  'MaritalStatus',\n",
       "  'Fault',\n",
       "  'PolicyType',\n",
       "  'VehicleCategory',\n",
       "  'DriverRating',\n",
       "  'AgeOfVehicle',\n",
       "  'AgeOfPolicyHolder',\n",
       "  'AddressChange_Claim',\n",
       "  'BasePolicy'],\n",
       " 'NB': ['DayOfWeek',\n",
       "  'AccidentArea',\n",
       "  'MaritalStatus',\n",
       "  'Fault',\n",
       "  'PolicyType',\n",
       "  'VehicleCategory',\n",
       "  'DriverRating',\n",
       "  'AgeOfVehicle',\n",
       "  'AgeOfPolicyHolder',\n",
       "  'AddressChange_Claim',\n",
       "  'BasePolicy'],\n",
       " 'SVM': ['DayOfWeek',\n",
       "  'AccidentArea',\n",
       "  'MaritalStatus',\n",
       "  'Fault',\n",
       "  'PolicyType',\n",
       "  'VehicleCategory',\n",
       "  'DriverRating',\n",
       "  'AgeOfVehicle',\n",
       "  'AgeOfPolicyHolder',\n",
       "  'AddressChange_Claim',\n",
       "  'BasePolicy']}"
      ]
     },
     "execution_count": 3,
     "metadata": {},
     "output_type": "execute_result"
    }
   ],
   "source": [
    "feature_selection=dict(np.load(f'{save_dir}/feature_model_selection.npz',allow_pickle=True))['feature_model_selection']\n",
    "feature_selection = {key: value for key, value in feature_selection.item().items()}\n",
    "feature_selection"
   ]
  },
  {
   "cell_type": "markdown",
   "id": "79d162d6",
   "metadata": {
    "id": "79d162d6"
   },
   "source": [
    "* kiểm tra và tạo các thư mục (nếu chưa có)\n",
    "* tập test 33%"
   ]
  },
  {
   "cell_type": "markdown",
   "id": "5cf7e092",
   "metadata": {
    "id": "5cf7e092"
   },
   "source": [
    "# 5. Xây dựng và đánh giá mô hình học sâu Neutual Network"
   ]
  },
  {
   "cell_type": "code",
   "execution_count": 4,
   "id": "d84bdb3c",
   "metadata": {
    "id": "d84bdb3c"
   },
   "outputs": [
    {
     "ename": "FileNotFoundError",
     "evalue": "[Errno 2] No such file or directory: 'c:/Users/Admin/Data/ads_fraud_detection/exps/exp2/exp_smote/xgb_model.joblib'",
     "output_type": "error",
     "traceback": [
      "\u001b[1;31m---------------------------------------------------------------------------\u001b[0m",
      "\u001b[1;31mFileNotFoundError\u001b[0m                         Traceback (most recent call last)",
      "Cell \u001b[1;32mIn[4], line 1\u001b[0m\n\u001b[1;32m----> 1\u001b[0m xgb_model\u001b[38;5;241m=\u001b[39m\u001b[43mjoblib\u001b[49m\u001b[38;5;241;43m.\u001b[39;49m\u001b[43mload\u001b[49m\u001b[43m(\u001b[49m\u001b[38;5;124;43mf\u001b[39;49m\u001b[38;5;124;43m'\u001b[39;49m\u001b[38;5;132;43;01m{\u001b[39;49;00m\u001b[43msave_dir\u001b[49m\u001b[38;5;132;43;01m}\u001b[39;49;00m\u001b[38;5;124;43m/xgb_model.joblib\u001b[39;49m\u001b[38;5;124;43m'\u001b[39;49m\u001b[43m)\u001b[49m\n\u001b[0;32m      2\u001b[0m rf_model\u001b[38;5;241m=\u001b[39mjoblib\u001b[38;5;241m.\u001b[39mload(\u001b[38;5;124mf\u001b[39m\u001b[38;5;124m'\u001b[39m\u001b[38;5;132;01m{\u001b[39;00msave_dir\u001b[38;5;132;01m}\u001b[39;00m\u001b[38;5;124m/rf_model.joblib\u001b[39m\u001b[38;5;124m'\u001b[39m)\n\u001b[0;32m      3\u001b[0m lgbm_model\u001b[38;5;241m=\u001b[39mjoblib\u001b[38;5;241m.\u001b[39mload(\u001b[38;5;124mf\u001b[39m\u001b[38;5;124m'\u001b[39m\u001b[38;5;132;01m{\u001b[39;00msave_dir\u001b[38;5;132;01m}\u001b[39;00m\u001b[38;5;124m/lgbm_model.joblib\u001b[39m\u001b[38;5;124m'\u001b[39m)\n",
      "File \u001b[1;32mc:\\Users\\Admin\\Data\\ads_fraud_detection\\.conda\\lib\\site-packages\\joblib\\numpy_pickle.py:650\u001b[0m, in \u001b[0;36mload\u001b[1;34m(filename, mmap_mode)\u001b[0m\n\u001b[0;32m    648\u001b[0m         obj \u001b[38;5;241m=\u001b[39m _unpickle(fobj)\n\u001b[0;32m    649\u001b[0m \u001b[38;5;28;01melse\u001b[39;00m:\n\u001b[1;32m--> 650\u001b[0m     \u001b[38;5;28;01mwith\u001b[39;00m \u001b[38;5;28;43mopen\u001b[39;49m\u001b[43m(\u001b[49m\u001b[43mfilename\u001b[49m\u001b[43m,\u001b[49m\u001b[43m \u001b[49m\u001b[38;5;124;43m'\u001b[39;49m\u001b[38;5;124;43mrb\u001b[39;49m\u001b[38;5;124;43m'\u001b[39;49m\u001b[43m)\u001b[49m \u001b[38;5;28;01mas\u001b[39;00m f:\n\u001b[0;32m    651\u001b[0m         \u001b[38;5;28;01mwith\u001b[39;00m _read_fileobject(f, filename, mmap_mode) \u001b[38;5;28;01mas\u001b[39;00m fobj:\n\u001b[0;32m    652\u001b[0m             \u001b[38;5;28;01mif\u001b[39;00m \u001b[38;5;28misinstance\u001b[39m(fobj, \u001b[38;5;28mstr\u001b[39m):\n\u001b[0;32m    653\u001b[0m                 \u001b[38;5;66;03m# if the returned file object is a string, this means we\u001b[39;00m\n\u001b[0;32m    654\u001b[0m                 \u001b[38;5;66;03m# try to load a pickle file generated with an version of\u001b[39;00m\n\u001b[0;32m    655\u001b[0m                 \u001b[38;5;66;03m# Joblib so we load it with joblib compatibility function.\u001b[39;00m\n",
      "\u001b[1;31mFileNotFoundError\u001b[0m: [Errno 2] No such file or directory: 'c:/Users/Admin/Data/ads_fraud_detection/exps/exp2/exp_smote/xgb_model.joblib'"
     ]
    }
   ],
   "source": [
    "xgb_model=joblib.load(f'{save_dir}/xgb_model.joblib')\n",
    "rf_model=joblib.load(f'{save_dir}/rf_model.joblib')\n",
    "lgbm_model=joblib.load(f'{save_dir}/lgbm_model.joblib')"
   ]
  },
  {
   "cell_type": "code",
   "execution_count": null,
   "id": "2e81211d",
   "metadata": {
    "id": "2e81211d",
    "outputId": "11c037bb-b65a-420c-b24c-5aeb07d22aad"
   },
   "outputs": [
    {
     "data": {
      "text/plain": [
       "{0: 1.0352032938754503, 1: 0.9671122223290701}"
      ]
     },
     "execution_count": 5,
     "metadata": {},
     "output_type": "execute_result"
    }
   ],
   "source": [
    "x_train=pd.read_excel(f'{save_dir}/x_train.xlsx')\n",
    "y_train=pd.read_excel(f'{save_dir}/y_train.xlsx')\n",
    "x_test=pd.read_excel(f'{save_dir}/x_test.xlsx')\n",
    "y_test=pd.read_excel(f'{save_dir}/y_test.xlsx')\n",
    "class_weights_dict=dict(np.load(f'{save_dir}/class_weights_dict.npz',allow_pickle=True))['class_weights_dict']\n",
    "class_weights_dict = {key: value for key, value in class_weights_dict.item().items()}\n",
    "class_weights_dict"
   ]
  },
  {
   "cell_type": "code",
   "execution_count": null,
   "id": "9dd43638",
   "metadata": {
    "id": "9dd43638",
    "outputId": "a02718e1-24fc-4e1d-d937-903d57955f80"
   },
   "outputs": [
    {
     "name": "stdout",
     "output_type": "stream",
     "text": [
      "(5089, 2) (20422, 2)\n"
     ]
    }
   ],
   "source": [
    "\n",
    "\n",
    "# Dữ liệu label đã được mã hóa\n",
    "def oneHot(arr):\n",
    "    labels = np.array(arr)\n",
    "    encoder = OneHotEncoder(sparse=False)\n",
    "\n",
    "    labels_reshaped = labels.reshape(-1, 1)\n",
    "\n",
    "    encoder.fit(labels_reshaped)\n",
    "\n",
    "    onehot_labels = encoder.transform(labels_reshaped)\n",
    "    # onehot_labels=pd.DataFrame(onehot_labels)\n",
    "    return onehot_labels\n",
    "\n",
    "y_train_onehot=oneHot(y_train)\n",
    "y_test_onehot=oneHot(y_test)\n",
    "print(y_test_onehot.shape,y_train_onehot.shape)\n"
   ]
  },
  {
   "cell_type": "code",
   "execution_count": null,
   "id": "9cf5d7b4",
   "metadata": {
    "id": "9cf5d7b4",
    "outputId": "0e8b29fd-22f8-44e5-91c7-85f7e47b75c5"
   },
   "outputs": [
    {
     "name": "stdout",
     "output_type": "stream",
     "text": [
      "(5089, 2)\n"
     ]
    }
   ],
   "source": [
    "y_test_onehot.reshape(-1, 1)\n",
    "print(y_test_onehot.shape)"
   ]
  },
  {
   "cell_type": "code",
   "execution_count": null,
   "id": "6dda6290",
   "metadata": {
    "id": "6dda6290",
    "outputId": "bbb38491-0401-4e47-fdee-da1323b81029"
   },
   "outputs": [
    {
     "data": {
      "text/plain": [
       "(5089, 34)"
      ]
     },
     "execution_count": 8,
     "metadata": {},
     "output_type": "execute_result"
    }
   ],
   "source": [
    "x_test.shape"
   ]
  },
  {
   "cell_type": "code",
   "execution_count": null,
   "id": "f1c3ac7a",
   "metadata": {
    "id": "f1c3ac7a",
    "outputId": "38eb9f4a-5bdb-429c-f4ab-98bdac97ee7d"
   },
   "outputs": [
    {
     "data": {
      "text/plain": [
       "(20422, 34)"
      ]
     },
     "execution_count": 9,
     "metadata": {},
     "output_type": "execute_result"
    }
   ],
   "source": [
    "x_train.shape"
   ]
  },
  {
   "cell_type": "code",
   "execution_count": null,
   "id": "2d31efd2",
   "metadata": {},
   "outputs": [
    {
     "data": {
      "text/plain": [
       "FraudFound_P\n",
       "1               10707\n",
       "0                9715\n",
       "Name: count, dtype: int64"
      ]
     },
     "execution_count": 10,
     "metadata": {},
     "output_type": "execute_result"
    }
   ],
   "source": [
    "y_train.value_counts()"
   ]
  },
  {
   "cell_type": "code",
   "execution_count": null,
   "id": "848e48fb",
   "metadata": {
    "id": "848e48fb"
   },
   "outputs": [],
   "source": [
    "def f1_score(y_true, y_pred):\n",
    "    \"\"\"\n",
    "    Macro F1 score metric.\n",
    "    \"\"\"\n",
    "    y_pred = K.round(y_pred)\n",
    "    true_positives = K.sum(K.round(K.clip(y_true * y_pred, 0, 1)), axis=0)\n",
    "    false_positives = K.sum(K.round(K.clip(y_pred - y_true, 0, 1)), axis=0)\n",
    "    false_negatives = K.sum(K.round(K.clip(y_true - y_pred, 0, 1)), axis=0)\n",
    "    precision = true_positives / (true_positives + false_positives + K.epsilon())\n",
    "    recall = true_positives / (true_positives + false_negatives + K.epsilon())\n",
    "    f1_scores = 2 * (precision * recall) / (precision + recall + K.epsilon())\n",
    "    macro_f1_score = K.mean(f1_scores)\n",
    "\n",
    "    return macro_f1_score"
   ]
  },
  {
   "cell_type": "code",
   "execution_count": null,
   "id": "01f5fcdf",
   "metadata": {
    "id": "01f5fcdf",
    "outputId": "187e7cd9-8f70-4eae-d11d-c40e1c08c506"
   },
   "outputs": [
    {
     "name": "stdout",
     "output_type": "stream",
     "text": [
      "34\n"
     ]
    }
   ],
   "source": [
    "print(x_train.shape[1])"
   ]
  },
  {
   "cell_type": "markdown",
   "id": "cb6de984",
   "metadata": {
    "id": "cb6de984"
   },
   "source": [
    "#### * Xây dựng model:"
   ]
  },
  {
   "cell_type": "code",
   "execution_count": null,
   "id": "732f9456",
   "metadata": {
    "id": "732f9456"
   },
   "outputs": [],
   "source": [
    "\n",
    "early_stopping = EarlyStopping(monitor='val_loss',\n",
    "                                mode='min',\n",
    "    min_delta=0.00005,\n",
    "    patience=15,\n",
    "    verbose=1,\n",
    "    restore_best_weights=True,\n",
    ")\n",
    "\n",
    "lr_scheduler = ReduceLROnPlateau(\n",
    "    monitor='val_loss',\n",
    "    mode='min',\n",
    "    factor=0.5,\n",
    "    patience=5,\n",
    "    min_lr=0.000001,\n",
    "    verbose=1,\n",
    ")\n",
    "checkpoint_callback = ModelCheckpoint(\n",
    "    filepath='best_model.h5',  # Đường dẫn để lưu model\n",
    "    monitor='val_loss',  # Theo dõi val_loss\n",
    "    mode='min',\n",
    "    save_best_only=True,  # Lưu lại chỉ model có val_loss tốt nhất\n",
    "    verbose=1  # Hiển thị thông báo khi lưu model\n",
    ")\n",
    "\n"
   ]
  },
  {
   "cell_type": "code",
   "execution_count": null,
   "id": "e6432c17",
   "metadata": {},
   "outputs": [],
   "source": [
    "from tensorflow.keras import regularizers\n",
    "from tabnet_keras.models import TabNetClassifier\n",
    "\n",
    "# Định nghĩa tham số regularization\n",
    "l2_reg = 0.01\n",
    "\n",
    "learning_rate=0.1\n",
    "tabnet_params = {\n",
    "    \"decision_dim\": 16,\n",
    "    \"attention_dim\": 16,\n",
    "    \"n_steps\": 3,\n",
    "    \"n_shared_glus\": 2,\n",
    "    \"n_dependent_glus\": 2,\n",
    "    \"relaxation_factor\": 1.3,\n",
    "    \"epsilon\": 1e-15,\n",
    "    \"momentum\": 0.98,\n",
    "    \"mask_type\": \"softmax\", # can be 'sparsemax' or 'softmax'\n",
    "    \"lambda_sparse\": 1e-3, \n",
    "    \"virtual_batch_splits\": 8 #number of splits for ghost batch normalization, ideally should evenly divide the batch_size\n",
    "}\n",
    "\n",
    "\n",
    "\n",
    "### Classification\n",
    "tabnet_model = TabNetClassifier(n_classes = 2, out_activation = 'softmax', **tabnet_params)\n",
    "# model = TabNetClassifier(n_classes = 2, out_activation = 'softmax', \n",
    "#     kernel_regularizer=l2(0.01), **tabnet_params)\n",
    "# model.compile(loss = 'categorical_crossentropy', optimizer = )\n",
    "# model.fit(x_train, y_train, epochs = 100, batch_size = 1024)\n",
    "# model.add(tf.keras.layers.Dense(32, activation='relu', kernel_regularizer=regularizers.l2(l2_reg)))\n",
    "\n",
    "\n",
    "\n",
    "tabnet_model.compile(optimizer=tf.keras.optimizers.Adam(learning_rate), loss=tf.keras.losses.categorical_focal_crossentropy, metrics=['accuracy',f1_score])\n",
    "# model.compile(optimizer=Adam(lr=learning_rate), loss=f1_loss, metrics=['accuracy',,f1_score])\n",
    "# model.compile(optimizer=Adam(lr=learning_rate), loss=focal_loss, metrics=['accuracy',,f1_score])\n",
    "# model.compile(optimizer=Adam(lr=learning_rate), loss=dice_coef_9cat_loss, metrics=['accuracy',,f1_score])\n",
    "early_stopping = EarlyStopping(monitor='loss',\n",
    "    min_delta=0.00005,\n",
    "    patience=70,\n",
    "    verbose=1,\n",
    "    restore_best_weights=True,\n",
    ")\n",
    "\n",
    "# checkpointer = ModelCheckpoint(filepath = \"Emotion_weights.hdf5\",monitor='loss', verbose = 1, save_best_only=True)\n",
    "\n",
    "lr_scheduler = ReduceLROnPlateau(\n",
    "    monitor='loss',\n",
    "    factor=0.5,\n",
    "    patience=30,\n",
    "    min_lr=0.000001,\n",
    "    verbose=1,\n",
    ")\n"
   ]
  },
  {
   "cell_type": "code",
   "execution_count": null,
   "id": "bea3f634",
   "metadata": {},
   "outputs": [
    {
     "data": {
      "text/plain": [
       "<tf.Tensor: shape=(1, 2), dtype=float32, numpy=array([[0.5028929 , 0.49710712]], dtype=float32)>"
      ]
     },
     "execution_count": 15,
     "metadata": {},
     "output_type": "execute_result"
    }
   ],
   "source": [
    "tabnet_model.build(input_shape=(None, 34))\n",
    "dummy_input = tf.random.normal((1, 34)) \n",
    "tabnet_model(dummy_input)\n"
   ]
  },
  {
   "cell_type": "code",
   "execution_count": null,
   "id": "6945dd40",
   "metadata": {},
   "outputs": [],
   "source": [
    "tabnet_model.load_weights('weights/tabnet_focal.h5')"
   ]
  },
  {
   "cell_type": "code",
   "execution_count": null,
   "id": "2a6e2b0f",
   "metadata": {},
   "outputs": [
    {
     "name": "stdout",
     "output_type": "stream",
     "text": [
      "Model: \"tab_net_classifier\"\n",
      "_________________________________________________________________\n",
      " Layer (type)                Output Shape              Param #   \n",
      "=================================================================\n",
      " tab_net_encoder (TabNetEnc  multiple                  26880     \n",
      " oder)                                                           \n",
      "                                                                 \n",
      " classifier (Dense)          multiple                  32        \n",
      "                                                                 \n",
      "=================================================================\n",
      "Total params: 26912 (105.12 KB)\n",
      "Trainable params: 24592 (96.06 KB)\n",
      "Non-trainable params: 2320 (9.06 KB)\n",
      "_________________________________________________________________\n"
     ]
    }
   ],
   "source": [
    "tabnet_model.summary()"
   ]
  },
  {
   "cell_type": "code",
   "execution_count": null,
   "id": "0786b112",
   "metadata": {},
   "outputs": [],
   "source": [
    "\n",
    "def tabnet_feature(model,input_shape=(34), proba=False):\n",
    "    input = Input(shape=input_shape)\n",
    "    feature = tabnet_model.get_layer('tab_net_encoder')(input)\n",
    "    probability=tabnet_model.get_layer('classifier')(feature)\n",
    "    if proba:\n",
    "        output=Concatenate()([feature,probability])\n",
    "    else:\n",
    "        output=feature\n",
    "    model = Model(inputs=input,outputs=[output])\n",
    "    return model\n",
    "tabnet_model=tabnet_feature(tabnet_model, proba=True)\n",
    "# output=feat_model(dummy_input)\n",
    "# print(output.shape)"
   ]
  },
  {
   "cell_type": "markdown",
   "id": "5ec895de",
   "metadata": {
    "id": "5ec895de"
   },
   "source": [
    "#### * Xây dựng Stacked_model:"
   ]
  },
  {
   "cell_type": "code",
   "execution_count": null,
   "id": "9b807d4e",
   "metadata": {
    "id": "9b807d4e"
   },
   "outputs": [],
   "source": [
    "from sklearn.base import BaseEstimator, ClassifierMixin\n",
    "import numpy as np\n",
    "import tensorflow as tf\n",
    "from tabnet_keras import TabNetClassifier\n",
    "\n",
    "class TabNetWrapper(BaseEstimator, ClassifierMixin):\n",
    "    def __init__(self, **kwargs):\n",
    "        self.kwargs = kwargs\n",
    "\n",
    "    def fit(self, X, y):\n",
    "        self.model = TabNetClassifier(n_classes = 1, out_activation = 'sigmoid',**self.kwargs)\n",
    "        self.model.compile(optimizer=tf.keras.optimizers.Adam(learning_rate=0.001), loss='binary_crossentropy', metrics=['accuracy',f1_score])\n",
    "\n",
    "        self.model.fit(x=X, y=y,\n",
    "          batch_size=128,\n",
    "          epochs=5,\n",
    "          callbacks=[early_stopping, lr_scheduler], class_weight={0:0.5, 1:6.4})\n",
    "        return self\n",
    "\n",
    "    def predict(self, X):\n",
    "        proba = self.model.predict(X)\n",
    "        return (proba > 0.3).astype(int)\n",
    "\n",
    "    def predict_proba(self, X):\n",
    "        return self.model.predict(X)\n",
    "\n",
    "    def summary(self):\n",
    "        return self.model.summary()"
   ]
  },
  {
   "cell_type": "code",
   "execution_count": null,
   "id": "071a8a46",
   "metadata": {
    "id": "071a8a46"
   },
   "outputs": [],
   "source": [
    "# tabnet.load_weights('weights/tabnet_categorical.h5')\n"
   ]
  },
  {
   "cell_type": "code",
   "execution_count": null,
   "id": "14004dd7",
   "metadata": {
    "id": "14004dd7"
   },
   "outputs": [],
   "source": [
    "tabnet_params = {\n",
    "    \"decision_dim\": 16,\n",
    "    \"attention_dim\": 16,\n",
    "    \"n_steps\": 3,\n",
    "    \"n_shared_glus\": 2,\n",
    "    \"n_dependent_glus\": 2,\n",
    "    \"relaxation_factor\": 1.3,\n",
    "    \"epsilon\": 1e-15,\n",
    "    \"momentum\": 0.98,\n",
    "    \"mask_type\": \"softmax\", # can be 'sparsemax' or 'softmax'\n",
    "    \"lambda_sparse\": 1e-3, \n",
    "    \"virtual_batch_splits\": 8 #number of splits for ghost batch normalization, ideally should evenly divide the batch_size\n",
    "}\n",
    "\n",
    "tabnet = TabNetWrapper(**tabnet_params)\n"
   ]
  },
  {
   "cell_type": "code",
   "execution_count": null,
   "id": "5dd0f8b2",
   "metadata": {},
   "outputs": [
    {
     "data": {
      "text/plain": [
       "dict_keys(['LR', 'LDA', 'DTC', 'RD', 'LGBM', 'XGB', 'KNC', 'GNB', 'NN', 'BG', 'NB', 'SVM'])"
      ]
     },
     "execution_count": 22,
     "metadata": {},
     "output_type": "execute_result"
    }
   ],
   "source": [
    "feature_selection.keys()"
   ]
  },
  {
   "cell_type": "code",
   "execution_count": null,
   "id": "c8c4c3c3",
   "metadata": {
    "id": "c8c4c3c3",
    "outputId": "b67a4e4d-52bc-4374-e74d-f8a02a4829fe"
   },
   "outputs": [
    {
     "name": "stdout",
     "output_type": "stream",
     "text": [
      "[LightGBM] [Info] Number of positive: 10707, number of negative: 9715\n",
      "[LightGBM] [Info] Auto-choosing row-wise multi-threading, the overhead of testing was 0.000164 seconds.\n",
      "You can set `force_row_wise=true` to remove the overhead.\n",
      "And if memory is not enough, you can set `force_col_wise=true`.\n",
      "[LightGBM] [Info] Total Bins 1095\n",
      "[LightGBM] [Info] Number of data points in the train set: 20422, number of used features: 10\n",
      "[LightGBM] [Info] [binary:BoostFromScore]: pavg=0.524288 -> initscore=0.097227\n",
      "[LightGBM] [Info] Start training from score 0.097227\n",
      "639/639 [==============================] - 1s 1ms/step\n",
      "160/160 [==============================] - 0s 1ms/step\n",
      "(20422, 30)\n",
      "(5089, 1)\n",
      "Epoch 1/5\n",
      "160/160 [==============================] - 6s 4ms/step - loss: 0.6495 - accuracy: 0.8409 - f1_score: 0.8733 - lr: 0.0010\n",
      "Epoch 2/5\n",
      "160/160 [==============================] - 1s 4ms/step - loss: 0.0581 - accuracy: 0.9978 - f1_score: 0.9980 - lr: 0.0010\n",
      "Epoch 3/5\n",
      "160/160 [==============================] - 1s 4ms/step - loss: 0.0245 - accuracy: 0.9999 - f1_score: 0.9999 - lr: 0.0010\n",
      "Epoch 4/5\n",
      "160/160 [==============================] - 1s 4ms/step - loss: 0.0138 - accuracy: 1.0000 - f1_score: 1.0000 - lr: 0.0010\n",
      "Epoch 5/5\n",
      "160/160 [==============================] - 1s 5ms/step - loss: 0.0091 - accuracy: 0.9997 - f1_score: 0.9997 - lr: 0.0010\n"
     ]
    },
    {
     "data": {
      "text/html": [
       "<style>#sk-container-id-1 {color: black;}#sk-container-id-1 pre{padding: 0;}#sk-container-id-1 div.sk-toggleable {background-color: white;}#sk-container-id-1 label.sk-toggleable__label {cursor: pointer;display: block;width: 100%;margin-bottom: 0;padding: 0.3em;box-sizing: border-box;text-align: center;}#sk-container-id-1 label.sk-toggleable__label-arrow:before {content: \"▸\";float: left;margin-right: 0.25em;color: #696969;}#sk-container-id-1 label.sk-toggleable__label-arrow:hover:before {color: black;}#sk-container-id-1 div.sk-estimator:hover label.sk-toggleable__label-arrow:before {color: black;}#sk-container-id-1 div.sk-toggleable__content {max-height: 0;max-width: 0;overflow: hidden;text-align: left;background-color: #f0f8ff;}#sk-container-id-1 div.sk-toggleable__content pre {margin: 0.2em;color: black;border-radius: 0.25em;background-color: #f0f8ff;}#sk-container-id-1 input.sk-toggleable__control:checked~div.sk-toggleable__content {max-height: 200px;max-width: 100%;overflow: auto;}#sk-container-id-1 input.sk-toggleable__control:checked~label.sk-toggleable__label-arrow:before {content: \"▾\";}#sk-container-id-1 div.sk-estimator input.sk-toggleable__control:checked~label.sk-toggleable__label {background-color: #d4ebff;}#sk-container-id-1 div.sk-label input.sk-toggleable__control:checked~label.sk-toggleable__label {background-color: #d4ebff;}#sk-container-id-1 input.sk-hidden--visually {border: 0;clip: rect(1px 1px 1px 1px);clip: rect(1px, 1px, 1px, 1px);height: 1px;margin: -1px;overflow: hidden;padding: 0;position: absolute;width: 1px;}#sk-container-id-1 div.sk-estimator {font-family: monospace;background-color: #f0f8ff;border: 1px dotted black;border-radius: 0.25em;box-sizing: border-box;margin-bottom: 0.5em;}#sk-container-id-1 div.sk-estimator:hover {background-color: #d4ebff;}#sk-container-id-1 div.sk-parallel-item::after {content: \"\";width: 100%;border-bottom: 1px solid gray;flex-grow: 1;}#sk-container-id-1 div.sk-label:hover label.sk-toggleable__label {background-color: #d4ebff;}#sk-container-id-1 div.sk-serial::before {content: \"\";position: absolute;border-left: 1px solid gray;box-sizing: border-box;top: 0;bottom: 0;left: 50%;z-index: 0;}#sk-container-id-1 div.sk-serial {display: flex;flex-direction: column;align-items: center;background-color: white;padding-right: 0.2em;padding-left: 0.2em;position: relative;}#sk-container-id-1 div.sk-item {position: relative;z-index: 1;}#sk-container-id-1 div.sk-parallel {display: flex;align-items: stretch;justify-content: center;background-color: white;position: relative;}#sk-container-id-1 div.sk-item::before, #sk-container-id-1 div.sk-parallel-item::before {content: \"\";position: absolute;border-left: 1px solid gray;box-sizing: border-box;top: 0;bottom: 0;left: 50%;z-index: -1;}#sk-container-id-1 div.sk-parallel-item {display: flex;flex-direction: column;z-index: 1;position: relative;background-color: white;}#sk-container-id-1 div.sk-parallel-item:first-child::after {align-self: flex-end;width: 50%;}#sk-container-id-1 div.sk-parallel-item:last-child::after {align-self: flex-start;width: 50%;}#sk-container-id-1 div.sk-parallel-item:only-child::after {width: 0;}#sk-container-id-1 div.sk-dashed-wrapped {border: 1px dashed gray;margin: 0 0.4em 0.5em 0.4em;box-sizing: border-box;padding-bottom: 0.4em;background-color: white;}#sk-container-id-1 div.sk-label label {font-family: monospace;font-weight: bold;display: inline-block;line-height: 1.2em;}#sk-container-id-1 div.sk-label-container {text-align: center;}#sk-container-id-1 div.sk-container {/* jupyter's `normalize.less` sets `[hidden] { display: none; }` but bootstrap.min.css set `[hidden] { display: none !important; }` so we also need the `!important` here to be able to override the default hidden behavior on the sphinx rendered scikit-learn.org. See: https://github.com/scikit-learn/scikit-learn/issues/21755 */display: inline-block !important;position: relative;}#sk-container-id-1 div.sk-text-repr-fallback {display: none;}</style><div id=\"sk-container-id-1\" class=\"sk-top-container\"><div class=\"sk-text-repr-fallback\"><pre>StackingClassifier(estimators=[(&#x27;rf&#x27;, RandomForestClassifier(random_state=42)),\n",
       "                               (&#x27;logi&#x27;, LogisticRegression(random_state=42)),\n",
       "                               (&#x27;dt&#x27;,\n",
       "                                DecisionTreeClassifier(max_depth=5,\n",
       "                                                       min_samples_split=4,\n",
       "                                                       random_state=42)),\n",
       "                               (&#x27;lda&#x27;, LinearDiscriminantAnalysis()),\n",
       "                               (&#x27;xgb&#x27;,\n",
       "                                XGBClassifier(base_score=None, booster=None,\n",
       "                                              callbacks=None,\n",
       "                                              colsample_bylevel=None,\n",
       "                                              colsample_bynode=None,\n",
       "                                              c...\n",
       "                                              importance_type=None,\n",
       "                                              interaction_constraints=None,\n",
       "                                              learning_rate=0.2, max_bin=None,\n",
       "                                              max_cat_threshold=None,\n",
       "                                              max_cat_to_onehot=None,\n",
       "                                              max_delta_step=None, max_depth=7,\n",
       "                                              max_leaves=None,\n",
       "                                              min_child_weight=None,\n",
       "                                              missing=nan,\n",
       "                                              monotone_constraints=None,\n",
       "                                              multi_strategy=None,\n",
       "                                              n_estimators=200, n_jobs=None,\n",
       "                                              num_parallel_tree=None,\n",
       "                                              random_state=7, ...))],\n",
       "                   final_estimator=TabNetWrapper())</pre><b>In a Jupyter environment, please rerun this cell to show the HTML representation or trust the notebook. <br />On GitHub, the HTML representation is unable to render, please try loading this page with nbviewer.org.</b></div><div class=\"sk-container\" hidden><div class=\"sk-item sk-dashed-wrapped\"><div class=\"sk-label-container\"><div class=\"sk-label sk-toggleable\"><input class=\"sk-toggleable__control sk-hidden--visually\" id=\"sk-estimator-id-1\" type=\"checkbox\" ><label for=\"sk-estimator-id-1\" class=\"sk-toggleable__label sk-toggleable__label-arrow\">StackingClassifier</label><div class=\"sk-toggleable__content\"><pre>StackingClassifier(estimators=[(&#x27;rf&#x27;, RandomForestClassifier(random_state=42)),\n",
       "                               (&#x27;logi&#x27;, LogisticRegression(random_state=42)),\n",
       "                               (&#x27;dt&#x27;,\n",
       "                                DecisionTreeClassifier(max_depth=5,\n",
       "                                                       min_samples_split=4,\n",
       "                                                       random_state=42)),\n",
       "                               (&#x27;lda&#x27;, LinearDiscriminantAnalysis()),\n",
       "                               (&#x27;xgb&#x27;,\n",
       "                                XGBClassifier(base_score=None, booster=None,\n",
       "                                              callbacks=None,\n",
       "                                              colsample_bylevel=None,\n",
       "                                              colsample_bynode=None,\n",
       "                                              c...\n",
       "                                              importance_type=None,\n",
       "                                              interaction_constraints=None,\n",
       "                                              learning_rate=0.2, max_bin=None,\n",
       "                                              max_cat_threshold=None,\n",
       "                                              max_cat_to_onehot=None,\n",
       "                                              max_delta_step=None, max_depth=7,\n",
       "                                              max_leaves=None,\n",
       "                                              min_child_weight=None,\n",
       "                                              missing=nan,\n",
       "                                              monotone_constraints=None,\n",
       "                                              multi_strategy=None,\n",
       "                                              n_estimators=200, n_jobs=None,\n",
       "                                              num_parallel_tree=None,\n",
       "                                              random_state=7, ...))],\n",
       "                   final_estimator=TabNetWrapper())</pre></div></div></div><div class=\"sk-serial\"><div class=\"sk-item\"><div class=\"sk-parallel\"><div class=\"sk-parallel-item\"><div class=\"sk-item\"><div class=\"sk-label-container\"><div class=\"sk-label sk-toggleable\"><label>rf</label></div></div><div class=\"sk-serial\"><div class=\"sk-item\"><div class=\"sk-estimator sk-toggleable\"><input class=\"sk-toggleable__control sk-hidden--visually\" id=\"sk-estimator-id-2\" type=\"checkbox\" ><label for=\"sk-estimator-id-2\" class=\"sk-toggleable__label sk-toggleable__label-arrow\">RandomForestClassifier</label><div class=\"sk-toggleable__content\"><pre>RandomForestClassifier(random_state=42)</pre></div></div></div></div></div></div><div class=\"sk-parallel-item\"><div class=\"sk-item\"><div class=\"sk-label-container\"><div class=\"sk-label sk-toggleable\"><label>logi</label></div></div><div class=\"sk-serial\"><div class=\"sk-item\"><div class=\"sk-estimator sk-toggleable\"><input class=\"sk-toggleable__control sk-hidden--visually\" id=\"sk-estimator-id-3\" type=\"checkbox\" ><label for=\"sk-estimator-id-3\" class=\"sk-toggleable__label sk-toggleable__label-arrow\">LogisticRegression</label><div class=\"sk-toggleable__content\"><pre>LogisticRegression(random_state=42)</pre></div></div></div></div></div></div><div class=\"sk-parallel-item\"><div class=\"sk-item\"><div class=\"sk-label-container\"><div class=\"sk-label sk-toggleable\"><label>dt</label></div></div><div class=\"sk-serial\"><div class=\"sk-item\"><div class=\"sk-estimator sk-toggleable\"><input class=\"sk-toggleable__control sk-hidden--visually\" id=\"sk-estimator-id-4\" type=\"checkbox\" ><label for=\"sk-estimator-id-4\" class=\"sk-toggleable__label sk-toggleable__label-arrow\">DecisionTreeClassifier</label><div class=\"sk-toggleable__content\"><pre>DecisionTreeClassifier(max_depth=5, min_samples_split=4, random_state=42)</pre></div></div></div></div></div></div><div class=\"sk-parallel-item\"><div class=\"sk-item\"><div class=\"sk-label-container\"><div class=\"sk-label sk-toggleable\"><label>lda</label></div></div><div class=\"sk-serial\"><div class=\"sk-item\"><div class=\"sk-estimator sk-toggleable\"><input class=\"sk-toggleable__control sk-hidden--visually\" id=\"sk-estimator-id-5\" type=\"checkbox\" ><label for=\"sk-estimator-id-5\" class=\"sk-toggleable__label sk-toggleable__label-arrow\">LinearDiscriminantAnalysis</label><div class=\"sk-toggleable__content\"><pre>LinearDiscriminantAnalysis()</pre></div></div></div></div></div></div><div class=\"sk-parallel-item\"><div class=\"sk-item\"><div class=\"sk-label-container\"><div class=\"sk-label sk-toggleable\"><label>xgb</label></div></div><div class=\"sk-serial\"><div class=\"sk-item\"><div class=\"sk-estimator sk-toggleable\"><input class=\"sk-toggleable__control sk-hidden--visually\" id=\"sk-estimator-id-6\" type=\"checkbox\" ><label for=\"sk-estimator-id-6\" class=\"sk-toggleable__label sk-toggleable__label-arrow\">XGBClassifier</label><div class=\"sk-toggleable__content\"><pre>XGBClassifier(base_score=None, booster=None, callbacks=None,\n",
       "              colsample_bylevel=None, colsample_bynode=None,\n",
       "              colsample_bytree=1.0, device=None, early_stopping_rounds=None,\n",
       "              enable_categorical=False, eval_metric=&#x27;mlogloss&#x27;,\n",
       "              feature_types=None, gamma=0, grow_policy=None,\n",
       "              importance_type=None, interaction_constraints=None,\n",
       "              learning_rate=0.2, max_bin=None, max_cat_threshold=None,\n",
       "              max_cat_to_onehot=None, max_delta_step=None, max_depth=7,\n",
       "              max_leaves=None, min_child_weight=None, missing=nan,\n",
       "              monotone_constraints=None, multi_strategy=None, n_estimators=200,\n",
       "              n_jobs=None, num_parallel_tree=None, random_state=7, ...)</pre></div></div></div></div></div></div></div></div><div class=\"sk-item\"><div class=\"sk-parallel\"><div class=\"sk-parallel-item\"><div class=\"sk-item\"><div class=\"sk-label-container\"><div class=\"sk-label sk-toggleable\"><label>final_estimator</label></div></div><div class=\"sk-serial\"><div class=\"sk-item\"><div class=\"sk-estimator sk-toggleable\"><input class=\"sk-toggleable__control sk-hidden--visually\" id=\"sk-estimator-id-7\" type=\"checkbox\" ><label for=\"sk-estimator-id-7\" class=\"sk-toggleable__label sk-toggleable__label-arrow\">TabNetWrapper</label><div class=\"sk-toggleable__content\"><pre>TabNetWrapper()</pre></div></div></div></div></div></div></div></div></div></div></div></div>"
      ],
      "text/plain": [
       "StackingClassifier(estimators=[('rf', RandomForestClassifier(random_state=42)),\n",
       "                               ('logi', LogisticRegression(random_state=42)),\n",
       "                               ('dt',\n",
       "                                DecisionTreeClassifier(max_depth=5,\n",
       "                                                       min_samples_split=4,\n",
       "                                                       random_state=42)),\n",
       "                               ('lda', LinearDiscriminantAnalysis()),\n",
       "                               ('xgb',\n",
       "                                XGBClassifier(base_score=None, booster=None,\n",
       "                                              callbacks=None,\n",
       "                                              colsample_bylevel=None,\n",
       "                                              colsample_bynode=None,\n",
       "                                              c...\n",
       "                                              importance_type=None,\n",
       "                                              interaction_constraints=None,\n",
       "                                              learning_rate=0.2, max_bin=None,\n",
       "                                              max_cat_threshold=None,\n",
       "                                              max_cat_to_onehot=None,\n",
       "                                              max_delta_step=None, max_depth=7,\n",
       "                                              max_leaves=None,\n",
       "                                              min_child_weight=None,\n",
       "                                              missing=nan,\n",
       "                                              monotone_constraints=None,\n",
       "                                              multi_strategy=None,\n",
       "                                              n_estimators=200, n_jobs=None,\n",
       "                                              num_parallel_tree=None,\n",
       "                                              random_state=7, ...))],\n",
       "                   final_estimator=TabNetWrapper())"
      ]
     },
     "execution_count": 23,
     "metadata": {},
     "output_type": "execute_result"
    }
   ],
   "source": [
    "from sklearn.ensemble import StackingClassifier\n",
    "\n",
    "# def create_keras_model():\n",
    "#     # Thêm các lớp khác vào đây\n",
    "#     best_model.compile(optimizer='adam', loss='binary_crossentropy', metrics=['accuracy',f1_score])\n",
    "#     best_model.load_weights('weights.h5')\n",
    "#     return best_model\n",
    "\n",
    "# tabnet = KerasClassifier(build_fn=create_keras_model, epochs=10)\n",
    "\n",
    "rf1_model=RandomForestClassifier(n_estimators=100, random_state=seed)\n",
    "# bg1_model=GradientBoostingClassifier(n_estimators=100, learning_rate=1.0, max_depth=1, random_state=seed)\n",
    "# svm_model=SVC(kernel='rbf',probability=True, gamma='scale' , random_state=seed)\n",
    "logi_model=LogisticRegression(random_state=seed)\n",
    "lda_model=LinearDiscriminantAnalysis()\n",
    "dt_model=DecisionTreeClassifier(criterion='gini', max_depth=5, min_samples_split=4,random_state=seed)\n",
    "rf_model=RandomForestClassifier(n_estimators=100, random_state=seed, )\n",
    "knn_model=KNeighborsClassifier(n_neighbors=100)\n",
    "gau_model=GaussianNB()\n",
    "svm_model=SVC(kernel='rbf', gamma='scale', random_state=seed)\n",
    "mlp_model=MLPClassifier(hidden_layer_sizes=(100,), max_iter=500, random_state=seed)\n",
    "gb_model=GradientBoostingClassifier(n_estimators=100, learning_rate=1.0, max_depth=1, random_state=42)\n",
    "lgbm=LGBMClassifier(n_estimators=100, learning_rate=0.1, max_depth=-1, random_state=seed)  # Mô hình LightGBM\n",
    "xgb=XGBClassifier(n_estimators=100, learning_rate=0.1, max_depth=3, random_state=seed, use_label_encoder=False, eval_metric='mlogloss')  # Mô hình XGBoost# Lặp qua từng mô hình và vẽ đường cong ROC\n",
    "\n",
    "# # Huấn luyện các mô hình cơ sở\n",
    "rf1_model.fit(x_train[feature_selection['RD']], y_train)\n",
    "logi_model.fit(x_train[feature_selection['LR']], y_train)\n",
    "lda_model.fit(x_train[feature_selection['LDA']], y_train)\n",
    "dt_model.fit(x_train[feature_selection['DTC']], y_train)\n",
    "lgbm.fit(x_train[feature_selection['LGBM']], y_train)\n",
    "xgb.fit(x_train[feature_selection['XGB']], y_train)\n",
    "# bg_model.fit(x_train, y_train)\n",
    "# svm_model.fit(x_train, y_train)\n",
    "\n",
    "\n",
    "# Dự đoán đầu ra của các mô hình cơ sở\n",
    "rf_pred = rf1_model.predict_proba(x_train[feature_selection['RD']])\n",
    "logi_pred = logi_model.predict_proba(x_train[feature_selection['LR']])\n",
    "lda_pred = lda_model.predict_proba(x_train[feature_selection['LDA']])\n",
    "dt_pred = dt_model.predict_proba(x_train[feature_selection['DTC']])\n",
    "lgbm_pred = lgbm_model.predict_proba(x_train[feature_selection['LGBM']])\n",
    "xgb_pred = xgb_model.predict_proba(x_train[feature_selection['XGB']])\n",
    "tabnet_pred=tabnet_model.predict(x_train)\n",
    "\n",
    "\n",
    "\n",
    "# keras_pred = tabnet.predict(x_test)\n",
    "stacked_input = np.column_stack((rf_pred,logi_pred,lda_pred,dt_pred,lgbm_pred,xgb_pred, tabnet_pred))\n",
    "\n",
    "rf_pred = rf1_model.predict_proba(x_test[feature_selection['RD']])\n",
    "logi_pred = logi_model.predict_proba(x_test[feature_selection['LR']])\n",
    "lda_pred = lda_model.predict_proba(x_test[feature_selection['LDA']])\n",
    "dt_pred = dt_model.predict_proba(x_test[feature_selection['DTC']])\n",
    "lgbm_pred = lgbm_model.predict_proba(x_test[feature_selection['LGBM']])\n",
    "xgb_pred = xgb_model.predict_proba(x_test[feature_selection['XGB']])\n",
    "tabnet_pred=tabnet_model.predict(x_test)\n",
    "\n",
    "\n",
    "\n",
    "# keras_pred = tabnet.predict(x_test)\n",
    "stacked_input_test = np.column_stack((rf_pred,logi_pred,lda_pred,dt_pred,lgbm_pred,xgb_pred, tabnet_pred))\n",
    "\n",
    "#history=model.fit(x=x_test,y=y_train,\n",
    "          #validation_data=(x_test,y_test)class_weight=class_weights_dict ,\n",
    "          #batch_size=64,epochs=120, callbacks=[confusion_matrix_callback])\n",
    "\n",
    "# tabnet = KerasClassifier(build_fn=model_output, tabnet_params=tabnet_params,batch_size=64,epochs=10000,callbacks=[early_stopping,lr_scheduler])\n",
    "\n",
    "# Clone lại để tránh thay đổi trực tiếp vào mô hình gốc\n",
    "# tabnet = clone(tabnet)\n",
    "# Xây dựng mô hình stacking\n",
    "stacked_model = StackingClassifier(\n",
    "    estimators=[('rf',rf1_model), ('logi',logi_model), ('dt',dt_model), ('lda',lda_model),('xgb',xgb_model)],\n",
    "    final_estimator=tabnet\n",
    ")\n",
    "print(stacked_input.shape)\n",
    "print(y_test.shape)\n",
    "# Tiếp tục với việc huấn luyện và đánh giá mô hình stacking\n",
    "stacked_model.fit(stacked_input, y_train)\n",
    "# stacked_pred = stacked_model.predict(stacked_input)\n",
    "# stacked_pred"
   ]
  },
  {
   "cell_type": "code",
   "execution_count": null,
   "id": "dNc8zm7wMpMO",
   "metadata": {
    "id": "dNc8zm7wMpMO"
   },
   "outputs": [],
   "source": [
    "# scores = cross_val_score(stacked_model, x_train, y_train, cv=10, scoring='accuracy')\n",
    "# print(\"Cross-validation accuracy scores:\", scores)\n",
    "# print(\"Mean accuracy:\", scores.mean())"
   ]
  },
  {
   "cell_type": "code",
   "execution_count": null,
   "id": "939f05dd",
   "metadata": {
    "id": "939f05dd",
    "outputId": "d1daa1e7-bbda-4749-9836-617477c575dc"
   },
   "outputs": [
    {
     "name": "stdout",
     "output_type": "stream",
     "text": [
      "160/160 [==============================] - 1s 1ms/step\n"
     ]
    }
   ],
   "source": [
    "\n",
    "stacked_pred = stacked_model.predict(stacked_input_test)\n"
   ]
  },
  {
   "cell_type": "code",
   "execution_count": null,
   "id": "dff75e76",
   "metadata": {
    "id": "dff75e76",
    "outputId": "ed0e4f8a-273a-42c8-eb75-85080e228b84"
   },
   "outputs": [
    {
     "name": "stdout",
     "output_type": "stream",
     "text": [
      "160/160 [==============================] - 0s 1ms/step\n",
      "Accuracy of Stacked Model: 0.625073688347416\n"
     ]
    }
   ],
   "source": [
    "# stacked_model.fit(stacked_input, y_test)\n",
    "# Dự đoán và đánh giá mô hình stacked\n",
    "stacked_pred = stacked_model.predict(stacked_input_test)\n",
    "stacked_pred_labels = (stacked_pred > 0.3).astype(int)\n",
    "accuracy_stacked = accuracy_score(y_test, stacked_pred_labels)\n",
    "print(f'Accuracy of Stacked Model: {accuracy_stacked}')"
   ]
  },
  {
   "cell_type": "markdown",
   "id": "0b2cb867",
   "metadata": {
    "id": "0b2cb867"
   },
   "source": [
    "#### * Kết quả đánh giá mô hình:"
   ]
  },
  {
   "cell_type": "code",
   "execution_count": null,
   "id": "07132b7e",
   "metadata": {
    "id": "07132b7e",
    "outputId": "8fb3e452-7905-484d-f5ef-04833da33634"
   },
   "outputs": [
    {
     "name": "stdout",
     "output_type": "stream",
     "text": [
      "Accuracy: 0.625073688347416\n",
      "Classification Report:\n",
      "              precision    recall  f1-score   support\n",
      "\n",
      "           1       0.07      0.45      0.13       307\n",
      "           0       0.95      0.64      0.76      4782\n",
      "\n",
      "    accuracy                           0.63      5089\n",
      "   macro avg       0.51      0.54      0.44      5089\n",
      "weighted avg       0.89      0.63      0.72      5089\n",
      "\n"
     ]
    }
   ],
   "source": [
    "from sklearn.metrics import accuracy_score, classification_report, confusion_matrix\n",
    "\n",
    "\n",
    "\n",
    "\n",
    "accuracy = accuracy_score(y_test, stacked_pred_labels)\n",
    "print(\"Accuracy:\", accuracy)\n",
    "\n",
    "print(\"Classification Report:\")\n",
    "print(classification_report(y_test, stacked_pred_labels,labels=[1,0]))\n",
    "\n",
    "# print(\"Confusion Matrix:\")\n",
    "# print(confusion_matrix(y_test, y_pred,labels=[1,0]))"
   ]
  },
  {
   "cell_type": "code",
   "execution_count": null,
   "id": "6f218b86",
   "metadata": {
    "id": "6f218b86",
    "outputId": "495d4835-1288-416a-e66f-a491b28390ea"
   },
   "outputs": [
    {
     "data": {
      "image/png": "[encoded data removed]",
      "text/plain": [
       "<Figure size 800x600 with 2 Axes>"
      ]
     },
     "metadata": {},
     "output_type": "display_data"
    }
   ],
   "source": [
    "# Dự đoán\n",
    "\n",
    "\n",
    "# Tính ma trận nhầm lẫn\n",
    "cm = confusion_matrix(y_test, stacked_pred_labels,labels=[1,0])\n",
    "plt.figure(figsize=(8, 6))\n",
    "sns.heatmap(cm, annot=True, fmt='g', cmap='Blues', xticklabels=[1,0], yticklabels=[1,0])\n",
    "plt.title('Confusion Matrix')\n",
    "plt.xlabel('Predicted')\n",
    "plt.ylabel('Actual')\n",
    "plt.show()"
   ]
  },
  {
   "cell_type": "code",
   "execution_count": null,
   "id": "e744c8a6",
   "metadata": {
    "id": "e744c8a6",
    "outputId": "13a87d53-c645-4b60-e4ad-1c59dba8ca90"
   },
   "outputs": [
    {
     "data": {
      "image/png": "[encoded data removed]",
      "text/plain": [
       "<Figure size 1500x1500 with 1 Axes>"
      ]
     },
     "metadata": {},
     "output_type": "display_data"
    }
   ],
   "source": [
    "fig, ax = plt.subplots(1, 1, figsize=(15, 15))\n",
    "\n",
    "fpr, tpr, _ = roc_curve(y_test, stacked_pred)\n",
    "\n",
    "roc_auc = auc(fpr, tpr)\n",
    "\n",
    "ax.plot(fpr, tpr, lw=4, label='ROC curve (AUC = %0.2f)' % roc_auc)\n",
    "ax.plot([0, 1], [0, 1], color='red', lw=2, linestyle='--')\n",
    "ax.set_xlim([0.0, 1.0])\n",
    "ax.set_ylim([0.0, 1.05])\n",
    "ax.set_xlabel('False Positive Rate', fontsize=12, weight='bold')\n",
    "ax.set_ylabel('True Positive Rate', fontsize=12, weight='bold')\n",
    "ax.set_title(f'ROC of Voting',fontsize=20, weight='bold')\n",
    "ax.legend(loc=\"lower right\", prop={'size': 12, 'weight': 'bold'})\n",
    "plt.show()"
   ]
  },
  {
   "cell_type": "code",
   "execution_count": null,
   "id": "ffe10617",
   "metadata": {
    "id": "ffe10617"
   },
   "outputs": [],
   "source": [
    "def check_result(prediction):\n",
    "    prediction = (prediction > 0.2).astype(int)\n",
    "    if isinstance(prediction, (np.ndarray, pd.Series)):\n",
    "        prediction = prediction.item()  # Hoặc sử dụng prediction[0] hoặc prediction.iloc[0]\n",
    "    if prediction==1:\n",
    "        return \"Y\"\n",
    "    else:\n",
    "        return \"N\""
   ]
  },
  {
   "cell_type": "code",
   "execution_count": null,
   "id": "8e3eefa4",
   "metadata": {
    "id": "8e3eefa4",
    "outputId": "1204a023-0e49-4835-c756-f6627fe4d438"
   },
   "outputs": [
    {
     "name": "stdout",
     "output_type": "stream",
     "text": [
      "639/639 [==============================] - 1s 1ms/step\n"
     ]
    },
    {
     "ename": "AxisError",
     "evalue": "axis 1 is out of bounds for array of dimension 1",
     "output_type": "error",
     "traceback": [
      "\u001b[1;31m---------------------------------------------------------------------------\u001b[0m",
      "\u001b[1;31mAxisError\u001b[0m                                 Traceback (most recent call last)",
      "Cell \u001b[1;32mIn[31], line 5\u001b[0m\n\u001b[0;32m      3\u001b[0m \u001b[38;5;28;01mfor\u001b[39;00m indx \u001b[38;5;129;01min\u001b[39;00m \u001b[38;5;28mrange\u001b[39m(\u001b[38;5;28mlen\u001b[39m(x_test)):\n\u001b[0;32m      4\u001b[0m     y_predict \u001b[38;5;241m=\u001b[39m stacked_model\u001b[38;5;241m.\u001b[39mpredict(stacked_input)\n\u001b[1;32m----> 5\u001b[0m     stacked_pred_labels \u001b[38;5;241m=\u001b[39m \u001b[43my_predict\u001b[49m\u001b[38;5;241;43m.\u001b[39;49m\u001b[43margmax\u001b[49m\u001b[43m(\u001b[49m\u001b[43maxis\u001b[49m\u001b[38;5;241;43m=\u001b[39;49m\u001b[38;5;241;43m1\u001b[39;49m\u001b[43m)\u001b[49m\n\u001b[0;32m      7\u001b[0m     \u001b[38;5;66;03m#print(y_predict[0][0])\u001b[39;00m\n\u001b[0;32m      8\u001b[0m     Y_check \u001b[38;5;241m=\u001b[39m check_result(y_test\u001b[38;5;241m.\u001b[39miloc[indx])\n",
      "\u001b[1;31mAxisError\u001b[0m: axis 1 is out of bounds for array of dimension 1"
     ]
    }
   ],
   "source": [
    "solandung=0\n",
    "hopdonggianlan=0\n",
    "for indx in range(len(x_test)):\n",
    "    y_predict = stacked_model.predict(stacked_input)\n",
    "    stacked_pred_labels = y_predict.argmax(axis=1)\n",
    "\n",
    "    #print(y_predict[0][0])\n",
    "    Y_check = check_result(y_test.iloc[indx])\n",
    "    print('True:', Y_check)\n",
    "    print('Predicted:', check_result(stacked_pred_labels[indx]))\n",
    "    print(\"----------------------------\")\n",
    "    if Y_check==check_result(stacked_pred_labels[indx]):\n",
    "        solandung+=1\n",
    "        if Y_check=='Y':\n",
    "            hopdonggianlan+=1\n"
   ]
  },
  {
   "cell_type": "code",
   "execution_count": null,
   "id": "a3a65590",
   "metadata": {
    "id": "a3a65590",
    "outputId": "4a195949-64b8-40aa-d25d-ce7db09267f7"
   },
   "outputs": [
    {
     "name": "stdout",
     "output_type": "stream",
     "text": [
      "Số lần dự đoán đúng: 275 chiếm khoảng 83.33333333333334% tổng lần dự đoán\n",
      "Số hợp đồng gian lận trong lần kiểm tra: 75 chiếm khoảng 85.22727272727273% so với thực tế\n"
     ]
    }
   ],
   "source": [
    "print(f\"Số lần dự đoán đúng: {solandung} chiếm khoảng {(solandung/len(x_test))*100}% tổng lần dự đoán\")\n",
    "print(f\"Số hợp đồng gian lận trong lần kiểm tra: {hopdonggianlan} chiếm khoảng {(hopdonggianlan/len(y_test[y_test['fraud_reported']==1]))*100}% so với thực tế\")\n"
   ]
  },
  {
   "cell_type": "code",
   "execution_count": null,
   "id": "c31643d6",
   "metadata": {
    "id": "c31643d6"
   },
   "outputs": [],
   "source": []
  },
  {
   "cell_type": "code",
   "execution_count": null,
   "id": "33e3467b",
   "metadata": {
    "id": "33e3467b"
   },
   "outputs": [],
   "source": []
  }
 ],
 "metadata": {
  "colab": {
   "provenance": []
  },
  "kernelspec": {
   "display_name": "Python 3",
   "language": "python",
   "name": "python3"
  },
  "language_info": {
   "codemirror_mode": {
    "name": "ipython",
    "version": 3
   },
   "file_extension": ".py",
   "mimetype": "text/x-python",
   "name": "python",
   "nbconvert_exporter": "python",
   "pygments_lexer": "ipython3",
   "version": "3.8.19"
  }
 },
 "nbformat": 4,
 "nbformat_minor": 5
}
