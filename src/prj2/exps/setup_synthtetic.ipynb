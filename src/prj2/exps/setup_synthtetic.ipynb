{
 "cells": [
  {
   "cell_type": "code",
   "execution_count": null,
   "metadata": {},
   "outputs": [],
   "source": [
    "%run \"C:\\Users\\PC\\Data\\ads_fraud_detection\\src\\prj2\\1.EDA\\EDA_mainbaseline.ipynb\""
   ]
  },
  {
   "cell_type": "markdown",
   "metadata": {},
   "source": [
    "#### Gau"
   ]
  },
  {
   "cell_type": "code",
   "execution_count": null,
   "metadata": {},
   "outputs": [],
   "source": [
    "%run \"C:\\Users\\PC\\Data\\ads_fraud_detection\\src\\prj2\\2.preprocessing\\4.synthetic_gau\\pre_process_gau.ipynb\""
   ]
  },
  {
   "cell_type": "code",
   "execution_count": null,
   "metadata": {},
   "outputs": [],
   "source": [
    "%run \"C:\\Users\\PC\\Data\\ads_fraud_detection\\src\\prj2\\3.feature-selection\\4.synthetic_gau\\feature_selection5_1.ipynb\""
   ]
  },
  {
   "cell_type": "code",
   "execution_count": null,
   "metadata": {},
   "outputs": [],
   "source": [
    "%run \"C:\\Users\\PC\\Data\\ads_fraud_detection\\src\\prj2\\4.traditional_model\\4.synthetic_gau\\traditional model5_2.ipynb\""
   ]
  },
  {
   "cell_type": "markdown",
   "metadata": {},
   "source": [
    "#### VAE"
   ]
  },
  {
   "cell_type": "code",
   "execution_count": null,
   "metadata": {},
   "outputs": [],
   "source": [
    "%run \"C:\\Users\\PC\\Data\\ads_fraud_detection\\src\\prj2\\2.preprocessing\\6.synthetic_vae\\pre_process_vae.ipynb\""
   ]
  },
  {
   "cell_type": "code",
   "execution_count": null,
   "metadata": {},
   "outputs": [],
   "source": [
    "%run \"C:\\Users\\PC\\Data\\ads_fraud_detection\\src\\prj2\\3.feature-selection\\6.synthetic_vae\\feature_selection5_1.ipynb\""
   ]
  },
  {
   "cell_type": "code",
   "execution_count": null,
   "metadata": {},
   "outputs": [],
   "source": [
    "%run \"C:\\Users\\PC\\Data\\ads_fraud_detection\\src\\prj2\\4.traditional_model\\6.synthetic_vae\\traditional model5_2.ipynb\""
   ]
  },
  {
   "cell_type": "markdown",
   "metadata": {},
   "source": [
    "#### Gan"
   ]
  },
  {
   "cell_type": "code",
   "execution_count": null,
   "metadata": {},
   "outputs": [],
   "source": [
    "%run \"C:\\Users\\PC\\Data\\ads_fraud_detection\\src\\prj2\\2.preprocessing\\5.synthetic_gan\\pre_process_gan.ipynb\""
   ]
  },
  {
   "cell_type": "code",
   "execution_count": null,
   "metadata": {},
   "outputs": [],
   "source": [
    "%run \"C:\\Users\\PC\\Data\\ads_fraud_detection\\src\\prj2\\3.feature-selection\\5.synthetic_gan\\feature_selection_gan.ipynb\""
   ]
  },
  {
   "cell_type": "code",
   "execution_count": null,
   "metadata": {},
   "outputs": [],
   "source": [
    "%run \"C:\\Users\\PC\\Data\\ads_fraud_detection\\src\\prj2\\4.traditional_model\\5.synthetic_gan\\traditional model_gan.ipynb\""
   ]
  },
  {
   "cell_type": "markdown",
   "metadata": {},
   "source": [
    "#### GanCopula"
   ]
  },
  {
   "cell_type": "code",
   "execution_count": null,
   "metadata": {},
   "outputs": [],
   "source": [
    "%run \"C:\\Users\\PC\\Data\\ads_fraud_detection\\src\\prj2\\2.preprocessing\\4.synthetic_gan\\pre_process_gan.ipynb\""
   ]
  },
  {
   "cell_type": "code",
   "execution_count": null,
   "metadata": {},
   "outputs": [],
   "source": [
    "%run \"C:\\Users\\PC\\Data\\ads_fraud_detection\\src\\prj2\\3.feature-selection\\4.synthetic_gan\\feature_selection_gancopula.ipynb\""
   ]
  },
  {
   "cell_type": "code",
   "execution_count": null,
   "metadata": {},
   "outputs": [],
   "source": [
    "%run \"C:\\Users\\PC\\Data\\ads_fraud_detection\\src\\prj2\\4.traditional_model\\4.synthetic_gan\\traditional model_gancopula.ipynb\""
   ]
  }
 ],
 "metadata": {
  "kernelspec": {
   "display_name": ".conda",
   "language": "python",
   "name": "python3"
  },
  "language_info": {
   "codemirror_mode": {
    "name": "ipython",
    "version": 3
   },
   "file_extension": ".py",
   "mimetype": "text/x-python",
   "name": "python",
   "nbconvert_exporter": "python",
   "pygments_lexer": "ipython3",
   "version": "3.8.19"
  }
 },
 "nbformat": 4,
 "nbformat_minor": 2
}
