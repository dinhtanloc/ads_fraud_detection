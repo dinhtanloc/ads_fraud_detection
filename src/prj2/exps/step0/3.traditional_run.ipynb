{
 "cells": [
  {
   "cell_type": "code",
   "execution_count": null,
   "metadata": {},
   "outputs": [],
   "source": [
    "%run C:/Users/Admin/Data/ads_fraud_detection/src/prj2/4.traditional_model/1.base/traditional model5_2.ipynb"
   ]
  },
  {
   "cell_type": "code",
   "execution_count": null,
   "metadata": {},
   "outputs": [],
   "source": [
    "%run C:/Users/Admin/Data/ads_fraud_detection/src/prj2/4.traditional_model/2.adasyn/traditional model5_2.ipynb"
   ]
  },
  {
   "cell_type": "code",
   "execution_count": null,
   "metadata": {},
   "outputs": [],
   "source": [
    "%run C:/Users/Admin/Data/ads_fraud_detection/src/prj2/4.traditional_model/3.smote/traditional model5_2.ipynb"
   ]
  },
  {
   "cell_type": "code",
   "execution_count": null,
   "metadata": {},
   "outputs": [],
   "source": [
    "%run C:/Users/Admin/Data/ads_fraud_detection/src/prj2/4.traditional_model/4.synthetic_gau/traditional model5_2.ipynb"
   ]
  },
  {
   "cell_type": "code",
   "execution_count": null,
   "metadata": {},
   "outputs": [],
   "source": [
    "%run C:/Users/Admin/Data/ads_fraud_detection/src/prj2/4.traditional_model/5.synthetic_gan/traditional model_gancopula"
   ]
  },
  {
   "cell_type": "code",
   "execution_count": null,
   "metadata": {},
   "outputs": [],
   "source": [
    "%run C:/Users/Admin/Data/ads_fraud_detection/src/prj2/4.traditional_model/5.synthetic_gan/traditional model_gan"
   ]
  },
  {
   "cell_type": "code",
   "execution_count": null,
   "metadata": {},
   "outputs": [],
   "source": [
    "%run C:/Users/Admin/Data/ads_fraud_detection/src/prj2/4.traditional_model/6.synthetic_vae/traditional model5_2.ipynb"
   ]
  }
 ],
 "metadata": {
  "language_info": {
   "name": "python"
  }
 },
 "nbformat": 4,
 "nbformat_minor": 2
}
