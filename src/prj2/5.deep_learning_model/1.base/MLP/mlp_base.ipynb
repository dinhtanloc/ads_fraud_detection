{
 "cells": [
  {
   "cell_type": "code",
   "execution_count": 1,
   "id": "6f12cee6",
   "metadata": {},
   "outputs": [],
   "source": [
    "import tensorflow as tf\n",
    "import pandas as pd\n",
    "import numpy as np\n",
    "import os\n",
    "from tensorflow.keras.optimizers import Adam\n",
    "\n",
    "from sklearn.preprocessing import OneHotEncoder\n",
    "import matplotlib.pyplot as plt\n",
    "from tensorflow.keras import backend as K\n",
    "from tensorflow.keras.callbacks import ReduceLROnPlateau, EarlyStopping, ModelCheckpoint, LearningRateScheduler\n",
    "from tensorflow.keras.layers import Conv1D, MaxPooling1D, GlobalAveragePooling1D, GlobalMaxPooling1D, Dense, Flatten, Input\n",
    "from tensorflow.keras.models import Model\n",
    "import seaborn as sns\n",
    "from sklearn.metrics import accuracy_score\n",
    "from sklearn.metrics import roc_curve, auc\n",
    "from tabnet_keras import TabNetRegressor, TabNetClassifier\n",
    "from tensorflow.keras.models import Sequential\n",
    "\n",
    "\n",
    "\n"
   ]
  },
  {
   "cell_type": "code",
   "execution_count": 2,
   "id": "c1dd1c5b",
   "metadata": {},
   "outputs": [
    {
     "name": "stdout",
     "output_type": "stream",
     "text": [
      "c:\\Users\\Admin\\Data\\ads_fraud_detection\n",
      "c:/Users/Admin/Data/ads_fraud_detection\n"
     ]
    }
   ],
   "source": [
    "import sys,os\n",
    "__script_path=os.path.abspath(globals().get('__file__','.'))\n",
    "__script_dir = os.path.dirname(__script_path)\n",
    "root_dir = os.path.abspath(f'{__script_dir}/../../../..')\n",
    "print(root_dir)\n",
    "for lib in [root_dir][::-1]:\n",
    "    if lib in sys.path:\n",
    "        sys.path.remove(lib)\n",
    "    sys.path.insert(0,lib)\n",
    "from config.config import *\n",
    "# from libs.common import *"
   ]
  },
  {
   "cell_type": "code",
   "execution_count": 3,
   "id": "9f50966a",
   "metadata": {},
   "outputs": [
    {
     "name": "stdout",
     "output_type": "stream",
     "text": [
      "Using GPU: PhysicalDevice(name='/physical_device:GPU:0', device_type='GPU')\n"
     ]
    }
   ],
   "source": [
    "gpus = tf.config.experimental.list_physical_devices('GPU')\n",
    "if gpus:\n",
    "    print('Using GPU:', gpus[0])  # In ra tên của GPU\n",
    "    try:\n",
    "        tf.config.experimental.set_visible_devices(gpus[0], 'GPU')\n",
    "        tf.config.experimental.set_memory_growth(gpus[0], True)\n",
    "    except RuntimeError as e:\n",
    "        print(e)\n",
    "else:\n",
    "    print('No GPU found. Using CPU.')"
   ]
  },
  {
   "cell_type": "code",
   "execution_count": 4,
   "id": "622aee0d",
   "metadata": {},
   "outputs": [],
   "source": [
    "save_dir=f\"{exps_dir}/exp2/exp_base\"\n",
    "if os.path.exists(save_dir) == False: \n",
    "  os.makedirs(save_dir, exist_ok=True)\n",
    "\n",
    "\n",
    "\n",
    "test_size=0.33\n",
    "seed=42"
   ]
  },
  {
   "cell_type": "code",
   "execution_count": 5,
   "id": "ee0c5839",
   "metadata": {},
   "outputs": [],
   "source": [
    "# feature_selection=dict(np.load(f'{save_dir}/feature_model_selection.npz',allow_pickle=True))['feature_model_selection']\n",
    "# feature_selection = {key: value for key, value in feature_selection.item().items()}\n",
    "# feature_selection"
   ]
  },
  {
   "cell_type": "markdown",
   "id": "79d162d6",
   "metadata": {},
   "source": [
    "* kiểm tra và tạo các thư mục (nếu chưa có)\n",
    "* tập test 33%"
   ]
  },
  {
   "cell_type": "markdown",
   "id": "5cf7e092",
   "metadata": {},
   "source": [
    "# 5. Xây dựng và đánh giá mô hình học sâu Neutual Network"
   ]
  },
  {
   "cell_type": "code",
   "execution_count": 6,
   "id": "d84bdb3c",
   "metadata": {},
   "outputs": [],
   "source": [
    "# bg_model=joblib.load(f'{save_dir}/bg_model.joblib')\n",
    "# rf_model=joblib.load(f'{save_dir}/rf_model.joblib')\n",
    "# svm_model=joblib.load(f'{save_dir}/svm_model.joblib')"
   ]
  },
  {
   "cell_type": "code",
   "execution_count": 7,
   "id": "2e81211d",
   "metadata": {},
   "outputs": [
    {
     "data": {
      "text/plain": [
       "{0: 0.5317035512094699, 1: 8.385551948051948}"
      ]
     },
     "execution_count": 7,
     "metadata": {},
     "output_type": "execute_result"
    }
   ],
   "source": [
    "x_train=pd.read_excel(f'{save_dir}/x_train.xlsx')\n",
    "y_train=pd.read_excel(f'{save_dir}/y_train.xlsx')\n",
    "x_test=pd.read_excel(f'{save_dir}/x_test.xlsx')\n",
    "y_test=pd.read_excel(f'{save_dir}/y_test.xlsx')\n",
    "class_weights_dict=dict(np.load(f'{save_dir}/class_weights_dict.npz',allow_pickle=True))['class_weights_dict']\n",
    "class_weights_dict = {key: value for key, value in class_weights_dict.item().items()}\n",
    "class_weights_dict"
   ]
  },
  {
   "cell_type": "code",
   "execution_count": 8,
   "id": "9dd43638",
   "metadata": {},
   "outputs": [
    {
     "name": "stdout",
     "output_type": "stream",
     "text": [
      "(5089, 2) (10331, 2)\n"
     ]
    }
   ],
   "source": [
    "\n",
    "\n",
    "# Dữ liệu label đã được mã hóa\n",
    "def oneHot(arr):\n",
    "    labels = np.array(arr)\n",
    "    encoder = OneHotEncoder(sparse_output=False)\n",
    "    \n",
    "    labels_reshaped = labels.reshape(-1, 1)\n",
    "    \n",
    "    encoder.fit(labels_reshaped)\n",
    "    \n",
    "    onehot_labels = encoder.transform(labels_reshaped)\n",
    "    # onehot_labels=pd.DataFrame(onehot_labels)\n",
    "    return onehot_labels\n",
    "\n",
    "y_train_onehot=oneHot(y_train)\n",
    "y_test_onehot=oneHot(y_test)\n",
    "print(y_test_onehot.shape,y_train_onehot.shape)\n"
   ]
  },
  {
   "cell_type": "code",
   "execution_count": 9,
   "id": "9cf5d7b4",
   "metadata": {},
   "outputs": [
    {
     "name": "stdout",
     "output_type": "stream",
     "text": [
      "(5089, 2)\n"
     ]
    }
   ],
   "source": [
    "y_test_onehot.reshape(-1, 1)\n",
    "print(y_test_onehot.shape)"
   ]
  },
  {
   "cell_type": "code",
   "execution_count": 10,
   "id": "6dda6290",
   "metadata": {},
   "outputs": [
    {
     "data": {
      "text/plain": [
       "(5089, 33)"
      ]
     },
     "execution_count": 10,
     "metadata": {},
     "output_type": "execute_result"
    }
   ],
   "source": [
    "x_test.shape"
   ]
  },
  {
   "cell_type": "code",
   "execution_count": 11,
   "id": "f1c3ac7a",
   "metadata": {},
   "outputs": [
    {
     "data": {
      "text/plain": [
       "(10331, 33)"
      ]
     },
     "execution_count": 11,
     "metadata": {},
     "output_type": "execute_result"
    }
   ],
   "source": [
    "x_train.shape"
   ]
  },
  {
   "cell_type": "code",
   "execution_count": 12,
   "id": "848e48fb",
   "metadata": {},
   "outputs": [],
   "source": [
    "def f1_score(y_true, y_pred):\n",
    "    \"\"\"\n",
    "    Macro F1 score metric.\n",
    "    \"\"\"\n",
    "    y_pred = K.round(y_pred)    \n",
    "    true_positives = K.sum(K.round(K.clip(y_true * y_pred, 0, 1)), axis=0)\n",
    "    false_positives = K.sum(K.round(K.clip(y_pred - y_true, 0, 1)), axis=0)\n",
    "    false_negatives = K.sum(K.round(K.clip(y_true - y_pred, 0, 1)), axis=0)    \n",
    "    precision = true_positives / (true_positives + false_positives + K.epsilon())\n",
    "    recall = true_positives / (true_positives + false_negatives + K.epsilon())    \n",
    "    f1_scores = 2 * (precision * recall) / (precision + recall + K.epsilon())    \n",
    "    macro_f1_score = K.mean(f1_scores)\n",
    "    \n",
    "    return macro_f1_score"
   ]
  },
  {
   "cell_type": "code",
   "execution_count": 13,
   "id": "01f5fcdf",
   "metadata": {},
   "outputs": [
    {
     "name": "stdout",
     "output_type": "stream",
     "text": [
      "33\n"
     ]
    }
   ],
   "source": [
    "print(x_train.shape[1])"
   ]
  },
  {
   "cell_type": "markdown",
   "id": "cb6de984",
   "metadata": {},
   "source": [
    "#### * Xây dựng model:"
   ]
  },
  {
   "cell_type": "markdown",
   "id": "5ec895de",
   "metadata": {},
   "source": [
    "#### * Xây dựng Stacked_model:"
   ]
  },
  {
   "cell_type": "code",
   "execution_count": 14,
   "id": "071a8a46",
   "metadata": {},
   "outputs": [],
   "source": [
    "def f1_loss(y_true, y_pred):\n",
    "    y_true = tf.cast(y_true, tf.float32)\n",
    "    y_pred = tf.cast(y_pred, tf.float32)\n",
    "    \n",
    "    # Calculate true positives, predicted positives, and possible positives for each class\n",
    "    tp = tf.reduce_sum(y_true * y_pred, axis=0)\n",
    "    predicted_positives = tf.reduce_sum(y_pred, axis=0)\n",
    "    possible_positives = tf.reduce_sum(y_true, axis=0)\n",
    "    \n",
    "    # Calculate precision and recall for each class\n",
    "    precision = tp / (predicted_positives + tf.keras.backend.epsilon())\n",
    "    recall = tp / (possible_positives + tf.keras.backend.epsilon())\n",
    "    \n",
    "    # Calculate F1 score for each class\n",
    "    f1 = 2 * (precision * recall) / (precision + recall + tf.keras.backend.epsilon())\n",
    "    \n",
    "    # Calculate the macro F1 score\n",
    "    f1_macro = tf.reduce_mean(f1)\n",
    "    \n",
    "    # Return the F1 loss\n",
    "    return 1 - f1_macro"
   ]
  },
  {
   "cell_type": "code",
   "execution_count": 15,
   "id": "08a670c5",
   "metadata": {},
   "outputs": [],
   "source": [
    "import numpy as np\n",
    "import tensorflow as tf\n",
    "from tensorflow.keras import backend as K\n",
    "\n",
    "def dice_coef(y_true, y_pred, smooth):\n",
    "    y_true_f = K.flatten(y_true)\n",
    "    y_pred_f = K.flatten(y_pred)\n",
    "    intersection = K.sum(y_true_f * y_pred_f)\n",
    "    dice = (2. * intersection + smooth) / (K.sum(y_true_f) + K.sum(y_pred_f) + smooth)\n",
    "    return dice\n",
    "\n",
    "def dice_coef_loss(y_true, y_pred, smooth=0.0001):\n",
    "    return 1 - dice_coef(y_true, y_pred, smooth)"
   ]
  },
  {
   "cell_type": "code",
   "execution_count": 16,
   "id": "a24e70d1",
   "metadata": {},
   "outputs": [],
   "source": [
    "# early_stopping = EarlyStopping(monitor='val_loss',\n",
    "#     min_delta=0.00005,\n",
    "#     patience=20,\n",
    "#     verbose=1,\n",
    "#     restore_best_weights=True,\n",
    "# )\n",
    "\n",
    "# lr_scheduler = ReduceLROnPlateau(\n",
    "#     monitor='val_loss',\n",
    "#     factor=0.5,\n",
    "#     patience=7,\n",
    "#     min_lr=0.000001,\n",
    "#     verbose=1,\n",
    "# )\n",
    "# checkpoint_callback = ModelCheckpoint(\n",
    "#     filepath='ResNet10.h5',  # Đường dẫn để lưu model\n",
    "#     monitor='val_loss',  # Theo dõi val_loss\n",
    "#     save_best_only=True,  # Lưu lại chỉ model có val_loss tốt nhất\n",
    "#     verbose=1  # Hiển thị thông báo khi lưu model\n",
    "# )\n",
    "\n",
    "early_stopping = EarlyStopping(monitor='val_loss',\n",
    "                                mode='max',\n",
    "    min_delta=0.00005,\n",
    "    patience=100,\n",
    "    verbose=1,\n",
    "    restore_best_weights=True,\n",
    ")\n",
    "\n",
    "lr_scheduler = ReduceLROnPlateau(\n",
    "    monitor='val_loss',\n",
    "    mode='max',\n",
    "    factor=0.5,\n",
    "    patience=20,\n",
    "    min_lr=0.000001,\n",
    "    verbose=1,\n",
    ")\n",
    "checkpoint_callback = ModelCheckpoint(\n",
    "    filepath='best_model.h5',  # Đường dẫn để lưu model\n",
    "    monitor='val_loss',  # Theo dõi val_loss\n",
    "    mode='max',\n",
    "    save_best_only=True,  # Lưu lại chỉ model có val_loss tốt nhất\n",
    "    verbose=1  # Hiển thị thông báo khi lưu model\n",
    ")"
   ]
  },
  {
   "cell_type": "code",
   "execution_count": 17,
   "id": "14004dd7",
   "metadata": {},
   "outputs": [],
   "source": [
    "from tensorflow.keras.optimizers import Adam\n",
    "from keras.layers import ZeroPadding1D, Conv1D, MaxPooling1D, GlobalAveragePooling1D, GlobalMaxPooling1D, Dense, Flatten, BatchNormalization, Dropout\n",
    "from keras.models import Model\n",
    "from keras.layers import Input\n",
    "from sklearn.model_selection import GridSearchCV\n",
    "from sklearn.metrics import make_scorer\n",
    "# from scikeras.wrappers import KerasClassifier \n",
    "\n",
    "# lr=0.0001\n",
    "\n",
    "def build_model():\n",
    "    input_shape =(33,1)\n",
    "    learning_rate=0.0001\n",
    "\n",
    "    bn_axis = -1\n",
    "    step=32\n",
    "    model = Sequential()\n",
    "    model.add(Input(shape=(33,)))\n",
    "    model.add(Dense(512,activation='relu'))\n",
    "    model.add(BatchNormalization())\n",
    "    model.add(Dropout(0.5))\n",
    "\n",
    "    # Thêm các lớp ẩn\n",
    "    model.add(Dense(256, activation='relu'))\n",
    "    model.add(BatchNormalization())\n",
    "    model.add(Dropout(0.5))\n",
    "\n",
    "    model.add(Dense(128, activation='relu'))\n",
    "    model.add(BatchNormalization())\n",
    "    model.add(Dropout(0.5))\n",
    "\n",
    "    model.add(Dense(64, activation='relu'))\n",
    "    model.add(BatchNormalization())\n",
    "    model.add(Dropout(0.5))\n",
    "\n",
    "    model.add(Dense(32, activation='relu'))\n",
    "    model.add(BatchNormalization())\n",
    "    model.add(Dropout(0.5))\n",
    "\n",
    "    # Lớp đầu ra với activation function 'sigmoid' cho bài toán phân lớp nhị phân\n",
    "    model.add(Dense(2, activation='softmax'))\n",
    "   \n",
    "\n",
    "\n",
    "\n",
    "    model.compile(optimizer=Adam(lr=learning_rate), loss='categorical_crossentropy', metrics=['accuracy',f1_score])\n",
    "    # model.compile(optimizer=Adam(lr=learning_rate), loss=f1_loss, metrics=['accuracy',f1_score])\n",
    "    # model.compile(optimizer=Adam(lr=learning_rate), loss=multi_loss, metrics=['accuracy',f1_score])\n",
    "    \n",
    "    return model\n",
    "\n",
    "\n",
    "\n",
    "\n"
   ]
  },
  {
   "cell_type": "code",
   "execution_count": 18,
   "id": "b53234af",
   "metadata": {},
   "outputs": [
    {
     "name": "stdout",
     "output_type": "stream",
     "text": [
      "Model: \"sequential\"\n",
      "_________________________________________________________________\n",
      " Layer (type)                Output Shape              Param #   \n",
      "=================================================================\n",
      " dense (Dense)               (None, 512)               17408     \n",
      "                                                                 \n",
      " batch_normalization (BatchN  (None, 512)              2048      \n",
      " ormalization)                                                   \n",
      "                                                                 \n",
      " dropout (Dropout)           (None, 512)               0         \n",
      "                                                                 \n",
      " dense_1 (Dense)             (None, 256)               131328    \n",
      "                                                                 \n",
      " batch_normalization_1 (Batc  (None, 256)              1024      \n",
      " hNormalization)                                                 \n",
      "                                                                 \n",
      " dropout_1 (Dropout)         (None, 256)               0         \n",
      "                                                                 \n",
      " dense_2 (Dense)             (None, 128)               32896     \n",
      "                                                                 \n",
      " batch_normalization_2 (Batc  (None, 128)              512       \n",
      " hNormalization)                                                 \n",
      "                                                                 \n",
      " dropout_2 (Dropout)         (None, 128)               0         \n",
      "                                                                 \n",
      " dense_3 (Dense)             (None, 64)                8256      \n",
      "                                                                 \n",
      " batch_normalization_3 (Batc  (None, 64)               256       \n",
      " hNormalization)                                                 \n",
      "                                                                 \n",
      " dropout_3 (Dropout)         (None, 64)                0         \n",
      "                                                                 \n",
      " dense_4 (Dense)             (None, 32)                2080      \n",
      "                                                                 \n",
      " batch_normalization_4 (Batc  (None, 32)               128       \n",
      " hNormalization)                                                 \n",
      "                                                                 \n",
      " dropout_4 (Dropout)         (None, 32)                0         \n",
      "                                                                 \n",
      " dense_5 (Dense)             (None, 2)                 66        \n",
      "                                                                 \n",
      "=================================================================\n",
      "Total params: 196,002\n",
      "Trainable params: 194,018\n",
      "Non-trainable params: 1,984\n",
      "_________________________________________________________________\n"
     ]
    },
    {
     "name": "stderr",
     "output_type": "stream",
     "text": [
      "c:\\ProgramData\\miniconda3\\envs\\tensorflow\\lib\\site-packages\\keras\\optimizers\\optimizer_v2\\adam.py:114: UserWarning: The `lr` argument is deprecated, use `learning_rate` instead.\n",
      "  super().__init__(name, **kwargs)\n"
     ]
    }
   ],
   "source": [
    "model=build_model()\n",
    "model.build(input_shape=(33,1))\n",
    "model.summary()"
   ]
  },
  {
   "cell_type": "code",
   "execution_count": 19,
   "id": "ec8b8320",
   "metadata": {},
   "outputs": [
    {
     "data": {
      "text/plain": [
       "{0: 0.5317035512094699, 1: 8.385551948051948}"
      ]
     },
     "execution_count": 19,
     "metadata": {},
     "output_type": "execute_result"
    }
   ],
   "source": [
    "class_weights_dict"
   ]
  },
  {
   "cell_type": "code",
   "execution_count": 20,
   "id": "567bba7a",
   "metadata": {},
   "outputs": [
    {
     "name": "stdout",
     "output_type": "stream",
     "text": [
      "Epoch 1/1200\n",
      "323/323 [==============================] - 8s 17ms/step - loss: 1.1696 - accuracy: 0.5373 - f1_score: 0.3935 - val_loss: 0.6234 - val_accuracy: 0.7280 - val_f1_score: 0.4512 - lr: 1.0000e-04\n",
      "Epoch 2/1200\n",
      "323/323 [==============================] - 5s 15ms/step - loss: 0.9356 - accuracy: 0.5876 - f1_score: 0.4138 - val_loss: 0.5274 - val_accuracy: 0.9049 - val_f1_score: 0.4884 - lr: 1.0000e-04\n",
      "Epoch 3/1200\n",
      "323/323 [==============================] - 5s 15ms/step - loss: 0.7931 - accuracy: 0.6444 - f1_score: 0.4394 - val_loss: 0.4407 - val_accuracy: 0.9387 - val_f1_score: 0.4840 - lr: 1.0000e-04\n",
      "Epoch 4/1200\n",
      "323/323 [==============================] - 5s 15ms/step - loss: 0.6744 - accuracy: 0.6958 - f1_score: 0.4537 - val_loss: 0.3740 - val_accuracy: 0.9397 - val_f1_score: 0.4843 - lr: 1.0000e-04\n",
      "Epoch 5/1200\n",
      "323/323 [==============================] - 5s 16ms/step - loss: 0.5836 - accuracy: 0.7424 - f1_score: 0.4729 - val_loss: 0.3385 - val_accuracy: 0.9397 - val_f1_score: 0.4843 - lr: 1.0000e-04\n",
      "Epoch 6/1200\n",
      "323/323 [==============================] - 8s 25ms/step - loss: 0.5128 - accuracy: 0.7802 - f1_score: 0.4767 - val_loss: 0.3075 - val_accuracy: 0.9397 - val_f1_score: 0.4843 - lr: 1.0000e-04\n",
      "Epoch 7/1200\n",
      "323/323 [==============================] - 9s 27ms/step - loss: 0.4532 - accuracy: 0.8202 - f1_score: 0.4923 - val_loss: 0.2955 - val_accuracy: 0.9397 - val_f1_score: 0.4843 - lr: 1.0000e-04\n",
      "Epoch 8/1200\n",
      "323/323 [==============================] - 8s 25ms/step - loss: 0.4163 - accuracy: 0.8458 - f1_score: 0.4878 - val_loss: 0.2835 - val_accuracy: 0.9397 - val_f1_score: 0.4843 - lr: 1.0000e-04\n",
      "Epoch 9/1200\n",
      "323/323 [==============================] - 8s 25ms/step - loss: 0.3794 - accuracy: 0.8686 - f1_score: 0.4927 - val_loss: 0.2736 - val_accuracy: 0.9397 - val_f1_score: 0.4843 - lr: 1.0000e-04\n",
      "Epoch 10/1200\n",
      "323/323 [==============================] - 8s 26ms/step - loss: 0.3563 - accuracy: 0.8855 - f1_score: 0.4921 - val_loss: 0.2641 - val_accuracy: 0.9397 - val_f1_score: 0.4843 - lr: 1.0000e-04\n",
      "Epoch 11/1200\n",
      "323/323 [==============================] - 8s 25ms/step - loss: 0.3358 - accuracy: 0.8994 - f1_score: 0.4939 - val_loss: 0.2522 - val_accuracy: 0.9397 - val_f1_score: 0.4843 - lr: 1.0000e-04\n",
      "Epoch 12/1200\n",
      "323/323 [==============================] - 8s 26ms/step - loss: 0.3206 - accuracy: 0.9048 - f1_score: 0.4874 - val_loss: 0.2444 - val_accuracy: 0.9397 - val_f1_score: 0.4843 - lr: 1.0000e-04\n",
      "Epoch 13/1200\n",
      "323/323 [==============================] - 8s 26ms/step - loss: 0.3011 - accuracy: 0.9153 - f1_score: 0.4922 - val_loss: 0.2357 - val_accuracy: 0.9397 - val_f1_score: 0.4843 - lr: 1.0000e-04\n",
      "Epoch 14/1200\n",
      "323/323 [==============================] - 8s 25ms/step - loss: 0.2908 - accuracy: 0.9217 - f1_score: 0.4926 - val_loss: 0.2335 - val_accuracy: 0.9397 - val_f1_score: 0.4843 - lr: 1.0000e-04\n",
      "Epoch 15/1200\n",
      "323/323 [==============================] - 8s 26ms/step - loss: 0.2880 - accuracy: 0.9248 - f1_score: 0.4918 - val_loss: 0.2313 - val_accuracy: 0.9397 - val_f1_score: 0.4843 - lr: 1.0000e-04\n",
      "Epoch 16/1200\n",
      "323/323 [==============================] - 8s 25ms/step - loss: 0.2844 - accuracy: 0.9277 - f1_score: 0.4928 - val_loss: 0.2296 - val_accuracy: 0.9397 - val_f1_score: 0.4843 - lr: 1.0000e-04\n",
      "Epoch 17/1200\n",
      "323/323 [==============================] - 8s 25ms/step - loss: 0.2710 - accuracy: 0.9298 - f1_score: 0.4879 - val_loss: 0.2292 - val_accuracy: 0.9397 - val_f1_score: 0.4843 - lr: 1.0000e-04\n",
      "Epoch 18/1200\n",
      "323/323 [==============================] - 8s 26ms/step - loss: 0.2770 - accuracy: 0.9318 - f1_score: 0.4904 - val_loss: 0.2293 - val_accuracy: 0.9397 - val_f1_score: 0.4843 - lr: 1.0000e-04\n",
      "Epoch 19/1200\n",
      "323/323 [==============================] - 8s 25ms/step - loss: 0.2690 - accuracy: 0.9323 - f1_score: 0.4909 - val_loss: 0.2294 - val_accuracy: 0.9397 - val_f1_score: 0.4843 - lr: 1.0000e-04\n",
      "Epoch 20/1200\n",
      "323/323 [==============================] - 8s 26ms/step - loss: 0.2637 - accuracy: 0.9341 - f1_score: 0.4906 - val_loss: 0.2287 - val_accuracy: 0.9397 - val_f1_score: 0.4843 - lr: 1.0000e-04\n",
      "Epoch 21/1200\n",
      "323/323 [==============================] - 8s 25ms/step - loss: 0.2632 - accuracy: 0.9341 - f1_score: 0.4887 - val_loss: 0.2284 - val_accuracy: 0.9397 - val_f1_score: 0.4843 - lr: 1.0000e-04\n",
      "Epoch 22/1200\n",
      "321/323 [============================>.] - ETA: 0s - loss: 0.2618 - accuracy: 0.9361 - f1_score: 0.4871\n",
      "Epoch 22: ReduceLROnPlateau reducing learning rate to 4.999999873689376e-05.\n",
      "323/323 [==============================] - 8s 25ms/step - loss: 0.2621 - accuracy: 0.9361 - f1_score: 0.4870 - val_loss: 0.2280 - val_accuracy: 0.9397 - val_f1_score: 0.4843 - lr: 1.0000e-04\n",
      "Epoch 23/1200\n",
      "323/323 [==============================] - 8s 26ms/step - loss: 0.2557 - accuracy: 0.9367 - f1_score: 0.4883 - val_loss: 0.2279 - val_accuracy: 0.9397 - val_f1_score: 0.4843 - lr: 5.0000e-05\n",
      "Epoch 24/1200\n",
      "323/323 [==============================] - 8s 25ms/step - loss: 0.2589 - accuracy: 0.9354 - f1_score: 0.4862 - val_loss: 0.2279 - val_accuracy: 0.9397 - val_f1_score: 0.4843 - lr: 5.0000e-05\n",
      "Epoch 25/1200\n",
      "323/323 [==============================] - 8s 26ms/step - loss: 0.2527 - accuracy: 0.9372 - f1_score: 0.4852 - val_loss: 0.2279 - val_accuracy: 0.9397 - val_f1_score: 0.4843 - lr: 5.0000e-05\n",
      "Epoch 26/1200\n",
      "323/323 [==============================] - 8s 25ms/step - loss: 0.2509 - accuracy: 0.9382 - f1_score: 0.4887 - val_loss: 0.2279 - val_accuracy: 0.9397 - val_f1_score: 0.4843 - lr: 5.0000e-05\n",
      "Epoch 27/1200\n",
      "323/323 [==============================] - 8s 25ms/step - loss: 0.2527 - accuracy: 0.9373 - f1_score: 0.4836 - val_loss: 0.2280 - val_accuracy: 0.9397 - val_f1_score: 0.4843 - lr: 5.0000e-05\n",
      "Epoch 28/1200\n",
      "323/323 [==============================] - 8s 26ms/step - loss: 0.2516 - accuracy: 0.9374 - f1_score: 0.4882 - val_loss: 0.2278 - val_accuracy: 0.9397 - val_f1_score: 0.4843 - lr: 5.0000e-05\n",
      "Epoch 29/1200\n",
      "323/323 [==============================] - 8s 25ms/step - loss: 0.2520 - accuracy: 0.9389 - f1_score: 0.4881 - val_loss: 0.2278 - val_accuracy: 0.9397 - val_f1_score: 0.4843 - lr: 5.0000e-05\n",
      "Epoch 30/1200\n",
      "323/323 [==============================] - 8s 26ms/step - loss: 0.2491 - accuracy: 0.9381 - f1_score: 0.4856 - val_loss: 0.2274 - val_accuracy: 0.9397 - val_f1_score: 0.4843 - lr: 5.0000e-05\n",
      "Epoch 31/1200\n",
      "323/323 [==============================] - 8s 25ms/step - loss: 0.2498 - accuracy: 0.9390 - f1_score: 0.4852 - val_loss: 0.2276 - val_accuracy: 0.9397 - val_f1_score: 0.4843 - lr: 5.0000e-05\n",
      "Epoch 32/1200\n",
      "323/323 [==============================] - 8s 25ms/step - loss: 0.2490 - accuracy: 0.9388 - f1_score: 0.4850 - val_loss: 0.2275 - val_accuracy: 0.9397 - val_f1_score: 0.4843 - lr: 5.0000e-05\n",
      "Epoch 33/1200\n",
      "323/323 [==============================] - 8s 26ms/step - loss: 0.2477 - accuracy: 0.9386 - f1_score: 0.4855 - val_loss: 0.2276 - val_accuracy: 0.9397 - val_f1_score: 0.4843 - lr: 5.0000e-05\n",
      "Epoch 34/1200\n",
      "323/323 [==============================] - 8s 25ms/step - loss: 0.2476 - accuracy: 0.9387 - f1_score: 0.4865 - val_loss: 0.2277 - val_accuracy: 0.9397 - val_f1_score: 0.4843 - lr: 5.0000e-05\n",
      "Epoch 35/1200\n",
      "323/323 [==============================] - 8s 26ms/step - loss: 0.2462 - accuracy: 0.9388 - f1_score: 0.4854 - val_loss: 0.2276 - val_accuracy: 0.9397 - val_f1_score: 0.4843 - lr: 5.0000e-05\n",
      "Epoch 36/1200\n",
      "323/323 [==============================] - 8s 25ms/step - loss: 0.2490 - accuracy: 0.9396 - f1_score: 0.4842 - val_loss: 0.2277 - val_accuracy: 0.9397 - val_f1_score: 0.4843 - lr: 5.0000e-05\n",
      "Epoch 37/1200\n",
      "323/323 [==============================] - 8s 25ms/step - loss: 0.2436 - accuracy: 0.9389 - f1_score: 0.4861 - val_loss: 0.2276 - val_accuracy: 0.9397 - val_f1_score: 0.4843 - lr: 5.0000e-05\n",
      "Epoch 38/1200\n",
      "323/323 [==============================] - 9s 26ms/step - loss: 0.2427 - accuracy: 0.9396 - f1_score: 0.4852 - val_loss: 0.2276 - val_accuracy: 0.9397 - val_f1_score: 0.4843 - lr: 5.0000e-05\n",
      "Epoch 39/1200\n",
      "323/323 [==============================] - 8s 25ms/step - loss: 0.2429 - accuracy: 0.9395 - f1_score: 0.4873 - val_loss: 0.2277 - val_accuracy: 0.9397 - val_f1_score: 0.4843 - lr: 5.0000e-05\n",
      "Epoch 40/1200\n",
      "323/323 [==============================] - 8s 25ms/step - loss: 0.2407 - accuracy: 0.9402 - f1_score: 0.4867 - val_loss: 0.2276 - val_accuracy: 0.9397 - val_f1_score: 0.4843 - lr: 5.0000e-05\n",
      "Epoch 41/1200\n",
      "323/323 [==============================] - 8s 26ms/step - loss: 0.2415 - accuracy: 0.9396 - f1_score: 0.4854 - val_loss: 0.2277 - val_accuracy: 0.9397 - val_f1_score: 0.4843 - lr: 5.0000e-05\n",
      "Epoch 42/1200\n",
      "322/323 [============================>.] - ETA: 0s - loss: 0.2409 - accuracy: 0.9394 - f1_score: 0.4842\n",
      "Epoch 42: ReduceLROnPlateau reducing learning rate to 2.499999936844688e-05.\n",
      "323/323 [==============================] - 8s 25ms/step - loss: 0.2415 - accuracy: 0.9393 - f1_score: 0.4841 - val_loss: 0.2277 - val_accuracy: 0.9397 - val_f1_score: 0.4843 - lr: 5.0000e-05\n",
      "Epoch 43/1200\n",
      "323/323 [==============================] - 8s 26ms/step - loss: 0.2428 - accuracy: 0.9399 - f1_score: 0.4856 - val_loss: 0.2277 - val_accuracy: 0.9397 - val_f1_score: 0.4843 - lr: 2.5000e-05\n",
      "Epoch 44/1200\n",
      "323/323 [==============================] - 8s 25ms/step - loss: 0.2433 - accuracy: 0.9389 - f1_score: 0.4848 - val_loss: 0.2277 - val_accuracy: 0.9397 - val_f1_score: 0.4843 - lr: 2.5000e-05\n",
      "Epoch 45/1200\n",
      "323/323 [==============================] - 8s 26ms/step - loss: 0.2421 - accuracy: 0.9394 - f1_score: 0.4842 - val_loss: 0.2278 - val_accuracy: 0.9397 - val_f1_score: 0.4843 - lr: 2.5000e-05\n",
      "Epoch 46/1200\n",
      "323/323 [==============================] - 8s 25ms/step - loss: 0.2412 - accuracy: 0.9392 - f1_score: 0.4846 - val_loss: 0.2278 - val_accuracy: 0.9397 - val_f1_score: 0.4843 - lr: 2.5000e-05\n",
      "Epoch 47/1200\n",
      "323/323 [==============================] - 8s 25ms/step - loss: 0.2398 - accuracy: 0.9399 - f1_score: 0.4858 - val_loss: 0.2277 - val_accuracy: 0.9397 - val_f1_score: 0.4843 - lr: 2.5000e-05\n",
      "Epoch 48/1200\n",
      "323/323 [==============================] - 8s 25ms/step - loss: 0.2409 - accuracy: 0.9399 - f1_score: 0.4843 - val_loss: 0.2277 - val_accuracy: 0.9397 - val_f1_score: 0.4843 - lr: 2.5000e-05\n",
      "Epoch 49/1200\n",
      "323/323 [==============================] - 8s 25ms/step - loss: 0.2399 - accuracy: 0.9398 - f1_score: 0.4848 - val_loss: 0.2278 - val_accuracy: 0.9397 - val_f1_score: 0.4843 - lr: 2.5000e-05\n",
      "Epoch 50/1200\n",
      "323/323 [==============================] - 8s 25ms/step - loss: 0.2438 - accuracy: 0.9393 - f1_score: 0.4847 - val_loss: 0.2278 - val_accuracy: 0.9397 - val_f1_score: 0.4843 - lr: 2.5000e-05\n",
      "Epoch 51/1200\n",
      "323/323 [==============================] - 8s 25ms/step - loss: 0.2379 - accuracy: 0.9401 - f1_score: 0.4859 - val_loss: 0.2279 - val_accuracy: 0.9397 - val_f1_score: 0.4843 - lr: 2.5000e-05\n",
      "Epoch 52/1200\n",
      "323/323 [==============================] - 8s 25ms/step - loss: 0.2389 - accuracy: 0.9401 - f1_score: 0.4849 - val_loss: 0.2278 - val_accuracy: 0.9397 - val_f1_score: 0.4843 - lr: 2.5000e-05\n",
      "Epoch 53/1200\n",
      "323/323 [==============================] - 8s 26ms/step - loss: 0.2415 - accuracy: 0.9399 - f1_score: 0.4843 - val_loss: 0.2278 - val_accuracy: 0.9397 - val_f1_score: 0.4843 - lr: 2.5000e-05\n",
      "Epoch 54/1200\n",
      "323/323 [==============================] - 8s 25ms/step - loss: 0.2405 - accuracy: 0.9399 - f1_score: 0.4850 - val_loss: 0.2279 - val_accuracy: 0.9397 - val_f1_score: 0.4843 - lr: 2.5000e-05\n",
      "Epoch 55/1200\n",
      "323/323 [==============================] - 8s 25ms/step - loss: 0.2386 - accuracy: 0.9402 - f1_score: 0.4843 - val_loss: 0.2278 - val_accuracy: 0.9397 - val_f1_score: 0.4843 - lr: 2.5000e-05\n",
      "Epoch 56/1200\n",
      "323/323 [==============================] - 8s 26ms/step - loss: 0.2405 - accuracy: 0.9404 - f1_score: 0.4875 - val_loss: 0.2278 - val_accuracy: 0.9397 - val_f1_score: 0.4843 - lr: 2.5000e-05\n",
      "Epoch 57/1200\n",
      "323/323 [==============================] - 8s 25ms/step - loss: 0.2406 - accuracy: 0.9402 - f1_score: 0.4866 - val_loss: 0.2278 - val_accuracy: 0.9397 - val_f1_score: 0.4843 - lr: 2.5000e-05\n",
      "Epoch 58/1200\n",
      "323/323 [==============================] - 8s 26ms/step - loss: 0.2389 - accuracy: 0.9401 - f1_score: 0.4843 - val_loss: 0.2278 - val_accuracy: 0.9397 - val_f1_score: 0.4843 - lr: 2.5000e-05\n",
      "Epoch 59/1200\n",
      "323/323 [==============================] - 8s 25ms/step - loss: 0.2372 - accuracy: 0.9400 - f1_score: 0.4843 - val_loss: 0.2278 - val_accuracy: 0.9397 - val_f1_score: 0.4843 - lr: 2.5000e-05\n",
      "Epoch 60/1200\n",
      "323/323 [==============================] - 8s 25ms/step - loss: 0.2372 - accuracy: 0.9399 - f1_score: 0.4843 - val_loss: 0.2278 - val_accuracy: 0.9397 - val_f1_score: 0.4843 - lr: 2.5000e-05\n",
      "Epoch 61/1200\n",
      "323/323 [==============================] - 8s 26ms/step - loss: 0.2422 - accuracy: 0.9401 - f1_score: 0.4843 - val_loss: 0.2277 - val_accuracy: 0.9397 - val_f1_score: 0.4843 - lr: 2.5000e-05\n",
      "Epoch 62/1200\n",
      "321/323 [============================>.] - ETA: 0s - loss: 0.2386 - accuracy: 0.9400 - f1_score: 0.4858\n",
      "Epoch 62: ReduceLROnPlateau reducing learning rate to 1.249999968422344e-05.\n",
      "323/323 [==============================] - 8s 25ms/step - loss: 0.2384 - accuracy: 0.9401 - f1_score: 0.4859 - val_loss: 0.2278 - val_accuracy: 0.9397 - val_f1_score: 0.4843 - lr: 2.5000e-05\n",
      "Epoch 63/1200\n",
      "323/323 [==============================] - 8s 26ms/step - loss: 0.2379 - accuracy: 0.9401 - f1_score: 0.4843 - val_loss: 0.2278 - val_accuracy: 0.9397 - val_f1_score: 0.4843 - lr: 1.2500e-05\n",
      "Epoch 64/1200\n",
      "323/323 [==============================] - 8s 25ms/step - loss: 0.2407 - accuracy: 0.9399 - f1_score: 0.4842 - val_loss: 0.2278 - val_accuracy: 0.9397 - val_f1_score: 0.4843 - lr: 1.2500e-05\n",
      "Epoch 65/1200\n",
      "323/323 [==============================] - 8s 25ms/step - loss: 0.2408 - accuracy: 0.9398 - f1_score: 0.4842 - val_loss: 0.2278 - val_accuracy: 0.9397 - val_f1_score: 0.4843 - lr: 1.2500e-05\n",
      "Epoch 66/1200\n",
      "323/323 [==============================] - 8s 26ms/step - loss: 0.2354 - accuracy: 0.9405 - f1_score: 0.4867 - val_loss: 0.2278 - val_accuracy: 0.9397 - val_f1_score: 0.4843 - lr: 1.2500e-05\n",
      "Epoch 67/1200\n",
      "323/323 [==============================] - 8s 24ms/step - loss: 0.2393 - accuracy: 0.9401 - f1_score: 0.4843 - val_loss: 0.2278 - val_accuracy: 0.9397 - val_f1_score: 0.4843 - lr: 1.2500e-05\n",
      "Epoch 68/1200\n",
      "323/323 [==============================] - 8s 26ms/step - loss: 0.2344 - accuracy: 0.9401 - f1_score: 0.4843 - val_loss: 0.2278 - val_accuracy: 0.9397 - val_f1_score: 0.4843 - lr: 1.2500e-05\n",
      "Epoch 69/1200\n",
      "323/323 [==============================] - 8s 25ms/step - loss: 0.2401 - accuracy: 0.9401 - f1_score: 0.4843 - val_loss: 0.2277 - val_accuracy: 0.9397 - val_f1_score: 0.4843 - lr: 1.2500e-05\n",
      "Epoch 70/1200\n",
      "323/323 [==============================] - 8s 25ms/step - loss: 0.2388 - accuracy: 0.9402 - f1_score: 0.4844 - val_loss: 0.2278 - val_accuracy: 0.9397 - val_f1_score: 0.4843 - lr: 1.2500e-05\n",
      "Epoch 71/1200\n",
      "323/323 [==============================] - 8s 26ms/step - loss: 0.2369 - accuracy: 0.9403 - f1_score: 0.4844 - val_loss: 0.2278 - val_accuracy: 0.9397 - val_f1_score: 0.4843 - lr: 1.2500e-05\n",
      "Epoch 72/1200\n",
      "323/323 [==============================] - 8s 25ms/step - loss: 0.2355 - accuracy: 0.9403 - f1_score: 0.4854 - val_loss: 0.2278 - val_accuracy: 0.9397 - val_f1_score: 0.4843 - lr: 1.2500e-05\n",
      "Epoch 73/1200\n",
      "323/323 [==============================] - 8s 26ms/step - loss: 0.2364 - accuracy: 0.9403 - f1_score: 0.4844 - val_loss: 0.2278 - val_accuracy: 0.9397 - val_f1_score: 0.4843 - lr: 1.2500e-05\n",
      "Epoch 74/1200\n",
      "323/323 [==============================] - 8s 26ms/step - loss: 0.2394 - accuracy: 0.9402 - f1_score: 0.4843 - val_loss: 0.2279 - val_accuracy: 0.9397 - val_f1_score: 0.4843 - lr: 1.2500e-05\n",
      "Epoch 75/1200\n",
      "323/323 [==============================] - 8s 25ms/step - loss: 0.2358 - accuracy: 0.9400 - f1_score: 0.4843 - val_loss: 0.2278 - val_accuracy: 0.9397 - val_f1_score: 0.4843 - lr: 1.2500e-05\n",
      "Epoch 76/1200\n",
      "323/323 [==============================] - 8s 26ms/step - loss: 0.2400 - accuracy: 0.9400 - f1_score: 0.4843 - val_loss: 0.2278 - val_accuracy: 0.9397 - val_f1_score: 0.4843 - lr: 1.2500e-05\n",
      "Epoch 77/1200\n",
      "323/323 [==============================] - 8s 25ms/step - loss: 0.2382 - accuracy: 0.9403 - f1_score: 0.4844 - val_loss: 0.2278 - val_accuracy: 0.9397 - val_f1_score: 0.4843 - lr: 1.2500e-05\n",
      "Epoch 78/1200\n",
      "323/323 [==============================] - 8s 25ms/step - loss: 0.2404 - accuracy: 0.9402 - f1_score: 0.4844 - val_loss: 0.2278 - val_accuracy: 0.9397 - val_f1_score: 0.4843 - lr: 1.2500e-05\n",
      "Epoch 79/1200\n",
      "323/323 [==============================] - 8s 26ms/step - loss: 0.2391 - accuracy: 0.9404 - f1_score: 0.4844 - val_loss: 0.2279 - val_accuracy: 0.9397 - val_f1_score: 0.4843 - lr: 1.2500e-05\n",
      "Epoch 80/1200\n",
      "323/323 [==============================] - 8s 25ms/step - loss: 0.2355 - accuracy: 0.9401 - f1_score: 0.4859 - val_loss: 0.2279 - val_accuracy: 0.9397 - val_f1_score: 0.4843 - lr: 1.2500e-05\n",
      "Epoch 81/1200\n",
      "323/323 [==============================] - 8s 26ms/step - loss: 0.2371 - accuracy: 0.9403 - f1_score: 0.4843 - val_loss: 0.2278 - val_accuracy: 0.9397 - val_f1_score: 0.4843 - lr: 1.2500e-05\n",
      "Epoch 82/1200\n",
      "322/323 [============================>.] - ETA: 0s - loss: 0.2368 - accuracy: 0.9399 - f1_score: 0.4843\n",
      "Epoch 82: ReduceLROnPlateau reducing learning rate to 6.24999984211172e-06.\n",
      "323/323 [==============================] - 8s 25ms/step - loss: 0.2368 - accuracy: 0.9399 - f1_score: 0.4843 - val_loss: 0.2279 - val_accuracy: 0.9397 - val_f1_score: 0.4843 - lr: 1.2500e-05\n",
      "Epoch 83/1200\n",
      "323/323 [==============================] - 8s 25ms/step - loss: 0.2383 - accuracy: 0.9403 - f1_score: 0.4844 - val_loss: 0.2279 - val_accuracy: 0.9397 - val_f1_score: 0.4843 - lr: 6.2500e-06\n",
      "Epoch 84/1200\n",
      "323/323 [==============================] - 8s 26ms/step - loss: 0.2381 - accuracy: 0.9403 - f1_score: 0.4844 - val_loss: 0.2279 - val_accuracy: 0.9397 - val_f1_score: 0.4843 - lr: 6.2500e-06\n",
      "Epoch 85/1200\n",
      "323/323 [==============================] - 8s 25ms/step - loss: 0.2381 - accuracy: 0.9400 - f1_score: 0.4843 - val_loss: 0.2279 - val_accuracy: 0.9397 - val_f1_score: 0.4843 - lr: 6.2500e-06\n",
      "Epoch 86/1200\n",
      "323/323 [==============================] - 8s 26ms/step - loss: 0.2366 - accuracy: 0.9402 - f1_score: 0.4859 - val_loss: 0.2279 - val_accuracy: 0.9397 - val_f1_score: 0.4843 - lr: 6.2500e-06\n",
      "Epoch 87/1200\n",
      "323/323 [==============================] - 8s 25ms/step - loss: 0.2363 - accuracy: 0.9403 - f1_score: 0.4852 - val_loss: 0.2279 - val_accuracy: 0.9397 - val_f1_score: 0.4843 - lr: 6.2500e-06\n",
      "Epoch 88/1200\n",
      "323/323 [==============================] - 8s 25ms/step - loss: 0.2358 - accuracy: 0.9402 - f1_score: 0.4843 - val_loss: 0.2279 - val_accuracy: 0.9397 - val_f1_score: 0.4843 - lr: 6.2500e-06\n",
      "Epoch 89/1200\n",
      "323/323 [==============================] - 8s 26ms/step - loss: 0.2344 - accuracy: 0.9401 - f1_score: 0.4843 - val_loss: 0.2279 - val_accuracy: 0.9397 - val_f1_score: 0.4843 - lr: 6.2500e-06\n",
      "Epoch 90/1200\n",
      "323/323 [==============================] - 8s 25ms/step - loss: 0.2362 - accuracy: 0.9403 - f1_score: 0.4844 - val_loss: 0.2279 - val_accuracy: 0.9397 - val_f1_score: 0.4843 - lr: 6.2500e-06\n",
      "Epoch 91/1200\n",
      "323/323 [==============================] - 8s 26ms/step - loss: 0.2374 - accuracy: 0.9402 - f1_score: 0.4843 - val_loss: 0.2279 - val_accuracy: 0.9397 - val_f1_score: 0.4843 - lr: 6.2500e-06\n",
      "Epoch 92/1200\n",
      "323/323 [==============================] - 8s 25ms/step - loss: 0.2376 - accuracy: 0.9402 - f1_score: 0.4844 - val_loss: 0.2278 - val_accuracy: 0.9397 - val_f1_score: 0.4843 - lr: 6.2500e-06\n",
      "Epoch 93/1200\n",
      "323/323 [==============================] - 8s 25ms/step - loss: 0.2363 - accuracy: 0.9403 - f1_score: 0.4844 - val_loss: 0.2279 - val_accuracy: 0.9397 - val_f1_score: 0.4843 - lr: 6.2500e-06\n",
      "Epoch 94/1200\n",
      "323/323 [==============================] - 8s 26ms/step - loss: 0.2392 - accuracy: 0.9403 - f1_score: 0.4844 - val_loss: 0.2279 - val_accuracy: 0.9397 - val_f1_score: 0.4843 - lr: 6.2500e-06\n",
      "Epoch 95/1200\n",
      "323/323 [==============================] - 8s 25ms/step - loss: 0.2363 - accuracy: 0.9404 - f1_score: 0.4844 - val_loss: 0.2279 - val_accuracy: 0.9397 - val_f1_score: 0.4843 - lr: 6.2500e-06\n",
      "Epoch 96/1200\n",
      "323/323 [==============================] - 8s 26ms/step - loss: 0.2357 - accuracy: 0.9404 - f1_score: 0.4844 - val_loss: 0.2279 - val_accuracy: 0.9397 - val_f1_score: 0.4843 - lr: 6.2500e-06\n",
      "Epoch 97/1200\n",
      "323/323 [==============================] - 8s 25ms/step - loss: 0.2362 - accuracy: 0.9399 - f1_score: 0.4843 - val_loss: 0.2279 - val_accuracy: 0.9397 - val_f1_score: 0.4843 - lr: 6.2500e-06\n",
      "Epoch 98/1200\n",
      "323/323 [==============================] - 8s 25ms/step - loss: 0.2377 - accuracy: 0.9399 - f1_score: 0.4843 - val_loss: 0.2279 - val_accuracy: 0.9397 - val_f1_score: 0.4843 - lr: 6.2500e-06\n",
      "Epoch 99/1200\n",
      "323/323 [==============================] - 8s 26ms/step - loss: 0.2332 - accuracy: 0.9402 - f1_score: 0.4843 - val_loss: 0.2279 - val_accuracy: 0.9397 - val_f1_score: 0.4843 - lr: 6.2500e-06\n",
      "Epoch 100/1200\n",
      "323/323 [==============================] - 8s 25ms/step - loss: 0.2346 - accuracy: 0.9403 - f1_score: 0.4844 - val_loss: 0.2279 - val_accuracy: 0.9397 - val_f1_score: 0.4843 - lr: 6.2500e-06\n",
      "Epoch 101/1200\n",
      "323/323 [==============================] - 8s 26ms/step - loss: 0.2354 - accuracy: 0.9404 - f1_score: 0.4862 - val_loss: 0.2280 - val_accuracy: 0.9397 - val_f1_score: 0.4843 - lr: 6.2500e-06\n",
      "Epoch 102/1200\n",
      "323/323 [==============================] - ETA: 0s - loss: 0.2389 - accuracy: 0.9404 - f1_score: 0.4844Restoring model weights from the end of the best epoch: 2.\n",
      "\n",
      "Epoch 102: ReduceLROnPlateau reducing learning rate to 3.12499992105586e-06.\n",
      "323/323 [==============================] - 8s 25ms/step - loss: 0.2389 - accuracy: 0.9404 - f1_score: 0.4844 - val_loss: 0.2279 - val_accuracy: 0.9397 - val_f1_score: 0.4843 - lr: 6.2500e-06\n",
      "Epoch 102: early stopping\n"
     ]
    },
    {
     "data": {
      "text/plain": [
       "<keras.callbacks.History at 0x225944725f0>"
      ]
     },
     "execution_count": 20,
     "metadata": {},
     "output_type": "execute_result"
    }
   ],
   "source": [
    "model.fit(x=x_train, y=y_train_onehot,\n",
    "          validation_data=(x_test, y_test_onehot),\n",
    "          batch_size=32,\n",
    "          epochs=1200,\n",
    "          callbacks=[early_stopping, lr_scheduler])"
   ]
  },
  {
   "cell_type": "code",
   "execution_count": 21,
   "id": "dff75e76",
   "metadata": {},
   "outputs": [
    {
     "name": "stdout",
     "output_type": "stream",
     "text": [
      "Model: \"sequential\"\n",
      "_________________________________________________________________\n",
      " Layer (type)                Output Shape              Param #   \n",
      "=================================================================\n",
      " dense (Dense)               (None, 512)               17408     \n",
      "                                                                 \n",
      " batch_normalization (BatchN  (None, 512)              2048      \n",
      " ormalization)                                                   \n",
      "                                                                 \n",
      " dropout (Dropout)           (None, 512)               0         \n",
      "                                                                 \n",
      " dense_1 (Dense)             (None, 256)               131328    \n",
      "                                                                 \n",
      " batch_normalization_1 (Batc  (None, 256)              1024      \n",
      " hNormalization)                                                 \n",
      "                                                                 \n",
      " dropout_1 (Dropout)         (None, 256)               0         \n",
      "                                                                 \n",
      " dense_2 (Dense)             (None, 128)               32896     \n",
      "                                                                 \n",
      " batch_normalization_2 (Batc  (None, 128)              512       \n",
      " hNormalization)                                                 \n",
      "                                                                 \n",
      " dropout_2 (Dropout)         (None, 128)               0         \n",
      "                                                                 \n",
      " dense_3 (Dense)             (None, 64)                8256      \n",
      "                                                                 \n",
      " batch_normalization_3 (Batc  (None, 64)               256       \n",
      " hNormalization)                                                 \n",
      "                                                                 \n",
      " dropout_3 (Dropout)         (None, 64)                0         \n",
      "                                                                 \n",
      " dense_4 (Dense)             (None, 32)                2080      \n",
      "                                                                 \n",
      " batch_normalization_4 (Batc  (None, 32)               128       \n",
      " hNormalization)                                                 \n",
      "                                                                 \n",
      " dropout_4 (Dropout)         (None, 32)                0         \n",
      "                                                                 \n",
      " dense_5 (Dense)             (None, 2)                 66        \n",
      "                                                                 \n",
      "=================================================================\n",
      "Total params: 196,002\n",
      "Trainable params: 194,018\n",
      "Non-trainable params: 1,984\n",
      "_________________________________________________________________\n"
     ]
    }
   ],
   "source": [
    "model.summary()"
   ]
  },
  {
   "cell_type": "markdown",
   "id": "0b2cb867",
   "metadata": {},
   "source": [
    "#### * Kết quả đánh giá mô hình:"
   ]
  },
  {
   "cell_type": "code",
   "execution_count": 22,
   "id": "07132b7e",
   "metadata": {},
   "outputs": [
    {
     "name": "stdout",
     "output_type": "stream",
     "text": [
      "Model: \"sequential\"\n",
      "_________________________________________________________________\n",
      " Layer (type)                Output Shape              Param #   \n",
      "=================================================================\n",
      " dense (Dense)               (None, 512)               17408     \n",
      "                                                                 \n",
      " batch_normalization (BatchN  (None, 512)              2048      \n",
      " ormalization)                                                   \n",
      "                                                                 \n",
      " dropout (Dropout)           (None, 512)               0         \n",
      "                                                                 \n",
      " dense_1 (Dense)             (None, 256)               131328    \n",
      "                                                                 \n",
      " batch_normalization_1 (Batc  (None, 256)              1024      \n",
      " hNormalization)                                                 \n",
      "                                                                 \n",
      " dropout_1 (Dropout)         (None, 256)               0         \n",
      "                                                                 \n",
      " dense_2 (Dense)             (None, 128)               32896     \n",
      "                                                                 \n",
      " batch_normalization_2 (Batc  (None, 128)              512       \n",
      " hNormalization)                                                 \n",
      "                                                                 \n",
      " dropout_2 (Dropout)         (None, 128)               0         \n",
      "                                                                 \n",
      " dense_3 (Dense)             (None, 64)                8256      \n",
      "                                                                 \n",
      " batch_normalization_3 (Batc  (None, 64)               256       \n",
      " hNormalization)                                                 \n",
      "                                                                 \n",
      " dropout_3 (Dropout)         (None, 64)                0         \n",
      "                                                                 \n",
      " dense_4 (Dense)             (None, 32)                2080      \n",
      "                                                                 \n",
      " batch_normalization_4 (Batc  (None, 32)               128       \n",
      " hNormalization)                                                 \n",
      "                                                                 \n",
      " dropout_4 (Dropout)         (None, 32)                0         \n",
      "                                                                 \n",
      " dense_5 (Dense)             (None, 2)                 66        \n",
      "                                                                 \n",
      "=================================================================\n",
      "Total params: 196,002\n",
      "Trainable params: 194,018\n",
      "Non-trainable params: 1,984\n",
      "_________________________________________________________________\n"
     ]
    }
   ],
   "source": [
    "model.summary()"
   ]
  },
  {
   "cell_type": "code",
   "execution_count": 23,
   "id": "875136d2",
   "metadata": {},
   "outputs": [
    {
     "data": {
      "image/png": "[encoded data removed]",
      "text/plain": [
       "<Figure size 1500x800 with 2 Axes>"
      ]
     },
     "metadata": {},
     "output_type": "display_data"
    },
    {
     "data": {
      "text/plain": [
       "<Figure size 640x480 with 0 Axes>"
      ]
     },
     "metadata": {},
     "output_type": "display_data"
    }
   ],
   "source": [
    "history=model.history.history\n",
    "fig,axes=plt.subplots(1,2, figsize=(15,8))\n",
    "axes[0].plot(pd.DataFrame(history['val_accuracy']))\n",
    "axes[0].set_title('Training Process')\n",
    "axes[1].plot(pd.DataFrame(history))\n",
    "axes[1].set_title('Training Process')\n",
    "plt.show()\n",
    "plt.savefig('train.png')"
   ]
  },
  {
   "cell_type": "code",
   "execution_count": 24,
   "id": "b5a05cd8",
   "metadata": {},
   "outputs": [
    {
     "name": "stdout",
     "output_type": "stream",
     "text": [
      "160/160 [==============================] - 1s 4ms/step\n"
     ]
    },
    {
     "data": {
      "text/plain": [
       "0.9048929062684221"
      ]
     },
     "execution_count": 24,
     "metadata": {},
     "output_type": "execute_result"
    }
   ],
   "source": [
    "y_test_labels = np.argmax(y_test_onehot, axis=1)\n",
    "predictions = model.predict(x_test)\n",
    "predictions = np.argmax(predictions, axis=1)\n",
    "accuracy = accuracy_score(y_test_labels, predictions)\n",
    "accuracy\n"
   ]
  },
  {
   "cell_type": "code",
   "execution_count": 25,
   "id": "7f1d8560",
   "metadata": {},
   "outputs": [
    {
     "name": "stdout",
     "output_type": "stream",
     "text": [
      "Accuracy: 0.9048929062684221\n",
      "Classification Report:\n",
      "              precision    recall  f1-score   support\n",
      "\n",
      "           0       0.94      0.96      0.95      4782\n",
      "           1       0.06      0.04      0.04       307\n",
      "\n",
      "    accuracy                           0.90      5089\n",
      "   macro avg       0.50      0.50      0.50      5089\n",
      "weighted avg       0.89      0.90      0.90      5089\n",
      "\n",
      "Confusion Matrix:\n",
      "[[4594  188]\n",
      " [ 296   11]]\n"
     ]
    }
   ],
   "source": [
    "from sklearn.metrics import accuracy_score, classification_report, confusion_matrix\n",
    "import numpy as np\n",
    "\n",
    "y_test_labels = np.argmax(y_test_onehot, axis=1)\n",
    "\n",
    "accuracy = accuracy_score(y_test_labels, predictions)\n",
    "print(\"Accuracy:\", accuracy)\n",
    "print(\"Classification Report:\")\n",
    "print(classification_report(y_test_labels, predictions))\n",
    "\n",
    "print(\"Confusion Matrix:\")\n",
    "print(confusion_matrix(y_test_labels, predictions))\n"
   ]
  },
  {
   "cell_type": "code",
   "execution_count": 26,
   "id": "6f218b86",
   "metadata": {},
   "outputs": [
    {
     "data": {
      "image/png": "[encoded data removed]",
      "text/plain": [
       "<Figure size 800x600 with 2 Axes>"
      ]
     },
     "metadata": {},
     "output_type": "display_data"
    }
   ],
   "source": [
    "# Dự đoán\n",
    "\n",
    "\n",
    "# Tính ma trận nhầm lẫn\n",
    "cm = confusion_matrix(y_test, predictions,labels=[1,0])\n",
    "plt.figure(figsize=(8, 6))\n",
    "sns.heatmap(cm, annot=True, fmt='g', cmap='Blues', xticklabels=[1,0], yticklabels=[1,0])\n",
    "plt.title('Confusion Matrix')\n",
    "plt.xlabel('Predicted')\n",
    "plt.ylabel('Actual')\n",
    "plt.show()"
   ]
  },
  {
   "cell_type": "code",
   "execution_count": 27,
   "id": "e744c8a6",
   "metadata": {},
   "outputs": [
    {
     "data": {
      "image/png": "[encoded data removed]",
      "text/plain": [
       "<Figure size 1500x1500 with 1 Axes>"
      ]
     },
     "metadata": {},
     "output_type": "display_data"
    }
   ],
   "source": [
    "fig, ax = plt.subplots(1, 1, figsize=(15, 15))\n",
    "\n",
    "fpr, tpr, _ = roc_curve(y_test, predictions)\n",
    "    \n",
    "roc_auc = auc(fpr, tpr)\n",
    "\n",
    "ax.plot(fpr, tpr, lw=4, color='blue', label='ROC curve (AUC = %0.2f)' % roc_auc)\n",
    "ax.plot([0, 1], [0, 1], color='red', lw=2, linestyle='--')\n",
    "ax.set_xlim([0.0, 1.0])\n",
    "ax.set_ylim([0.0, 1.05])\n",
    "ax.set_xlabel('False Positive Rate', fontsize=12, weight='bold')  \n",
    "ax.set_ylabel('True Positive Rate', fontsize=12, weight='bold')   \n",
    "ax.set_title(f'ROC of Voting',fontsize=20, weight='bold')  \n",
    "ax.legend(loc=\"lower right\", prop={'size': 12, 'weight': 'bold'}) \n",
    "plt.show()"
   ]
  },
  {
   "cell_type": "code",
   "execution_count": 28,
   "id": "ffe10617",
   "metadata": {},
   "outputs": [],
   "source": [
    "def check_result(prediction):\n",
    "    prediction = (prediction > 0.2).astype(int)\n",
    "    if isinstance(prediction, (np.ndarray, pd.Series)):\n",
    "        prediction = prediction.item()  # Hoặc sử dụng prediction[0] hoặc prediction.iloc[0]\n",
    "    if prediction==1:\n",
    "        return \"Y\"\n",
    "    else:\n",
    "        return \"N\""
   ]
  },
  {
   "cell_type": "code",
   "execution_count": 29,
   "id": "8e3eefa4",
   "metadata": {},
   "outputs": [],
   "source": [
    "# solandung=0\n",
    "# hopdonggianlan=0\n",
    "# for indx in range(len(x_test)):\n",
    "#     y_predict = stacked_model.predict(stacked_input)\n",
    "#     stacked_pred_labels = y_predict.argmax(axis=1)\n",
    "\n",
    "#     #print(y_predict[0][0])\n",
    "#     Y_check = check_result(y_test.iloc[indx])\n",
    "#     print('True:', Y_check)\n",
    "#     print('Predicted:', check_result(stacked_pred_labels[indx]))\n",
    "#     print(\"----------------------------\")\n",
    "#     if Y_check==check_result(stacked_pred_labels[indx]):\n",
    "#         solandung+=1\n",
    "#         if Y_check=='Y':\n",
    "#             hopdonggianlan+=1\n",
    "    "
   ]
  },
  {
   "cell_type": "code",
   "execution_count": null,
   "id": "c31643d6",
   "metadata": {},
   "outputs": [],
   "source": []
  },
  {
   "cell_type": "code",
   "execution_count": null,
   "id": "33e3467b",
   "metadata": {},
   "outputs": [],
   "source": []
  }
 ],
 "metadata": {
  "kernelspec": {
   "display_name": "Python 3",
   "language": "python",
   "name": "python3"
  },
  "language_info": {
   "codemirror_mode": {
    "name": "ipython",
    "version": 3
   },
   "file_extension": ".py",
   "mimetype": "text/x-python",
   "name": "python",
   "nbconvert_exporter": "python",
   "pygments_lexer": "ipython3",
   "version": "3.10.15"
  }
 },
 "nbformat": 4,
 "nbformat_minor": 5
}
