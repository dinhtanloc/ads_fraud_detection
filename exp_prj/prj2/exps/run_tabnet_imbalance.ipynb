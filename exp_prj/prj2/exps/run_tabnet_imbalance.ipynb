{
 "cells": [
  {
   "cell_type": "code",
   "execution_count": null,
   "metadata": {},
   "outputs": [],
   "source": [
    "%run \"C:\\Users\\Admin\\Data\\ads_fraud_detection\\src\\prj2\\5.deep_learning_model\\4.synthetic_gau\\Tabnet\\tabnet_class_weight.ipynb\""
   ]
  },
  {
   "cell_type": "code",
   "execution_count": null,
   "metadata": {},
   "outputs": [],
   "source": [
    "%run \"C:\\Users\\Admin\\Data\\ads_fraud_detection\\src\\prj2\\5.deep_learning_model\\4.synthetic_gau\\Tabnet\\tabnet_base.ipynb\""
   ]
  },
  {
   "cell_type": "code",
   "execution_count": null,
   "metadata": {},
   "outputs": [],
   "source": [
    "%run \"C:\\Users\\Admin\\Data\\ads_fraud_detection\\src\\prj2\\5.deep_learning_model\\5.synthetic_gan\\Tabnet\\tabnet_class_weight.ipynb\""
   ]
  },
  {
   "cell_type": "code",
   "execution_count": null,
   "metadata": {},
   "outputs": [],
   "source": [
    "%run \"C:\\Users\\Admin\\Data\\ads_fraud_detection\\src\\prj2\\5.deep_learning_model\\5.synthetic_gan\\Tabnet\\tabnet_base.ipynb\""
   ]
  },
  {
   "cell_type": "code",
   "execution_count": null,
   "metadata": {},
   "outputs": [],
   "source": [
    "%run \"C:\\Users\\Admin\\Data\\ads_fraud_detection\\src\\prj2\\5.deep_learning_model\\6.synthetic_gancopula\\Tabnet\\tabnet_class_weight.ipynb\""
   ]
  },
  {
   "cell_type": "code",
   "execution_count": null,
   "metadata": {},
   "outputs": [],
   "source": [
    "%run \"C:\\Users\\Admin\\Data\\ads_fraud_detection\\src\\prj2\\5.deep_learning_model\\6.synthetic_gancopula\\Tabnet\\tabnet_base.ipynb\""
   ]
  },
  {
   "cell_type": "code",
   "execution_count": null,
   "metadata": {},
   "outputs": [],
   "source": [
    "%run \"C:\\Users\\Admin\\Data\\ads_fraud_detection\\src\\prj2\\5.deep_learning_model\\7.synthetic_vae\\Tabnet\\tabnet_base.ipynb\""
   ]
  },
  {
   "cell_type": "code",
   "execution_count": null,
   "metadata": {},
   "outputs": [],
   "source": [
    "%run \"C:\\Users\\Admin\\Data\\ads_fraud_detection\\src\\prj2\\5.deep_learning_model\\7.synthetic_vae\\Tabnet\\tabnet_class_weight.ipynb\""
   ]
  }
 ],
 "metadata": {
  "kernelspec": {
   "display_name": ".conda",
   "language": "python",
   "name": "python3"
  },
  "language_info": {
   "codemirror_mode": {
    "name": "ipython",
    "version": 3
   },
   "file_extension": ".py",
   "mimetype": "text/x-python",
   "name": "python",
   "nbconvert_exporter": "python",
   "pygments_lexer": "ipython3",
   "version": "3.8.19"
  }
 },
 "nbformat": 4,
 "nbformat_minor": 2
}
