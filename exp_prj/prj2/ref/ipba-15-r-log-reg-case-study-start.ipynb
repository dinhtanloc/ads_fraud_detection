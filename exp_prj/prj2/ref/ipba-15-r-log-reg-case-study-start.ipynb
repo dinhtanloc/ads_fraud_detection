{
 "cells": [
  {
   "cell_type": "markdown",
   "id": "e3090ce8",
   "metadata": {
    "papermill": {
     "duration": 0.006017,
     "end_time": "2023-04-15T12:00:35.749170",
     "exception": false,
     "start_time": "2023-04-15T12:00:35.743153",
     "status": "completed"
    },
    "tags": []
   },
   "source": [
    "# 0/ Steps\n",
    "- Import Libraries\n",
    "- Import Data\n",
    "- Check Descriptive Stats\n",
    "    - ID\n",
    "    - Demographics\n",
    "    - Numerical\n",
    "    - Categorical\n",
    "    - Date\n",
    "- Cleaning \n",
    "    - Columns Names\n",
    "    - Data Type Changes\n",
    "    - Missing Value Treatment\n",
    "- EDA\n",
    "    - Univariate - Plots - Histogram, Box, Bar Plot\n",
    "    - Bivariate - Plots\n",
    "- Preprocessing\n",
    "    - Outlier Treatment\n",
    "    - Numerical Scaling\n",
    "    - Categorical Encoding\n",
    "- Build Model\n",
    "    - Import Package\n",
    "    - Create an Instance\n",
    "    - Build/Fit Model\n",
    "    - Make Predictions\n",
    "- Check Performance\n",
    "    - Calculate Performance Metrics\n",
    "- Interpretation\n",
    "    - What is means for the Business Objective"
   ]
  },
  {
   "cell_type": "markdown",
   "id": "d57bd610",
   "metadata": {
    "papermill": {
     "duration": 0.004413,
     "end_time": "2023-04-15T12:00:35.758562",
     "exception": false,
     "start_time": "2023-04-15T12:00:35.754149",
     "status": "completed"
    },
    "tags": []
   },
   "source": [
    "# 1/ Import Libraries"
   ]
  },
  {
   "cell_type": "code",
   "execution_count": 1,
   "id": "8c11c370",
   "metadata": {
    "_execution_state": "idle",
    "_uuid": "051d70d956493feee0c6d64651c6a088724dca2a",
    "execution": {
     "iopub.execute_input": "2023-04-15T12:00:35.772999Z",
     "iopub.status.busy": "2023-04-15T12:00:35.770101Z",
     "iopub.status.idle": "2023-04-15T12:00:37.316304Z",
     "shell.execute_reply": "2023-04-15T12:00:37.314320Z"
    },
    "papermill": {
     "duration": 1.556497,
     "end_time": "2023-04-15T12:00:37.319613",
     "exception": false,
     "start_time": "2023-04-15T12:00:35.763116",
     "status": "completed"
    },
    "tags": []
   },
   "outputs": [
    {
     "name": "stderr",
     "output_type": "stream",
     "text": [
      "── \u001b[1mAttaching core tidyverse packages\u001b[22m ──────────────────────── tidyverse 2.0.0 ──\n",
      "\u001b[32m✔\u001b[39m \u001b[34mdplyr    \u001b[39m 1.1.0     \u001b[32m✔\u001b[39m \u001b[34mreadr    \u001b[39m 2.1.4\n",
      "\u001b[32m✔\u001b[39m \u001b[34mforcats  \u001b[39m 1.0.0     \u001b[32m✔\u001b[39m \u001b[34mstringr  \u001b[39m 1.5.0\n",
      "\u001b[32m✔\u001b[39m \u001b[34mggplot2  \u001b[39m 3.4.1     \u001b[32m✔\u001b[39m \u001b[34mtibble   \u001b[39m 3.1.8\n",
      "\u001b[32m✔\u001b[39m \u001b[34mlubridate\u001b[39m 1.9.2     \u001b[32m✔\u001b[39m \u001b[34mtidyr    \u001b[39m 1.3.0\n",
      "\u001b[32m✔\u001b[39m \u001b[34mpurrr    \u001b[39m 1.0.1     \n",
      "── \u001b[1mConflicts\u001b[22m ────────────────────────────────────────── tidyverse_conflicts() ──\n",
      "\u001b[31m✖\u001b[39m \u001b[34mdplyr\u001b[39m::\u001b[32mfilter()\u001b[39m masks \u001b[34mstats\u001b[39m::filter()\n",
      "\u001b[31m✖\u001b[39m \u001b[34mdplyr\u001b[39m::\u001b[32mlag()\u001b[39m    masks \u001b[34mstats\u001b[39m::lag()\n",
      "\u001b[36mℹ\u001b[39m Use the conflicted package (\u001b[3m\u001b[34m<http://conflicted.r-lib.org/>\u001b[39m\u001b[23m) to force all conflicts to become errors\n",
      "Warning message:\n",
      "“no DISPLAY variable so Tk is not available”\n",
      "system might not have X11 capabilities; in case of errors when using dfSummary(), set st_options(use.x11 = FALSE)\n",
      "\n",
      "\n",
      "Attaching package: ‘summarytools’\n",
      "\n",
      "\n",
      "The following object is masked from ‘package:tibble’:\n",
      "\n",
      "    view\n",
      "\n",
      "\n"
     ]
    }
   ],
   "source": [
    "library(tidyverse) # metapackage of all tidyverse packages\n",
    "library(summarytools)\n",
    "\n",
    "#library(dplyr)\n",
    "#library(ggplot2)\n",
    "#library(DataExplorer)\n",
    "#library(summarytools)\n",
    "#library(reshape2) "
   ]
  },
  {
   "cell_type": "markdown",
   "id": "99a5093b",
   "metadata": {
    "papermill": {
     "duration": 0.0051,
     "end_time": "2023-04-15T12:00:37.330141",
     "exception": false,
     "start_time": "2023-04-15T12:00:37.325041",
     "status": "completed"
    },
    "tags": []
   },
   "source": [
    "# 2/ Import Data"
   ]
  },
  {
   "cell_type": "code",
   "execution_count": 2,
   "id": "e650b088",
   "metadata": {
    "execution": {
     "iopub.execute_input": "2023-04-15T12:00:37.394317Z",
     "iopub.status.busy": "2023-04-15T12:00:37.342503Z",
     "iopub.status.idle": "2023-04-15T12:00:37.590567Z",
     "shell.execute_reply": "2023-04-15T12:00:37.588426Z"
    },
    "papermill": {
     "duration": 0.258104,
     "end_time": "2023-04-15T12:00:37.593292",
     "exception": false,
     "start_time": "2023-04-15T12:00:37.335188",
     "status": "completed"
    },
    "tags": []
   },
   "outputs": [],
   "source": [
    "df = read.csv('/kaggle/input/vehicle-claim-fraud-detection/fraud_oracle.csv')"
   ]
  },
  {
   "cell_type": "markdown",
   "id": "8252bc63",
   "metadata": {
    "papermill": {
     "duration": 0.005164,
     "end_time": "2023-04-15T12:00:37.603706",
     "exception": false,
     "start_time": "2023-04-15T12:00:37.598542",
     "status": "completed"
    },
    "tags": []
   },
   "source": [
    "# 3/ Check Descriptive Stats"
   ]
  },
  {
   "cell_type": "code",
   "execution_count": 3,
   "id": "04a78293",
   "metadata": {
    "execution": {
     "iopub.execute_input": "2023-04-15T12:00:37.618165Z",
     "iopub.status.busy": "2023-04-15T12:00:37.616122Z",
     "iopub.status.idle": "2023-04-15T12:00:37.684760Z",
     "shell.execute_reply": "2023-04-15T12:00:37.682088Z"
    },
    "papermill": {
     "duration": 0.079268,
     "end_time": "2023-04-15T12:00:37.688179",
     "exception": false,
     "start_time": "2023-04-15T12:00:37.608911",
     "status": "completed"
    },
    "tags": []
   },
   "outputs": [
    {
     "data": {
      "text/html": [
       "<table class=\"dataframe\">\n",
       "<caption>A data.frame: 6 × 33</caption>\n",
       "<thead>\n",
       "\t<tr><th></th><th scope=col>Month</th><th scope=col>WeekOfMonth</th><th scope=col>DayOfWeek</th><th scope=col>Make</th><th scope=col>AccidentArea</th><th scope=col>DayOfWeekClaimed</th><th scope=col>MonthClaimed</th><th scope=col>WeekOfMonthClaimed</th><th scope=col>Sex</th><th scope=col>MaritalStatus</th><th scope=col>⋯</th><th scope=col>AgeOfVehicle</th><th scope=col>AgeOfPolicyHolder</th><th scope=col>PoliceReportFiled</th><th scope=col>WitnessPresent</th><th scope=col>AgentType</th><th scope=col>NumberOfSuppliments</th><th scope=col>AddressChange_Claim</th><th scope=col>NumberOfCars</th><th scope=col>Year</th><th scope=col>BasePolicy</th></tr>\n",
       "\t<tr><th></th><th scope=col>&lt;chr&gt;</th><th scope=col>&lt;int&gt;</th><th scope=col>&lt;chr&gt;</th><th scope=col>&lt;chr&gt;</th><th scope=col>&lt;chr&gt;</th><th scope=col>&lt;chr&gt;</th><th scope=col>&lt;chr&gt;</th><th scope=col>&lt;int&gt;</th><th scope=col>&lt;chr&gt;</th><th scope=col>&lt;chr&gt;</th><th scope=col>⋯</th><th scope=col>&lt;chr&gt;</th><th scope=col>&lt;chr&gt;</th><th scope=col>&lt;chr&gt;</th><th scope=col>&lt;chr&gt;</th><th scope=col>&lt;chr&gt;</th><th scope=col>&lt;chr&gt;</th><th scope=col>&lt;chr&gt;</th><th scope=col>&lt;chr&gt;</th><th scope=col>&lt;int&gt;</th><th scope=col>&lt;chr&gt;</th></tr>\n",
       "</thead>\n",
       "<tbody>\n",
       "\t<tr><th scope=row>1</th><td>Dec</td><td>5</td><td>Wednesday</td><td>Honda </td><td>Urban</td><td>Tuesday  </td><td>Jan</td><td>1</td><td>Female</td><td>Single </td><td>⋯</td><td>3 years    </td><td>26 to 30</td><td>No </td><td>No</td><td>External</td><td>none       </td><td>1 year   </td><td>3 to 4   </td><td>1994</td><td>Liability</td></tr>\n",
       "\t<tr><th scope=row>2</th><td>Jan</td><td>3</td><td>Wednesday</td><td>Honda </td><td>Urban</td><td>Monday   </td><td>Jan</td><td>4</td><td>Male  </td><td>Single </td><td>⋯</td><td>6 years    </td><td>31 to 35</td><td>Yes</td><td>No</td><td>External</td><td>none       </td><td>no change</td><td>1 vehicle</td><td>1994</td><td>Collision</td></tr>\n",
       "\t<tr><th scope=row>3</th><td>Oct</td><td>5</td><td>Friday   </td><td>Honda </td><td>Urban</td><td>Thursday </td><td>Nov</td><td>2</td><td>Male  </td><td>Married</td><td>⋯</td><td>7 years    </td><td>41 to 50</td><td>No </td><td>No</td><td>External</td><td>none       </td><td>no change</td><td>1 vehicle</td><td>1994</td><td>Collision</td></tr>\n",
       "\t<tr><th scope=row>4</th><td>Jun</td><td>2</td><td>Saturday </td><td>Toyota</td><td>Rural</td><td>Friday   </td><td>Jul</td><td>1</td><td>Male  </td><td>Married</td><td>⋯</td><td>more than 7</td><td>51 to 65</td><td>Yes</td><td>No</td><td>External</td><td>more than 5</td><td>no change</td><td>1 vehicle</td><td>1994</td><td>Liability</td></tr>\n",
       "\t<tr><th scope=row>5</th><td>Jan</td><td>5</td><td>Monday   </td><td>Honda </td><td>Urban</td><td>Tuesday  </td><td>Feb</td><td>2</td><td>Female</td><td>Single </td><td>⋯</td><td>5 years    </td><td>31 to 35</td><td>No </td><td>No</td><td>External</td><td>none       </td><td>no change</td><td>1 vehicle</td><td>1994</td><td>Collision</td></tr>\n",
       "\t<tr><th scope=row>6</th><td>Oct</td><td>4</td><td>Friday   </td><td>Honda </td><td>Urban</td><td>Wednesday</td><td>Nov</td><td>1</td><td>Male  </td><td>Single </td><td>⋯</td><td>5 years    </td><td>21 to 25</td><td>No </td><td>No</td><td>External</td><td>3 to 5     </td><td>no change</td><td>1 vehicle</td><td>1994</td><td>Collision</td></tr>\n",
       "</tbody>\n",
       "</table>\n"
      ],
      "text/latex": [
       "A data.frame: 6 × 33\n",
       "\\begin{tabular}{r|lllllllllllllllllllll}\n",
       "  & Month & WeekOfMonth & DayOfWeek & Make & AccidentArea & DayOfWeekClaimed & MonthClaimed & WeekOfMonthClaimed & Sex & MaritalStatus & ⋯ & AgeOfVehicle & AgeOfPolicyHolder & PoliceReportFiled & WitnessPresent & AgentType & NumberOfSuppliments & AddressChange\\_Claim & NumberOfCars & Year & BasePolicy\\\\\n",
       "  & <chr> & <int> & <chr> & <chr> & <chr> & <chr> & <chr> & <int> & <chr> & <chr> & ⋯ & <chr> & <chr> & <chr> & <chr> & <chr> & <chr> & <chr> & <chr> & <int> & <chr>\\\\\n",
       "\\hline\n",
       "\t1 & Dec & 5 & Wednesday & Honda  & Urban & Tuesday   & Jan & 1 & Female & Single  & ⋯ & 3 years     & 26 to 30 & No  & No & External & none        & 1 year    & 3 to 4    & 1994 & Liability\\\\\n",
       "\t2 & Jan & 3 & Wednesday & Honda  & Urban & Monday    & Jan & 4 & Male   & Single  & ⋯ & 6 years     & 31 to 35 & Yes & No & External & none        & no change & 1 vehicle & 1994 & Collision\\\\\n",
       "\t3 & Oct & 5 & Friday    & Honda  & Urban & Thursday  & Nov & 2 & Male   & Married & ⋯ & 7 years     & 41 to 50 & No  & No & External & none        & no change & 1 vehicle & 1994 & Collision\\\\\n",
       "\t4 & Jun & 2 & Saturday  & Toyota & Rural & Friday    & Jul & 1 & Male   & Married & ⋯ & more than 7 & 51 to 65 & Yes & No & External & more than 5 & no change & 1 vehicle & 1994 & Liability\\\\\n",
       "\t5 & Jan & 5 & Monday    & Honda  & Urban & Tuesday   & Feb & 2 & Female & Single  & ⋯ & 5 years     & 31 to 35 & No  & No & External & none        & no change & 1 vehicle & 1994 & Collision\\\\\n",
       "\t6 & Oct & 4 & Friday    & Honda  & Urban & Wednesday & Nov & 1 & Male   & Single  & ⋯ & 5 years     & 21 to 25 & No  & No & External & 3 to 5      & no change & 1 vehicle & 1994 & Collision\\\\\n",
       "\\end{tabular}\n"
      ],
      "text/markdown": [
       "\n",
       "A data.frame: 6 × 33\n",
       "\n",
       "| <!--/--> | Month &lt;chr&gt; | WeekOfMonth &lt;int&gt; | DayOfWeek &lt;chr&gt; | Make &lt;chr&gt; | AccidentArea &lt;chr&gt; | DayOfWeekClaimed &lt;chr&gt; | MonthClaimed &lt;chr&gt; | WeekOfMonthClaimed &lt;int&gt; | Sex &lt;chr&gt; | MaritalStatus &lt;chr&gt; | ⋯ ⋯ | AgeOfVehicle &lt;chr&gt; | AgeOfPolicyHolder &lt;chr&gt; | PoliceReportFiled &lt;chr&gt; | WitnessPresent &lt;chr&gt; | AgentType &lt;chr&gt; | NumberOfSuppliments &lt;chr&gt; | AddressChange_Claim &lt;chr&gt; | NumberOfCars &lt;chr&gt; | Year &lt;int&gt; | BasePolicy &lt;chr&gt; |\n",
       "|---|---|---|---|---|---|---|---|---|---|---|---|---|---|---|---|---|---|---|---|---|---|\n",
       "| 1 | Dec | 5 | Wednesday | Honda  | Urban | Tuesday   | Jan | 1 | Female | Single  | ⋯ | 3 years     | 26 to 30 | No  | No | External | none        | 1 year    | 3 to 4    | 1994 | Liability |\n",
       "| 2 | Jan | 3 | Wednesday | Honda  | Urban | Monday    | Jan | 4 | Male   | Single  | ⋯ | 6 years     | 31 to 35 | Yes | No | External | none        | no change | 1 vehicle | 1994 | Collision |\n",
       "| 3 | Oct | 5 | Friday    | Honda  | Urban | Thursday  | Nov | 2 | Male   | Married | ⋯ | 7 years     | 41 to 50 | No  | No | External | none        | no change | 1 vehicle | 1994 | Collision |\n",
       "| 4 | Jun | 2 | Saturday  | Toyota | Rural | Friday    | Jul | 1 | Male   | Married | ⋯ | more than 7 | 51 to 65 | Yes | No | External | more than 5 | no change | 1 vehicle | 1994 | Liability |\n",
       "| 5 | Jan | 5 | Monday    | Honda  | Urban | Tuesday   | Feb | 2 | Female | Single  | ⋯ | 5 years     | 31 to 35 | No  | No | External | none        | no change | 1 vehicle | 1994 | Collision |\n",
       "| 6 | Oct | 4 | Friday    | Honda  | Urban | Wednesday | Nov | 1 | Male   | Single  | ⋯ | 5 years     | 21 to 25 | No  | No | External | 3 to 5      | no change | 1 vehicle | 1994 | Collision |\n",
       "\n"
      ],
      "text/plain": [
       "  Month WeekOfMonth DayOfWeek Make   AccidentArea DayOfWeekClaimed MonthClaimed\n",
       "1 Dec   5           Wednesday Honda  Urban        Tuesday          Jan         \n",
       "2 Jan   3           Wednesday Honda  Urban        Monday           Jan         \n",
       "3 Oct   5           Friday    Honda  Urban        Thursday         Nov         \n",
       "4 Jun   2           Saturday  Toyota Rural        Friday           Jul         \n",
       "5 Jan   5           Monday    Honda  Urban        Tuesday          Feb         \n",
       "6 Oct   4           Friday    Honda  Urban        Wednesday        Nov         \n",
       "  WeekOfMonthClaimed Sex    MaritalStatus ⋯ AgeOfVehicle AgeOfPolicyHolder\n",
       "1 1                  Female Single        ⋯ 3 years      26 to 30         \n",
       "2 4                  Male   Single        ⋯ 6 years      31 to 35         \n",
       "3 2                  Male   Married       ⋯ 7 years      41 to 50         \n",
       "4 1                  Male   Married       ⋯ more than 7  51 to 65         \n",
       "5 2                  Female Single        ⋯ 5 years      31 to 35         \n",
       "6 1                  Male   Single        ⋯ 5 years      21 to 25         \n",
       "  PoliceReportFiled WitnessPresent AgentType NumberOfSuppliments\n",
       "1 No                No             External  none               \n",
       "2 Yes               No             External  none               \n",
       "3 No                No             External  none               \n",
       "4 Yes               No             External  more than 5        \n",
       "5 No                No             External  none               \n",
       "6 No                No             External  3 to 5             \n",
       "  AddressChange_Claim NumberOfCars Year BasePolicy\n",
       "1 1 year              3 to 4       1994 Liability \n",
       "2 no change           1 vehicle    1994 Collision \n",
       "3 no change           1 vehicle    1994 Collision \n",
       "4 no change           1 vehicle    1994 Liability \n",
       "5 no change           1 vehicle    1994 Collision \n",
       "6 no change           1 vehicle    1994 Collision "
      ]
     },
     "metadata": {},
     "output_type": "display_data"
    }
   ],
   "source": [
    "head(df)"
   ]
  },
  {
   "cell_type": "code",
   "execution_count": 4,
   "id": "d7fbe3bb",
   "metadata": {
    "execution": {
     "iopub.execute_input": "2023-04-15T12:00:37.706311Z",
     "iopub.status.busy": "2023-04-15T12:00:37.704130Z",
     "iopub.status.idle": "2023-04-15T12:00:37.747870Z",
     "shell.execute_reply": "2023-04-15T12:00:37.745527Z"
    },
    "papermill": {
     "duration": 0.056559,
     "end_time": "2023-04-15T12:00:37.750779",
     "exception": false,
     "start_time": "2023-04-15T12:00:37.694220",
     "status": "completed"
    },
    "tags": []
   },
   "outputs": [
    {
     "data": {
      "text/plain": [
       "    Month            WeekOfMonth     DayOfWeek             Make          \n",
       " Length:15420       Min.   :1.000   Length:15420       Length:15420      \n",
       " Class :character   1st Qu.:2.000   Class :character   Class :character  \n",
       " Mode  :character   Median :3.000   Mode  :character   Mode  :character  \n",
       "                    Mean   :2.789                                        \n",
       "                    3rd Qu.:4.000                                        \n",
       "                    Max.   :5.000                                        \n",
       " AccidentArea       DayOfWeekClaimed   MonthClaimed       WeekOfMonthClaimed\n",
       " Length:15420       Length:15420       Length:15420       Min.   :1.000     \n",
       " Class :character   Class :character   Class :character   1st Qu.:2.000     \n",
       " Mode  :character   Mode  :character   Mode  :character   Median :3.000     \n",
       "                                                          Mean   :2.694     \n",
       "                                                          3rd Qu.:4.000     \n",
       "                                                          Max.   :5.000     \n",
       "     Sex            MaritalStatus           Age           Fault          \n",
       " Length:15420       Length:15420       Min.   : 0.00   Length:15420      \n",
       " Class :character   Class :character   1st Qu.:31.00   Class :character  \n",
       " Mode  :character   Mode  :character   Median :38.00   Mode  :character  \n",
       "                                       Mean   :39.86                     \n",
       "                                       3rd Qu.:48.00                     \n",
       "                                       Max.   :80.00                     \n",
       "  PolicyType        VehicleCategory    VehiclePrice        FraudFound_P    \n",
       " Length:15420       Length:15420       Length:15420       Min.   :0.00000  \n",
       " Class :character   Class :character   Class :character   1st Qu.:0.00000  \n",
       " Mode  :character   Mode  :character   Mode  :character   Median :0.00000  \n",
       "                                                          Mean   :0.05986  \n",
       "                                                          3rd Qu.:0.00000  \n",
       "                                                          Max.   :1.00000  \n",
       "  PolicyNumber     RepNumber        Deductible     DriverRating  \n",
       " Min.   :    1   Min.   : 1.000   Min.   :300.0   Min.   :1.000  \n",
       " 1st Qu.: 3856   1st Qu.: 5.000   1st Qu.:400.0   1st Qu.:1.000  \n",
       " Median : 7710   Median : 8.000   Median :400.0   Median :2.000  \n",
       " Mean   : 7710   Mean   : 8.483   Mean   :407.7   Mean   :2.488  \n",
       " 3rd Qu.:11565   3rd Qu.:12.000   3rd Qu.:400.0   3rd Qu.:3.000  \n",
       " Max.   :15420   Max.   :16.000   Max.   :700.0   Max.   :4.000  \n",
       " Days_Policy_Accident Days_Policy_Claim  PastNumberOfClaims AgeOfVehicle      \n",
       " Length:15420         Length:15420       Length:15420       Length:15420      \n",
       " Class :character     Class :character   Class :character   Class :character  \n",
       " Mode  :character     Mode  :character   Mode  :character   Mode  :character  \n",
       "                                                                              \n",
       "                                                                              \n",
       "                                                                              \n",
       " AgeOfPolicyHolder  PoliceReportFiled  WitnessPresent      AgentType        \n",
       " Length:15420       Length:15420       Length:15420       Length:15420      \n",
       " Class :character   Class :character   Class :character   Class :character  \n",
       " Mode  :character   Mode  :character   Mode  :character   Mode  :character  \n",
       "                                                                            \n",
       "                                                                            \n",
       "                                                                            \n",
       " NumberOfSuppliments AddressChange_Claim NumberOfCars            Year     \n",
       " Length:15420        Length:15420        Length:15420       Min.   :1994  \n",
       " Class :character    Class :character    Class :character   1st Qu.:1994  \n",
       " Mode  :character    Mode  :character    Mode  :character   Median :1995  \n",
       "                                                            Mean   :1995  \n",
       "                                                            3rd Qu.:1996  \n",
       "                                                            Max.   :1996  \n",
       "  BasePolicy       \n",
       " Length:15420      \n",
       " Class :character  \n",
       " Mode  :character  \n",
       "                   \n",
       "                   \n",
       "                   "
      ]
     },
     "metadata": {},
     "output_type": "display_data"
    }
   ],
   "source": [
    "summary(df)"
   ]
  },
  {
   "cell_type": "code",
   "execution_count": 5,
   "id": "25fae036",
   "metadata": {
    "execution": {
     "iopub.execute_input": "2023-04-15T12:00:37.766538Z",
     "iopub.status.busy": "2023-04-15T12:00:37.764586Z",
     "iopub.status.idle": "2023-04-15T12:00:37.991959Z",
     "shell.execute_reply": "2023-04-15T12:00:37.989804Z"
    },
    "papermill": {
     "duration": 0.238473,
     "end_time": "2023-04-15T12:00:37.995050",
     "exception": false,
     "start_time": "2023-04-15T12:00:37.756577",
     "status": "completed"
    },
    "tags": []
   },
   "outputs": [
    {
     "data": {
      "text/html": [
       "<table class=\"dataframe\">\n",
       "<caption>A summarytools: 7 × 9 of type dbl</caption>\n",
       "<thead>\n",
       "\t<tr><th></th><th scope=col>Age</th><th scope=col>Deductible</th><th scope=col>DriverRating</th><th scope=col>FraudFound_P</th><th scope=col>PolicyNumber</th><th scope=col>RepNumber</th><th scope=col>WeekOfMonth</th><th scope=col>WeekOfMonthClaimed</th><th scope=col>Year</th></tr>\n",
       "</thead>\n",
       "<tbody>\n",
       "\t<tr><th scope=row>Mean</th><td>   39.85571</td><td>  407.7043</td><td>    2.487808</td><td>5.985733e-02</td><td> 7710.500</td><td>    8.483268</td><td>    2.788586</td><td>    2.693969</td><td>1.994866e+03</td></tr>\n",
       "\t<tr><th scope=row>Std.Dev</th><td>   13.49238</td><td>   43.9510</td><td>    1.119453</td><td>2.372300e-01</td><td> 4451.515</td><td>    4.599948</td><td>    1.287585</td><td>    1.259115</td><td>8.033132e-01</td></tr>\n",
       "\t<tr><th scope=row>Min</th><td>    0.00000</td><td>  300.0000</td><td>    1.000000</td><td>0.000000e+00</td><td>    1.000</td><td>    1.000000</td><td>    1.000000</td><td>    1.000000</td><td>1.994000e+03</td></tr>\n",
       "\t<tr><th scope=row>Median</th><td>   38.00000</td><td>  400.0000</td><td>    2.000000</td><td>0.000000e+00</td><td> 7710.500</td><td>    8.000000</td><td>    3.000000</td><td>    3.000000</td><td>1.995000e+03</td></tr>\n",
       "\t<tr><th scope=row>Max</th><td>   80.00000</td><td>  700.0000</td><td>    4.000000</td><td>1.000000e+00</td><td>15420.000</td><td>   16.000000</td><td>    5.000000</td><td>    5.000000</td><td>1.996000e+03</td></tr>\n",
       "\t<tr><th scope=row>N.Valid</th><td>15420.00000</td><td>15420.0000</td><td>15420.000000</td><td>1.542000e+04</td><td>15420.000</td><td>15420.000000</td><td>15420.000000</td><td>15420.000000</td><td>1.542000e+04</td></tr>\n",
       "\t<tr><th scope=row>Pct.Valid</th><td>  100.00000</td><td>  100.0000</td><td>  100.000000</td><td>1.000000e+02</td><td>  100.000</td><td>  100.000000</td><td>  100.000000</td><td>  100.000000</td><td>1.000000e+02</td></tr>\n",
       "</tbody>\n",
       "</table>\n"
      ],
      "text/latex": [
       "A summarytools: 7 × 9 of type dbl\n",
       "\\begin{tabular}{r|lllllllll}\n",
       "  & Age & Deductible & DriverRating & FraudFound\\_P & PolicyNumber & RepNumber & WeekOfMonth & WeekOfMonthClaimed & Year\\\\\n",
       "\\hline\n",
       "\tMean &    39.85571 &   407.7043 &     2.487808 & 5.985733e-02 &  7710.500 &     8.483268 &     2.788586 &     2.693969 & 1.994866e+03\\\\\n",
       "\tStd.Dev &    13.49238 &    43.9510 &     1.119453 & 2.372300e-01 &  4451.515 &     4.599948 &     1.287585 &     1.259115 & 8.033132e-01\\\\\n",
       "\tMin &     0.00000 &   300.0000 &     1.000000 & 0.000000e+00 &     1.000 &     1.000000 &     1.000000 &     1.000000 & 1.994000e+03\\\\\n",
       "\tMedian &    38.00000 &   400.0000 &     2.000000 & 0.000000e+00 &  7710.500 &     8.000000 &     3.000000 &     3.000000 & 1.995000e+03\\\\\n",
       "\tMax &    80.00000 &   700.0000 &     4.000000 & 1.000000e+00 & 15420.000 &    16.000000 &     5.000000 &     5.000000 & 1.996000e+03\\\\\n",
       "\tN.Valid & 15420.00000 & 15420.0000 & 15420.000000 & 1.542000e+04 & 15420.000 & 15420.000000 & 15420.000000 & 15420.000000 & 1.542000e+04\\\\\n",
       "\tPct.Valid &   100.00000 &   100.0000 &   100.000000 & 1.000000e+02 &   100.000 &   100.000000 &   100.000000 &   100.000000 & 1.000000e+02\\\\\n",
       "\\end{tabular}\n"
      ],
      "text/markdown": [
       "\n",
       "A summarytools: 7 × 9 of type dbl\n",
       "\n",
       "| <!--/--> | Age | Deductible | DriverRating | FraudFound_P | PolicyNumber | RepNumber | WeekOfMonth | WeekOfMonthClaimed | Year |\n",
       "|---|---|---|---|---|---|---|---|---|---|\n",
       "| Mean |    39.85571 |   407.7043 |     2.487808 | 5.985733e-02 |  7710.500 |     8.483268 |     2.788586 |     2.693969 | 1.994866e+03 |\n",
       "| Std.Dev |    13.49238 |    43.9510 |     1.119453 | 2.372300e-01 |  4451.515 |     4.599948 |     1.287585 |     1.259115 | 8.033132e-01 |\n",
       "| Min |     0.00000 |   300.0000 |     1.000000 | 0.000000e+00 |     1.000 |     1.000000 |     1.000000 |     1.000000 | 1.994000e+03 |\n",
       "| Median |    38.00000 |   400.0000 |     2.000000 | 0.000000e+00 |  7710.500 |     8.000000 |     3.000000 |     3.000000 | 1.995000e+03 |\n",
       "| Max |    80.00000 |   700.0000 |     4.000000 | 1.000000e+00 | 15420.000 |    16.000000 |     5.000000 |     5.000000 | 1.996000e+03 |\n",
       "| N.Valid | 15420.00000 | 15420.0000 | 15420.000000 | 1.542000e+04 | 15420.000 | 15420.000000 | 15420.000000 | 15420.000000 | 1.542000e+04 |\n",
       "| Pct.Valid |   100.00000 |   100.0000 |   100.000000 | 1.000000e+02 |   100.000 |   100.000000 |   100.000000 |   100.000000 | 1.000000e+02 |\n",
       "\n"
      ],
      "text/plain": [
       "          Age         Deductible DriverRating FraudFound_P PolicyNumber\n",
       "Mean         39.85571   407.7043     2.487808 5.985733e-02  7710.500   \n",
       "Std.Dev      13.49238    43.9510     1.119453 2.372300e-01  4451.515   \n",
       "Min           0.00000   300.0000     1.000000 0.000000e+00     1.000   \n",
       "Median       38.00000   400.0000     2.000000 0.000000e+00  7710.500   \n",
       "Max          80.00000   700.0000     4.000000 1.000000e+00 15420.000   \n",
       "N.Valid   15420.00000 15420.0000 15420.000000 1.542000e+04 15420.000   \n",
       "Pct.Valid   100.00000   100.0000   100.000000 1.000000e+02   100.000   \n",
       "          RepNumber    WeekOfMonth  WeekOfMonthClaimed Year        \n",
       "Mean          8.483268     2.788586     2.693969       1.994866e+03\n",
       "Std.Dev       4.599948     1.287585     1.259115       8.033132e-01\n",
       "Min           1.000000     1.000000     1.000000       1.994000e+03\n",
       "Median        8.000000     3.000000     3.000000       1.995000e+03\n",
       "Max          16.000000     5.000000     5.000000       1.996000e+03\n",
       "N.Valid   15420.000000 15420.000000 15420.000000       1.542000e+04\n",
       "Pct.Valid   100.000000   100.000000   100.000000       1.000000e+02"
      ]
     },
     "metadata": {},
     "output_type": "display_data"
    }
   ],
   "source": [
    "descr(df,\n",
    "      headings = FALSE, # remove headings\n",
    "      stats = \"common\" # most common descriptive statistics\n",
    ")"
   ]
  },
  {
   "cell_type": "markdown",
   "id": "531bf77e",
   "metadata": {
    "papermill": {
     "duration": 0.006099,
     "end_time": "2023-04-15T12:00:38.007288",
     "exception": false,
     "start_time": "2023-04-15T12:00:38.001189",
     "status": "completed"
    },
    "tags": []
   },
   "source": [
    "# 4/ Clean Data"
   ]
  },
  {
   "cell_type": "code",
   "execution_count": 6,
   "id": "8d97eef4",
   "metadata": {
    "execution": {
     "iopub.execute_input": "2023-04-15T12:00:38.023343Z",
     "iopub.status.busy": "2023-04-15T12:00:38.021487Z",
     "iopub.status.idle": "2023-04-15T12:00:38.048896Z",
     "shell.execute_reply": "2023-04-15T12:00:38.046654Z"
    },
    "papermill": {
     "duration": 0.038844,
     "end_time": "2023-04-15T12:00:38.052143",
     "exception": false,
     "start_time": "2023-04-15T12:00:38.013299",
     "status": "completed"
    },
    "tags": []
   },
   "outputs": [
    {
     "data": {
      "text/html": [
       "0"
      ],
      "text/latex": [
       "0"
      ],
      "text/markdown": [
       "0"
      ],
      "text/plain": [
       "[1] 0"
      ]
     },
     "metadata": {},
     "output_type": "display_data"
    }
   ],
   "source": [
    "sum(is.na(df))"
   ]
  },
  {
   "cell_type": "markdown",
   "id": "6aa94d2e",
   "metadata": {
    "papermill": {
     "duration": 0.006055,
     "end_time": "2023-04-15T12:00:38.064369",
     "exception": false,
     "start_time": "2023-04-15T12:00:38.058314",
     "status": "completed"
    },
    "tags": []
   },
   "source": [
    "# 5/ EDA"
   ]
  },
  {
   "cell_type": "code",
   "execution_count": 7,
   "id": "0e6a53fc",
   "metadata": {
    "execution": {
     "iopub.execute_input": "2023-04-15T12:00:38.081140Z",
     "iopub.status.busy": "2023-04-15T12:00:38.079135Z",
     "iopub.status.idle": "2023-04-15T12:00:38.743968Z",
     "shell.execute_reply": "2023-04-15T12:00:38.741907Z"
    },
    "papermill": {
     "duration": 0.676279,
     "end_time": "2023-04-15T12:00:38.746691",
     "exception": false,
     "start_time": "2023-04-15T12:00:38.070412",
     "status": "completed"
    },
    "tags": []
   },
   "outputs": [
    {
     "data": {
      "image/png": "[encoded data removed]"
     },
     "metadata": {
      "image/png": {
       "height": 420,
       "width": 420
      }
     },
     "output_type": "display_data"
    }
   ],
   "source": [
    "# Bar Plot\n",
    "ggplot(data = df, aes(x = VehicleCategory, y = FraudFound_P)) +\n",
    "  geom_bar(stat = \"identity\")"
   ]
  },
  {
   "cell_type": "code",
   "execution_count": 8,
   "id": "f363c575",
   "metadata": {
    "execution": {
     "iopub.execute_input": "2023-04-15T12:00:38.763822Z",
     "iopub.status.busy": "2023-04-15T12:00:38.762167Z",
     "iopub.status.idle": "2023-04-15T12:00:39.173366Z",
     "shell.execute_reply": "2023-04-15T12:00:39.170898Z"
    },
    "papermill": {
     "duration": 0.422805,
     "end_time": "2023-04-15T12:00:39.176207",
     "exception": false,
     "start_time": "2023-04-15T12:00:38.753402",
     "status": "completed"
    },
    "tags": []
   },
   "outputs": [
    {
     "name": "stderr",
     "output_type": "stream",
     "text": [
      "\u001b[1m\u001b[22m`stat_bin()` using `bins = 30`. Pick better value with `binwidth`.\n"
     ]
    },
    {
     "data": {
      "image/png": "[encoded data removed]"
     },
     "metadata": {
      "image/png": {
       "height": 420,
       "width": 420
      }
     },
     "output_type": "display_data"
    }
   ],
   "source": [
    "# Numerical - Histogram\n",
    "ggplot(data = df, aes(x = Age)) +\n",
    "  geom_histogram()"
   ]
  },
  {
   "cell_type": "code",
   "execution_count": 9,
   "id": "380bc53b",
   "metadata": {
    "execution": {
     "iopub.execute_input": "2023-04-15T12:00:39.194512Z",
     "iopub.status.busy": "2023-04-15T12:00:39.192794Z",
     "iopub.status.idle": "2023-04-15T12:00:39.524928Z",
     "shell.execute_reply": "2023-04-15T12:00:39.522905Z"
    },
    "papermill": {
     "duration": 0.34424,
     "end_time": "2023-04-15T12:00:39.527579",
     "exception": false,
     "start_time": "2023-04-15T12:00:39.183339",
     "status": "completed"
    },
    "tags": []
   },
   "outputs": [
    {
     "data": {
      "image/png": "[encoded data removed]"
     },
     "metadata": {
      "image/png": {
       "height": 420,
       "width": 420
      }
     },
     "output_type": "display_data"
    }
   ],
   "source": [
    "ggplot(data = df, aes(y = Age)) +\n",
    "  geom_boxplot()"
   ]
  },
  {
   "cell_type": "markdown",
   "id": "cfd09694",
   "metadata": {
    "papermill": {
     "duration": 0.00737,
     "end_time": "2023-04-15T12:00:39.542493",
     "exception": false,
     "start_time": "2023-04-15T12:00:39.535123",
     "status": "completed"
    },
    "tags": []
   },
   "source": [
    "# 6/ Preprocessing - Skip"
   ]
  },
  {
   "cell_type": "code",
   "execution_count": 10,
   "id": "e870c865",
   "metadata": {
    "execution": {
     "iopub.execute_input": "2023-04-15T12:00:39.561297Z",
     "iopub.status.busy": "2023-04-15T12:00:39.559530Z",
     "iopub.status.idle": "2023-04-15T12:00:39.575062Z",
     "shell.execute_reply": "2023-04-15T12:00:39.572949Z"
    },
    "papermill": {
     "duration": 0.028562,
     "end_time": "2023-04-15T12:00:39.578405",
     "exception": false,
     "start_time": "2023-04-15T12:00:39.549843",
     "status": "completed"
    },
    "tags": []
   },
   "outputs": [],
   "source": [
    "# Future"
   ]
  },
  {
   "cell_type": "markdown",
   "id": "e6d89682",
   "metadata": {
    "papermill": {
     "duration": 0.007386,
     "end_time": "2023-04-15T12:00:39.593279",
     "exception": false,
     "start_time": "2023-04-15T12:00:39.585893",
     "status": "completed"
    },
    "tags": []
   },
   "source": [
    "# 7/ Model - Logistic Regression\n",
    "- FraudFound_P (y) - Age, VehicleCategory, Deductible (X)"
   ]
  },
  {
   "cell_type": "code",
   "execution_count": 11,
   "id": "e73fe091",
   "metadata": {
    "execution": {
     "iopub.execute_input": "2023-04-15T12:00:39.612369Z",
     "iopub.status.busy": "2023-04-15T12:00:39.610515Z",
     "iopub.status.idle": "2023-04-15T12:00:39.772151Z",
     "shell.execute_reply": "2023-04-15T12:00:39.767741Z"
    },
    "papermill": {
     "duration": 0.176792,
     "end_time": "2023-04-15T12:00:39.777437",
     "exception": false,
     "start_time": "2023-04-15T12:00:39.600645",
     "status": "completed"
    },
    "tags": []
   },
   "outputs": [],
   "source": [
    "model <- glm(FraudFound_P ~ Age + VehicleCategory + Deductible + MaritalStatus+ Sex, data = df, family = \"binomial\")"
   ]
  },
  {
   "cell_type": "code",
   "execution_count": 12,
   "id": "d02355a6",
   "metadata": {
    "execution": {
     "iopub.execute_input": "2023-04-15T12:00:39.822578Z",
     "iopub.status.busy": "2023-04-15T12:00:39.818846Z",
     "iopub.status.idle": "2023-04-15T12:00:39.877557Z",
     "shell.execute_reply": "2023-04-15T12:00:39.875471Z"
    },
    "papermill": {
     "duration": 0.084573,
     "end_time": "2023-04-15T12:00:39.880399",
     "exception": false,
     "start_time": "2023-04-15T12:00:39.795826",
     "status": "completed"
    },
    "tags": []
   },
   "outputs": [
    {
     "data": {
      "text/plain": [
       "\n",
       "Call:\n",
       "glm(formula = FraudFound_P ~ Age + VehicleCategory + Deductible + \n",
       "    MaritalStatus + Sex, family = \"binomial\", data = df)\n",
       "\n",
       "Deviance Residuals: \n",
       "    Min       1Q   Median       3Q      Max  \n",
       "-0.6467  -0.4255  -0.3706  -0.1801   3.0500  \n",
       "\n",
       "Coefficients:\n",
       "                         Estimate Std. Error z value Pr(>|z|)    \n",
       "(Intercept)            -3.3028231  0.6645749  -4.970 6.70e-07 ***\n",
       "Age                    -0.0139395  0.0029066  -4.796 1.62e-06 ***\n",
       "VehicleCategorySport   -1.7294755  0.1161709 -14.887  < 2e-16 ***\n",
       "VehicleCategoryUtility  0.3568364  0.1655789   2.155  0.03116 *  \n",
       "Deductible              0.0018442  0.0006698   2.754  0.00590 ** \n",
       "MaritalStatusMarried    0.4389333  0.5950697   0.738  0.46075    \n",
       "MaritalStatusSingle     0.3394514  0.5975347   0.568  0.56998    \n",
       "MaritalStatusWidow      0.9681343  0.8514177   1.137  0.25550    \n",
       "SexMale                 0.3152598  0.1085883   2.903  0.00369 ** \n",
       "---\n",
       "Signif. codes:  0 ‘***’ 0.001 ‘**’ 0.01 ‘*’ 0.05 ‘.’ 0.1 ‘ ’ 1\n",
       "\n",
       "(Dispersion parameter for binomial family taken to be 1)\n",
       "\n",
       "    Null deviance: 6987.6  on 15419  degrees of freedom\n",
       "Residual deviance: 6596.5  on 15411  degrees of freedom\n",
       "AIC: 6614.5\n",
       "\n",
       "Number of Fisher Scoring iterations: 6\n"
      ]
     },
     "metadata": {},
     "output_type": "display_data"
    }
   ],
   "source": [
    "summary(model)"
   ]
  },
  {
   "cell_type": "markdown",
   "id": "ca6be328",
   "metadata": {
    "papermill": {
     "duration": 0.008006,
     "end_time": "2023-04-15T12:00:39.896074",
     "exception": false,
     "start_time": "2023-04-15T12:00:39.888068",
     "status": "completed"
    },
    "tags": []
   },
   "source": [
    "# 8/ Predictions"
   ]
  },
  {
   "cell_type": "code",
   "execution_count": 13,
   "id": "c2067722",
   "metadata": {
    "execution": {
     "iopub.execute_input": "2023-04-15T12:00:39.916427Z",
     "iopub.status.busy": "2023-04-15T12:00:39.914695Z",
     "iopub.status.idle": "2023-04-15T12:00:39.942625Z",
     "shell.execute_reply": "2023-04-15T12:00:39.940401Z"
    },
    "papermill": {
     "duration": 0.041433,
     "end_time": "2023-04-15T12:00:39.945339",
     "exception": false,
     "start_time": "2023-04-15T12:00:39.903906",
     "status": "completed"
    },
    "tags": []
   },
   "outputs": [],
   "source": [
    "# Make predictions on the data\n",
    "df_pred <- df %>%\n",
    "  mutate(FraudFound_P_pred = predict(model, type = \"response\"),\n",
    "         FraudFound_Flag_pred = ifelse(FraudFound_P_pred >= 0.5, 1, 0))"
   ]
  },
  {
   "cell_type": "code",
   "execution_count": 14,
   "id": "d198f7de",
   "metadata": {
    "execution": {
     "iopub.execute_input": "2023-04-15T12:00:39.965218Z",
     "iopub.status.busy": "2023-04-15T12:00:39.963315Z",
     "iopub.status.idle": "2023-04-15T12:00:40.026341Z",
     "shell.execute_reply": "2023-04-15T12:00:40.023941Z"
    },
    "papermill": {
     "duration": 0.076217,
     "end_time": "2023-04-15T12:00:40.029202",
     "exception": false,
     "start_time": "2023-04-15T12:00:39.952985",
     "status": "completed"
    },
    "tags": []
   },
   "outputs": [
    {
     "data": {
      "text/html": [
       "<table class=\"dataframe\">\n",
       "<caption>A data.frame: 6 × 35</caption>\n",
       "<thead>\n",
       "\t<tr><th></th><th scope=col>Month</th><th scope=col>WeekOfMonth</th><th scope=col>DayOfWeek</th><th scope=col>Make</th><th scope=col>AccidentArea</th><th scope=col>DayOfWeekClaimed</th><th scope=col>MonthClaimed</th><th scope=col>WeekOfMonthClaimed</th><th scope=col>Sex</th><th scope=col>MaritalStatus</th><th scope=col>⋯</th><th scope=col>PoliceReportFiled</th><th scope=col>WitnessPresent</th><th scope=col>AgentType</th><th scope=col>NumberOfSuppliments</th><th scope=col>AddressChange_Claim</th><th scope=col>NumberOfCars</th><th scope=col>Year</th><th scope=col>BasePolicy</th><th scope=col>FraudFound_P_pred</th><th scope=col>FraudFound_Flag_pred</th></tr>\n",
       "\t<tr><th></th><th scope=col>&lt;chr&gt;</th><th scope=col>&lt;int&gt;</th><th scope=col>&lt;chr&gt;</th><th scope=col>&lt;chr&gt;</th><th scope=col>&lt;chr&gt;</th><th scope=col>&lt;chr&gt;</th><th scope=col>&lt;chr&gt;</th><th scope=col>&lt;int&gt;</th><th scope=col>&lt;chr&gt;</th><th scope=col>&lt;chr&gt;</th><th scope=col>⋯</th><th scope=col>&lt;chr&gt;</th><th scope=col>&lt;chr&gt;</th><th scope=col>&lt;chr&gt;</th><th scope=col>&lt;chr&gt;</th><th scope=col>&lt;chr&gt;</th><th scope=col>&lt;chr&gt;</th><th scope=col>&lt;int&gt;</th><th scope=col>&lt;chr&gt;</th><th scope=col>&lt;dbl&gt;</th><th scope=col>&lt;dbl&gt;</th></tr>\n",
       "</thead>\n",
       "<tbody>\n",
       "\t<tr><th scope=row>1</th><td>Dec</td><td>5</td><td>Wednesday</td><td>Honda </td><td>Urban</td><td>Tuesday  </td><td>Jan</td><td>1</td><td>Female</td><td>Single </td><td>⋯</td><td>No </td><td>No</td><td>External</td><td>none       </td><td>1 year   </td><td>3 to 4   </td><td>1994</td><td>Liability</td><td>0.01174730</td><td>0</td></tr>\n",
       "\t<tr><th scope=row>2</th><td>Jan</td><td>3</td><td>Wednesday</td><td>Honda </td><td>Urban</td><td>Monday   </td><td>Jan</td><td>4</td><td>Male  </td><td>Single </td><td>⋯</td><td>Yes</td><td>No</td><td>External</td><td>none       </td><td>no change</td><td>1 vehicle</td><td>1994</td><td>Collision</td><td>0.01608189</td><td>0</td></tr>\n",
       "\t<tr><th scope=row>3</th><td>Oct</td><td>5</td><td>Friday   </td><td>Honda </td><td>Urban</td><td>Thursday </td><td>Nov</td><td>2</td><td>Male  </td><td>Married</td><td>⋯</td><td>No </td><td>No</td><td>External</td><td>none       </td><td>no change</td><td>1 vehicle</td><td>1994</td><td>Collision</td><td>0.01483851</td><td>0</td></tr>\n",
       "\t<tr><th scope=row>4</th><td>Jun</td><td>2</td><td>Saturday </td><td>Toyota</td><td>Rural</td><td>Friday   </td><td>Jul</td><td>1</td><td>Male  </td><td>Married</td><td>⋯</td><td>Yes</td><td>No</td><td>External</td><td>more than 5</td><td>no change</td><td>1 vehicle</td><td>1994</td><td>Liability</td><td>0.01158387</td><td>0</td></tr>\n",
       "\t<tr><th scope=row>5</th><td>Jan</td><td>5</td><td>Monday   </td><td>Honda </td><td>Urban</td><td>Tuesday  </td><td>Feb</td><td>2</td><td>Female</td><td>Single </td><td>⋯</td><td>No </td><td>No</td><td>External</td><td>none       </td><td>no change</td><td>1 vehicle</td><td>1994</td><td>Collision</td><td>0.01297678</td><td>0</td></tr>\n",
       "\t<tr><th scope=row>6</th><td>Oct</td><td>4</td><td>Friday   </td><td>Honda </td><td>Urban</td><td>Wednesday</td><td>Nov</td><td>1</td><td>Male  </td><td>Single </td><td>⋯</td><td>No </td><td>No</td><td>External</td><td>3 to 5     </td><td>no change</td><td>1 vehicle</td><td>1994</td><td>Collision</td><td>0.01947998</td><td>0</td></tr>\n",
       "</tbody>\n",
       "</table>\n"
      ],
      "text/latex": [
       "A data.frame: 6 × 35\n",
       "\\begin{tabular}{r|lllllllllllllllllllll}\n",
       "  & Month & WeekOfMonth & DayOfWeek & Make & AccidentArea & DayOfWeekClaimed & MonthClaimed & WeekOfMonthClaimed & Sex & MaritalStatus & ⋯ & PoliceReportFiled & WitnessPresent & AgentType & NumberOfSuppliments & AddressChange\\_Claim & NumberOfCars & Year & BasePolicy & FraudFound\\_P\\_pred & FraudFound\\_Flag\\_pred\\\\\n",
       "  & <chr> & <int> & <chr> & <chr> & <chr> & <chr> & <chr> & <int> & <chr> & <chr> & ⋯ & <chr> & <chr> & <chr> & <chr> & <chr> & <chr> & <int> & <chr> & <dbl> & <dbl>\\\\\n",
       "\\hline\n",
       "\t1 & Dec & 5 & Wednesday & Honda  & Urban & Tuesday   & Jan & 1 & Female & Single  & ⋯ & No  & No & External & none        & 1 year    & 3 to 4    & 1994 & Liability & 0.01174730 & 0\\\\\n",
       "\t2 & Jan & 3 & Wednesday & Honda  & Urban & Monday    & Jan & 4 & Male   & Single  & ⋯ & Yes & No & External & none        & no change & 1 vehicle & 1994 & Collision & 0.01608189 & 0\\\\\n",
       "\t3 & Oct & 5 & Friday    & Honda  & Urban & Thursday  & Nov & 2 & Male   & Married & ⋯ & No  & No & External & none        & no change & 1 vehicle & 1994 & Collision & 0.01483851 & 0\\\\\n",
       "\t4 & Jun & 2 & Saturday  & Toyota & Rural & Friday    & Jul & 1 & Male   & Married & ⋯ & Yes & No & External & more than 5 & no change & 1 vehicle & 1994 & Liability & 0.01158387 & 0\\\\\n",
       "\t5 & Jan & 5 & Monday    & Honda  & Urban & Tuesday   & Feb & 2 & Female & Single  & ⋯ & No  & No & External & none        & no change & 1 vehicle & 1994 & Collision & 0.01297678 & 0\\\\\n",
       "\t6 & Oct & 4 & Friday    & Honda  & Urban & Wednesday & Nov & 1 & Male   & Single  & ⋯ & No  & No & External & 3 to 5      & no change & 1 vehicle & 1994 & Collision & 0.01947998 & 0\\\\\n",
       "\\end{tabular}\n"
      ],
      "text/markdown": [
       "\n",
       "A data.frame: 6 × 35\n",
       "\n",
       "| <!--/--> | Month &lt;chr&gt; | WeekOfMonth &lt;int&gt; | DayOfWeek &lt;chr&gt; | Make &lt;chr&gt; | AccidentArea &lt;chr&gt; | DayOfWeekClaimed &lt;chr&gt; | MonthClaimed &lt;chr&gt; | WeekOfMonthClaimed &lt;int&gt; | Sex &lt;chr&gt; | MaritalStatus &lt;chr&gt; | ⋯ ⋯ | PoliceReportFiled &lt;chr&gt; | WitnessPresent &lt;chr&gt; | AgentType &lt;chr&gt; | NumberOfSuppliments &lt;chr&gt; | AddressChange_Claim &lt;chr&gt; | NumberOfCars &lt;chr&gt; | Year &lt;int&gt; | BasePolicy &lt;chr&gt; | FraudFound_P_pred &lt;dbl&gt; | FraudFound_Flag_pred &lt;dbl&gt; |\n",
       "|---|---|---|---|---|---|---|---|---|---|---|---|---|---|---|---|---|---|---|---|---|---|\n",
       "| 1 | Dec | 5 | Wednesday | Honda  | Urban | Tuesday   | Jan | 1 | Female | Single  | ⋯ | No  | No | External | none        | 1 year    | 3 to 4    | 1994 | Liability | 0.01174730 | 0 |\n",
       "| 2 | Jan | 3 | Wednesday | Honda  | Urban | Monday    | Jan | 4 | Male   | Single  | ⋯ | Yes | No | External | none        | no change | 1 vehicle | 1994 | Collision | 0.01608189 | 0 |\n",
       "| 3 | Oct | 5 | Friday    | Honda  | Urban | Thursday  | Nov | 2 | Male   | Married | ⋯ | No  | No | External | none        | no change | 1 vehicle | 1994 | Collision | 0.01483851 | 0 |\n",
       "| 4 | Jun | 2 | Saturday  | Toyota | Rural | Friday    | Jul | 1 | Male   | Married | ⋯ | Yes | No | External | more than 5 | no change | 1 vehicle | 1994 | Liability | 0.01158387 | 0 |\n",
       "| 5 | Jan | 5 | Monday    | Honda  | Urban | Tuesday   | Feb | 2 | Female | Single  | ⋯ | No  | No | External | none        | no change | 1 vehicle | 1994 | Collision | 0.01297678 | 0 |\n",
       "| 6 | Oct | 4 | Friday    | Honda  | Urban | Wednesday | Nov | 1 | Male   | Single  | ⋯ | No  | No | External | 3 to 5      | no change | 1 vehicle | 1994 | Collision | 0.01947998 | 0 |\n",
       "\n"
      ],
      "text/plain": [
       "  Month WeekOfMonth DayOfWeek Make   AccidentArea DayOfWeekClaimed MonthClaimed\n",
       "1 Dec   5           Wednesday Honda  Urban        Tuesday          Jan         \n",
       "2 Jan   3           Wednesday Honda  Urban        Monday           Jan         \n",
       "3 Oct   5           Friday    Honda  Urban        Thursday         Nov         \n",
       "4 Jun   2           Saturday  Toyota Rural        Friday           Jul         \n",
       "5 Jan   5           Monday    Honda  Urban        Tuesday          Feb         \n",
       "6 Oct   4           Friday    Honda  Urban        Wednesday        Nov         \n",
       "  WeekOfMonthClaimed Sex    MaritalStatus ⋯ PoliceReportFiled WitnessPresent\n",
       "1 1                  Female Single        ⋯ No                No            \n",
       "2 4                  Male   Single        ⋯ Yes               No            \n",
       "3 2                  Male   Married       ⋯ No                No            \n",
       "4 1                  Male   Married       ⋯ Yes               No            \n",
       "5 2                  Female Single        ⋯ No                No            \n",
       "6 1                  Male   Single        ⋯ No                No            \n",
       "  AgentType NumberOfSuppliments AddressChange_Claim NumberOfCars Year\n",
       "1 External  none                1 year              3 to 4       1994\n",
       "2 External  none                no change           1 vehicle    1994\n",
       "3 External  none                no change           1 vehicle    1994\n",
       "4 External  more than 5         no change           1 vehicle    1994\n",
       "5 External  none                no change           1 vehicle    1994\n",
       "6 External  3 to 5              no change           1 vehicle    1994\n",
       "  BasePolicy FraudFound_P_pred FraudFound_Flag_pred\n",
       "1 Liability  0.01174730        0                   \n",
       "2 Collision  0.01608189        0                   \n",
       "3 Collision  0.01483851        0                   \n",
       "4 Liability  0.01158387        0                   \n",
       "5 Collision  0.01297678        0                   \n",
       "6 Collision  0.01947998        0                   "
      ]
     },
     "metadata": {},
     "output_type": "display_data"
    }
   ],
   "source": [
    "head(df_pred)"
   ]
  },
  {
   "cell_type": "code",
   "execution_count": 15,
   "id": "0fa3df91",
   "metadata": {
    "execution": {
     "iopub.execute_input": "2023-04-15T12:00:40.049781Z",
     "iopub.status.busy": "2023-04-15T12:00:40.047842Z",
     "iopub.status.idle": "2023-04-15T12:00:40.238236Z",
     "shell.execute_reply": "2023-04-15T12:00:40.235921Z"
    },
    "papermill": {
     "duration": 0.203642,
     "end_time": "2023-04-15T12:00:40.240997",
     "exception": false,
     "start_time": "2023-04-15T12:00:40.037355",
     "status": "completed"
    },
    "tags": []
   },
   "outputs": [],
   "source": [
    "write_csv(df_pred, \"df_with_predictions.csv\")"
   ]
  }
 ],
 "metadata": {
  "kernelspec": {
   "display_name": "R",
   "language": "R",
   "name": "ir"
  },
  "language_info": {
   "codemirror_mode": "r",
   "file_extension": ".r",
   "mimetype": "text/x-r-source",
   "name": "R",
   "pygments_lexer": "r",
   "version": "4.0.5"
  },
  "papermill": {
   "default_parameters": {},
   "duration": 7.946486,
   "end_time": "2023-04-15T12:00:40.371140",
   "environment_variables": {},
   "exception": null,
   "input_path": "__notebook__.ipynb",
   "output_path": "__notebook__.ipynb",
   "parameters": {},
   "start_time": "2023-04-15T12:00:32.424654",
   "version": "2.4.0"
  }
 },
 "nbformat": 4,
 "nbformat_minor": 5
}
